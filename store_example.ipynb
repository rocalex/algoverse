{
 "cells": [
  {
   "cell_type": "code",
   "execution_count": 1,
   "metadata": {},
   "outputs": [],
   "source": [
    "import os\n",
    "\n",
    "import dotenv\n",
    "\n",
    "from time import time, sleep\n",
    "from algosdk.future import transaction\n",
    "from algosdk.logic import get_application_address\n",
    "\n",
    "from store.operations import StoringPool\n",
    "from bidding.operations import create_bidding_app, place_bid, cancel_bid, accept_bid, close_bidding\n",
    "from trading.operations import create_trading_app, place_trade, cancel_trade, accept_trade, close_trading\n",
    "from utils import *\n",
    "from account import Account"
   ]
  },
  {
   "cell_type": "code",
   "execution_count": 2,
   "metadata": {},
   "outputs": [],
   "source": [
    "dotenv.load_dotenv('.env')\n",
    "\n",
    "client = get_algod_client(os.environ.get('ALGOD_URL'), os.environ.get('ALGOD_TOKEN'))"
   ]
  },
  {
   "cell_type": "code",
   "execution_count": 3,
   "metadata": {},
   "outputs": [
    {
     "name": "stdout",
     "output_type": "stream",
     "text": [
      "storeAppID: 3310\n",
      "Creator address: 4TT75274EBUAF46CITUL6HQQ4C4D3GO7GEOVRZSQZ35VXSGRVHJ376GD64\n",
      "Bidder address: X7PMCPPRD2T35ZZRTPETYK53G5YWBKUNONVDY52WODP3N3YM7NGEF5HGWU\n",
      "Seller Address: CN4EQ6QXFCDLR2ATDTRJMMFGLXSUS5TMLGLO7FJDBQRQGFUXTUA4LBVEIA\n"
     ]
    }
   ],
   "source": [
    "creator = Account.from_mnemonic(os.environ.get('CREATOR_MN'))\n",
    "bidder = Account.from_mnemonic(os.environ.get('BUYER_MN'))\n",
    "seller = Account.from_mnemonic(os.environ.get('SELLER_MN'))\n",
    "\n",
    "storeAppID = int(os.environ.get(\"STORE_APP_ID\"))\n",
    "# close_bidding(client, 693, storeAppID, creator)\n",
    "print(f\"storeAppID: {storeAppID}\")\n",
    "\n",
    "print(f\"Creator address: {creator.get_address()}\")\n",
    "print(f\"Bidder address: {bidder.get_address()}\")\n",
    "print(f\"Seller Address: {seller.get_address()}\")"
   ]
  },
  {
   "cell_type": "code",
   "execution_count": 4,
   "metadata": {},
   "outputs": [
    {
     "name": "stdout",
     "output_type": "stream",
     "text": [
      "The token id is: 2989\n"
     ]
    }
   ],
   "source": [
    "# def create_dummy_asset(sender: Account, total: int, decimals: int, asset_name: str, unit_name: str):\n",
    "#     txn = transaction.AssetConfigTxn(\n",
    "#         sender=sender.get_address(),\n",
    "#         sp=client.suggested_params(),\n",
    "#         total=total,\n",
    "#         decimals=decimals,\n",
    "#         asset_name=asset_name,\n",
    "#         unit_name=unit_name,\n",
    "#         default_frozen=False,\n",
    "#         strict_empty_address_check=False,\n",
    "#     )\n",
    "#     signed_txn = txn.sign(sender.get_private_key())\n",
    "\n",
    "#     client.send_transaction(signed_txn)\n",
    "\n",
    "#     response = wait_for_confirmation(client, signed_txn.get_txid())\n",
    "#     assert response.asset_index is not None and response.asset_index > 0\n",
    "#     return response.asset_index\n",
    "\n",
    "# asset_id = create_dummy_asset(seller, 1, 0, \"example token\", \"AVT\")\n",
    "\n",
    "asset_id = int(os.environ.get(\"TOKEN_ID\"))\n",
    "print(f\"The token id is: {asset_id}\")"
   ]
  },
  {
   "cell_type": "code",
   "execution_count": 5,
   "metadata": {},
   "outputs": [],
   "source": [
    "start_time = int(time()) + 10\n",
    "end_time = start_time + 10\n",
    "price = 1_000_000  # 1 Algo"
   ]
  },
  {
   "cell_type": "markdown",
   "metadata": {},
   "source": [
    "\"Alice is creating auction smart contract that lasts 30 seconds to auction off token...\""
   ]
  },
  {
   "cell_type": "code",
   "execution_count": 6,
   "metadata": {},
   "outputs": [
    {
     "name": "stdout",
     "output_type": "stream",
     "text": [
      "Waiting for confirmation...\n",
      "Transaction LHJUUURWZ4Q65KM2VSQPCJ3HL6DJNPTVWSW6K4HBWX5CVT3CRT4A confirmed in round 157431.\n",
      "Store App ID: 4084\n",
      "Store App address: JOUU2H7VLJX3EQHRGDY6DE3EV3ZPHHSTHLYV72VQIEB24TIKREOBWNUNQM\n",
      "Waiting for confirmation...\n",
      "Transaction R6L5G5WZQVS55GGO4L7MJID5WWZYD6CLRL7BV7TA3YMQFWBI4DZQ confirmed in round 157433.\n",
      "Store App Address: JOUU2H7VLJX3EQHRGDY6DE3EV3ZPHHSTHLYV72VQIEB24TIKREOBWNUNQM\n"
     ]
    }
   ],
   "source": [
    "storeApp = StoringPool(client=client, creator=creator)\n",
    "storeApp.create_app()\n",
    "storeAppID = storeApp.app_id\n",
    "\n",
    "# storeAppID = int(os.environ.get(\"STORE_APP_ID\"))\n",
    "# storeApp.app_id = storeAppID\n",
    "# print(f\"Store App ID: {storeAppID}\")\n",
    "\n",
    "storeAppAddress = get_application_address(storeAppID)\n",
    "print(f\"Store App Address: {storeAppAddress}\")\n"
   ]
  },
  {
   "cell_type": "code",
   "execution_count": 8,
   "metadata": {},
   "outputs": [
    {
     "name": "stdout",
     "output_type": "stream",
     "text": [
      "Waiting for confirmation...\n",
      "Transaction TA4AMPG7RK7PODJEO2MKT6BX3UXBRYN3M7DDITWBOFWXBTSUQAPA confirmed in round 157437.\n",
      "Waiting for confirmation...\n",
      "Transaction LHBZYOBXR5KOKK6OWMITFL2WC7YGYG6VFYIMEEYIVADMVEGDFNKQ confirmed in round 157439.\n",
      "App ID: 4087\n",
      "App Address: 5RHWCMQ3FKWO3MZDBRO74MCQDE2ZNCWYOZ7NB3E4FV6WDGDP2KMWLCBHX4\n"
     ]
    }
   ],
   "source": [
    "\n",
    "appID = create_bidding_app(\n",
    "    client=client,\n",
    "    creator=creator,\n",
    "    store_app_id=storeAppID\n",
    ")\n",
    "print(f\"App ID: {appID}\")\n",
    "print(f\"App Address: {get_application_address(appID)}\")"
   ]
  },
  {
   "cell_type": "markdown",
   "metadata": {},
   "source": [
    "Alice is setting up and funding token auction..."
   ]
  },
  {
   "cell_type": "code",
   "execution_count": 9,
   "metadata": {},
   "outputs": [
    {
     "name": "stdout",
     "output_type": "stream",
     "text": [
      "Waiting for confirmation...\n",
      "Transaction 2GMS4G2INZG53WAOJSSRSV6X2SLILMQ26X234XIS25Z6IKOG3XCA confirmed in round 157441.\n",
      "Waiting for confirmation...\n",
      "Transaction HSOSQLXM3JTOXDNDRV7ZENBIRWT6VYZMQ7JZOMPGALY2MSPYQ7YQ confirmed in round 157443.\n",
      "App ID: 4087\n",
      "App Address: 5RHWCMQ3FKWO3MZDBRO74MCQDE2ZNCWYOZ7NB3E4FV6WDGDP2KMWLCBHX4\n"
     ]
    }
   ],
   "source": [
    "tradingAppID = create_trading_app(\n",
    "    client=client,\n",
    "    creator=creator,\n",
    "    store_app_id=storeAppID\n",
    ")\n",
    "print(f\"App ID: {appID}\")\n",
    "print(f\"App Address: {get_application_address(appID)}\")"
   ]
  },
  {
   "cell_type": "code",
   "execution_count": 10,
   "metadata": {},
   "outputs": [
    {
     "name": "stdout",
     "output_type": "stream",
     "text": [
      "Waiting for confirmation...\n",
      "Transaction KNE733IDH7ZRY4O2447Y2OZWE7TMQ4ESQNANACECLIEUKHQVP2IA confirmed in round 157445.\n"
     ]
    }
   ],
   "source": [
    "storeApp.set_up(trade_app_id=tradingAppID, bid_app_id=appID, auction_app_id=appID, distribution_app_id=appID)"
   ]
  },
  {
   "cell_type": "code",
   "execution_count": 11,
   "metadata": {},
   "outputs": [
    {
     "name": "stdout",
     "output_type": "stream",
     "text": [
      "Alice's algo balance:  20077389651881  algos\n"
     ]
    }
   ],
   "source": [
    "sellerAlgosBefore = get_balances(client, seller.get_address())[0]\n",
    "\n",
    "print(\"Alice's algo balance: \", sellerAlgosBefore, \" algos\")"
   ]
  },
  {
   "cell_type": "code",
   "execution_count": 12,
   "metadata": {},
   "outputs": [
    {
     "name": "stdout",
     "output_type": "stream",
     "text": [
      "The smart contract now holds the following: {0: 100000}\n"
     ]
    }
   ],
   "source": [
    "sleep(5)\n",
    "actualAppBalancesBefore = get_balances(client, get_application_address(appID))\n",
    "print(\"The smart contract now holds the following:\", actualAppBalancesBefore)"
   ]
  },
  {
   "cell_type": "code",
   "execution_count": 13,
   "metadata": {},
   "outputs": [
    {
     "name": "stdout",
     "output_type": "stream",
     "text": [
      "Carla wants to bid on token, her algo balance:  10036598957960  algos\n",
      "Carla is placing bid for:  1000000  algos\n"
     ]
    }
   ],
   "source": [
    "bidPrice = price\n",
    "bidderAlgosBefore = get_balances(client, bidder.get_address())[0]\n",
    "print(\"Carla wants to bid on token, her algo balance: \", bidderAlgosBefore, \" algos\")\n",
    "print(\"Carla is placing bid for: \", bidPrice, \" algos\")"
   ]
  },
  {
   "cell_type": "code",
   "execution_count": 14,
   "metadata": {},
   "outputs": [
    {
     "name": "stdout",
     "output_type": "stream",
     "text": [
      "store_app_id 4084\n",
      "seller CN4EQ6QXFCDLR2ATDTRJMMFGLXSUS5TMLGLO7FJDBQRQGFUXTUA4LBVEIA opt in app 4084\n",
      "Waiting for confirmation...\n",
      "Transaction 233L3XE5G3UDS33J77DW3VDPWVJG5CDMVWZ2PYMD67KAKTDHBBMQ confirmed in round 157448.\n",
      "Waiting for confirmation...\n",
      "Transaction TWGYTZQSACTYNBNCEWH73QTMTGMCXW2INYYXACCEW2DQ3DN2IC5A confirmed in round 157450.\n",
      "new address: 5LHDGX2RDYD5R22TVVJSJMW2UU5ZFMW3KX5QSHF2ZZXFXEIGR7MUKQTYYM\n",
      "new private_key: BmBt4pDJ4UuW+F1ilVxjr1WKgU7Q/OcztUh7JqZOOvPqzjNfUR4H2OtTrVMkstqlO5Ky21X7CRy6zm5bkQaP2Q==\n",
      "new passphrase: absorb remain illness october seminar napkin seven fuel proof inch random foot believe parrot list wolf language state picture guilt era neck oil abstract uniform\n",
      "Waiting for confirmation...\n",
      "Transaction AAR3SESXUASUFSZHO7ZQIUYTARSWI3VMYANX4ICUMJ7VVUSJ6WDQ confirmed in round 157452.\n",
      "Waiting for confirmation...\n",
      "Transaction F3CCIHCE3S7DBLEGFK4CAU56I3LA6EV2L2JRS37B7QT3P5XLU5WA confirmed in round 157454.\n",
      "Waiting for confirmation...\n",
      "Transaction ULHWEKACUEIEE2CDDOFZJNUXGDAVYELU7AM46QJAQIFYUMUREWEA confirmed in round 157456.\n",
      "token_txn: {'sender': 'CN4EQ6QXFCDLR2ATDTRJMMFGLXSUS5TMLGLO7FJDBQRQGFUXTUA4LBVEIA', 'fee': 1000, 'first_valid_round': 157446, 'last_valid_round': 158446, 'note': None, 'genesis_id': 'sandnet-v1', 'genesis_hash': 'S46yr60YjyJzK3Fk0J8V7mzMIOSxovaXAVqCHlwPl1A=', 'group': None, 'lease': None, 'type': 'axfer', 'rekey_to': None, 'receiver': 'UPSL6Y3FUGRMVE2JCJV35QF2OMIUI6DHGPU3N7FNAE6RKCEIEHXPBZAUH4', 'amount': 10, 'index': 2989, 'close_assets_to': None, 'revocation_target': None}\n",
      "Waiting for confirmation...\n",
      "Transaction 673BCTIRYWJAYURR6HQNEPWTQ2QQFX7RKYX7YD2GGG4LRELETMRA confirmed in round 157458.\n",
      "Carla bid 5LHDGX2RDYD5R22TVVJSJMW2UU5ZFMW3KX5QSHF2ZZXFXEIGR7MUKQTYYM\n"
     ]
    }
   ],
   "source": [
    "trading_index = place_trade(client=client, app_id=tradingAppID, seller=seller, token_id=asset_id, token_amount=10, price=bidPrice, trading_index=\"\")\n",
    "\n",
    "print(\"Carla bid\", trading_index)"
   ]
  },
  {
   "cell_type": "code",
   "execution_count": 15,
   "metadata": {},
   "outputs": [
    {
     "name": "stdout",
     "output_type": "stream",
     "text": [
      "token_amount 10\n",
      "price 1000000\n",
      "Waiting for confirmation...\n",
      "Transaction HLOSLC32YCTNFWD3SHRMZUZHNRL3ZKJI4E4EVNVVX5TRNLG66SYQ confirmed in round 157460.\n",
      "Waiting for confirmation...\n",
      "Transaction WXW6JFF34IICWIBD4VOXWO5GYTA65AQI5E5W7X6SZH6ISKWY3O7A confirmed in round 157462.\n"
     ]
    },
    {
     "data": {
      "text/plain": [
       "True"
      ]
     },
     "execution_count": 15,
     "metadata": {},
     "output_type": "execute_result"
    }
   ],
   "source": [
    "accept_trade(client, tradingAppID, bidder, seller.get_address(), trading_index)"
   ]
  },
  {
   "cell_type": "code",
   "execution_count": 16,
   "metadata": {},
   "outputs": [
    {
     "name": "stdout",
     "output_type": "stream",
     "text": [
      "store_app_id 4084\n",
      "new address: 2BSXPIN5EZENEQPRUENKZPXC3ZXXDV4BXEJTNYUS5QUYCHFQVZFOVPE4YM\n",
      "new private_key: pxCu3t7DtoauRKHmTQaisGFsdyuZ9Jk3R0G/QcW2pjHQZXehvSZI0kHxoRqsvuLeb3HXgbkTNuKS7CmBHLCuSg==\n",
      "new passphrase: belt reunion hungry digital horn payment century pattern rubber bomb extra brand sugar tape sing virus veteran broom pass brief melody pumpkin minor ability hand\n",
      "Waiting for confirmation...\n",
      "Transaction MDADFV4ZCCDUZCF2BYAWJEIBE2WLF7VJENDL375RWV72MNUG2U3Q confirmed in round 157464.\n",
      "Waiting for confirmation...\n",
      "Transaction 27T63QKMKDKH7K4AE5RVTW67GJAOS4QCQ46QGA4NIQF4U6K5KBOQ confirmed in round 157466.\n",
      "Waiting for confirmation...\n",
      "Transaction 2WLBETGCSLERT5VW6TVBF24N54MR7TLW5HVPX4UDETRUKKLK6XQQ confirmed in round 157468.\n",
      "Waiting for confirmation...\n",
      "Transaction DNQ2D2E6WJF5SWEJBYTGYH6UOLXLCCZASV5ILGSZNT3HIGCMWLVA confirmed in round 157470.\n",
      "Carla bid 2989\n"
     ]
    }
   ],
   "source": [
    "bid_index = place_bid(client=client, app_id=appID, token_id=asset_id, bidder=bidder, bid_amount=10, bid_price=bidPrice, bid_index=\"\")\n",
    "\n",
    "print(\"Carla bid\", asset_id)"
   ]
  },
  {
   "cell_type": "code",
   "execution_count": 17,
   "metadata": {},
   "outputs": [
    {
     "name": "stdout",
     "output_type": "stream",
     "text": [
      "The smart contract now holds the following: {0: 1104000}\n"
     ]
    }
   ],
   "source": [
    "actualAppBalancesBefore = get_balances(client, get_application_address(appID))\n",
    "print(\"The smart contract now holds the following:\", actualAppBalancesBefore)"
   ]
  },
  {
   "cell_type": "code",
   "execution_count": 18,
   "metadata": {},
   "outputs": [],
   "source": [
    "# account_info = client.account_info(bidder.get_address())  \n",
    "# print(account_info.get('apps-local-state', []))\n",
    "# print(is_opted_in_app(client, appID, bidder.get_address()))\n",
    "\n",
    "# cancel_bid(client, appID, bidder, bid_index)\n",
    "\n",
    "# print(\"Carla canceled bid\", asset_id)"
   ]
  },
  {
   "cell_type": "code",
   "execution_count": 19,
   "metadata": {},
   "outputs": [],
   "source": [
    "# bid_index = place_bid(client=client, app_id=appID, bidder=bidder, token_id=asset_id, bid_amount=10, bid_price=bidPrice, bid_index=\"\")\n",
    "# print(bid_index)\n",
    "# bid_index = place_bid(client=client, app_id=appID, bidder=bidder, token_id=asset_id, bid_amount=20, bid_price=bidPrice+1_000_000, bid_index=bid_index)\n",
    "# print(bid_index)\n",
    "# bid_index = place_bid(client=client, app_id=appID, bidder=bidder, token_id=asset_id, bid_amount=15, bid_price=bidPrice+500_000, bid_index=bid_index)\n",
    "# print(bid_index)\n"
   ]
  },
  {
   "cell_type": "code",
   "execution_count": 20,
   "metadata": {},
   "outputs": [
    {
     "name": "stdout",
     "output_type": "stream",
     "text": [
      "{b'TA': 10, b'TK_ID': 2989, b'B_ADDR': b'\\xbf\\xde\\xc1=\\xf1\\x1e\\xa7\\xbe\\xe71\\x9b\\xc9<+\\xbb7q`\\xaa\\x8dsj<wVp\\xdf\\xb6\\xef\\x0c\\xfbL', b'TP': 1000000}\n"
     ]
    }
   ],
   "source": [
    "bidderAppLocalState = get_app_local_state(client, appID, bid_index)\n",
    "print(bidderAppLocalState)"
   ]
  },
  {
   "cell_type": "code",
   "execution_count": 21,
   "metadata": {},
   "outputs": [
    {
     "name": "stdout",
     "output_type": "stream",
     "text": [
      "token_amount 10\n",
      "price 1000000\n",
      "Waiting for confirmation...\n",
      "Transaction NMGISL5O4ABS2WUG5LBSSHWR5OGLOZ76MIBLPHLMA5P3CNX2O2YA confirmed in round 157472.\n",
      "Waiting for confirmation...\n",
      "Transaction TGMSTKBZP4AFT3VZVWFBBTN7ZVFIT6FIT6GV7RR3QJIZC4ZFCH7A confirmed in round 157474.\n"
     ]
    },
    {
     "data": {
      "text/plain": [
       "True"
      ]
     },
     "execution_count": 21,
     "metadata": {},
     "output_type": "execute_result"
    }
   ],
   "source": [
    "accept_bid(client, appID, seller, bidder.get_address(), bid_index)"
   ]
  },
  {
   "cell_type": "markdown",
   "metadata": {},
   "source": [
    "Alice is closing out the bidding contract...."
   ]
  },
  {
   "cell_type": "code",
   "execution_count": 22,
   "metadata": {},
   "outputs": [
    {
     "name": "stdout",
     "output_type": "stream",
     "text": [
      "b'assets' [2989]\n",
      "b'accounts' ['4TT75274EBUAF46CITUL6HQQ4C4D3GO7GEOVRZSQZ35VXSGRVHJ376GD64', 'UCAX3M5HS7PWWLB6HDCM2O7JE4HC3RGBPNWFRP4SYU62ZS5NSS2GFOKIOU']\n",
      "Waiting for confirmation...\n",
      "Transaction MVRR7MXTOOPH2WRQGHTT26EFAUHODIOG5W75T3OUPANOKD4AMBUQ confirmed in round 157477.\n"
     ]
    }
   ],
   "source": [
    "sleep(5)\n",
    "\n",
    "close_bidding(client, appID, creator, [asset_id])"
   ]
  },
  {
   "cell_type": "code",
   "execution_count": 23,
   "metadata": {},
   "outputs": [
    {
     "name": "stdout",
     "output_type": "stream",
     "text": [
      "The smart contract now holds the following: {0: 335500, 2989: 0}\n"
     ]
    }
   ],
   "source": [
    "actualAppBalances = get_balances(client, get_application_address(appID))\n",
    "expectedAppBalances = {0: 0}\n",
    "print(\"The smart contract now holds the following:\", actualAppBalances)\n",
    "\n",
    "#assert actualAppBalances == expectedAppBalances"
   ]
  },
  {
   "cell_type": "code",
   "execution_count": 24,
   "metadata": {},
   "outputs": [
    {
     "name": "stdout",
     "output_type": "stream",
     "text": [
      "Carla's NFT balance: 50000000040020  for token ID:  2989\n"
     ]
    },
    {
     "ename": "AssertionError",
     "evalue": "",
     "output_type": "error",
     "traceback": [
      "\u001b[0;31m---------------------------------------------------------------------------\u001b[0m",
      "\u001b[0;31mAssertionError\u001b[0m                            Traceback (most recent call last)",
      "\u001b[0;32m/var/folders/3k/5_sd8_ms50n24wv9pqsdmpcr0000gn/T/ipykernel_10316/2424968205.py\u001b[0m in \u001b[0;36m<module>\u001b[0;34m\u001b[0m\n\u001b[1;32m      3\u001b[0m \u001b[0mprint\u001b[0m\u001b[0;34m(\u001b[0m\u001b[0;34m\"Carla's NFT balance:\"\u001b[0m\u001b[0;34m,\u001b[0m \u001b[0mbidderNftBalance\u001b[0m\u001b[0;34m,\u001b[0m \u001b[0;34m\" for token ID: \"\u001b[0m\u001b[0;34m,\u001b[0m \u001b[0masset_id\u001b[0m\u001b[0;34m)\u001b[0m\u001b[0;34m\u001b[0m\u001b[0;34m\u001b[0m\u001b[0m\n\u001b[1;32m      4\u001b[0m \u001b[0;34m\u001b[0m\u001b[0m\n\u001b[0;32m----> 5\u001b[0;31m \u001b[0;32massert\u001b[0m \u001b[0mbidderNftBalance\u001b[0m \u001b[0;34m==\u001b[0m \u001b[0;36m1\u001b[0m\u001b[0;34m\u001b[0m\u001b[0;34m\u001b[0m\u001b[0m\n\u001b[0m\u001b[1;32m      6\u001b[0m \u001b[0;34m\u001b[0m\u001b[0m\n\u001b[1;32m      7\u001b[0m \u001b[0mactualSellerBalances\u001b[0m \u001b[0;34m=\u001b[0m \u001b[0mget_balances\u001b[0m\u001b[0;34m(\u001b[0m\u001b[0mclient\u001b[0m\u001b[0;34m,\u001b[0m \u001b[0mseller\u001b[0m\u001b[0;34m.\u001b[0m\u001b[0mget_address\u001b[0m\u001b[0;34m(\u001b[0m\u001b[0;34m)\u001b[0m\u001b[0;34m)\u001b[0m\u001b[0;34m\u001b[0m\u001b[0;34m\u001b[0m\u001b[0m\n",
      "\u001b[0;31mAssertionError\u001b[0m: "
     ]
    }
   ],
   "source": [
    "bidderNftBalance = get_balances(client, bidder.get_address())[asset_id]\n",
    "\n",
    "print(\"Carla's NFT balance:\", bidderNftBalance, \" for token ID: \", asset_id)\n",
    "\n",
    "assert bidderNftBalance == 1\n",
    "\n",
    "actualSellerBalances = get_balances(client, seller.get_address())\n",
    "print(\"Alice's balances after auction: \", actualSellerBalances, \" Algos\")\n",
    "\n",
    "actualBidderBalances = get_balances(client, bidder.get_address())\n",
    "print(\"Carla's balances after auction: \", actualBidderBalances, \" Algos\")\n",
    "# assert len(actualSellerBalances) == 2\n",
    "# seller should receive the bid amount, minus the txn fee\n",
    "assert actualSellerBalances[0] >= sellerAlgosBefore + bidPrice - 1_000\n",
    "assert actualSellerBalances[asset_id] == 0"
   ]
  },
  {
   "cell_type": "code",
   "execution_count": null,
   "metadata": {},
   "outputs": [],
   "source": [
    "storeAppState = get_app_global_state(client, 1676)\n",
    "print(storeAppState)\n",
    "#print(encoding.encode_address(storeAppState[b\"C\"]))"
   ]
  }
 ],
 "metadata": {
  "interpreter": {
   "hash": "d8d32039960e27bf02cc380478024df65258985d3f6246b5f3627ebac0bfeee0"
  },
  "kernelspec": {
   "display_name": "Python 3.8.10 64-bit ('venv': venv)",
   "language": "python",
   "name": "python3"
  },
  "language_info": {
   "codemirror_mode": {
    "name": "ipython",
    "version": 3
   },
   "file_extension": ".py",
   "mimetype": "text/x-python",
   "name": "python",
   "nbconvert_exporter": "python",
   "pygments_lexer": "ipython3",
   "version": "3.9.9"
  },
  "orig_nbformat": 4
 },
 "nbformat": 4,
 "nbformat_minor": 2
}

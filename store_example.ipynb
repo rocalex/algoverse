{
 "cells": [
  {
   "cell_type": "code",
   "execution_count": 1,
   "metadata": {},
   "outputs": [],
   "source": [
    "import os\n",
    "\n",
    "import dotenv\n",
    "\n",
    "from time import time, sleep\n",
    "from algosdk.future import transaction\n",
    "from algosdk.logic import get_application_address\n",
    "\n",
    "from store.operations import StoringPool\n",
    "from bidding.operations import create_bidding_app, place_bid, cancel_bid, accept_bid, close_bidding\n",
    "from trading.operations import create_trading_app, place_trade, cancel_trade, accept_trade, close_trading\n",
    "from utils import *\n",
    "from account import Account"
   ]
  },
  {
   "cell_type": "code",
   "execution_count": 2,
   "metadata": {},
   "outputs": [],
   "source": [
    "dotenv.load_dotenv('.env')\n",
    "\n",
    "client = get_algod_client(os.environ.get('ALGOD_URL'), os.environ.get('ALGOD_TOKEN'))"
   ]
  },
  {
   "cell_type": "code",
   "execution_count": 3,
   "metadata": {},
   "outputs": [
    {
     "name": "stdout",
     "output_type": "stream",
     "text": [
      "storeAppID: 2185\n",
      "Creator address: 4TT75274EBUAF46CITUL6HQQ4C4D3GO7GEOVRZSQZ35VXSGRVHJ376GD64\n",
      "Bidder address: X7PMCPPRD2T35ZZRTPETYK53G5YWBKUNONVDY52WODP3N3YM7NGEF5HGWU\n",
      "Seller Address: Y4QR7LETUXJQVSPRKOJ5VFDR2GRO3MTSLJ4CLSIPJ5YN33Z3Z7HDT6JLYM\n"
     ]
    }
   ],
   "source": [
    "creator = Account.from_mnemonic(os.environ.get('CREATOR_MN'))\n",
    "bidder = Account.from_mnemonic(os.environ.get('BUYER_MN'))\n",
    "seller = Account.from_mnemonic(os.environ.get('SELLER_MN'))\n",
    "\n",
    "storeAppID = int(os.environ.get(\"STORE_APP_ID\"))\n",
    "# close_bidding(client, 693, storeAppID, creator)\n",
    "print(f\"storeAppID: {storeAppID}\")\n",
    "\n",
    "print(f\"Creator address: {creator.get_address()}\")\n",
    "print(f\"Bidder address: {bidder.get_address()}\")\n",
    "print(f\"Seller Address: {seller.get_address()}\")"
   ]
  },
  {
   "cell_type": "code",
   "execution_count": 4,
   "metadata": {},
   "outputs": [
    {
     "name": "stdout",
     "output_type": "stream",
     "text": [
      "The token id is: 499\n"
     ]
    }
   ],
   "source": [
    "# def create_dummy_asset(sender: Account, total: int, decimals: int, asset_name: str, unit_name: str):\n",
    "#     txn = transaction.AssetConfigTxn(\n",
    "#         sender=sender.get_address(),\n",
    "#         sp=client.suggested_params(),\n",
    "#         total=total,\n",
    "#         decimals=decimals,\n",
    "#         asset_name=asset_name,\n",
    "#         unit_name=unit_name,\n",
    "#         default_frozen=False,\n",
    "#         strict_empty_address_check=False,\n",
    "#     )\n",
    "#     signed_txn = txn.sign(sender.get_private_key())\n",
    "\n",
    "#     client.send_transaction(signed_txn)\n",
    "\n",
    "#     response = wait_for_confirmation(client, signed_txn.get_txid())\n",
    "#     assert response.asset_index is not None and response.asset_index > 0\n",
    "#     return response.asset_index\n",
    "\n",
    "# asset_id = create_dummy_asset(seller, 1, 0, \"example token\", \"AVT\")\n",
    "\n",
    "asset_id = int(os.environ.get(\"TOKEN_ID\"))\n",
    "print(f\"The token id is: {asset_id}\")"
   ]
  },
  {
   "cell_type": "code",
   "execution_count": 5,
   "metadata": {},
   "outputs": [],
   "source": [
    "start_time = int(time()) + 10\n",
    "end_time = start_time + 10\n",
    "price = 1_000_000  # 1 Algo"
   ]
  },
  {
   "cell_type": "markdown",
   "metadata": {},
   "source": [
    "\"Alice is creating auction smart contract that lasts 30 seconds to auction off token...\""
   ]
  },
  {
   "cell_type": "code",
   "execution_count": 6,
   "metadata": {},
   "outputs": [
    {
     "name": "stdout",
     "output_type": "stream",
     "text": [
      "Waiting for confirmation...\n",
      "Transaction CVBQ665JIUOHTGNWHAXY6ZCFVIVBRKDIJF74QXB6IJN2YI3ZLAEA confirmed in round 112149.\n",
      "Store App ID: 2439\n",
      "Store App address: DZVXQ4GDM3LJCGLDWGLBQY7GUGRMH5ZMNVIA36BT6TOQMJCES2RN5ELI2Y\n",
      "Waiting for confirmation...\n",
      "Transaction AC3OVIFOY7AQSR5HBLHQPUJD3HEEPGVGZBLQESQVC77BIEIOGRDQ confirmed in round 112151.\n",
      "Store App Address: DZVXQ4GDM3LJCGLDWGLBQY7GUGRMH5ZMNVIA36BT6TOQMJCES2RN5ELI2Y\n"
     ]
    }
   ],
   "source": [
    "storeApp = StoringPool(client=client, creator=creator)\n",
    "storeApp.create_app()\n",
    "storeAppID = storeApp.app_id\n",
    "\n",
    "# storeAppID = int(os.environ.get(\"STORE_APP_ID\"))\n",
    "# storeApp.app_id = storeAppID\n",
    "# print(f\"Store App ID: {storeAppID}\")\n",
    "\n",
    "storeAppAddress = get_application_address(storeAppID)\n",
    "print(f\"Store App Address: {storeAppAddress}\")\n"
   ]
  },
  {
   "cell_type": "code",
   "execution_count": 7,
   "metadata": {},
   "outputs": [
    {
     "name": "stdout",
     "output_type": "stream",
     "text": [
      "Waiting for confirmation...\n",
      "Transaction STFBKKD2BJ6NXYJZIAZLOAPM6OYYMIQPDHAX7LAVDARQTXJ3NPEQ confirmed in round 112153.\n",
      "Waiting for confirmation...\n",
      "Transaction XNKKXVHT3MY6IRTY5SCT6S3A36DUS25TCZUW2PUK26IGHLOV75EQ confirmed in round 112155.\n",
      "App ID: 2441\n",
      "App Address: SPWABFW3YTANSJI2TTW3T55N5AJ5J6QELXX3SBLWTXZIRICSDHJ3SBQYEI\n"
     ]
    }
   ],
   "source": [
    "\n",
    "appID = create_bidding_app(\n",
    "    client=client,\n",
    "    creator=creator,\n",
    "    store_app_id=storeAppID\n",
    ")\n",
    "print(f\"App ID: {appID}\")\n",
    "print(f\"App Address: {get_application_address(appID)}\")"
   ]
  },
  {
   "cell_type": "markdown",
   "metadata": {},
   "source": [
    "Alice is setting up and funding token auction..."
   ]
  },
  {
   "cell_type": "code",
   "execution_count": 8,
   "metadata": {},
   "outputs": [
    {
     "name": "stdout",
     "output_type": "stream",
     "text": [
      "Waiting for confirmation...\n",
      "Transaction 7FJVH7ZUEJ3DLSNZL57MAFRLFLUQPBA24USCGO2RE6TX6EBBDVDQ confirmed in round 112157.\n",
      "Waiting for confirmation...\n",
      "Transaction VF7SEYDP4NZKN3MJB5OCDQI7JQ7X3OLWRAYAYAZTBIV3IMWGTD4A confirmed in round 112159.\n",
      "App ID: 2441\n",
      "App Address: SPWABFW3YTANSJI2TTW3T55N5AJ5J6QELXX3SBLWTXZIRICSDHJ3SBQYEI\n"
     ]
    }
   ],
   "source": [
    "tradingAppID = create_trading_app(\n",
    "    client=client,\n",
    "    creator=creator,\n",
    "    store_app_id=storeAppID\n",
    ")\n",
    "print(f\"App ID: {appID}\")\n",
    "print(f\"App Address: {get_application_address(appID)}\")"
   ]
  },
  {
   "cell_type": "code",
   "execution_count": 9,
   "metadata": {},
   "outputs": [
    {
     "name": "stdout",
     "output_type": "stream",
     "text": [
      "Waiting for confirmation...\n",
      "Transaction BG6YUKA2HIKIYYS5U2DOALR3VGBW22OLL6J3TTEWYHOOEVKRVIAQ confirmed in round 112161.\n"
     ]
    }
   ],
   "source": [
    "storeApp.set_up(trade_app_id=tradingAppID, bid_app_id=appID, auction_app_id=123)"
   ]
  },
  {
   "cell_type": "code",
   "execution_count": 10,
   "metadata": {},
   "outputs": [
    {
     "name": "stdout",
     "output_type": "stream",
     "text": [
      "Alice's algo balance:  20054796726320  algos\n"
     ]
    }
   ],
   "source": [
    "sellerAlgosBefore = get_balances(client, seller.get_address())[0]\n",
    "\n",
    "print(\"Alice's algo balance: \", sellerAlgosBefore, \" algos\")"
   ]
  },
  {
   "cell_type": "code",
   "execution_count": 11,
   "metadata": {},
   "outputs": [
    {
     "name": "stdout",
     "output_type": "stream",
     "text": [
      "The smart contract now holds the following: {0: 100000}\n"
     ]
    }
   ],
   "source": [
    "sleep(5)\n",
    "actualAppBalancesBefore = get_balances(client, get_application_address(appID))\n",
    "print(\"The smart contract now holds the following:\", actualAppBalancesBefore)"
   ]
  },
  {
   "cell_type": "code",
   "execution_count": 12,
   "metadata": {},
   "outputs": [
    {
     "name": "stdout",
     "output_type": "stream",
     "text": [
      "Carla wants to bid on token, her algo balance:  10025252649729  algos\n",
      "Carla is placing bid for:  1000000  algos\n"
     ]
    }
   ],
   "source": [
    "bidPrice = price\n",
    "bidderAlgosBefore = get_balances(client, bidder.get_address())[0]\n",
    "print(\"Carla wants to bid on token, her algo balance: \", bidderAlgosBefore, \" algos\")\n",
    "print(\"Carla is placing bid for: \", bidPrice, \" algos\")"
   ]
  },
  {
   "cell_type": "code",
   "execution_count": 13,
   "metadata": {},
   "outputs": [
    {
     "name": "stdout",
     "output_type": "stream",
     "text": [
      "store_app_id 2439\n",
      "seller Y4QR7LETUXJQVSPRKOJ5VFDR2GRO3MTSLJ4CLSIPJ5YN33Z3Z7HDT6JLYM opt in app 2439\n",
      "Waiting for confirmation...\n",
      "Transaction CGJRNUSLZPXJZFC2WBUNNGT5ZZB52NCLRVKLWOOWQLSJPVRMJKFQ confirmed in round 112164.\n",
      "Waiting for confirmation...\n",
      "Transaction 2G4BIVHTYAXOZUEV4AK53LBCVLMDCISDYCA2Z6AUGS73BKUZ7BEA confirmed in round 112166.\n",
      "new address: G5AM2YUER4JI4YNW32TDD3W7L4KRQFJMNET5LUXWYW5YFR5MEKYHRPMNCQ\n",
      "new private_key: 0aO9aIJckHEl+R2BD+puFnAFQ6nEIcYIwyi6RiutPRs3QM1ihI8SjmG23qYx7t9fFRgVLGkn1dL2xbuCx6wisA==\n",
      "new passphrase: kick walk crowd sight camera fragile since bulb usual popular danger accident april express census canyon boat around behave hill final hero supreme abandon hamster\n",
      "Waiting for confirmation...\n",
      "Transaction 4WSXGMZ3K2WIYKLB5M5XAYVGH52F37HW2NPH2ZQ23NL7SFLVK3NQ confirmed in round 112168.\n",
      "Waiting for confirmation...\n",
      "Transaction BD3IBHNBQATVK73UJQVHAPF6C3EUKAIBYBSKLM4VKYTAAY42S2NQ confirmed in round 112170.\n",
      "Waiting for confirmation...\n",
      "Transaction 4ZICFK3IMNWCUMXT6LYXWTZOBUDKPJJWW5O3TAY27GYSQJXZUS3A confirmed in round 112172.\n",
      "obj {'LOUBIMVHXMWMJNC4ZBKTIQTGNLF36EIXTEVBD7BUHDMIXKSMKQRNIPMQ6I': {'FOWXDCFQJKY3ISR7A5ZC2K5QEA5EYOJYCML55JWZVZYWWKQSUD6UFWIWKU': 1}, 'X7PMCPPRD2T35ZZRTPETYK53G5YWBKUNONVDY52WODP3N3YM7NGEF5HGWU': {'FOWXDCFQJKY3ISR7A5ZC2K5QEA5EYOJYCML55JWZVZYWWKQSUD6UFWIWKU': 1, 'OZPWYTPI547K62IA6F55NCRKQPZRQP2EJQQFBK4ENELNGOFPQQXXSVNMWM': 1, 'CKTCUB4FJ63T34TTBFKZ424SMM227HVZPCFOVBISYSUNCQOOBJBI776HFY': 1, 'K6HDOAXSH5DIQLIHUNKLHNYFTM67G4CJVEPI5MG2Q5G6HL3NTLRI25FHNE': 1, 'P56N7L4RA4QDDZSV4D6EUMZNWKNVOJ7WLRK4KWWQMHACH5UHZ4UIZXF3II': 1, '55R3M5TXP4I6BZ3ITZD7Q4Y2X4O2PMJUD5R665P3FDEQK7673BRXXKTZ5A': 1, 'PCONPWZT4WA4H7HLV4FPAYCY2X5HAM66JTEWFVYWYNVWUMWCSUEX6GXW4Y': 1, 'XGI4ERV7PI5B3WS7YOQKLJV7ORQZVCVTDTHKF7U5ZCLNITEYOYHETKMZJA': 1, 'VN45YQ67CYIS2NUCPHAG66BSVAWCWS3PLS3W5IKACXYOV536DX6PKDZGZY': 1, 'HLEQ4AAIO3UGH4KKNQS6FO73OJGNVHR7EDAMAJJK6WFT6QACKYPYAEBDGI': 1, 'KQZH4ADOGTXEZ2DUHLBG7CTN7PXGDSWIAK3P4AKUWUHUTFV2IYK5V64KME': 1, 'NMRPWY4BWIVQRSSK2LY2AEE4CMYIRFYG2SQNHDWQBF7F2VJWW5C2FXNK3U': 1, 'FLT4VU5C2XMCQLDC22JI6G5CCXQ6MBFZF7LHMQHNQK5CTOT2KRNM7PB2SM': 1, 'NYCT7OFDKB2PUOFTIQWOJK46JLXOL2SEI6JVELOONU4EKB7Q6WQSPMUI6E': 1, 'IUYYK2V2REMD2B2D7AFFKV5NYRO4NSWBJFSZJZMSYNTXV73Z36CNWZLRUI': 1, 'DQWM5NXSFIHFU3ZPT4HJBTK6BPWPB4WX6NAXOXBEDKHINTGM6LBX53G5FI': 1, '6D6GYELSKJ5NAKNUQWJHGCL6RKPA6LFLP3DBV7UE4HBRWRHHJ2W6MJYTJM': 1, 'WKN76MLGVHECJFBKL5MMUDOOWJO7ZJ5ZZ2MG73SSVU5MACYZKJ2CIIQVHU': 1, 'E4HFYCCKDJI7PO4646KTHCXYTBX2V54DTOWN4WFA4QXABZBVQCXXAECYZI': 1, 'EVTVNPTFJCILVFSGKM7Z7PBZY5E356KVGYZN2PXGJT5LWV4IIV6AAOMQPM': 1, 'JN67R42B7QOO2GK3NYZOPNBPGWOLQPHUMYQVT2MAM337GP5F27CGAK4W2Y': 1, 'WY6KHNZK7XCSRZQGHFZGLXSL7NXTR2VGCNNVOG5BYNMBTKI5MZPJ5ZN6KA': 1, 'L2TX36NVBXWFYRFCD6DH5KCVDTSATNEFJ6CL7JJEOIP3DSA6KQ5RZQZ7NA': 1}, 'Y4QR7LETUXJQVSPRKOJ5VFDR2GRO3MTSLJ4CLSIPJ5YN33Z3Z7HDT6JLYM': {'HQ65V4UBXPPHHZFDZNXYMRDNDMRGZJJGALMBSWGJML6BU5BCGRCVTLJIU4': 1, '46BGLWLH5FLZBZX7JXDPLGO5E4SJJ4LYK7YBTTEISVZ2VLK5LI2DDBFM24': 1, '66SAHH5ANRQMC2CVR34VQYGF2ZBMEPW5PWBZOFJAST23CPRWJFBPE2F64Y': 1, 'ZX3645GVKYBZFNR4F23EMBQ7Y7MEU64WK2PSCQL2XO2RAJU4FJTQYWEFHQ': 1, 'JMT2PVNGNK7VHTTZX22IWEFVFYGKQDQ2FG7UUWZAZGYGXX5ZX3DE4POSGQ': 1, '42LNDMDHLBYAEADTZD6TH6EAHIVBYSUL7DEL4KF5RGYYYECIWYF5OCYWKE': 1, 'PIGZM2H446LN4OWQYVSMIWSEPFYX7TD6OMF7FB52WH5DYYK3U65UJCAW7I': 1, '6VRMOIJJ3RAJLA3FZO2HIU4KLCXTIPA55JR4XQK7VV5CS2SEZYE44ZOYG4': 1, '7H2374LYBHFGWKZP2753RGRPEH7RIECON3QVQUAQYL64YWB4GWR2EBJR2A': 1, 'X2RLTLF4N4PDIM2JPKYTSPOXB62PHCDBLDH32S7ZO2KA3KG6LHTOTBLA5Y': 1}}\n",
      "token_txn: {'sender': 'Y4QR7LETUXJQVSPRKOJ5VFDR2GRO3MTSLJ4CLSIPJ5YN33Z3Z7HDT6JLYM', 'fee': 1000, 'first_valid_round': 112162, 'last_valid_round': 113162, 'note': None, 'genesis_id': 'sandnet-v1', 'genesis_hash': 'S46yr60YjyJzK3Fk0J8V7mzMIOSxovaXAVqCHlwPl1A=', 'group': None, 'lease': None, 'type': 'axfer', 'rekey_to': None, 'receiver': 'BZORWTSSOMIKKAIIGATCMXIIEH6FNJF33CMVAWLXCQK3AZGLQKUIKM4HXY', 'amount': 10, 'index': 499, 'close_assets_to': None, 'revocation_target': None}\n",
      "Waiting for confirmation...\n",
      "Transaction EHRGBU56EBKHQE64PIR62BARZ7TF76WPXJTWX25QACDUPBJZQHSA confirmed in round 112174.\n",
      "Carla bid G5AM2YUER4JI4YNW32TDD3W7L4KRQFJMNET5LUXWYW5YFR5MEKYHRPMNCQ\n"
     ]
    }
   ],
   "source": [
    "trading_index = place_trade(client=client, app_id=tradingAppID, seller=seller, token_id=asset_id, token_amount=10, price=bidPrice, trading_index=\"\")\n",
    "\n",
    "print(\"Carla bid\", trading_index)"
   ]
  },
  {
   "cell_type": "code",
   "execution_count": 14,
   "metadata": {},
   "outputs": [
    {
     "name": "stdout",
     "output_type": "stream",
     "text": [
      "token_amount 10\n",
      "price 1000000\n",
      "Waiting for confirmation...\n",
      "Transaction TBOK3JTX3HHNW3WRUDMKEGPE7UNZXNBOAZWOSJQHG4SITLHKPM2A confirmed in round 112176.\n",
      "Waiting for confirmation...\n",
      "Transaction 7PH36TH5KKFHCGQRMYN7FC4TMKNR7KTSNN3GN7MLDDLVW75TPNTQ confirmed in round 112178.\n"
     ]
    },
    {
     "data": {
      "text/plain": [
       "True"
      ]
     },
     "execution_count": 14,
     "metadata": {},
     "output_type": "execute_result"
    }
   ],
   "source": [
    "accept_trade(client, tradingAppID, bidder, seller.get_address(), trading_index)"
   ]
  },
  {
   "cell_type": "code",
   "execution_count": 15,
   "metadata": {},
   "outputs": [
    {
     "name": "stdout",
     "output_type": "stream",
     "text": [
      "store_app_id 2439\n",
      "new address: 33AFCREAJHZEAC4VEC2OKQFGBNCYFHJILESTWOE2EUQJSZDIRRGSGFFN64\n",
      "new private_key: DToxBGhYAHRKToSW2Z5GZCpyhG0vFUtAPy8tx5fRIWjewFFEgEnyQAuVILTlQKYLRYKdKFklOziaJSCZZGiMTQ==\n",
      "new passphrase: double shaft acoustic make absent other inch lounge crazy kiwi cash play tone genre kiwi benefit annual wonder nurse index convince inner donate about start\n",
      "Waiting for confirmation...\n",
      "Transaction 5GCPQXQIZIGKRDYBO5C6GTECL6PCUPJAKHRSU4NLESKANEKSAAYA confirmed in round 112180.\n",
      "Waiting for confirmation...\n",
      "Transaction JYYXZX5IG6Q5EKIZ4D2A4ZRBPNCNSWXA5B537MI3IDDEVKISGJZA confirmed in round 112182.\n",
      "Waiting for confirmation...\n",
      "Transaction EYUJQDZUY23L4ZG2GZ7NJSQODYEVBZRQD4HDIJLDWBXTWFXPPXNA confirmed in round 112184.\n",
      "obj {'LOUBIMVHXMWMJNC4ZBKTIQTGNLF36EIXTEVBD7BUHDMIXKSMKQRNIPMQ6I': {'FOWXDCFQJKY3ISR7A5ZC2K5QEA5EYOJYCML55JWZVZYWWKQSUD6UFWIWKU': 1}, 'X7PMCPPRD2T35ZZRTPETYK53G5YWBKUNONVDY52WODP3N3YM7NGEF5HGWU': {'FOWXDCFQJKY3ISR7A5ZC2K5QEA5EYOJYCML55JWZVZYWWKQSUD6UFWIWKU': 1, 'OZPWYTPI547K62IA6F55NCRKQPZRQP2EJQQFBK4ENELNGOFPQQXXSVNMWM': 1, 'CKTCUB4FJ63T34TTBFKZ424SMM227HVZPCFOVBISYSUNCQOOBJBI776HFY': 1, 'K6HDOAXSH5DIQLIHUNKLHNYFTM67G4CJVEPI5MG2Q5G6HL3NTLRI25FHNE': 1, 'P56N7L4RA4QDDZSV4D6EUMZNWKNVOJ7WLRK4KWWQMHACH5UHZ4UIZXF3II': 1, '55R3M5TXP4I6BZ3ITZD7Q4Y2X4O2PMJUD5R665P3FDEQK7673BRXXKTZ5A': 1, 'PCONPWZT4WA4H7HLV4FPAYCY2X5HAM66JTEWFVYWYNVWUMWCSUEX6GXW4Y': 1, 'XGI4ERV7PI5B3WS7YOQKLJV7ORQZVCVTDTHKF7U5ZCLNITEYOYHETKMZJA': 1, 'VN45YQ67CYIS2NUCPHAG66BSVAWCWS3PLS3W5IKACXYOV536DX6PKDZGZY': 1, 'HLEQ4AAIO3UGH4KKNQS6FO73OJGNVHR7EDAMAJJK6WFT6QACKYPYAEBDGI': 1, 'KQZH4ADOGTXEZ2DUHLBG7CTN7PXGDSWIAK3P4AKUWUHUTFV2IYK5V64KME': 1, 'NMRPWY4BWIVQRSSK2LY2AEE4CMYIRFYG2SQNHDWQBF7F2VJWW5C2FXNK3U': 1, 'FLT4VU5C2XMCQLDC22JI6G5CCXQ6MBFZF7LHMQHNQK5CTOT2KRNM7PB2SM': 1, 'NYCT7OFDKB2PUOFTIQWOJK46JLXOL2SEI6JVELOONU4EKB7Q6WQSPMUI6E': 1, 'IUYYK2V2REMD2B2D7AFFKV5NYRO4NSWBJFSZJZMSYNTXV73Z36CNWZLRUI': 1, 'DQWM5NXSFIHFU3ZPT4HJBTK6BPWPB4WX6NAXOXBEDKHINTGM6LBX53G5FI': 1, '6D6GYELSKJ5NAKNUQWJHGCL6RKPA6LFLP3DBV7UE4HBRWRHHJ2W6MJYTJM': 1, 'WKN76MLGVHECJFBKL5MMUDOOWJO7ZJ5ZZ2MG73SSVU5MACYZKJ2CIIQVHU': 1, 'E4HFYCCKDJI7PO4646KTHCXYTBX2V54DTOWN4WFA4QXABZBVQCXXAECYZI': 1, 'EVTVNPTFJCILVFSGKM7Z7PBZY5E356KVGYZN2PXGJT5LWV4IIV6AAOMQPM': 1, 'JN67R42B7QOO2GK3NYZOPNBPGWOLQPHUMYQVT2MAM337GP5F27CGAK4W2Y': 1, 'WY6KHNZK7XCSRZQGHFZGLXSL7NXTR2VGCNNVOG5BYNMBTKI5MZPJ5ZN6KA': 1, 'L2TX36NVBXWFYRFCD6DH5KCVDTSATNEFJ6CL7JJEOIP3DSA6KQ5RZQZ7NA': 1}, 'Y4QR7LETUXJQVSPRKOJ5VFDR2GRO3MTSLJ4CLSIPJ5YN33Z3Z7HDT6JLYM': {'HQ65V4UBXPPHHZFDZNXYMRDNDMRGZJJGALMBSWGJML6BU5BCGRCVTLJIU4': 1, '46BGLWLH5FLZBZX7JXDPLGO5E4SJJ4LYK7YBTTEISVZ2VLK5LI2DDBFM24': 1, '66SAHH5ANRQMC2CVR34VQYGF2ZBMEPW5PWBZOFJAST23CPRWJFBPE2F64Y': 1, 'ZX3645GVKYBZFNR4F23EMBQ7Y7MEU64WK2PSCQL2XO2RAJU4FJTQYWEFHQ': 1, 'JMT2PVNGNK7VHTTZX22IWEFVFYGKQDQ2FG7UUWZAZGYGXX5ZX3DE4POSGQ': 1, '42LNDMDHLBYAEADTZD6TH6EAHIVBYSUL7DEL4KF5RGYYYECIWYF5OCYWKE': 1, 'PIGZM2H446LN4OWQYVSMIWSEPFYX7TD6OMF7FB52WH5DYYK3U65UJCAW7I': 1, '6VRMOIJJ3RAJLA3FZO2HIU4KLCXTIPA55JR4XQK7VV5CS2SEZYE44ZOYG4': 1, '7H2374LYBHFGWKZP2753RGRPEH7RIECON3QVQUAQYL64YWB4GWR2EBJR2A': 1, 'X2RLTLF4N4PDIM2JPKYTSPOXB62PHCDBLDH32S7ZO2KA3KG6LHTOTBLA5Y': 1, 'G5AM2YUER4JI4YNW32TDD3W7L4KRQFJMNET5LUXWYW5YFR5MEKYHRPMNCQ': 1}}\n",
      "Waiting for confirmation...\n",
      "Transaction Q3V56GXKRYJVXYBQNUGKDOF2Y7BHZ3KDFOA2SHGS3XUZQC4RKSEQ confirmed in round 112186.\n",
      "Carla bid 499\n"
     ]
    }
   ],
   "source": [
    "bid_index = place_bid(client=client, app_id=appID, token_id=asset_id, bidder=bidder, bid_amount=10, bid_price=bidPrice, bid_index=\"\")\n",
    "\n",
    "print(\"Carla bid\", asset_id)"
   ]
  },
  {
   "cell_type": "code",
   "execution_count": 16,
   "metadata": {},
   "outputs": [
    {
     "name": "stdout",
     "output_type": "stream",
     "text": [
      "The smart contract now holds the following: {0: 1104000}\n"
     ]
    }
   ],
   "source": [
    "actualAppBalancesBefore = get_balances(client, get_application_address(appID))\n",
    "print(\"The smart contract now holds the following:\", actualAppBalancesBefore)"
   ]
  },
  {
   "cell_type": "code",
   "execution_count": 17,
   "metadata": {},
   "outputs": [],
   "source": [
    "# account_info = client.account_info(bidder.get_address())  \n",
    "# print(account_info.get('apps-local-state', []))\n",
    "# print(is_opted_in_app(client, appID, bidder.get_address()))\n",
    "\n",
    "# cancel_bid(client, appID, bidder, bid_index)\n",
    "\n",
    "# print(\"Carla canceled bid\", asset_id)"
   ]
  },
  {
   "cell_type": "code",
   "execution_count": 18,
   "metadata": {},
   "outputs": [],
   "source": [
    "# bid_index = place_bid(client=client, app_id=appID, bidder=bidder, token_id=asset_id, bid_amount=10, bid_price=bidPrice, bid_index=\"\")\n",
    "# print(bid_index)\n",
    "# bid_index = place_bid(client=client, app_id=appID, bidder=bidder, token_id=asset_id, bid_amount=20, bid_price=bidPrice+1_000_000, bid_index=bid_index)\n",
    "# print(bid_index)\n",
    "# bid_index = place_bid(client=client, app_id=appID, bidder=bidder, token_id=asset_id, bid_amount=15, bid_price=bidPrice+500_000, bid_index=bid_index)\n",
    "# print(bid_index)\n"
   ]
  },
  {
   "cell_type": "code",
   "execution_count": 19,
   "metadata": {},
   "outputs": [
    {
     "name": "stdout",
     "output_type": "stream",
     "text": [
      "{b'B_ADDR': b'\\xbf\\xde\\xc1=\\xf1\\x1e\\xa7\\xbe\\xe71\\x9b\\xc9<+\\xbb7q`\\xaa\\x8dsj<wVp\\xdf\\xb6\\xef\\x0c\\xfbL', b'TA': 10, b'TK_ID': 499, b'TP': 1000000}\n"
     ]
    }
   ],
   "source": [
    "bidderAppLocalState = get_app_local_state(client, appID, bid_index)\n",
    "print(bidderAppLocalState)"
   ]
  },
  {
   "cell_type": "code",
   "execution_count": 20,
   "metadata": {},
   "outputs": [
    {
     "name": "stdout",
     "output_type": "stream",
     "text": [
      "token_amount 10\n",
      "price 1000000\n",
      "Waiting for confirmation...\n",
      "Transaction YOX66UJ45ERCONPHW2IWUJHN7F7PAZJBLAWMGSHEPK5OT7SFVFMQ confirmed in round 112188.\n",
      "Waiting for confirmation...\n",
      "Transaction 7HGFH6IOCOLG5WKOJQ7YD3OHA26WQHSPVXROJ75TECQERZIALHMA confirmed in round 112190.\n"
     ]
    },
    {
     "data": {
      "text/plain": [
       "True"
      ]
     },
     "execution_count": 20,
     "metadata": {},
     "output_type": "execute_result"
    }
   ],
   "source": [
    "accept_bid(client, appID, seller, bidder.get_address(), bid_index)"
   ]
  },
  {
   "cell_type": "markdown",
   "metadata": {},
   "source": [
    "Alice is closing out the bidding contract...."
   ]
  },
  {
   "cell_type": "code",
   "execution_count": 21,
   "metadata": {},
   "outputs": [
    {
     "name": "stdout",
     "output_type": "stream",
     "text": [
      "b'assets' [499]\n",
      "b'accounts' ['4TT75274EBUAF46CITUL6HQQ4C4D3GO7GEOVRZSQZ35VXSGRVHJ376GD64', 'UCAX3M5HS7PWWLB6HDCM2O7JE4HC3RGBPNWFRP4SYU62ZS5NSS2GFOKIOU']\n",
      "Waiting for confirmation...\n",
      "Transaction QCJF5CZ3EUU3KCFWGXVOWAUVEXDSOJ2SJS3PYU57EQ32K6HWUZHA confirmed in round 112193.\n"
     ]
    }
   ],
   "source": [
    "sleep(5)\n",
    "\n",
    "close_bidding(client, appID, creator, [asset_id])"
   ]
  },
  {
   "cell_type": "code",
   "execution_count": 22,
   "metadata": {},
   "outputs": [
    {
     "name": "stdout",
     "output_type": "stream",
     "text": [
      "The smart contract now holds the following: {0: 335500, 499: 0}\n"
     ]
    }
   ],
   "source": [
    "actualAppBalances = get_balances(client, get_application_address(appID))\n",
    "expectedAppBalances = {0: 0}\n",
    "print(\"The smart contract now holds the following:\", actualAppBalances)\n",
    "\n",
    "#assert actualAppBalances == expectedAppBalances"
   ]
  },
  {
   "cell_type": "code",
   "execution_count": 23,
   "metadata": {},
   "outputs": [
    {
     "name": "stdout",
     "output_type": "stream",
     "text": [
      "Carla's NFT balance: 155  for token ID:  499\n"
     ]
    },
    {
     "ename": "AssertionError",
     "evalue": "",
     "output_type": "error",
     "traceback": [
      "\u001b[0;31m---------------------------------------------------------------------------\u001b[0m",
      "\u001b[0;31mAssertionError\u001b[0m                            Traceback (most recent call last)",
      "\u001b[0;32m/var/folders/3k/5_sd8_ms50n24wv9pqsdmpcr0000gn/T/ipykernel_36400/2424968205.py\u001b[0m in \u001b[0;36m<module>\u001b[0;34m\u001b[0m\n\u001b[1;32m      3\u001b[0m \u001b[0mprint\u001b[0m\u001b[0;34m(\u001b[0m\u001b[0;34m\"Carla's NFT balance:\"\u001b[0m\u001b[0;34m,\u001b[0m \u001b[0mbidderNftBalance\u001b[0m\u001b[0;34m,\u001b[0m \u001b[0;34m\" for token ID: \"\u001b[0m\u001b[0;34m,\u001b[0m \u001b[0masset_id\u001b[0m\u001b[0;34m)\u001b[0m\u001b[0;34m\u001b[0m\u001b[0;34m\u001b[0m\u001b[0m\n\u001b[1;32m      4\u001b[0m \u001b[0;34m\u001b[0m\u001b[0m\n\u001b[0;32m----> 5\u001b[0;31m \u001b[0;32massert\u001b[0m \u001b[0mbidderNftBalance\u001b[0m \u001b[0;34m==\u001b[0m \u001b[0;36m1\u001b[0m\u001b[0;34m\u001b[0m\u001b[0;34m\u001b[0m\u001b[0m\n\u001b[0m\u001b[1;32m      6\u001b[0m \u001b[0;34m\u001b[0m\u001b[0m\n\u001b[1;32m      7\u001b[0m \u001b[0mactualSellerBalances\u001b[0m \u001b[0;34m=\u001b[0m \u001b[0mget_balances\u001b[0m\u001b[0;34m(\u001b[0m\u001b[0mclient\u001b[0m\u001b[0;34m,\u001b[0m \u001b[0mseller\u001b[0m\u001b[0;34m.\u001b[0m\u001b[0mget_address\u001b[0m\u001b[0;34m(\u001b[0m\u001b[0;34m)\u001b[0m\u001b[0;34m)\u001b[0m\u001b[0;34m\u001b[0m\u001b[0;34m\u001b[0m\u001b[0m\n",
      "\u001b[0;31mAssertionError\u001b[0m: "
     ]
    }
   ],
   "source": [
    "bidderNftBalance = get_balances(client, bidder.get_address())[asset_id]\n",
    "\n",
    "print(\"Carla's NFT balance:\", bidderNftBalance, \" for token ID: \", asset_id)\n",
    "\n",
    "assert bidderNftBalance == 1\n",
    "\n",
    "actualSellerBalances = get_balances(client, seller.get_address())\n",
    "print(\"Alice's balances after auction: \", actualSellerBalances, \" Algos\")\n",
    "\n",
    "actualBidderBalances = get_balances(client, bidder.get_address())\n",
    "print(\"Carla's balances after auction: \", actualBidderBalances, \" Algos\")\n",
    "# assert len(actualSellerBalances) == 2\n",
    "# seller should receive the bid amount, minus the txn fee\n",
    "assert actualSellerBalances[0] >= sellerAlgosBefore + bidPrice - 1_000\n",
    "assert actualSellerBalances[asset_id] == 0"
   ]
  },
  {
   "cell_type": "code",
   "execution_count": null,
   "metadata": {},
   "outputs": [],
   "source": [
    "storeAppState = get_app_global_state(client, 1676)\n",
    "print(storeAppState)\n",
    "#print(encoding.encode_address(storeAppState[b\"C\"]))"
   ]
  }
 ],
 "metadata": {
  "interpreter": {
   "hash": "d8d32039960e27bf02cc380478024df65258985d3f6246b5f3627ebac0bfeee0"
  },
  "kernelspec": {
   "display_name": "Python 3.8.10 64-bit ('venv': venv)",
   "language": "python",
   "name": "python3"
  },
  "language_info": {
   "codemirror_mode": {
    "name": "ipython",
    "version": 3
   },
   "file_extension": ".py",
   "mimetype": "text/x-python",
   "name": "python",
   "nbconvert_exporter": "python",
   "pygments_lexer": "ipython3",
   "version": "3.9.9"
  },
  "orig_nbformat": 4
 },
 "nbformat": 4,
 "nbformat_minor": 2
}

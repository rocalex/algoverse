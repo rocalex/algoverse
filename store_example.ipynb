{
 "cells": [
  {
   "cell_type": "code",
   "execution_count": 1,
   "metadata": {},
   "outputs": [],
   "source": [
    "import os\n",
    "\n",
    "import dotenv\n",
    "\n",
    "from time import time, sleep\n",
    "from algosdk.future import transaction\n",
    "from algosdk.logic import get_application_address\n",
    "\n",
    "from store.operations import StoringPool\n",
    "from bidding.operations import create_bidding_app, setup_bidding_app, place_bid, cancel_bid, accept_bid, close_bidding\n",
    "from trading.operations import create_trading_app, setup_trading_app, place_trade, cancel_trade, accept_trade, close_trading\n",
    "from utils import *\n",
    "from account import Account"
   ]
  },
  {
   "cell_type": "code",
   "execution_count": 2,
   "metadata": {},
   "outputs": [],
   "source": [
    "dotenv.load_dotenv('.env')\n",
    "\n",
    "client = get_algod_client(os.environ.get('ALGOD_URL'), os.environ.get('ALGOD_TOKEN'))"
   ]
  },
  {
   "cell_type": "code",
   "execution_count": 3,
   "metadata": {},
   "outputs": [
    {
     "name": "stdout",
     "output_type": "stream",
     "text": [
      "storeAppID: 2185\n",
      "Creator address: 4TT75274EBUAF46CITUL6HQQ4C4D3GO7GEOVRZSQZ35VXSGRVHJ376GD64\n",
      "Bidder address: X7PMCPPRD2T35ZZRTPETYK53G5YWBKUNONVDY52WODP3N3YM7NGEF5HGWU\n",
      "Seller Address: Y4QR7LETUXJQVSPRKOJ5VFDR2GRO3MTSLJ4CLSIPJ5YN33Z3Z7HDT6JLYM\n"
     ]
    }
   ],
   "source": [
    "creator = Account.from_mnemonic(os.environ.get('CREATOR_MN'))\n",
    "bidder = Account.from_mnemonic(os.environ.get('BUYER_MN'))\n",
    "seller = Account.from_mnemonic(os.environ.get('SELLER_MN'))\n",
    "\n",
    "storeAppID = int(os.environ.get(\"STORE_APP_ID\"))\n",
    "# close_bidding(client, 693, storeAppID, creator)\n",
    "print(f\"storeAppID: {storeAppID}\")\n",
    "\n",
    "print(f\"Creator address: {creator.get_address()}\")\n",
    "print(f\"Bidder address: {bidder.get_address()}\")\n",
    "print(f\"Seller Address: {seller.get_address()}\")"
   ]
  },
  {
   "cell_type": "code",
   "execution_count": 4,
   "metadata": {},
   "outputs": [
    {
     "name": "stdout",
     "output_type": "stream",
     "text": [
      "The token id is: 499\n"
     ]
    }
   ],
   "source": [
    "# def create_dummy_asset(sender: Account, total: int, decimals: int, asset_name: str, unit_name: str):\n",
    "#     txn = transaction.AssetConfigTxn(\n",
    "#         sender=sender.get_address(),\n",
    "#         sp=client.suggested_params(),\n",
    "#         total=total,\n",
    "#         decimals=decimals,\n",
    "#         asset_name=asset_name,\n",
    "#         unit_name=unit_name,\n",
    "#         default_frozen=False,\n",
    "#         strict_empty_address_check=False,\n",
    "#     )\n",
    "#     signed_txn = txn.sign(sender.get_private_key())\n",
    "\n",
    "#     client.send_transaction(signed_txn)\n",
    "\n",
    "#     response = wait_for_confirmation(client, signed_txn.get_txid())\n",
    "#     assert response.asset_index is not None and response.asset_index > 0\n",
    "#     return response.asset_index\n",
    "\n",
    "# asset_id = create_dummy_asset(seller, 1, 0, \"example token\", \"AVT\")\n",
    "\n",
    "asset_id = int(os.environ.get(\"TOKEN_ID\"))\n",
    "print(f\"The token id is: {asset_id}\")"
   ]
  },
  {
   "cell_type": "code",
   "execution_count": 5,
   "metadata": {},
   "outputs": [],
   "source": [
    "start_time = int(time()) + 10\n",
    "end_time = start_time + 10\n",
    "price = 1_000_000  # 1 Algo"
   ]
  },
  {
   "cell_type": "markdown",
   "metadata": {},
   "source": [
    "\"Alice is creating auction smart contract that lasts 30 seconds to auction off token...\""
   ]
  },
  {
   "cell_type": "code",
   "execution_count": 6,
   "metadata": {},
   "outputs": [
    {
     "name": "stdout",
     "output_type": "stream",
     "text": [
      "Waiting for confirmation...\n",
      "Transaction FOF4EKK2F2J6HXO7LD7PKCHEBOXHMZXSFCFLGCVLCUMUKT3EXS6Q confirmed in round 111902.\n",
      "Store App ID: 2397\n",
      "Store App address: EX2UHJY5PVW2KEJIC5JGQXGSJMRWAKEV7ZDUVXC2ETNM5EUWKSFQN5SBNQ\n",
      "Waiting for confirmation...\n",
      "Transaction GHIR4JEPPWP336TLECMVG3YZWUC2HBUJOWVEIM77X2RRAUIRBICA confirmed in round 111904.\n",
      "Store App Address: EX2UHJY5PVW2KEJIC5JGQXGSJMRWAKEV7ZDUVXC2ETNM5EUWKSFQN5SBNQ\n"
     ]
    }
   ],
   "source": [
    "storeApp = StoringPool(client=client, creator=creator)\n",
    "storeApp.create_app()\n",
    "storeAppID = storeApp.app_id\n",
    "\n",
    "# storeAppID = int(os.environ.get(\"STORE_APP_ID\"))\n",
    "# storeApp.app_id = storeAppID\n",
    "# print(f\"Store App ID: {storeAppID}\")\n",
    "\n",
    "storeAppAddress = get_application_address(storeAppID)\n",
    "print(f\"Store App Address: {storeAppAddress}\")\n"
   ]
  },
  {
   "cell_type": "code",
   "execution_count": 7,
   "metadata": {},
   "outputs": [
    {
     "name": "stdout",
     "output_type": "stream",
     "text": [
      "Waiting for confirmation...\n",
      "Transaction 2IJRBWEBNRDG6HNNBDZMXSLUM7K3CC4HLJH2NUUT2BNRKQFHSCHA confirmed in round 111906.\n",
      "Waiting for confirmation...\n",
      "Transaction HE7V2TRPJZXAC7KMOEVMN6ONA2YQOKK7AGHPTPMN4MWLWTK5JC5A confirmed in round 111908.\n",
      "App ID: 2399\n",
      "App Address: GPTPEXTYRVXI5W2IXVIDXMKPV5BH4PXPRUUTJDUFNPR3WCQ2SGKCQMVHVE\n"
     ]
    }
   ],
   "source": [
    "\n",
    "appID = create_bidding_app(\n",
    "    client=client,\n",
    "    creator=creator,\n",
    "    store_app_id=storeAppID\n",
    ")\n",
    "print(f\"App ID: {appID}\")\n",
    "print(f\"App Address: {get_application_address(appID)}\")"
   ]
  },
  {
   "cell_type": "markdown",
   "metadata": {},
   "source": [
    "Alice is setting up and funding token auction..."
   ]
  },
  {
   "cell_type": "code",
   "execution_count": 8,
   "metadata": {},
   "outputs": [
    {
     "name": "stdout",
     "output_type": "stream",
     "text": [
      "Waiting for confirmation...\n",
      "Transaction DH3T4AW6XYXWBSW3FOSFQJQDVQBXSDQQ3J776CB6IGRE3FALTBKQ confirmed in round 111910.\n",
      "Waiting for confirmation...\n",
      "Transaction Y7A2BZSKYGQD2YM5HWLMAYSN54CK2QZ6MFYIGU3FUI6W5LVMFSWQ confirmed in round 111912.\n",
      "App ID: 2399\n",
      "App Address: GPTPEXTYRVXI5W2IXVIDXMKPV5BH4PXPRUUTJDUFNPR3WCQ2SGKCQMVHVE\n"
     ]
    }
   ],
   "source": [
    "tradingAppID = create_trading_app(\n",
    "    client=client,\n",
    "    creator=creator,\n",
    "    store_app_id=storeAppID\n",
    ")\n",
    "print(f\"App ID: {appID}\")\n",
    "print(f\"App Address: {get_application_address(appID)}\")"
   ]
  },
  {
   "cell_type": "code",
   "execution_count": 9,
   "metadata": {},
   "outputs": [
    {
     "name": "stdout",
     "output_type": "stream",
     "text": [
      "Waiting for confirmation...\n",
      "Transaction EFIA62ID7LNGLPRRYAS2CGNEHJKNB3ZEB33T5EMJOPPHXK6JTQIQ confirmed in round 111914.\n"
     ]
    }
   ],
   "source": [
    "storeApp.set_up(trade_app_id=tradingAppID, bid_app_id=appID, auction_app_id=123)"
   ]
  },
  {
   "cell_type": "code",
   "execution_count": 10,
   "metadata": {},
   "outputs": [
    {
     "name": "stdout",
     "output_type": "stream",
     "text": [
      "Alice's algo balance:  20054676250584  algos\n"
     ]
    }
   ],
   "source": [
    "sellerAlgosBefore = get_balances(client, seller.get_address())[0]\n",
    "\n",
    "print(\"Alice's algo balance: \", sellerAlgosBefore, \" algos\")"
   ]
  },
  {
   "cell_type": "code",
   "execution_count": 11,
   "metadata": {},
   "outputs": [
    {
     "name": "stdout",
     "output_type": "stream",
     "text": [
      "The smart contract now holds the following: {0: 100000}\n"
     ]
    }
   ],
   "source": [
    "sleep(5)\n",
    "actualAppBalancesBefore = get_balances(client, get_application_address(appID))\n",
    "print(\"The smart contract now holds the following:\", actualAppBalancesBefore)"
   ]
  },
  {
   "cell_type": "code",
   "execution_count": 12,
   "metadata": {},
   "outputs": [
    {
     "name": "stdout",
     "output_type": "stream",
     "text": [
      "Carla wants to bid on token, her algo balance:  10025193844987  algos\n",
      "Carla is placing bid for:  1000000  algos\n"
     ]
    }
   ],
   "source": [
    "bidPrice = price\n",
    "bidderAlgosBefore = get_balances(client, bidder.get_address())[0]\n",
    "print(\"Carla wants to bid on token, her algo balance: \", bidderAlgosBefore, \" algos\")\n",
    "print(\"Carla is placing bid for: \", bidPrice, \" algos\")"
   ]
  },
  {
   "cell_type": "code",
   "execution_count": 13,
   "metadata": {},
   "outputs": [
    {
     "name": "stdout",
     "output_type": "stream",
     "text": [
      "store_app_id 2397\n",
      "bidder X7PMCPPRD2T35ZZRTPETYK53G5YWBKUNONVDY52WODP3N3YM7NGEF5HGWU opt in app 2397\n",
      "Waiting for confirmation...\n",
      "Transaction Q5T2A5MSYQY4CYAICHJU42QGIWP36CNZYJYHEBBCZYNHD55GAX6Q confirmed in round 111917.\n",
      "new address: L2TX36NVBXWFYRFCD6DH5KCVDTSATNEFJ6CL7JJEOIP3DSA6KQ5RZQZ7NA\n",
      "new private_key: eJ39pMJGfoGijeUm+xR1T9QClJyFdeLi/5U/rAhqBUZep335tQ3sXESiH4Z+qFUc5Am0hU+Ev6Ukch+xyB5UOw==\n",
      "new passphrase: pyramid wait fame history wish park home tortoise gospel fault ritual eager aisle celery coconut intact fox zebra slab sentence bacon fold coral able isolate\n",
      "Waiting for confirmation...\n",
      "Transaction 4WJA2S72TSBCUZTTUND3VFV3QRWGGZVNRIFQWGVUSBX74TDGG5ZQ confirmed in round 111919.\n",
      "Waiting for confirmation...\n",
      "Transaction ZJ4JVQEAIOZGK7AHWWOWKITNHH3WYQHOPZP3XC3W6SEZYS7QMTDQ confirmed in round 111921.\n",
      "Waiting for confirmation...\n",
      "Transaction E6USU7G5NG52L75LNONLOOKP3TEHLFKRMKTE72OJQZTZ3KD46BJA confirmed in round 111923.\n",
      "obj {'LOUBIMVHXMWMJNC4ZBKTIQTGNLF36EIXTEVBD7BUHDMIXKSMKQRNIPMQ6I': {'FOWXDCFQJKY3ISR7A5ZC2K5QEA5EYOJYCML55JWZVZYWWKQSUD6UFWIWKU': 1}, 'X7PMCPPRD2T35ZZRTPETYK53G5YWBKUNONVDY52WODP3N3YM7NGEF5HGWU': {'FOWXDCFQJKY3ISR7A5ZC2K5QEA5EYOJYCML55JWZVZYWWKQSUD6UFWIWKU': 1, 'OZPWYTPI547K62IA6F55NCRKQPZRQP2EJQQFBK4ENELNGOFPQQXXSVNMWM': 1, 'CKTCUB4FJ63T34TTBFKZ424SMM227HVZPCFOVBISYSUNCQOOBJBI776HFY': 1, 'K6HDOAXSH5DIQLIHUNKLHNYFTM67G4CJVEPI5MG2Q5G6HL3NTLRI25FHNE': 1, 'P56N7L4RA4QDDZSV4D6EUMZNWKNVOJ7WLRK4KWWQMHACH5UHZ4UIZXF3II': 1, '55R3M5TXP4I6BZ3ITZD7Q4Y2X4O2PMJUD5R665P3FDEQK7673BRXXKTZ5A': 1, 'PCONPWZT4WA4H7HLV4FPAYCY2X5HAM66JTEWFVYWYNVWUMWCSUEX6GXW4Y': 1, 'XGI4ERV7PI5B3WS7YOQKLJV7ORQZVCVTDTHKF7U5ZCLNITEYOYHETKMZJA': 1, 'VN45YQ67CYIS2NUCPHAG66BSVAWCWS3PLS3W5IKACXYOV536DX6PKDZGZY': 1, 'HLEQ4AAIO3UGH4KKNQS6FO73OJGNVHR7EDAMAJJK6WFT6QACKYPYAEBDGI': 1, 'KQZH4ADOGTXEZ2DUHLBG7CTN7PXGDSWIAK3P4AKUWUHUTFV2IYK5V64KME': 1, 'NMRPWY4BWIVQRSSK2LY2AEE4CMYIRFYG2SQNHDWQBF7F2VJWW5C2FXNK3U': 1, 'FLT4VU5C2XMCQLDC22JI6G5CCXQ6MBFZF7LHMQHNQK5CTOT2KRNM7PB2SM': 1, 'NYCT7OFDKB2PUOFTIQWOJK46JLXOL2SEI6JVELOONU4EKB7Q6WQSPMUI6E': 1, 'IUYYK2V2REMD2B2D7AFFKV5NYRO4NSWBJFSZJZMSYNTXV73Z36CNWZLRUI': 1, 'DQWM5NXSFIHFU3ZPT4HJBTK6BPWPB4WX6NAXOXBEDKHINTGM6LBX53G5FI': 1, '6D6GYELSKJ5NAKNUQWJHGCL6RKPA6LFLP3DBV7UE4HBRWRHHJ2W6MJYTJM': 1, 'WKN76MLGVHECJFBKL5MMUDOOWJO7ZJ5ZZ2MG73SSVU5MACYZKJ2CIIQVHU': 1, 'E4HFYCCKDJI7PO4646KTHCXYTBX2V54DTOWN4WFA4QXABZBVQCXXAECYZI': 1, 'EVTVNPTFJCILVFSGKM7Z7PBZY5E356KVGYZN2PXGJT5LWV4IIV6AAOMQPM': 1, 'JN67R42B7QOO2GK3NYZOPNBPGWOLQPHUMYQVT2MAM337GP5F27CGAK4W2Y': 1, 'WY6KHNZK7XCSRZQGHFZGLXSL7NXTR2VGCNNVOG5BYNMBTKI5MZPJ5ZN6KA': 1}, 'Y4QR7LETUXJQVSPRKOJ5VFDR2GRO3MTSLJ4CLSIPJ5YN33Z3Z7HDT6JLYM': {'HQ65V4UBXPPHHZFDZNXYMRDNDMRGZJJGALMBSWGJML6BU5BCGRCVTLJIU4': 1, '46BGLWLH5FLZBZX7JXDPLGO5E4SJJ4LYK7YBTTEISVZ2VLK5LI2DDBFM24': 1, '66SAHH5ANRQMC2CVR34VQYGF2ZBMEPW5PWBZOFJAST23CPRWJFBPE2F64Y': 1, 'ZX3645GVKYBZFNR4F23EMBQ7Y7MEU64WK2PSCQL2XO2RAJU4FJTQYWEFHQ': 1, 'JMT2PVNGNK7VHTTZX22IWEFVFYGKQDQ2FG7UUWZAZGYGXX5ZX3DE4POSGQ': 1, '42LNDMDHLBYAEADTZD6TH6EAHIVBYSUL7DEL4KF5RGYYYECIWYF5OCYWKE': 1, 'PIGZM2H446LN4OWQYVSMIWSEPFYX7TD6OMF7FB52WH5DYYK3U65UJCAW7I': 1, '6VRMOIJJ3RAJLA3FZO2HIU4KLCXTIPA55JR4XQK7VV5CS2SEZYE44ZOYG4': 1, '7H2374LYBHFGWKZP2753RGRPEH7RIECON3QVQUAQYL64YWB4GWR2EBJR2A': 1}}\n",
      "Waiting for confirmation...\n",
      "Transaction TALBFIQY6HPC4G3ADJVOPPKW4X7MI2FU6INXVDUMZ67W6MHUAH4A confirmed in round 111925.\n",
      "Carla bid 499\n"
     ]
    }
   ],
   "source": [
    "bid_index = place_bid(client=client, app_id=appID, token_id=asset_id, bidder=bidder, bid_amount=10, bid_price=bidPrice, bid_index=\"\")\n",
    "\n",
    "print(\"Carla bid\", asset_id)"
   ]
  },
  {
   "cell_type": "code",
   "execution_count": 14,
   "metadata": {},
   "outputs": [
    {
     "name": "stdout",
     "output_type": "stream",
     "text": [
      "The smart contract now holds the following: {0: 1104000}\n"
     ]
    }
   ],
   "source": [
    "actualAppBalancesBefore = get_balances(client, get_application_address(appID))\n",
    "print(\"The smart contract now holds the following:\", actualAppBalancesBefore)"
   ]
  },
  {
   "cell_type": "code",
   "execution_count": 15,
   "metadata": {},
   "outputs": [],
   "source": [
    "# account_info = client.account_info(bidder.get_address())  \n",
    "# print(account_info.get('apps-local-state', []))\n",
    "# print(is_opted_in_app(client, appID, bidder.get_address()))\n",
    "\n",
    "# cancel_bid(client, appID, bidder, bid_index)\n",
    "\n",
    "# print(\"Carla canceled bid\", asset_id)"
   ]
  },
  {
   "cell_type": "code",
   "execution_count": 16,
   "metadata": {},
   "outputs": [],
   "source": [
    "# bid_index = place_bid(client=client, app_id=appID, bidder=bidder, token_id=asset_id, bid_amount=10, bid_price=bidPrice, bid_index=\"\")\n",
    "# print(bid_index)\n",
    "# bid_index = place_bid(client=client, app_id=appID, bidder=bidder, token_id=asset_id, bid_amount=20, bid_price=bidPrice+1_000_000, bid_index=bid_index)\n",
    "# print(bid_index)\n",
    "# bid_index = place_bid(client=client, app_id=appID, bidder=bidder, token_id=asset_id, bid_amount=15, bid_price=bidPrice+500_000, bid_index=bid_index)\n",
    "# print(bid_index)\n"
   ]
  },
  {
   "cell_type": "code",
   "execution_count": 17,
   "metadata": {},
   "outputs": [
    {
     "name": "stdout",
     "output_type": "stream",
     "text": [
      "{b'TA': 10, b'B_ADDR': b'\\xbf\\xde\\xc1=\\xf1\\x1e\\xa7\\xbe\\xe71\\x9b\\xc9<+\\xbb7q`\\xaa\\x8dsj<wVp\\xdf\\xb6\\xef\\x0c\\xfbL', b'TP': 1000000, b'TK_ID': 499}\n"
     ]
    }
   ],
   "source": [
    "bidderAppLocalState = get_app_local_state(client, appID, bid_index)\n",
    "print(bidderAppLocalState)"
   ]
  },
  {
   "cell_type": "code",
   "execution_count": 18,
   "metadata": {},
   "outputs": [
    {
     "name": "stdout",
     "output_type": "stream",
     "text": [
      "token_amount 10\n",
      "price 1000000\n",
      "Waiting for confirmation...\n",
      "Transaction MVCPZI7TK7BJKU2VXPXEB2UWUTDOM3V4DIRBSOH5TYLVF4RDAM7A confirmed in round 111927.\n",
      "Waiting for confirmation...\n",
      "Transaction YYJG7TZYUDPIELIESWUK22ATKV6TQD5P5YUXYTKPXFQSWJ7AHDFA confirmed in round 111929.\n",
      "Waiting for confirmation...\n",
      "Transaction WXNX3LSC64OVLRWIC5NACAUHPNQTEIUTIS4ARDHWFY5EF3ZH6BUA confirmed in round 111931.\n"
     ]
    },
    {
     "data": {
      "text/plain": [
       "True"
      ]
     },
     "execution_count": 18,
     "metadata": {},
     "output_type": "execute_result"
    }
   ],
   "source": [
    "accept_bid(client, appID, seller, bidder.get_address(), bid_index)"
   ]
  },
  {
   "cell_type": "markdown",
   "metadata": {},
   "source": [
    "Alice is closing out the bidding contract...."
   ]
  },
  {
   "cell_type": "code",
   "execution_count": 19,
   "metadata": {},
   "outputs": [
    {
     "name": "stdout",
     "output_type": "stream",
     "text": [
      "b'assets' [499]\n",
      "b'accounts' ['4TT75274EBUAF46CITUL6HQQ4C4D3GO7GEOVRZSQZ35VXSGRVHJ376GD64', 'UCAX3M5HS7PWWLB6HDCM2O7JE4HC3RGBPNWFRP4SYU62ZS5NSS2GFOKIOU']\n",
      "Waiting for confirmation...\n",
      "Transaction HTKCWEHJ5T4CN7X4FDZPJYXGWJLWESFHXSGGM2OB542ENFYGWZWQ confirmed in round 111934.\n"
     ]
    }
   ],
   "source": [
    "sleep(5)\n",
    "\n",
    "close_bidding(client, appID, creator, [asset_id])"
   ]
  },
  {
   "cell_type": "code",
   "execution_count": 20,
   "metadata": {},
   "outputs": [
    {
     "name": "stdout",
     "output_type": "stream",
     "text": [
      "The smart contract now holds the following: {0: 335500, 499: 0}\n"
     ]
    }
   ],
   "source": [
    "actualAppBalances = get_balances(client, get_application_address(appID))\n",
    "expectedAppBalances = {0: 0}\n",
    "print(\"The smart contract now holds the following:\", actualAppBalances)\n",
    "\n",
    "#assert actualAppBalances == expectedAppBalances"
   ]
  },
  {
   "cell_type": "code",
   "execution_count": 21,
   "metadata": {},
   "outputs": [
    {
     "name": "stdout",
     "output_type": "stream",
     "text": [
      "Carla's NFT balance: 135  for token ID:  499\n"
     ]
    },
    {
     "ename": "AssertionError",
     "evalue": "",
     "output_type": "error",
     "traceback": [
      "\u001b[0;31m---------------------------------------------------------------------------\u001b[0m",
      "\u001b[0;31mAssertionError\u001b[0m                            Traceback (most recent call last)",
      "\u001b[0;32m/var/folders/3k/5_sd8_ms50n24wv9pqsdmpcr0000gn/T/ipykernel_35698/2424968205.py\u001b[0m in \u001b[0;36m<module>\u001b[0;34m\u001b[0m\n\u001b[1;32m      3\u001b[0m \u001b[0mprint\u001b[0m\u001b[0;34m(\u001b[0m\u001b[0;34m\"Carla's NFT balance:\"\u001b[0m\u001b[0;34m,\u001b[0m \u001b[0mbidderNftBalance\u001b[0m\u001b[0;34m,\u001b[0m \u001b[0;34m\" for token ID: \"\u001b[0m\u001b[0;34m,\u001b[0m \u001b[0masset_id\u001b[0m\u001b[0;34m)\u001b[0m\u001b[0;34m\u001b[0m\u001b[0;34m\u001b[0m\u001b[0m\n\u001b[1;32m      4\u001b[0m \u001b[0;34m\u001b[0m\u001b[0m\n\u001b[0;32m----> 5\u001b[0;31m \u001b[0;32massert\u001b[0m \u001b[0mbidderNftBalance\u001b[0m \u001b[0;34m==\u001b[0m \u001b[0;36m1\u001b[0m\u001b[0;34m\u001b[0m\u001b[0;34m\u001b[0m\u001b[0m\n\u001b[0m\u001b[1;32m      6\u001b[0m \u001b[0;34m\u001b[0m\u001b[0m\n\u001b[1;32m      7\u001b[0m \u001b[0mactualSellerBalances\u001b[0m \u001b[0;34m=\u001b[0m \u001b[0mget_balances\u001b[0m\u001b[0;34m(\u001b[0m\u001b[0mclient\u001b[0m\u001b[0;34m,\u001b[0m \u001b[0mseller\u001b[0m\u001b[0;34m.\u001b[0m\u001b[0mget_address\u001b[0m\u001b[0;34m(\u001b[0m\u001b[0;34m)\u001b[0m\u001b[0;34m)\u001b[0m\u001b[0;34m\u001b[0m\u001b[0;34m\u001b[0m\u001b[0m\n",
      "\u001b[0;31mAssertionError\u001b[0m: "
     ]
    }
   ],
   "source": [
    "bidderNftBalance = get_balances(client, bidder.get_address())[asset_id]\n",
    "\n",
    "print(\"Carla's NFT balance:\", bidderNftBalance, \" for token ID: \", asset_id)\n",
    "\n",
    "assert bidderNftBalance == 1\n",
    "\n",
    "actualSellerBalances = get_balances(client, seller.get_address())\n",
    "print(\"Alice's balances after auction: \", actualSellerBalances, \" Algos\")\n",
    "\n",
    "actualBidderBalances = get_balances(client, bidder.get_address())\n",
    "print(\"Carla's balances after auction: \", actualBidderBalances, \" Algos\")\n",
    "# assert len(actualSellerBalances) == 2\n",
    "# seller should receive the bid amount, minus the txn fee\n",
    "assert actualSellerBalances[0] >= sellerAlgosBefore + bidPrice - 1_000\n",
    "assert actualSellerBalances[asset_id] == 0"
   ]
  },
  {
   "cell_type": "code",
   "execution_count": null,
   "metadata": {},
   "outputs": [],
   "source": [
    "storeAppState = get_app_global_state(client, 1676)\n",
    "print(storeAppState)\n",
    "#print(encoding.encode_address(storeAppState[b\"C\"]))"
   ]
  }
 ],
 "metadata": {
  "interpreter": {
   "hash": "d8d32039960e27bf02cc380478024df65258985d3f6246b5f3627ebac0bfeee0"
  },
  "kernelspec": {
   "display_name": "Python 3.8.10 64-bit ('venv': venv)",
   "language": "python",
   "name": "python3"
  },
  "language_info": {
   "codemirror_mode": {
    "name": "ipython",
    "version": 3
   },
   "file_extension": ".py",
   "mimetype": "text/x-python",
   "name": "python",
   "nbconvert_exporter": "python",
   "pygments_lexer": "ipython3",
   "version": "3.9.9"
  },
  "orig_nbformat": 4
 },
 "nbformat": 4,
 "nbformat_minor": 2
}

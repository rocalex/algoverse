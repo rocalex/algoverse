{
 "cells": [
  {
   "cell_type": "code",
   "execution_count": 1,
   "metadata": {},
   "outputs": [],
   "source": [
    "import os\n",
    "import dotenv\n",
    "\n",
    "from swap.utils import get_algod_client\n",
    "from swap.operations import create_validator_app, delete_validator_app, get_pool_logicsig\n",
    "from swap.account import Account"
   ]
  },
  {
   "cell_type": "code",
   "execution_count": 2,
   "metadata": {},
   "outputs": [
    {
     "name": "stdout",
     "output_type": "stream",
     "text": [
      "Creator address: FE6UTVPOXD7HCTEYTG27P7KEDZCQFX7ECJANPTI76CMJSKKDQRYFVB4NWM\n"
     ]
    }
   ],
   "source": [
    "dotenv.load_dotenv('.env')\n",
    "\n",
    "client = get_algod_client(os.environ.get('ALGOD_URL'), os.environ.get('ALGOD_TOKEN'))\n",
    "\n",
    "creator = Account(os.environ.get('CREATOR_PK'))\n",
    "\n",
    "print(f\"Creator address: {creator.get_address()}\")"
   ]
  },
  {
   "cell_type": "code",
   "execution_count": 3,
   "metadata": {},
   "outputs": [
    {
     "name": "stdout",
     "output_type": "stream",
     "text": [
      "Waiting for confirmation\n",
      "Transaction JMB3Q6CA6MH4QVUC7YAJMFBK2T3EPPLUGEEEFAV7UUOBP3HLSVCA confirmed in round 1978.\n",
      "App ID: 21\n"
     ]
    }
   ],
   "source": [
    "app_id = create_validator_app(client, creator)\n",
    "print(f\"App ID: {app_id}\")"
   ]
  },
  {
   "cell_type": "code",
   "execution_count": 4,
   "metadata": {},
   "outputs": [
    {
     "name": "stdout",
     "output_type": "stream",
     "text": [
      "FQ3W3IA4LKDFXC6JQCDVADL32B64BHEGVXJ5GAFU6WZYTBGHVUILME3CGM\n"
     ]
    }
   ],
   "source": [
    "logic_sig = get_pool_logicsig(client, app_id, 1, 0)\n",
    "print(logic_sig.address())"
   ]
  },
  {
   "cell_type": "code",
   "execution_count": 5,
   "metadata": {},
   "outputs": [
    {
     "name": "stdout",
     "output_type": "stream",
     "text": [
      "Waiting for confirmation\n",
      "Transaction EXZIXVRQCFWIEDJR3CT54NKNYV4WE75QJXSQ4CH4GGCGVX4FL73Q confirmed in round 1980.\n"
     ]
    }
   ],
   "source": [
    "delete_validator_app(client, creator, app_id)"
   ]
  }
 ],
 "metadata": {
  "interpreter": {
   "hash": "d8d32039960e27bf02cc380478024df65258985d3f6246b5f3627ebac0bfeee0"
  },
  "kernelspec": {
   "display_name": "Python 3.8.10 64-bit ('venv': venv)",
   "language": "python",
   "name": "python3"
  },
  "language_info": {
   "codemirror_mode": {
    "name": "ipython",
    "version": 3
   },
   "file_extension": ".py",
   "mimetype": "text/x-python",
   "name": "python",
   "nbconvert_exporter": "python",
   "pygments_lexer": "ipython3",
   "version": "3.8.10"
  },
  "orig_nbformat": 4
 },
 "nbformat": 4,
 "nbformat_minor": 2
}

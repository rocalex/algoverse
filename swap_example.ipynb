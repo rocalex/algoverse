{
 "cells": [
  {
   "cell_type": "code",
   "execution_count": 1,
   "metadata": {},
   "outputs": [],
   "source": [
    "import os\n",
    "import dotenv\n",
    "\n",
    "from utils import get_algod_client\n",
    "from account import Account"
   ]
  },
  {
   "cell_type": "code",
   "execution_count": 2,
   "metadata": {},
   "outputs": [
    {
     "name": "stdout",
     "output_type": "stream",
     "text": [
      "Creator's address: FE6UTVPOXD7HCTEYTG27P7KEDZCQFX7ECJANPTI76CMJSKKDQRYFVB4NWM\n",
      "Seller's address: GYZIWMWOUMBIUUI3QV3VRWQYVJ5QGMO7CUW4RNMCIZKGJULFOFQFF3MCGA\n",
      "Buyer's address: PAGKBMWTKVNLVPOT6JQLMMCEULFMOMGNU3JU6GFISDKTFMRAYOJPBARU5Y\n",
      "Validator App ID: 6\n",
      "Asset 1 ID: 4\n"
     ]
    }
   ],
   "source": [
    "dotenv.load_dotenv('.env')\n",
    "\n",
    "algod = get_algod_client(os.environ.get('ALGOD_URL'), os.environ.get('ALGOD_TOKEN'))\n",
    "\n",
    "creator = Account(os.environ.get('CREATOR_PK'))\n",
    "pooler = Account(os.environ.get(\"SELLER_PK\"))\n",
    "swapper = Account(os.environ.get(\"BUYER_PK\"))\n",
    "\n",
    "app_id = int(os.environ.get('VALIDATOR_APP_ID'))\n",
    "asset1_id = int(os.environ.get(\"ASSET1_ID\"))\n",
    "\n",
    "print(f\"Creator's address: {creator.get_address()}\")\n",
    "print(f\"Seller's address: {pooler.get_address()}\")\n",
    "print(f\"Buyer's address: {swapper.get_address()}\")\n",
    "print(f\"Validator App ID: {app_id}\")\n",
    "print(f\"Asset 1 ID: {asset1_id}\")"
   ]
  },
  {
   "cell_type": "code",
   "execution_count": 3,
   "metadata": {},
   "outputs": [],
   "source": [
    "from swap.operations.client import AlgoverseClient\n",
    "\n",
    "client = AlgoverseClient(algod, app_id, pooler.get_address())"
   ]
  },
  {
   "cell_type": "markdown",
   "metadata": {},
   "source": [
    "Check if the account is opted into Tinyman and optin if necessary"
   ]
  },
  {
   "cell_type": "code",
   "execution_count": 4,
   "metadata": {},
   "outputs": [],
   "source": [
    "if not client.is_opted_in():\n",
    "    print('Account not opted into app, opting in now..')\n",
    "    transaction_group = client.prepare_app_optin_transactions()\n",
    "    transaction_group.sign_with_private_key(pooler.get_address(), pooler.get_private_key())\n",
    "    result = client.submit(transaction_group, wait=True)"
   ]
  },
  {
   "cell_type": "markdown",
   "metadata": {},
   "source": [
    "Fetch our two assets of interest"
   ]
  },
  {
   "cell_type": "code",
   "execution_count": 5,
   "metadata": {},
   "outputs": [],
   "source": [
    "AVUSDC = client.fetch_asset(asset1_id)\n",
    "ALGO = client.fetch_asset(0)"
   ]
  },
  {
   "cell_type": "markdown",
   "metadata": {},
   "source": [
    "Fetch the pool we will work with"
   ]
  },
  {
   "cell_type": "code",
   "execution_count": 6,
   "metadata": {},
   "outputs": [],
   "source": [
    "pool = client.fetch_pool(AVUSDC, ALGO)"
   ]
  },
  {
   "cell_type": "code",
   "execution_count": 7,
   "metadata": {},
   "outputs": [],
   "source": [
    "# transaction_group = pool.prepare_bootstrap_transactions()\n",
    "# transaction_group.sign_with_private_key(pooler.get_address(), pooler.get_private_key())\n",
    "# result = client.submit(transaction_group, wait=True)"
   ]
  },
  {
   "cell_type": "markdown",
   "metadata": {},
   "source": [
    "Get a quote for supplying 1000.0 TinyUSDC"
   ]
  },
  {
   "cell_type": "code",
   "execution_count": 8,
   "metadata": {},
   "outputs": [
    {
     "name": "stdout",
     "output_type": "stream",
     "text": [
      "MintQuote(amounts_in={Asset(AVUSDC - 4): AVUSDC('1'), Asset(ALGO - 0): ALGO('1.5')}, liquidity_asset_amount=AVPOOL('1.147432671705804998055100441'), slippage=0.01)\n"
     ]
    }
   ],
   "source": [
    "quote = pool.fetch_mint_quote(AVUSDC(1_000_000), ALGO(1_500_000), slippage=0.01)\n",
    "\n",
    "print(quote)"
   ]
  },
  {
   "cell_type": "markdown",
   "metadata": {},
   "source": [
    "Check if we are happy with the quote.."
   ]
  },
  {
   "cell_type": "code",
   "execution_count": 9,
   "metadata": {},
   "outputs": [
    {
     "name": "stdout",
     "output_type": "stream",
     "text": [
      "Waiting for confirmation\n",
      "Transaction 2TDM5XSXTYKOAKY7FXHJEONBX74IYJK4PG5VL4O37AIQTKS47ZDA confirmed in round 12808.\n",
      "Excess: AVPOOL('0.121623')\n"
     ]
    }
   ],
   "source": [
    "if quote.amounts_in[ALGO] < 5_000_000:\n",
    "    # Prepare the mint transactions from the quote and sign them\n",
    "    transaction_group = pool.prepare_mint_transactions_from_quote(quote)\n",
    "    transaction_group.sign_with_private_key(pooler.get_address(), pooler.get_private_key())\n",
    "    result = client.submit(transaction_group, wait=True)\n",
    "\n",
    "    # Check if any excess liquidity asset remaining after the mint\n",
    "    excess = pool.fetch_excess_amounts()\n",
    "    if pool.liquidity_asset in excess:\n",
    "        amount = excess[pool.liquidity_asset]\n",
    "        print(f'Excess: {amount}')\n",
    "        if amount > 1_000_000:\n",
    "            transaction_group = pool.prepare_redeem_transactions(amount)\n",
    "            transaction_group.sign_with_private_key(pooler.get_address(), pooler.get_private_key())\n",
    "            result = client.submit(transaction_group, wait=True)"
   ]
  },
  {
   "cell_type": "code",
   "execution_count": 10,
   "metadata": {},
   "outputs": [
    {
     "name": "stdout",
     "output_type": "stream",
     "text": [
      "Pool Tokens: AVPOOL('13.264766')\n",
      "Assets: AVUSDC('10.28159982938664406538009644'), ALGO('17.34058170814945548772811890')\n",
      "Share of pool: 99.083%\n"
     ]
    }
   ],
   "source": [
    "info = pool.fetch_pool_position()\n",
    "share = info['share'] * 100\n",
    "print(f'Pool Tokens: {info[pool.liquidity_asset]}')\n",
    "print(f'Assets: {info[AVUSDC]}, {info[ALGO]}')\n",
    "print(f'Share of pool: {share:.3f}%')"
   ]
  },
  {
   "cell_type": "markdown",
   "metadata": {},
   "source": [
    "Get a quote for a swap of 1 ALGO to TINYUSDC with 1% slippage tolerance"
   ]
  },
  {
   "cell_type": "code",
   "execution_count": 11,
   "metadata": {},
   "outputs": [
    {
     "name": "stdout",
     "output_type": "stream",
     "text": [
      "SwapQuote(swap_type='fixed-input', amount_in=ALGO('1'), amount_out=AVUSDC('0.559281'), swap_fees=ALGO('0.003'), slippage=0.01)\n",
      "AVUSDC per ALGO: 0.559281\n",
      "AVUSDC per ALGO (worst case): 0.553689\n"
     ]
    }
   ],
   "source": [
    "quote = pool.fetch_fixed_input_swap_quote(ALGO(1_000_000), slippage=0.01)\n",
    "print(quote)\n",
    "print(f'AVUSDC per ALGO: {quote.price}')\n",
    "print(f'AVUSDC per ALGO (worst case): {quote.price_with_slippage}')"
   ]
  },
  {
   "cell_type": "code",
   "execution_count": 12,
   "metadata": {},
   "outputs": [],
   "source": [
    "client = AlgoverseClient(algod, app_id, swapper.get_address())"
   ]
  },
  {
   "cell_type": "markdown",
   "metadata": {},
   "source": [
    "Check if the account is opted into Tinyman and optin if necessary"
   ]
  },
  {
   "cell_type": "code",
   "execution_count": 13,
   "metadata": {},
   "outputs": [],
   "source": [
    "if(not client.is_opted_in()):\n",
    "    print('Account not opted into app, opting in now..')\n",
    "    transaction_group = client.prepare_app_optin_transactions()\n",
    "    transaction_group.sign_with_private_key(swapper.get_address(), swapper.get_private_key())\n",
    "    result = client.submit(transaction_group, wait=True)"
   ]
  },
  {
   "cell_type": "markdown",
   "metadata": {},
   "source": [
    "Fetch the pool we will work with"
   ]
  },
  {
   "cell_type": "code",
   "execution_count": 14,
   "metadata": {},
   "outputs": [],
   "source": [
    "pool = client.fetch_pool(AVUSDC, ALGO)"
   ]
  },
  {
   "cell_type": "code",
   "execution_count": 15,
   "metadata": {},
   "outputs": [
    {
     "name": "stdout",
     "output_type": "stream",
     "text": [
      "Swapping ALGO('1') to AVUSDC('0.553689')\n",
      "Waiting for confirmation\n",
      "Transaction VVNAFJMPFKAEPHZQA5V54CZVTL7JQVZRRTNSROVQRJGDV6H55OLA confirmed in round 12810.\n",
      "Excess: AVUSDC('0.01182')\n"
     ]
    }
   ],
   "source": [
    "print(f'Swapping {quote.amount_in} to {quote.amount_out_with_slippage}')\n",
    "if not client.asset_is_opted_in(AVUSDC.id, swapper.get_address()):\n",
    "    transaction_group = client.prepare_asset_optin_transactions(AVUSDC.id)\n",
    "    transaction_group.sign_with_private_key(swapper.get_address(), swapper.get_private_key())\n",
    "    result = client.submit(transaction_group, wait=True)\n",
    "# Prepare a transaction group\n",
    "transaction_group = pool.prepare_swap_transactions_from_quote(quote)\n",
    "# Sign the group with our key\n",
    "transaction_group.sign_with_private_key(swapper.get_address(), swapper.get_private_key())\n",
    "# Submit transactions to the network and wait for confirmation\n",
    "result = client.submit(transaction_group, wait=True)\n",
    "\n",
    "# Check if any excess remaining after the swap\n",
    "excess = pool.fetch_excess_amounts()\n",
    "if AVUSDC in excess:\n",
    "    amount = excess[AVUSDC]\n",
    "    print(f'Excess: {amount}')\n",
    "    # We might just let the excess accumulate rather than redeeming if its < 1 TinyUSDC\n",
    "    if amount > 1_000_000:\n",
    "        transaction_group = pool.prepare_redeem_transactions(amount)\n",
    "        transaction_group.sign_with_private_key(swapper.get_address(), swapper.get_private_key())\n",
    "        result = client.submit(transaction_group, wait=True)"
   ]
  }
 ],
 "metadata": {
  "interpreter": {
   "hash": "d8d32039960e27bf02cc380478024df65258985d3f6246b5f3627ebac0bfeee0"
  },
  "kernelspec": {
   "display_name": "Python 3.8.10 64-bit ('venv': venv)",
   "language": "python",
   "name": "python3"
  },
  "language_info": {
   "codemirror_mode": {
    "name": "ipython",
    "version": 3
   },
   "file_extension": ".py",
   "mimetype": "text/x-python",
   "name": "python",
   "nbconvert_exporter": "python",
   "pygments_lexer": "ipython3",
   "version": "3.8.10"
  },
  "orig_nbformat": 4
 },
 "nbformat": 4,
 "nbformat_minor": 2
}

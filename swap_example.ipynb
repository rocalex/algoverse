{
 "cells": [
  {
   "cell_type": "code",
   "execution_count": null,
   "metadata": {},
   "outputs": [],
   "source": [
    "import dotenv\n",
    "\n",
    "dotenv.load_dotenv('.env')"
   ]
  },
  {
   "cell_type": "code",
   "execution_count": null,
   "metadata": {},
   "outputs": [],
   "source": [
    "import os\n",
    "\n",
    "from utils import get_algod_client\n",
    "from account import Account\n",
    "\n",
    "client = get_algod_client(os.environ.get('ALGOD_URL'), os.environ.get(\"ALGOD_TOKEN\"))\n",
    "creator = Account(os.environ.get('CREATOR_PK'))\n",
    "pooler = Account(os.environ.get(\"SELLER_PK\"))\n",
    "swapper = Account(os.environ.get(\"BUYER_PK\"))"
   ]
  },
  {
   "cell_type": "code",
   "execution_count": null,
   "metadata": {},
   "outputs": [],
   "source": [
    "from swap.operations import SwapApp\n",
    "\n",
    "app = SwapApp(client, creator)"
   ]
  },
  {
   "cell_type": "code",
   "execution_count": null,
   "metadata": {},
   "outputs": [],
   "source": [
    "from algosdk.logic import get_application_address\n",
    "\n",
    "app.create_app()\n",
    "\n",
    "print(f\"App ID: {app.app_id}\")\n",
    "print(f\"App address: {get_application_address(app.app_id)}\")"
   ]
  },
  {
   "cell_type": "code",
   "execution_count": null,
   "metadata": {},
   "outputs": [],
   "source": [
    "app.opt_in_app(pooler)"
   ]
  },
  {
   "cell_type": "code",
   "execution_count": null,
   "metadata": {},
   "outputs": [],
   "source": [
    "pool_result, pool_address = app.create_pool(83, 0)\n",
    "print(f\"Pool Result: {pool_result}\")\n",
    "print(f\"Pool address: {pool_address}\")"
   ]
  },
  {
   "cell_type": "code",
   "execution_count": null,
   "metadata": {},
   "outputs": [],
   "source": [
    "app.bootstrap_pool(pooler, pool_address, pool_result, 83, 0)\n",
    "print(app.get_local_state(pool_address))"
   ]
  },
  {
   "cell_type": "code",
   "execution_count": null,
   "metadata": {},
   "outputs": [],
   "source": [
    "app.delete_app()"
   ]
  }
 ],
 "metadata": {
  "interpreter": {
   "hash": "d8d32039960e27bf02cc380478024df65258985d3f6246b5f3627ebac0bfeee0"
  },
  "kernelspec": {
   "display_name": "Python 3.8.10 64-bit ('venv': venv)",
   "language": "python",
   "name": "python3"
  },
  "language_info": {
   "codemirror_mode": {
    "name": "ipython",
    "version": 3
   },
   "file_extension": ".py",
   "mimetype": "text/x-python",
   "name": "python",
   "nbconvert_exporter": "python",
   "pygments_lexer": "ipython3",
   "version": "3.8.10"
  },
  "orig_nbformat": 4
 },
 "nbformat": 4,
 "nbformat_minor": 2
}

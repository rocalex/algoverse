{
 "cells": [
  {
   "cell_type": "code",
   "execution_count": 8,
   "metadata": {},
   "outputs": [],
   "source": [
    "import os\n",
    "\n",
    "import dotenv\n",
    "\n",
    "from time import time, sleep\n",
    "from algosdk.future import transaction\n",
    "from algosdk.logic import get_application_address\n",
    "\n",
    "from bidding.operations import *\n",
    "from store.operations import StoringPool\n",
    "from utils import *\n",
    "from account import Account"
   ]
  },
  {
   "cell_type": "code",
   "execution_count": 9,
   "metadata": {},
   "outputs": [],
   "source": [
    "dotenv.load_dotenv('.env')\n",
    "\n",
    "client = get_algod_client(os.environ.get('ALGOD_URL'), os.environ.get('ALGOD_TOKEN'))"
   ]
  },
  {
   "cell_type": "code",
   "execution_count": 10,
   "metadata": {},
   "outputs": [
    {
     "name": "stdout",
     "output_type": "stream",
     "text": [
      "storeAppID: 3310\n",
      "Creator address: 4TT75274EBUAF46CITUL6HQQ4C4D3GO7GEOVRZSQZ35VXSGRVHJ376GD64\n",
      "Bidder address: X7PMCPPRD2T35ZZRTPETYK53G5YWBKUNONVDY52WODP3N3YM7NGEF5HGWU\n",
      "Seller Address: CN4EQ6QXFCDLR2ATDTRJMMFGLXSUS5TMLGLO7FJDBQRQGFUXTUA4LBVEIA\n"
     ]
    }
   ],
   "source": [
    "creator = Account.from_mnemonic(os.environ.get('CREATOR_MN'))\n",
    "bidder = Account.from_mnemonic(os.environ.get('BUYER_MN'))\n",
    "seller = Account.from_mnemonic(os.environ.get('SELLER_MN'))\n",
    "\n",
    "storeAppID = int(os.environ.get(\"STORE_APP_ID\"))\n",
    "# close_bidding(client, 693, storeAppID, creator)\n",
    "print(f\"storeAppID: {storeAppID}\")\n",
    "\n",
    "print(f\"Creator address: {creator.get_address()}\")\n",
    "print(f\"Bidder address: {bidder.get_address()}\")\n",
    "print(f\"Seller Address: {seller.get_address()}\")"
   ]
  },
  {
   "cell_type": "code",
   "execution_count": 11,
   "metadata": {},
   "outputs": [
    {
     "name": "stdout",
     "output_type": "stream",
     "text": [
      "Waiting for confirmation...\n",
      "Transaction ZDEWBVZU77CIC6KB4QQOGLS2SUGEDG7KP6GMRZMYSJQOLKLIJZXA confirmed in round 156974.\n",
      "Waiting for confirmation...\n",
      "Transaction HAQUCJFCJJYWMSWH35BQO4FIKKKFGMPK3SCHYQVNJECKI3RN5RJA confirmed in round 156976.\n",
      "Waiting for confirmation...\n",
      "Transaction ELCT2PKHD5YBEZT3O57HYRBOB7YODJYPC5EVFFQXYP47DWMM42OA confirmed in round 156978.\n",
      "Waiting for confirmation...\n",
      "Transaction D64C5X62USA37BWSYFKY23SEE5DW3Q4HJBIVMFAV3M4R5XSQN4QA confirmed in round 156980.\n",
      "Waiting for confirmation...\n",
      "Transaction EPNQBKC5FOZ3WGCJ7VQJRFQAAZIPSEI5QWZJIVUOIK47R2EUR7NQ confirmed in round 156982.\n",
      "Waiting for confirmation...\n",
      "Transaction ZNWNRHY4UUX745IG2P44G3GYFPY3SUVUJX4ISYYT5LBUBFIW4NFQ confirmed in round 156984.\n",
      "Waiting for confirmation...\n",
      "Transaction GE2EC5DRYBFIGQYZQNZWUMOKMD3MYIJ3JX4RD7RN4V3PPFAADFSA confirmed in round 156986.\n",
      "Waiting for confirmation...\n",
      "Transaction DDLHYRBECJWQMNWP7FFY2OXLSQ4PMUIKBVIHLCQF425DPCRPBDJA confirmed in round 156988.\n",
      "Waiting for confirmation...\n",
      "Transaction 4QFL6R4FPZDSQVCIOBKAAUKWCZCYMSYMP5DKVCZC3QPGM2LEHCMQ confirmed in round 156990.\n",
      "Waiting for confirmation...\n",
      "Transaction YOJFEWAL3CKSPFWFABAJFLAV5OYVPWG6LDFEZH3SXYSZH3N6Z4QQ confirmed in round 156992.\n"
     ]
    }
   ],
   "source": [
    "deleteApps(client, [3969, 3970, 3972, 3978, 3984, 4008, 4056, 4059, 4062, 4064], creator)"
   ]
  },
  {
   "cell_type": "code",
   "execution_count": 12,
   "metadata": {},
   "outputs": [],
   "source": [
    "#n_pri_key, n_address = generate_rekeyed_algorand_keypair(client, bidder)\n",
    "# n_address = 'FOWXDCFQJKY3ISR7A5ZC2K5QEA5EYOJYCML55JWZVZYWWKQSUD6UFWIWKU'\n",
    "# set_rekeyed_address(bidder.get_address(), n_address, 1)"
   ]
  },
  {
   "cell_type": "code",
   "execution_count": 13,
   "metadata": {},
   "outputs": [
    {
     "name": "stdout",
     "output_type": "stream",
     "text": [
      "The token id is: 2989\n"
     ]
    }
   ],
   "source": [
    "# def create_dummy_asset(sender: Account, total: int, decimals: int, asset_name: str, unit_name: str):\n",
    "#     txn = transaction.AssetConfigTxn(\n",
    "#         sender=sender.get_address(),\n",
    "#         sp=client.suggested_params(),\n",
    "#         total=total,\n",
    "#         decimals=decimals,\n",
    "#         asset_name=asset_name,\n",
    "#         unit_name=unit_name,\n",
    "#         default_frozen=False,\n",
    "#         strict_empty_address_check=False,\n",
    "#     )\n",
    "#     signed_txn = txn.sign(sender.get_private_key())\n",
    "\n",
    "#     client.send_transaction(signed_txn)\n",
    "\n",
    "#     response = wait_for_confirmation(client, signed_txn.get_txid())\n",
    "#     assert response.asset_index is not None and response.asset_index > 0\n",
    "#     return response.asset_index\n",
    "\n",
    "# asset_id = create_dummy_asset(seller, 1, 0, \"example token\", \"AVT\")\n",
    "\n",
    "asset_id = int(os.environ.get(\"TOKEN_ID\"))\n",
    "print(f\"The token id is: {asset_id}\")"
   ]
  },
  {
   "cell_type": "code",
   "execution_count": 14,
   "metadata": {},
   "outputs": [],
   "source": [
    "start_time = int(time()) + 10\n",
    "end_time = start_time + 10\n",
    "price = 1_000_000  # 1 Algo"
   ]
  },
  {
   "cell_type": "markdown",
   "metadata": {},
   "source": [
    "\"Alice is creating auction smart contract that lasts 30 seconds to auction off token...\""
   ]
  },
  {
   "cell_type": "code",
   "execution_count": 15,
   "metadata": {},
   "outputs": [
    {
     "name": "stdout",
     "output_type": "stream",
     "text": [
      "Store App Address: ZSKDDVBDYT3U6TVCHVNGHUS74IAFMQANNO353SE6GHQMAXC3LTX5RQPEBY\n"
     ]
    }
   ],
   "source": [
    "storeApp = StoringPool(client=client, creator=creator)\n",
    "# storeApp.create_app()\n",
    "# storeAppID = storeApp.app_id\n",
    "\n",
    "storeAppID = int(os.environ.get(\"STORE_APP_ID\"))\n",
    "storeApp.app_id = storeAppID\n",
    "# print(f\"Store App ID: {storeAppID}\")\n",
    "\n",
    "storeAppAddress = get_application_address(storeAppID)\n",
    "print(f\"Store App Address: {storeAppAddress}\")\n"
   ]
  },
  {
   "cell_type": "code",
   "execution_count": 16,
   "metadata": {},
   "outputs": [
    {
     "name": "stdout",
     "output_type": "stream",
     "text": [
      "Waiting for confirmation...\n",
      "Transaction ML73A6T35V5MLCNHDTL2KAZ3M2QDSMQVPFZWON6V2V77B57SJXIQ confirmed in round 156994.\n",
      "Waiting for confirmation...\n",
      "Transaction ONUMVUHZOOST6MSABEOFFK3IFFCMQCXZLNLNIXPJZSYHYT3PFZ2Q confirmed in round 156996.\n",
      "App ID: 4076\n",
      "App Address: KDSB5G5KTXIETW32WBS5AXML2FZINSSP6CWXWFEO47PLA66RILLLBGINFA\n"
     ]
    }
   ],
   "source": [
    "\n",
    "appID = create_bidding_app(\n",
    "    client=client,\n",
    "    creator=creator,\n",
    "    store_app_id=storeAppID\n",
    ")\n",
    "print(f\"App ID: {appID}\")\n",
    "print(f\"App Address: {get_application_address(appID)}\")"
   ]
  },
  {
   "cell_type": "markdown",
   "metadata": {},
   "source": [
    "Alice is setting up and funding token auction..."
   ]
  },
  {
   "cell_type": "code",
   "execution_count": 18,
   "metadata": {},
   "outputs": [
    {
     "name": "stdout",
     "output_type": "stream",
     "text": [
      "Alice's algo balance:  20077168838585  algos\n"
     ]
    }
   ],
   "source": [
    "sellerAlgosBefore = get_balances(client, seller.get_address())[0]\n",
    "\n",
    "print(\"Alice's algo balance: \", sellerAlgosBefore, \" algos\")"
   ]
  },
  {
   "cell_type": "code",
   "execution_count": 19,
   "metadata": {},
   "outputs": [
    {
     "name": "stdout",
     "output_type": "stream",
     "text": [
      "The smart contract now holds the following: {0: 100000}\n"
     ]
    }
   ],
   "source": [
    "sleep(5)\n",
    "actualAppBalancesBefore = get_balances(client, get_application_address(appID))\n",
    "print(\"The smart contract now holds the following:\", actualAppBalancesBefore)"
   ]
  },
  {
   "cell_type": "code",
   "execution_count": 20,
   "metadata": {},
   "outputs": [
    {
     "name": "stdout",
     "output_type": "stream",
     "text": [
      "Carla wants to bid on token, her algo balance:  10036489901092  algos\n",
      "Carla is placing bid for:  1000000  algos\n"
     ]
    }
   ],
   "source": [
    "bidPrice = price\n",
    "bidderAlgosBefore = get_balances(client, bidder.get_address())[0]\n",
    "print(\"Carla wants to bid on token, her algo balance: \", bidderAlgosBefore, \" algos\")\n",
    "print(\"Carla is placing bid for: \", bidPrice, \" algos\")"
   ]
  },
  {
   "cell_type": "code",
   "execution_count": 21,
   "metadata": {},
   "outputs": [
    {
     "name": "stdout",
     "output_type": "stream",
     "text": [
      "store_app_id 3310\n",
      "new address: XYQFYWKL3WZZRDCAUPPGNNV7B55V3GXSYXBRANSR5S3GRWSXGBKZJYDV2Q\n",
      "new private_key: mfA6NlWbJUigbDrLzVwM1zqULr9IUFpuHr88cZcLabO+IFxZS92zmIxAo95mtr8Pe12a8sXDEDZR7LZo2lcwVQ==\n",
      "new passphrase: basket type only relief enroll bamboo govern denial ride industry mail pulp chronic slight echo expect slender keen garbage because confirm drill opera absent silent\n",
      "Waiting for confirmation...\n",
      "Transaction PMSBMHSMQTSZYHPUOGDJ3MIHM6QZAO2Q6YN3RLQSCIHOILSGS4GQ confirmed in round 157001.\n",
      "Waiting for confirmation...\n",
      "Transaction D7CNGBW3ORFWGCVXF3YWVJMF5Z4EDGSZHZ3NXA5DY3BCDQYFA42A confirmed in round 157003.\n",
      "Waiting for confirmation...\n",
      "Transaction GCGF4AWU7AYFBKIMHFLIB3357UBXVCI2M4MLM7HEERXD6RFFBSUA confirmed in round 157005.\n",
      "Waiting for confirmation...\n",
      "Transaction SGJZJHCV5WV7SAIPHCNB4WLNCRUIME5DTTJGWA6OEITWYJ3N6T2A confirmed in round 157007.\n",
      "Carla bid 2989\n"
     ]
    }
   ],
   "source": [
    "bid_index = place_bid(client=client, app_id=appID, token_id=asset_id, bidder=bidder, bid_amount=10, bid_price=bidPrice, bid_index=\"\")\n",
    "\n",
    "print(\"Carla bid\", asset_id)"
   ]
  },
  {
   "cell_type": "code",
   "execution_count": null,
   "metadata": {},
   "outputs": [],
   "source": [
    "actualAppBalancesBefore = get_balances(client, get_application_address(appID))\n",
    "print(\"The smart contract now holds the following:\", actualAppBalancesBefore)"
   ]
  },
  {
   "cell_type": "code",
   "execution_count": null,
   "metadata": {},
   "outputs": [],
   "source": [
    "# account_info = client.account_info(bidder.get_address())  \n",
    "# print(account_info.get('apps-local-state', []))\n",
    "# print(is_opted_in_app(client, appID, bidder.get_address()))\n",
    "\n",
    "# cancel_bid(client, appID, bidder, bid_index)\n",
    "\n",
    "# print(\"Carla canceled bid\", asset_id)"
   ]
  },
  {
   "cell_type": "code",
   "execution_count": null,
   "metadata": {},
   "outputs": [],
   "source": [
    "# bid_index = place_bid(client=client, app_id=appID, bidder=bidder, token_id=asset_id, bid_amount=10, bid_price=bidPrice, bid_index=\"\")\n",
    "# print(bid_index)\n",
    "# bid_index = place_bid(client=client, app_id=appID, bidder=bidder, token_id=asset_id, bid_amount=20, bid_price=bidPrice+1_000_000, bid_index=bid_index)\n",
    "# print(bid_index)\n",
    "# bid_index = place_bid(client=client, app_id=appID, bidder=bidder, token_id=asset_id, bid_amount=15, bid_price=bidPrice+500_000, bid_index=bid_index)\n",
    "# print(bid_index)\n"
   ]
  },
  {
   "cell_type": "code",
   "execution_count": null,
   "metadata": {},
   "outputs": [],
   "source": [
    "bidderAppLocalState = get_app_local_state(client, appID, bid_index)\n",
    "print(bidderAppLocalState)"
   ]
  },
  {
   "cell_type": "code",
   "execution_count": null,
   "metadata": {},
   "outputs": [],
   "source": [
    "place_accept(client, creator, appID, seller, bidder.get_address(), bid_index)"
   ]
  },
  {
   "cell_type": "markdown",
   "metadata": {},
   "source": [
    "Alice is closing out the bidding contract...."
   ]
  },
  {
   "cell_type": "code",
   "execution_count": null,
   "metadata": {},
   "outputs": [],
   "source": [
    "sleep(5)\n",
    "\n",
    "close_bidding(client, appID, creator, [asset_id])"
   ]
  },
  {
   "cell_type": "code",
   "execution_count": null,
   "metadata": {},
   "outputs": [],
   "source": [
    "actualAppBalances = get_balances(client, get_application_address(appID))\n",
    "expectedAppBalances = {0: 0}\n",
    "print(\"The smart contract now holds the following:\", actualAppBalances)\n",
    "\n",
    "#assert actualAppBalances == expectedAppBalances"
   ]
  },
  {
   "cell_type": "code",
   "execution_count": null,
   "metadata": {},
   "outputs": [],
   "source": [
    "bidderNftBalance = get_balances(client, bidder.get_address())[asset_id]\n",
    "\n",
    "print(\"Carla's NFT balance:\", bidderNftBalance, \" for token ID: \", asset_id)\n",
    "\n",
    "assert bidderNftBalance == 1\n",
    "\n",
    "actualSellerBalances = get_balances(client, seller.get_address())\n",
    "print(\"Alice's balances after auction: \", actualSellerBalances, \" Algos\")\n",
    "\n",
    "actualBidderBalances = get_balances(client, bidder.get_address())\n",
    "print(\"Carla's balances after auction: \", actualBidderBalances, \" Algos\")\n",
    "# assert len(actualSellerBalances) == 2\n",
    "# seller should receive the bid amount, minus the txn fee\n",
    "assert actualSellerBalances[0] >= sellerAlgosBefore + bidPrice - 1_000\n",
    "assert actualSellerBalances[asset_id] == 0"
   ]
  },
  {
   "cell_type": "code",
   "execution_count": null,
   "metadata": {},
   "outputs": [],
   "source": [
    "storeAppState = get_app_global_state(client, 1676)\n",
    "print(storeAppState)\n",
    "#print(encoding.encode_address(storeAppState[b\"C\"]))"
   ]
  }
 ],
 "metadata": {
  "interpreter": {
   "hash": "d8d32039960e27bf02cc380478024df65258985d3f6246b5f3627ebac0bfeee0"
  },
  "kernelspec": {
   "display_name": "Python 3.8.10 64-bit ('venv': venv)",
   "language": "python",
   "name": "python3"
  },
  "language_info": {
   "codemirror_mode": {
    "name": "ipython",
    "version": 3
   },
   "file_extension": ".py",
   "mimetype": "text/x-python",
   "name": "python",
   "nbconvert_exporter": "python",
   "pygments_lexer": "ipython3",
   "version": "3.9.9"
  },
  "orig_nbformat": 4
 },
 "nbformat": 4,
 "nbformat_minor": 2
}

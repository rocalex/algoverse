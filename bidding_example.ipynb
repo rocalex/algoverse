{
 "cells": [
  {
   "cell_type": "code",
   "execution_count": 1,
   "metadata": {},
   "outputs": [
    {
     "name": "stdout",
     "output_type": "stream",
     "text": [
      "storeAppID: 4734\n",
      "Creator address: NBIIRJVCVD7ZWZGKCPLVZ5Z6QFUCXDE2GR4KQR5URM2ZBPV7V4VKPJFRZI\n",
      "Bidder address: X7PMCPPRD2T35ZZRTPETYK53G5YWBKUNONVDY52WODP3N3YM7NGEF5HGWU\n",
      "Seller Address: CN4EQ6QXFCDLR2ATDTRJMMFGLXSUS5TMLGLO7FJDBQRQGFUXTUA4LBVEIA\n"
     ]
    }
   ],
   "source": [
    "import os\n",
    "\n",
    "import dotenv\n",
    "\n",
    "from time import time, sleep\n",
    "from algosdk.future import transaction\n",
    "from algosdk.logic import get_application_address\n",
    "\n",
    "from bidding.operations import *\n",
    "from store.operations import *\n",
    "from utils import *\n",
    "from account import Account\n",
    "\n",
    "dotenv.load_dotenv('.env')\n",
    "client = get_algod_client(os.environ.get('ALGOD_URL'), os.environ.get('ALGOD_TOKEN'))\n",
    "\n",
    "creator = Account.from_mnemonic(os.environ.get('CREATOR_MN'))\n",
    "bidder = Account.from_mnemonic(os.environ.get('BUYER_MN'))\n",
    "seller = Account.from_mnemonic(os.environ.get('SELLER_MN'))\n",
    "\n",
    "staking_address = Account.from_mnemonic(os.environ.get(\"CREATOR_MN\"))\n",
    "team_wallet_address = Account.from_mnemonic(os.environ.get(\"TEAM_MN\"))\n",
    "\n",
    "storeAppID = int(os.environ.get(\"STORE_APP_ID\"))\n",
    "# close_bidding(client, 693, storeAppID, creator)\n",
    "print(f\"storeAppID: {storeAppID}\")\n",
    "\n",
    "print(f\"Creator address: {creator.get_address()}\")\n",
    "print(f\"Bidder address: {bidder.get_address()}\")\n",
    "print(f\"Seller Address: {seller.get_address()}\")"
   ]
  },
  {
   "cell_type": "code",
   "execution_count": 2,
   "metadata": {},
   "outputs": [],
   "source": [
    "deleteApps(client, [], creator)"
   ]
  },
  {
   "cell_type": "code",
   "execution_count": 3,
   "metadata": {},
   "outputs": [],
   "source": [
    "#n_pri_key, n_address = generate_rekeyed_algorand_keypair(client, bidder)\n",
    "# n_address = 'FOWXDCFQJKY3ISR7A5ZC2K5QEA5EYOJYCML55JWZVZYWWKQSUD6UFWIWKU'\n",
    "# set_rekeyed_address(bidder.get_address(), n_address, 1)"
   ]
  },
  {
   "cell_type": "code",
   "execution_count": 4,
   "metadata": {},
   "outputs": [
    {
     "name": "stdout",
     "output_type": "stream",
     "text": [
      "The token id is: 2989\n"
     ]
    }
   ],
   "source": [
    "# def create_dummy_asset(sender: Account, total: int, decimals: int, asset_name: str, unit_name: str):\n",
    "#     txn = transaction.AssetConfigTxn(\n",
    "#         sender=sender.get_address(),\n",
    "#         sp=client.suggested_params(),\n",
    "#         total=total,\n",
    "#         decimals=decimals,\n",
    "#         asset_name=asset_name,\n",
    "#         unit_name=unit_name,\n",
    "#         default_frozen=False,\n",
    "#         strict_empty_address_check=False,\n",
    "#     )\n",
    "#     signed_txn = txn.sign(sender.get_private_key())\n",
    "\n",
    "#     client.send_transaction(signed_txn)\n",
    "\n",
    "#     response = wait_for_confirmation(client, signed_txn.get_txid())\n",
    "#     assert response.asset_index is not None and response.asset_index > 0\n",
    "#     return response.asset_index\n",
    "\n",
    "# asset_id = create_dummy_asset(seller, 1, 0, \"example token\", \"AVT\")\n",
    "\n",
    "asset_id = int(os.environ.get(\"TOKEN_ID\"))\n",
    "print(f\"The token id is: {asset_id}\")"
   ]
  },
  {
   "cell_type": "code",
   "execution_count": 6,
   "metadata": {},
   "outputs": [
    {
     "name": "stdout",
     "output_type": "stream",
     "text": [
      "Waiting for confirmation...\n",
      "Transaction DFYPUKAUEDHWFYI6QE6Z5N4LEUHIP5SFTQKHB3ANKYMLFSVGAOSA confirmed in round 203869.\n",
      "Store App ID: 4892\n",
      "Store App address: JZY2YMRQCDFP7J6HNUI3FD6QP47MV5CJXP4BIC2YZTGXY7DXZNPDVH2YNQ\n",
      "Waiting for confirmation...\n",
      "Transaction URWEMTP6YDPI26WSEC7OHW6HGNCUAQIEE2HBCMWWPLP5432YMKFQ confirmed in round 203871.\n",
      "Store App ID: 4892\n",
      "Store App Address: JZY2YMRQCDFP7J6HNUI3FD6QP47MV5CJXP4BIC2YZTGXY7DXZNPDVH2YNQ\n"
     ]
    }
   ],
   "source": [
    "storeAppID = int(os.environ.get(\"STORE_APP_ID\"))\n",
    "storeAppID = create_store_app(client, creator)\n",
    "print(f\"Store App ID: {storeAppID}\")\n",
    "\n",
    "storeAppAddress = get_application_address(storeAppID)\n",
    "print(f\"Store App Address: {storeAppAddress}\")\n"
   ]
  },
  {
   "cell_type": "code",
   "execution_count": 7,
   "metadata": {},
   "outputs": [
    {
     "name": "stdout",
     "output_type": "stream",
     "text": [
      "Waiting for confirmation...\n",
      "Transaction 7XSM2IJTUKDZ6PAH27L2JBNFQ2PU6JDUATTB22WBTSUC3M7ASBZA confirmed in round 204147.\n",
      "Waiting for confirmation...\n",
      "Transaction GWRRFDNG6NJYF2Y3TTZRKHM6X5J7BF5GULHPZUXUXQ6NQDJ5L4BA confirmed in round 204149.\n",
      "App ID: 4894\n",
      "App Address: 2OFI3Z2RDC3YID7H6CJFL4FVR2T2DV43URA2GR54IR3FEC67Y5CE33EN7U\n"
     ]
    }
   ],
   "source": [
    "\n",
    "appID = create_bidding_app(\n",
    "    client=client,\n",
    "    creator=creator,\n",
    "    store_app_id=storeAppID,\n",
    "    staking_address=staking_address.get_address(),\n",
    "    team_wallet_address=team_wallet_address.get_address()\n",
    ")\n",
    "print(f\"App ID: {appID}\")\n",
    "print(f\"App Address: {get_application_address(appID)}\")"
   ]
  },
  {
   "cell_type": "code",
   "execution_count": 8,
   "metadata": {},
   "outputs": [
    {
     "name": "stdout",
     "output_type": "stream",
     "text": [
      "Waiting for confirmation...\n",
      "Transaction H7T6JLHP7423IAILRLY2TFNVTIKXAIJWUGXHJUOM5DZG3QPXKOEA confirmed in round 204971.\n"
     ]
    }
   ],
   "source": [
    "set_up(client=client, creator=creator, app_id=storeAppID, trade_app_id=appID, bid_app_id=appID, auction_app_id=appID, distribution_app_id=appID)"
   ]
  },
  {
   "cell_type": "markdown",
   "metadata": {},
   "source": [
    "Alice is setting up and funding token auction..."
   ]
  },
  {
   "cell_type": "code",
   "execution_count": 9,
   "metadata": {},
   "outputs": [
    {
     "name": "stdout",
     "output_type": "stream",
     "text": [
      "Alice's algo balance:  20101008203235  algos\n"
     ]
    }
   ],
   "source": [
    "sellerAlgosBefore = get_balances(client, seller.get_address())[0]\n",
    "print(\"Alice's algo balance: \", sellerAlgosBefore, \" algos\")"
   ]
  },
  {
   "cell_type": "code",
   "execution_count": 10,
   "metadata": {},
   "outputs": [
    {
     "name": "stdout",
     "output_type": "stream",
     "text": [
      "The smart contract now holds the following: {0: 100000}\n"
     ]
    }
   ],
   "source": [
    "actualAppBalancesBefore = get_balances(client, get_application_address(appID))\n",
    "print(\"The smart contract now holds the following:\", actualAppBalancesBefore)"
   ]
  },
  {
   "cell_type": "code",
   "execution_count": 11,
   "metadata": {},
   "outputs": [
    {
     "name": "stdout",
     "output_type": "stream",
     "text": [
      "Carla wants to bid on token, her algo balance:  10048110297995  algos\n",
      "Carla is placing bid for:  1000000  algos\n"
     ]
    }
   ],
   "source": [
    "bidPrice = 1000000\n",
    "bidderAlgosBefore = get_balances(client, bidder.get_address())[0]\n",
    "print(\"Carla wants to bid on token, her algo balance: \", bidderAlgosBefore, \" algos\")\n",
    "print(\"Carla is placing bid for: \", bidPrice, \" algos\")"
   ]
  },
  {
   "cell_type": "code",
   "execution_count": 12,
   "metadata": {},
   "outputs": [
    {
     "name": "stdout",
     "output_type": "stream",
     "text": [
      "store_app_id 4892\n",
      "bidder X7PMCPPRD2T35ZZRTPETYK53G5YWBKUNONVDY52WODP3N3YM7NGEF5HGWU opt in app 4892\n",
      "Waiting for confirmation...\n",
      "Transaction FFMPK4IXZ7G4AM2KYQKQ2VMOY3MGLFKHXONGAJEAS2U4OKPYTR5A confirmed in round 204977.\n",
      "new address: EEF7FOXCRK475D2VLVSC7Q4QUUXQYFYJDFT5RLOYGDWWOO2CTLL2Q3KQLY\n",
      "new private_key: UudriIVyEcl6DRGR6niah0MHcXe0tzUSkl83Gc0f6EshC/K64oq5/o9VXWQvw5ClLwwXCRln2K3YMO1nO0Ka1w==\n",
      "new passphrase: tumble question service choose carry rather hint baby fall together snake debris attend sword photo response effort embark quit nature olive among gap able faculty\n",
      "Waiting for confirmation...\n",
      "Transaction L5BDX4EMHHD4BJMOQYHJKCVBYYNYMNJKXWZAAJSD4AT76OROV3BQ confirmed in round 204979.\n",
      "Waiting for confirmation...\n",
      "Transaction 2KJKZUKZPRSNPTSDHAQHBTKAAKE42FJD6LF53HHRUZK4C7SK6QDA confirmed in round 204981.\n",
      "Waiting for confirmation...\n",
      "Transaction EIDLJ55HZ6XLB7ERHB5KIRNSE7R2OSMPJLVNARYDYSKTSVKUKXRQ confirmed in round 204983.\n",
      "Waiting for confirmation...\n",
      "Transaction P47NLHNEFE55WZBENS6WPTHLV34R7CNCQ5QCU5BVZCULVKDRWCPQ confirmed in round 204985.\n",
      "Carla bid 2989\n"
     ]
    }
   ],
   "source": [
    "bid_index = place_bid(client=client, app_id=appID, token_id=asset_id, bidder=bidder, bid_amount=10, bid_price=bidPrice, bid_index=\"\")\n",
    "print(\"Carla bid\", asset_id)"
   ]
  },
  {
   "cell_type": "code",
   "execution_count": 13,
   "metadata": {},
   "outputs": [
    {
     "name": "stdout",
     "output_type": "stream",
     "text": [
      "The smart contract now holds the following: {0: 1104000}\n"
     ]
    }
   ],
   "source": [
    "actualAppBalancesBefore = get_balances(client, get_application_address(appID))\n",
    "print(\"The smart contract now holds the following:\", actualAppBalancesBefore)"
   ]
  },
  {
   "cell_type": "code",
   "execution_count": null,
   "metadata": {},
   "outputs": [],
   "source": [
    "# account_info = client.account_info(bidder.get_address())  \n",
    "# print(account_info.get('apps-local-state', []))\n",
    "# print(is_opted_in_app(client, appID, bidder.get_address()))\n",
    "\n",
    "# cancel_bid(client, appID, bidder, bid_index)\n",
    "\n",
    "# print(\"Carla canceled bid\", asset_id)"
   ]
  },
  {
   "cell_type": "code",
   "execution_count": null,
   "metadata": {},
   "outputs": [],
   "source": [
    "# bid_index = place_bid(client=client, app_id=appID, bidder=bidder, token_id=asset_id, bid_amount=10, bid_price=bidPrice, bid_index=\"\")\n",
    "# print(bid_index)\n",
    "# bid_index = place_bid(client=client, app_id=appID, bidder=bidder, token_id=asset_id, bid_amount=20, bid_price=bidPrice+1_000_000, bid_index=bid_index)\n",
    "# print(bid_index)\n",
    "# bid_index = place_bid(client=client, app_id=appID, bidder=bidder, token_id=asset_id, bid_amount=15, bid_price=bidPrice+500_000, bid_index=bid_index)\n",
    "# print(bid_index)\n"
   ]
  },
  {
   "cell_type": "code",
   "execution_count": 14,
   "metadata": {},
   "outputs": [
    {
     "name": "stdout",
     "output_type": "stream",
     "text": [
      "{b'B_ADDR': b'\\xbf\\xde\\xc1=\\xf1\\x1e\\xa7\\xbe\\xe71\\x9b\\xc9<+\\xbb7q`\\xaa\\x8dsj<wVp\\xdf\\xb6\\xef\\x0c\\xfbL', b'TP': 1000000, b'TA': 10, b'TK_ID': 2989}\n"
     ]
    }
   ],
   "source": [
    "bidderAppLocalState = get_app_local_state(client, appID, bid_index)\n",
    "print(bidderAppLocalState)"
   ]
  },
  {
   "cell_type": "code",
   "execution_count": 15,
   "metadata": {},
   "outputs": [
    {
     "name": "stdout",
     "output_type": "stream",
     "text": [
      "token_amount 10\n",
      "price 1000000\n",
      "Waiting for confirmation...\n",
      "Transaction CCZQQIJWLPTU53H6P6VNDL4Q5TCIRZ7IRB6KM6RNLBAHS3R5WZCA confirmed in round 204991.\n",
      "Waiting for confirmation...\n",
      "Transaction 7S35ARTL5AJI4MJB3LIYAW36XXPK6ASGWI2IKZWG2UKERXZKIYEQ confirmed in round 204993.\n",
      "Waiting for confirmation...\n",
      "Transaction S3T34ZRT2P47WAZXNFQ2G6L4472MM6QXPCXPEUKLHQDLTVJKB7IA confirmed in round 204995.\n"
     ]
    },
    {
     "data": {
      "text/plain": [
       "True"
      ]
     },
     "execution_count": 15,
     "metadata": {},
     "output_type": "execute_result"
    }
   ],
   "source": [
    "accept_bid(client=client, app_id=appID, seller=seller, bidder=bidder.get_address(), bid_index=bid_index)"
   ]
  },
  {
   "cell_type": "markdown",
   "metadata": {},
   "source": [
    "Alice is closing out the bidding contract...."
   ]
  },
  {
   "cell_type": "code",
   "execution_count": 16,
   "metadata": {},
   "outputs": [
    {
     "name": "stdout",
     "output_type": "stream",
     "text": [
      "b'assets' [2989]\n",
      "b'accounts' ['NBIIRJVCVD7ZWZGKCPLVZ5Z6QFUCXDE2GR4KQR5URM2ZBPV7V4VKPJFRZI', 'UCAX3M5HS7PWWLB6HDCM2O7JE4HC3RGBPNWFRP4SYU62ZS5NSS2GFOKIOU']\n",
      "Waiting for confirmation...\n",
      "Transaction LQA7G7OFQ5PBG3FMPOYQK5NNS7AXXKCX5H25XQXXA5WNNRLRSPBA confirmed in round 205000.\n"
     ]
    }
   ],
   "source": [
    "sleep(5)\n",
    "\n",
    "close_bidding(client, appID, creator, [asset_id])"
   ]
  },
  {
   "cell_type": "code",
   "execution_count": 17,
   "metadata": {},
   "outputs": [
    {
     "name": "stdout",
     "output_type": "stream",
     "text": [
      "The smart contract now holds the following: {0: 200000, 2989: 0}\n"
     ]
    }
   ],
   "source": [
    "actualAppBalances = get_balances(client, get_application_address(4695))\n",
    "expectedAppBalances = {0: 0}\n",
    "print(\"The smart contract now holds the following:\", actualAppBalances)\n",
    "#assert actualAppBalances == expectedAppBalances"
   ]
  },
  {
   "cell_type": "code",
   "execution_count": 18,
   "metadata": {},
   "outputs": [
    {
     "name": "stdout",
     "output_type": "stream",
     "text": [
      "Carla's NFT balance: 50000000040050  for token ID:  2989\n",
      "Alice's balances after auction:  {0: 20101029165394, 370: 0, 436: 0, 499: 0, 2989: 49999999857750, 3558: 1, 3559: 80000, 4013: 1, 4023: 1, 4042: 1, 4185: 1}  Algos\n",
      "Carla's balances after auction:  {0: 10048119000603, 499: 155, 2989: 50000000040050, 3559: 49999999920000, 3992: 0, 4002: 10, 4031: 10, 4050: 10}  Algos\n"
     ]
    }
   ],
   "source": [
    "bidderNftBalance = get_balances(client, bidder.get_address())[asset_id]\n",
    "print(\"Carla's NFT balance:\", bidderNftBalance, \" for token ID: \", asset_id)\n",
    "\n",
    "actualSellerBalances = get_balances(client, seller.get_address())\n",
    "print(\"Alice's balances after auction: \", actualSellerBalances, \" Algos\")\n",
    "\n",
    "actualBidderBalances = get_balances(client, bidder.get_address())\n",
    "print(\"Carla's balances after auction: \", actualBidderBalances, \" Algos\")\n",
    "# assert len(actualSellerBalances) == 2\n",
    "# seller should receive the bid amount, minus the txn fee"
   ]
  },
  {
   "cell_type": "code",
   "execution_count": 23,
   "metadata": {},
   "outputs": [
    {
     "name": "stdout",
     "output_type": "stream",
     "text": [
      "{b'DA_ADDR': 4894, b'AA_ADDR': 4894, b'BA_ADDR': 4894, b'TA_ADDR': 4894, b'TBA': 1000000, b'TSA': 1000000}\n"
     ]
    }
   ],
   "source": [
    "storeAppState = get_app_global_state(client, storeAppID)\n",
    "print(storeAppState)\n",
    "#print(encoding.encode_address(storeAppState[b\"C\"]))"
   ]
  }
 ],
 "metadata": {
  "interpreter": {
   "hash": "d8d32039960e27bf02cc380478024df65258985d3f6246b5f3627ebac0bfeee0"
  },
  "kernelspec": {
   "display_name": "Python 3.8.10 64-bit ('venv': venv)",
   "language": "python",
   "name": "python3"
  },
  "language_info": {
   "codemirror_mode": {
    "name": "ipython",
    "version": 3
   },
   "file_extension": ".py",
   "mimetype": "text/x-python",
   "name": "python",
   "nbconvert_exporter": "python",
   "pygments_lexer": "ipython3",
   "version": "3.9.10"
  },
  "orig_nbformat": 4
 },
 "nbformat": 4,
 "nbformat_minor": 2
}

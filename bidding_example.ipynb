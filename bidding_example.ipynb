{
 "cells": [
  {
   "cell_type": "code",
   "execution_count": 1,
   "metadata": {},
   "outputs": [],
   "source": [
    "import os\n",
    "\n",
    "import dotenv\n",
    "\n",
    "from time import time, sleep\n",
    "from algosdk.future import transaction\n",
    "from algosdk.logic import get_application_address\n",
    "\n",
    "from bidding.operations import create_bidding_app, setup_bidding_app, place_bid, cancel_bid, place_accept, close_bidding\n",
    "from store.operations import StoringPool\n",
    "from utils import *\n",
    "from account import Account"
   ]
  },
  {
   "cell_type": "code",
   "execution_count": 2,
   "metadata": {},
   "outputs": [],
   "source": [
    "dotenv.load_dotenv('.env')\n",
    "\n",
    "client = get_algod_client(os.environ.get('ALGOD_URL'), os.environ.get('ALGOD_TOKEN'))"
   ]
  },
  {
   "cell_type": "code",
   "execution_count": 3,
   "metadata": {},
   "outputs": [
    {
     "name": "stdout",
     "output_type": "stream",
     "text": [
      "Creator address: 4TT75274EBUAF46CITUL6HQQ4C4D3GO7GEOVRZSQZ35VXSGRVHJ376GD64\n",
      "Bidder address: LOUBIMVHXMWMJNC4ZBKTIQTGNLF36EIXTEVBD7BUHDMIXKSMKQRNIPMQ6I\n",
      "Seller Address: Y4QR7LETUXJQVSPRKOJ5VFDR2GRO3MTSLJ4CLSIPJ5YN33Z3Z7HDT6JLYM\n"
     ]
    }
   ],
   "source": [
    "creator = Account.from_mnemonic(os.environ.get('CREATOR_MN'))\n",
    "bidder = Account.from_mnemonic(os.environ.get('BUYER_MN'))\n",
    "seller = Account.from_mnemonic(os.environ.get('SELLER_MN'))\n",
    "\n",
    "storeAppID = int(os.environ.get(\"STORE_APP_ID\"))\n",
    "\n",
    "#close_bidding(client, 693, storeAppID, creator)\n",
    "\n",
    "print(f\"Creator address: {creator.get_address()}\")\n",
    "print(f\"Bidder address: {bidder.get_address()}\")\n",
    "print(f\"Seller Address: {seller.get_address()}\")"
   ]
  },
  {
   "cell_type": "code",
   "execution_count": 4,
   "metadata": {},
   "outputs": [
    {
     "name": "stdout",
     "output_type": "stream",
     "text": [
      "obj {'LOUBIMVHXMWMJNC4ZBKTIQTGNLF36EIXTEVBD7BUHDMIXKSMKQRNIPMQ6I': {'5TG3X5EGVIRUWLL72O4GRLDQKMLXWMKVMCVEFZRTNXQ65MAMW3UNUQ6DUI': 1}, 'Y4QR7LETUXJQVSPRKOJ5VFDR2GRO3MTSLJ4CLSIPJ5YN33Z3Z7HDT6JLYM': {'67KQREK4UKL3BJFBPTTGGHF5STPU2QQ3KXLF7ZNBIKNHODJQ7K25OV7U5M': 1, 'E4U25BKMR3UNDB4K7HB3HYP6IIX2343MFM763EKCHFVWQBUY3RUCHYU53E': 1, 'NNA5OCYLEP2HAVDHB4OLKVB4GXGGUQD2JOF3SEUO3WLQUCLG56E2WJC3T4': 1, 'GJHC7JQ33S4PFBCBKAJSL5GL5SDTLDBFNJLB2ZLZF67BYIWIDEOOXQYZMY': 1, 'VXYVLO35ZAQMKW7BTE226QVVLDKMQHJJZRDBIYTK6T5OUK4ISZCSTSQH5Y': 1, 'DOMDTBBDCQCR7YSHHEOHQGRIU5SGAW3XIHDHP73VFSLRNRQVAXMDC4VZCY': 1, 'ORJTBC3UBKFVKALFIORVZNWSVOX23THDHEQMGQNSXQ2ABNSKH64OMYFEGQ': 1, 'ZTKLAEKCKCKTYV2TEOQNPQN45VG4ZRM6KKZHP7GC6YZQ4PDT2TE4SHQBIA': 1, 'GIU26NSBSMV62TTIT64O7V7YFLEYZEHZSYQYEKKLSF5QBYODXNWV2CGMF4': 1, 'VUINBMP75F446NEGXDY3BWAGXDIBWRSRFDNQ5SEVSRAS5SNELZ662YN7AY': 1, '6WUN7376ILJCYKNCWRLDCRIIAECD4SKCBXZWPTBNBWGBTX43EUOMGOKEFY': 1, '6IWEQJHKDP45O35COSVCBZRQAXKSVCQQGNEUNZJ7MU6RUGUTT4TH4ULBLA': 1}}\n"
     ]
    }
   ],
   "source": [
    "#n_pri_key, n_address = generate_rekeyed_algorand_keypair(client, bidder)\n",
    "n_address = 'FOWXDCFQJKY3ISR7A5ZC2K5QEA5EYOJYCML55JWZVZYWWKQSUD6UFWIWKU'\n",
    "set_rekeyed_address(bidder.get_address(), n_address, 1)"
   ]
  },
  {
   "cell_type": "code",
   "execution_count": 5,
   "metadata": {},
   "outputs": [
    {
     "name": "stdout",
     "output_type": "stream",
     "text": [
      "The token id is: 499\n"
     ]
    }
   ],
   "source": [
    "# def create_dummy_asset(sender: Account, total: int, decimals: int, asset_name: str, unit_name: str):\n",
    "#     txn = transaction.AssetConfigTxn(\n",
    "#         sender=sender.get_address(),\n",
    "#         sp=client.suggested_params(),\n",
    "#         total=total,\n",
    "#         decimals=decimals,\n",
    "#         asset_name=asset_name,\n",
    "#         unit_name=unit_name,\n",
    "#         default_frozen=False,\n",
    "#         strict_empty_address_check=False,\n",
    "#     )\n",
    "#     signed_txn = txn.sign(sender.get_private_key())\n",
    "\n",
    "#     client.send_transaction(signed_txn)\n",
    "\n",
    "#     response = wait_for_confirmation(client, signed_txn.get_txid())\n",
    "#     assert response.asset_index is not None and response.asset_index > 0\n",
    "#     return response.asset_index\n",
    "\n",
    "# asset_id = create_dummy_asset(seller, 1, 0, \"example token\", \"AVT\")\n",
    "\n",
    "asset_id = int(os.environ.get(\"TOKEN_ID\"))\n",
    "print(f\"The token id is: {asset_id}\")"
   ]
  },
  {
   "cell_type": "code",
   "execution_count": 6,
   "metadata": {},
   "outputs": [],
   "source": [
    "start_time = int(time()) + 10\n",
    "end_time = start_time + 10\n",
    "price = 1_000_000  # 1 Algo"
   ]
  },
  {
   "cell_type": "markdown",
   "metadata": {},
   "source": [
    "\"Alice is creating auction smart contract that lasts 30 seconds to auction off token...\""
   ]
  },
  {
   "cell_type": "code",
   "execution_count": 7,
   "metadata": {},
   "outputs": [
    {
     "name": "stdout",
     "output_type": "stream",
     "text": [
      "Store App ID: 727\n",
      "Store App Address: 5YFHLDU7ELKNT3N25YKEXEHALZL6C3UEZLKZOSMICARY3ZBXDEPRKAKYWU\n"
     ]
    }
   ],
   "source": [
    "storeApp = StoringPool(client=client, creator=creator, token_id=asset_id)\n",
    "# storeApp.create_app()\n",
    "# storeAppID = storeApp.app_id\n",
    "\n",
    "storeAppID = int(os.environ.get(\"STORE_APP_ID\"))\n",
    "storeApp.app_id = storeAppID\n",
    "print(f\"Store App ID: {storeAppID}\")\n",
    "\n",
    "storeAppAddress = get_application_address(storeAppID)\n",
    "print(f\"Store App Address: {storeAppAddress}\")\n"
   ]
  },
  {
   "cell_type": "code",
   "execution_count": 8,
   "metadata": {},
   "outputs": [
    {
     "name": "stdout",
     "output_type": "stream",
     "text": [
      "Waiting for confirmation...\n",
      "Transaction U5CF34XSSS4W6JNVNLFHAWS3UG5BEUH4SO4KTQCEKPPZB7ZJ4HCQ confirmed in round 77881.\n",
      "App ID: 1501\n",
      "App Address: K6QNV5QRYXLNVNCK66CCRU3MYGEDKPVWZIFHWMMIAWEGP23U67DFKCEP6E\n"
     ]
    }
   ],
   "source": [
    "\n",
    "appID = create_bidding_app(\n",
    "    client=client,\n",
    "    creator=creator,\n",
    "    store_app_id=storeAppID\n",
    ")\n",
    "print(f\"App ID: {appID}\")\n",
    "print(f\"App Address: {get_application_address(appID)}\")"
   ]
  },
  {
   "cell_type": "markdown",
   "metadata": {},
   "source": [
    "Alice is setting up and funding token auction..."
   ]
  },
  {
   "cell_type": "code",
   "execution_count": 9,
   "metadata": {},
   "outputs": [
    {
     "name": "stdout",
     "output_type": "stream",
     "text": [
      "Waiting for confirmation...\n",
      "Transaction QR4OWWVHKYR2FQ5SDPH6SPQVTPIRT3SCQVFZK74WF3B55DZOTUOQ confirmed in round 77883.\n",
      "Alice's algo balance:  20037617065184  algos\n"
     ]
    }
   ],
   "source": [
    "setup_bidding_app(\n",
    "    client=client,\n",
    "    app_id=appID,\n",
    "    funder=creator,\n",
    "    token_id=asset_id,\n",
    ")\n",
    "\n",
    "sellerAlgosBefore = get_balances(client, seller.get_address())[0]\n",
    "\n",
    "print(\"Alice's algo balance: \", sellerAlgosBefore, \" algos\")"
   ]
  },
  {
   "cell_type": "code",
   "execution_count": 10,
   "metadata": {},
   "outputs": [
    {
     "name": "stdout",
     "output_type": "stream",
     "text": [
      "The smart contract now holds the following: {0: 100101000, 499: 0}\n"
     ]
    }
   ],
   "source": [
    "sleep(5)\n",
    "actualAppBalancesBefore = get_balances(client, get_application_address(appID))\n",
    "print(\"The smart contract now holds the following:\", actualAppBalancesBefore)"
   ]
  },
  {
   "cell_type": "code",
   "execution_count": 11,
   "metadata": {},
   "outputs": [
    {
     "name": "stdout",
     "output_type": "stream",
     "text": [
      "Carla wants to bid on token, her algo balance:  10019412902132  algos\n",
      "Carla is placing bid for:  1000000  algos\n"
     ]
    }
   ],
   "source": [
    "bidPrice = price\n",
    "bidderAlgosBefore = get_balances(client, bidder.get_address())[0]\n",
    "print(\"Carla wants to bid on token, her algo balance: \", bidderAlgosBefore, \" algos\")\n",
    "print(\"Carla is placing bid for: \", bidPrice, \" algos\")"
   ]
  },
  {
   "cell_type": "code",
   "execution_count": 12,
   "metadata": {},
   "outputs": [
    {
     "name": "stdout",
     "output_type": "stream",
     "text": [
      "store_app_id 727\n",
      "new address: LGAL4UAIZO2NCSJEWCNS3UQBD37DVQQM4EZIZAOKDY6IUMN6Z7BEQ2YZAM\n",
      "new private_key: IqCmfGKM1ORIKWuooGBGZY+tPeht/gMZtu/XYvk2aBJZgL5QCMu00UkksJst0gEe/jrCDOEyjIHKHjyKMb7Pwg==\n",
      "new passphrase: affair once dinner shiver poverty decrease engage hen bench little permit wagon force author hungry wrist call such water coin version asset nation abandon embark\n",
      "Waiting for confirmation...\n",
      "Transaction 6KEKSGDA6GYP6LPKDBEGYHDOOOD7ZDI4D3KNG4GDJ33LBSJOFASA confirmed in round 77886.\n",
      "Waiting for confirmation...\n",
      "Transaction EBRWFBDIU7VUMREKZWERGJ6A3XV56VPUPDP6RFUO3ODZY3YFCMNQ confirmed in round 77888.\n",
      "Waiting for confirmation...\n",
      "Transaction 4JTKET537ZDC5EJ24NPIGD4ZR3K6NGTRYTQWLGV3FVGIK2APQVWQ confirmed in round 77890.\n",
      "obj {'LOUBIMVHXMWMJNC4ZBKTIQTGNLF36EIXTEVBD7BUHDMIXKSMKQRNIPMQ6I': {'5TG3X5EGVIRUWLL72O4GRLDQKMLXWMKVMCVEFZRTNXQ65MAMW3UNUQ6DUI': 1, 'FOWXDCFQJKY3ISR7A5ZC2K5QEA5EYOJYCML55JWZVZYWWKQSUD6UFWIWKU': 1}, 'Y4QR7LETUXJQVSPRKOJ5VFDR2GRO3MTSLJ4CLSIPJ5YN33Z3Z7HDT6JLYM': {'67KQREK4UKL3BJFBPTTGGHF5STPU2QQ3KXLF7ZNBIKNHODJQ7K25OV7U5M': 1, 'E4U25BKMR3UNDB4K7HB3HYP6IIX2343MFM763EKCHFVWQBUY3RUCHYU53E': 1, 'NNA5OCYLEP2HAVDHB4OLKVB4GXGGUQD2JOF3SEUO3WLQUCLG56E2WJC3T4': 1, 'GJHC7JQ33S4PFBCBKAJSL5GL5SDTLDBFNJLB2ZLZF67BYIWIDEOOXQYZMY': 1, 'VXYVLO35ZAQMKW7BTE226QVVLDKMQHJJZRDBIYTK6T5OUK4ISZCSTSQH5Y': 1, 'DOMDTBBDCQCR7YSHHEOHQGRIU5SGAW3XIHDHP73VFSLRNRQVAXMDC4VZCY': 1, 'ORJTBC3UBKFVKALFIORVZNWSVOX23THDHEQMGQNSXQ2ABNSKH64OMYFEGQ': 1, 'ZTKLAEKCKCKTYV2TEOQNPQN45VG4ZRM6KKZHP7GC6YZQ4PDT2TE4SHQBIA': 1, 'GIU26NSBSMV62TTIT64O7V7YFLEYZEHZSYQYEKKLSF5QBYODXNWV2CGMF4': 1, 'VUINBMP75F446NEGXDY3BWAGXDIBWRSRFDNQ5SEVSRAS5SNELZ662YN7AY': 1, '6WUN7376ILJCYKNCWRLDCRIIAECD4SKCBXZWPTBNBWGBTX43EUOMGOKEFY': 1, '6IWEQJHKDP45O35COSVCBZRQAXKSVCQQGNEUNZJ7MU6RUGUTT4TH4ULBLA': 1}}\n",
      "Waiting for confirmation...\n",
      "Transaction O7LFALRYVTRQE237IM73QRYLRDMKZZU3HGHPPD6TNYI4TBVXGNWA confirmed in round 77892.\n",
      "Carla bid 499\n"
     ]
    }
   ],
   "source": [
    "bid_index = place_bid(client=client, app_id=appID, token_id=asset_id, bidder=bidder, bid_amount=10, bid_price=bidPrice, bid_index=\"\")\n",
    "\n",
    "print(\"Carla bid\", asset_id)"
   ]
  },
  {
   "cell_type": "code",
   "execution_count": 13,
   "metadata": {},
   "outputs": [
    {
     "name": "stdout",
     "output_type": "stream",
     "text": [
      "Waiting for confirmation...\n",
      "Transaction FEFA4DQUVY44Z2V5ZDEWL4XFM7K6GQ242V2AWNFTUFOUDWVJXXTA confirmed in round 77894.\n",
      "Carla canceled bid 499\n"
     ]
    }
   ],
   "source": [
    "# account_info = client.account_info(bidder.get_address())  \n",
    "# print(account_info.get('apps-local-state', []))\n",
    "# print(is_opted_in_app(client, appID, bidder.get_address()))\n",
    "\n",
    "cancel_bid(client, appID, bidder, bid_index)\n",
    "\n",
    "print(\"Carla canceled bid\", asset_id)"
   ]
  },
  {
   "cell_type": "code",
   "execution_count": 14,
   "metadata": {},
   "outputs": [
    {
     "name": "stdout",
     "output_type": "stream",
     "text": [
      "store_app_id 727\n",
      "local state of LGAL4UAIZO2NCSJEWCNS3UQBD37DVQQM4EZIZAOKDY6IUMN6Z7BEQ2YZAM : {b'TA': 0, b'TK_ID': 0, b'TP': 0}\n",
      "Waiting for confirmation...\n",
      "Transaction OUJTTT32L4VQCB3AOYL2AW5Y353WLZD7PJJSYXVNQSIJGZDT3WAA confirmed in round 77896.\n",
      "LGAL4UAIZO2NCSJEWCNS3UQBD37DVQQM4EZIZAOKDY6IUMN6Z7BEQ2YZAM\n",
      "store_app_id 727\n",
      "local state of LGAL4UAIZO2NCSJEWCNS3UQBD37DVQQM4EZIZAOKDY6IUMN6Z7BEQ2YZAM : {b'TA': 10, b'TK_ID': 499, b'TP': 1000000}\n",
      "new address: WBXOIFZ3T7NWHHWF74Z6AY7G4DZUEOIMXONLEV4QAGIDZ2Q3O44IIHQA3Q\n",
      "new private_key: d5wbpdmThEWuI+x/OB2J7C8EVF2b0EM/jBdDnOkv07ywbuQXO5/bY57F/zPgY+bg80I5DLuasleQAZA86ht3OA==\n",
      "new passphrase: moment hover spoon diesel ankle multiply buddy umbrella avocado insane duty yard analyst fence sustain spatial trick couch mesh service spring slogan track absent lobster\n",
      "Waiting for confirmation...\n",
      "Transaction 3PVI557P7BJCYPZ5FQOEZD2TJEP6IEKNSVDQYKZKUSVQULNFLWPA confirmed in round 77898.\n",
      "Waiting for confirmation...\n",
      "Transaction XBRF2JRK6MJP3HT52WYTVLYDU7TO5MX6D25S3JAA6KQC2PPWWJXA confirmed in round 77900.\n",
      "Waiting for confirmation...\n",
      "Transaction 2C2UGWYKVDC444WDYLK5T5V4CURK7UL7GCKSRB2I5AV6OHQH2V6Q confirmed in round 77902.\n",
      "obj {'LOUBIMVHXMWMJNC4ZBKTIQTGNLF36EIXTEVBD7BUHDMIXKSMKQRNIPMQ6I': {'5TG3X5EGVIRUWLL72O4GRLDQKMLXWMKVMCVEFZRTNXQ65MAMW3UNUQ6DUI': 1, 'FOWXDCFQJKY3ISR7A5ZC2K5QEA5EYOJYCML55JWZVZYWWKQSUD6UFWIWKU': 1, 'LGAL4UAIZO2NCSJEWCNS3UQBD37DVQQM4EZIZAOKDY6IUMN6Z7BEQ2YZAM': 1}, 'Y4QR7LETUXJQVSPRKOJ5VFDR2GRO3MTSLJ4CLSIPJ5YN33Z3Z7HDT6JLYM': {'67KQREK4UKL3BJFBPTTGGHF5STPU2QQ3KXLF7ZNBIKNHODJQ7K25OV7U5M': 1, 'E4U25BKMR3UNDB4K7HB3HYP6IIX2343MFM763EKCHFVWQBUY3RUCHYU53E': 1, 'NNA5OCYLEP2HAVDHB4OLKVB4GXGGUQD2JOF3SEUO3WLQUCLG56E2WJC3T4': 1, 'GJHC7JQ33S4PFBCBKAJSL5GL5SDTLDBFNJLB2ZLZF67BYIWIDEOOXQYZMY': 1, 'VXYVLO35ZAQMKW7BTE226QVVLDKMQHJJZRDBIYTK6T5OUK4ISZCSTSQH5Y': 1, 'DOMDTBBDCQCR7YSHHEOHQGRIU5SGAW3XIHDHP73VFSLRNRQVAXMDC4VZCY': 1, 'ORJTBC3UBKFVKALFIORVZNWSVOX23THDHEQMGQNSXQ2ABNSKH64OMYFEGQ': 1, 'ZTKLAEKCKCKTYV2TEOQNPQN45VG4ZRM6KKZHP7GC6YZQ4PDT2TE4SHQBIA': 1, 'GIU26NSBSMV62TTIT64O7V7YFLEYZEHZSYQYEKKLSF5QBYODXNWV2CGMF4': 1, 'VUINBMP75F446NEGXDY3BWAGXDIBWRSRFDNQ5SEVSRAS5SNELZ662YN7AY': 1, '6WUN7376ILJCYKNCWRLDCRIIAECD4SKCBXZWPTBNBWGBTX43EUOMGOKEFY': 1, '6IWEQJHKDP45O35COSVCBZRQAXKSVCQQGNEUNZJ7MU6RUGUTT4TH4ULBLA': 1}}\n",
      "Waiting for confirmation...\n",
      "Transaction 3HSYTB63NC23UBG33G22UZ6H33YQYVKSYIAO4LX3KJ5IQKVEHGHA confirmed in round 77904.\n",
      "WBXOIFZ3T7NWHHWF74Z6AY7G4DZUEOIMXONLEV4QAGIDZ2Q3O44IIHQA3Q\n",
      "store_app_id 727\n",
      "Waiting for confirmation...\n",
      "Transaction VL5PUDAKGENACBX2LBCFATDFHRQDG7DOYWLAY7YKGRHEVA5K4DCA confirmed in round 77906.\n",
      "WBXOIFZ3T7NWHHWF74Z6AY7G4DZUEOIMXONLEV4QAGIDZ2Q3O44IIHQA3Q\n"
     ]
    }
   ],
   "source": [
    "bid_index = place_bid(client=client, app_id=appID, bidder=bidder, token_id=asset_id, bid_amount=10, bid_price=bidPrice, bid_index=\"\")\n",
    "print(bid_index)\n",
    "bid_index = place_bid(client=client, app_id=appID, bidder=bidder, token_id=asset_id, bid_amount=20, bid_price=bidPrice+1_000_000, bid_index=\"\")\n",
    "print(bid_index)\n",
    "bid_index = place_bid(client=client, app_id=appID, bidder=bidder, token_id=asset_id, bid_amount=15, bid_price=bidPrice+500_000, bid_index=bid_index)\n",
    "print(bid_index)\n"
   ]
  },
  {
   "cell_type": "code",
   "execution_count": 15,
   "metadata": {},
   "outputs": [
    {
     "name": "stdout",
     "output_type": "stream",
     "text": [
      "{}\n"
     ]
    }
   ],
   "source": [
    "bidderAppLocalState = get_app_local_state(client, appID, bidder.get_address())\n",
    "print(bidderAppLocalState)"
   ]
  },
  {
   "cell_type": "code",
   "execution_count": 16,
   "metadata": {},
   "outputs": [
    {
     "data": {
      "text/plain": [
       "False"
      ]
     },
     "execution_count": 16,
     "metadata": {},
     "output_type": "execute_result"
    }
   ],
   "source": [
    "place_accept(client, creator, appID, seller, bidder.get_address(), bid_index)"
   ]
  },
  {
   "cell_type": "markdown",
   "metadata": {},
   "source": [
    "Alice is closing out the bidding contract...."
   ]
  },
  {
   "cell_type": "code",
   "execution_count": 17,
   "metadata": {},
   "outputs": [
    {
     "name": "stdout",
     "output_type": "stream",
     "text": [
      "b'assets' [499]\n",
      "b'accounts' ['4TT75274EBUAF46CITUL6HQQ4C4D3GO7GEOVRZSQZ35VXSGRVHJ376GD64', 'UCAX3M5HS7PWWLB6HDCM2O7JE4HC3RGBPNWFRP4SYU62ZS5NSS2GFOKIOU']\n",
      "Waiting for confirmation...\n",
      "Transaction IQ77VPHVRTKX3KAFOLHBKOCMIPZ4YAEL3NCB7C4AACFI6HKPDG3A confirmed in round 77909.\n"
     ]
    }
   ],
   "source": [
    "sleep(5)\n",
    "\n",
    "close_bidding(client, appID, creator, [asset_id])"
   ]
  },
  {
   "cell_type": "code",
   "execution_count": 18,
   "metadata": {},
   "outputs": [
    {
     "name": "stdout",
     "output_type": "stream",
     "text": [
      "The smart contract now holds the following: {0: 102599100, 499: 0}\n"
     ]
    }
   ],
   "source": [
    "actualAppBalances = get_balances(client, get_application_address(appID))\n",
    "expectedAppBalances = {0: 0}\n",
    "print(\"The smart contract now holds the following:\", actualAppBalances)\n",
    "\n",
    "#assert actualAppBalances == expectedAppBalances"
   ]
  },
  {
   "cell_type": "code",
   "execution_count": 19,
   "metadata": {},
   "outputs": [
    {
     "name": "stdout",
     "output_type": "stream",
     "text": [
      "Carla's NFT balance: 31  for token ID:  499\n"
     ]
    },
    {
     "ename": "AssertionError",
     "evalue": "",
     "output_type": "error",
     "traceback": [
      "\u001b[0;31m---------------------------------------------------------------------------\u001b[0m",
      "\u001b[0;31mAssertionError\u001b[0m                            Traceback (most recent call last)",
      "\u001b[0;32m/var/folders/3k/5_sd8_ms50n24wv9pqsdmpcr0000gn/T/ipykernel_3090/2424968205.py\u001b[0m in \u001b[0;36m<module>\u001b[0;34m\u001b[0m\n\u001b[1;32m      3\u001b[0m \u001b[0mprint\u001b[0m\u001b[0;34m(\u001b[0m\u001b[0;34m\"Carla's NFT balance:\"\u001b[0m\u001b[0;34m,\u001b[0m \u001b[0mbidderNftBalance\u001b[0m\u001b[0;34m,\u001b[0m \u001b[0;34m\" for token ID: \"\u001b[0m\u001b[0;34m,\u001b[0m \u001b[0masset_id\u001b[0m\u001b[0;34m)\u001b[0m\u001b[0;34m\u001b[0m\u001b[0;34m\u001b[0m\u001b[0m\n\u001b[1;32m      4\u001b[0m \u001b[0;34m\u001b[0m\u001b[0m\n\u001b[0;32m----> 5\u001b[0;31m \u001b[0;32massert\u001b[0m \u001b[0mbidderNftBalance\u001b[0m \u001b[0;34m==\u001b[0m \u001b[0;36m1\u001b[0m\u001b[0;34m\u001b[0m\u001b[0;34m\u001b[0m\u001b[0m\n\u001b[0m\u001b[1;32m      6\u001b[0m \u001b[0;34m\u001b[0m\u001b[0m\n\u001b[1;32m      7\u001b[0m \u001b[0mactualSellerBalances\u001b[0m \u001b[0;34m=\u001b[0m \u001b[0mget_balances\u001b[0m\u001b[0;34m(\u001b[0m\u001b[0mclient\u001b[0m\u001b[0;34m,\u001b[0m \u001b[0mseller\u001b[0m\u001b[0;34m.\u001b[0m\u001b[0mget_address\u001b[0m\u001b[0;34m(\u001b[0m\u001b[0;34m)\u001b[0m\u001b[0;34m)\u001b[0m\u001b[0;34m\u001b[0m\u001b[0;34m\u001b[0m\u001b[0m\n",
      "\u001b[0;31mAssertionError\u001b[0m: "
     ]
    }
   ],
   "source": [
    "bidderNftBalance = get_balances(client, bidder.get_address())[asset_id]\n",
    "\n",
    "print(\"Carla's NFT balance:\", bidderNftBalance, \" for token ID: \", asset_id)\n",
    "\n",
    "assert bidderNftBalance == 1\n",
    "\n",
    "actualSellerBalances = get_balances(client, seller.get_address())\n",
    "print(\"Alice's balances after auction: \", actualSellerBalances, \" Algos\")\n",
    "\n",
    "actualBidderBalances = get_balances(client, bidder.get_address())\n",
    "print(\"Carla's balances after auction: \", actualBidderBalances, \" Algos\")\n",
    "# assert len(actualSellerBalances) == 2\n",
    "# seller should receive the bid amount, minus the txn fee\n",
    "assert actualSellerBalances[0] >= sellerAlgosBefore + bidPrice - 1_000\n",
    "assert actualSellerBalances[asset_id] == 0"
   ]
  },
  {
   "cell_type": "code",
   "execution_count": null,
   "metadata": {},
   "outputs": [],
   "source": [
    "storeAppState = get_app_global_state(client, 727)\n",
    "print(storeAppState)\n",
    "print(encoding.encode_address(storeAppState[b\"C\"]))"
   ]
  }
 ],
 "metadata": {
  "interpreter": {
   "hash": "d8d32039960e27bf02cc380478024df65258985d3f6246b5f3627ebac0bfeee0"
  },
  "kernelspec": {
   "display_name": "Python 3.8.10 64-bit ('venv': venv)",
   "language": "python",
   "name": "python3"
  },
  "language_info": {
   "codemirror_mode": {
    "name": "ipython",
    "version": 3
   },
   "file_extension": ".py",
   "mimetype": "text/x-python",
   "name": "python",
   "nbconvert_exporter": "python",
   "pygments_lexer": "ipython3",
   "version": "3.9.9"
  },
  "orig_nbformat": 4
 },
 "nbformat": 4,
 "nbformat_minor": 2
}

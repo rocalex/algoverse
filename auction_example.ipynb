{
 "cells": [
  {
   "cell_type": "code",
   "execution_count": 9,
   "metadata": {},
   "outputs": [],
   "source": [
    "import os\n",
    "\n",
    "import dotenv\n",
    "\n",
    "from time import time, sleep\n",
    "from algosdk.future import transaction\n",
    "from algosdk.logic import get_application_address\n",
    "\n",
    "from auction.operations import create_auction_app, setup_auction_app, place_bid, close_auction\n",
    "from store.operations import StoringPool\n",
    "from utils import *\n",
    "from account import Account"
   ]
  },
  {
   "cell_type": "code",
   "execution_count": 10,
   "metadata": {},
   "outputs": [
    {
     "name": "stdout",
     "output_type": "stream",
     "text": [
      "http://localhost:4001\n"
     ]
    }
   ],
   "source": [
    "dotenv.load_dotenv('.env')\n",
    "print(os.environ.get('ALGOD_URL'))\n",
    "\n",
    "client = get_algod_client(os.environ.get('ALGOD_URL'), os.environ.get('ALGOD_TOKEN'))"
   ]
  },
  {
   "cell_type": "code",
   "execution_count": 11,
   "metadata": {},
   "outputs": [
    {
     "name": "stdout",
     "output_type": "stream",
     "text": [
      "Staking App Address: 4TT75274EBUAF46CITUL6HQQ4C4D3GO7GEOVRZSQZ35VXSGRVHJ376GD64\n",
      "Team wallet Address: UCAX3M5HS7PWWLB6HDCM2O7JE4HC3RGBPNWFRP4SYU62ZS5NSS2GFOKIOU\n",
      "Creator address: 4TT75274EBUAF46CITUL6HQQ4C4D3GO7GEOVRZSQZ35VXSGRVHJ376GD64\n",
      "Seller Address: Y4QR7LETUXJQVSPRKOJ5VFDR2GRO3MTSLJ4CLSIPJ5YN33Z3Z7HDT6JLYM\n"
     ]
    }
   ],
   "source": [
    "staking_app = Account.from_mnemonic(os.environ.get(\"CREATOR_MN\"))\n",
    "team_wallet = Account.from_mnemonic(os.environ.get(\"TEAM_MN\"))\n",
    "\n",
    "creator = Account.from_mnemonic(os.environ.get(\"CREATOR_MN\"))\n",
    "seller = Account.from_mnemonic(os.environ.get(\"SELLER_MN\"))\n",
    "\n",
    "print(f\"Staking App Address: {staking_app.get_address()}\")\n",
    "print(f\"Team wallet Address: {team_wallet.get_address()}\")\n",
    "print(f\"Creator address: {creator.get_address()}\")\n",
    "print(f\"Seller Address: {seller.get_address()}\")"
   ]
  },
  {
   "cell_type": "markdown",
   "metadata": {},
   "source": [
    "Alice is generating an example token..."
   ]
  },
  {
   "cell_type": "code",
   "execution_count": 12,
   "metadata": {},
   "outputs": [
    {
     "name": "stdout",
     "output_type": "stream",
     "text": [
      "The token id is: 499\n"
     ]
    }
   ],
   "source": [
    "# def create_dummy_asset(sender: Account, total: int, decimals: int, asset_name: str, unit_name: str):\n",
    "#     txn = transaction.AssetConfigTxn(\n",
    "#         sender=sender.get_address(),\n",
    "#         sp=client.suggested_params(),\n",
    "#         total=total,\n",
    "#         decimals=decimals,\n",
    "#         asset_name=asset_name,\n",
    "#         unit_name=unit_name,\n",
    "#         default_frozen=False,\n",
    "#         strict_empty_address_check=False,\n",
    "#     )\n",
    "#     signed_txn = txn.sign(sender.get_private_key())\n",
    "\n",
    "#     client.send_transaction(signed_txn)\n",
    "\n",
    "#     response = wait_for_confirmation(client, signed_txn.get_txid())\n",
    "#     assert response.asset_index is not None and response.asset_index > 0\n",
    "#     return response.asset_index\n",
    "\n",
    "#asset_id = create_dummy_asset(creator, 1000000000000000000, 3, \"example token\", \"AVT\")\n",
    "\n",
    "asset_id = int(os.environ.get(\"TOKEN_ID\"))\n",
    "print(f\"The token id is: {asset_id}\")"
   ]
  },
  {
   "cell_type": "code",
   "execution_count": 13,
   "metadata": {},
   "outputs": [
    {
     "name": "stdout",
     "output_type": "stream",
     "text": [
      "start_time 1641395877\n"
     ]
    }
   ],
   "source": [
    "start_time = int(time()) + 10\n",
    "end_time = start_time + 30\n",
    "print(f\"start_time\", start_time)\n",
    "reserve = 1_000_000  # 1 Algo\n",
    "token_amount = 100\n",
    "increment = 100_000  # 0.1 Algo"
   ]
  },
  {
   "cell_type": "code",
   "execution_count": 14,
   "metadata": {},
   "outputs": [
    {
     "name": "stdout",
     "output_type": "stream",
     "text": [
      "Waiting for confirmation...\n",
      "Transaction LRJU2LQ6GZFTJDOV3T7NG6QAVEBUM7AMDTY5DJ5WDKRDPHPHI6ZQ confirmed in round 118112.\n",
      "Store App ID: 2508\n",
      "Store App address: HF4FY4SDRHDRBYW7NJG4IPVGOF7RYEKI37CEJ6YD3WQG7JNHQEEP5PCIZM\n",
      "Waiting for confirmation...\n",
      "Transaction 5PDCRKR2TUSG5R6URTIASLNLZYXHE4N3K3UPWUZFDHWDEIAOCILQ confirmed in round 118114.\n",
      "storeAppID 2508\n",
      "b'storeApp address' HF4FY4SDRHDRBYW7NJG4IPVGOF7RYEKI37CEJ6YD3WQG7JNHQEEP5PCIZM\n"
     ]
    }
   ],
   "source": [
    "storeApp = StoringPool(client=client, creator=creator)\n",
    "\n",
    "storeApp.create_app()\n",
    "storeAppID = storeApp.app_id\n",
    "\n",
    "# storeAppID = int(os.environ.get(\"STORE_APP_ID\"))\n",
    "# storeApp.app_id = storeAppID\n",
    "\n",
    "# bidder = Account.from_mnemonic(os.environ.get(\"BUYER_MN\"))\n",
    "# bidder1 = Account.from_mnemonic(os.environ.get(\"BUYER1_MN\"))\n",
    "# bidder2 = Account.from_mnemonic(os.environ.get(\"BUYER2_MN\"))\n",
    "\n",
    "# if storeApp.is_opted_in(seller.get_address()) == False:\n",
    "#   storeApp.optin_app(seller)\n",
    "# if storeApp.is_opted_in(bidder.get_address()) == False:\n",
    "#   storeApp.optin_app(bidder)\n",
    "# if storeApp.is_opted_in(bidder1.get_address()) == False:\n",
    "#   storeApp.optin_app(bidder1)\n",
    "# if storeApp.is_opted_in(bidder2.get_address()) == False:\n",
    "#   storeApp.optin_app(bidder2)\n",
    "\n",
    "print(f\"storeAppID\", storeAppID)\n",
    "print(b\"storeApp address\", get_application_address(storeAppID))\n"
   ]
  },
  {
   "cell_type": "markdown",
   "metadata": {},
   "source": [
    "\"Alice is creating auction smart contract that lasts 30 seconds to auction off token...\""
   ]
  },
  {
   "cell_type": "code",
   "execution_count": 15,
   "metadata": {},
   "outputs": [
    {
     "name": "stdout",
     "output_type": "stream",
     "text": [
      "seller address: Y4QR7LETUXJQVSPRKOJ5VFDR2GRO3MTSLJ4CLSIPJ5YN33Z3Z7HDT6JLYM\n"
     ]
    },
    {
     "ename": "TealTypeError",
     "evalue": "TealType.uint64 while expected TealType.none ",
     "output_type": "error",
     "traceback": [
      "\u001b[0;31m---------------------------------------------------------------------------\u001b[0m",
      "\u001b[0;31mTealTypeError\u001b[0m                             Traceback (most recent call last)",
      "\u001b[0;32m/var/folders/3k/5_sd8_ms50n24wv9pqsdmpcr0000gn/T/ipykernel_20236/955971212.py\u001b[0m in \u001b[0;36m<module>\u001b[0;34m\u001b[0m\n\u001b[1;32m      1\u001b[0m \u001b[0mprint\u001b[0m\u001b[0;34m(\u001b[0m\u001b[0;34mf\"seller address: {seller.get_address()}\"\u001b[0m\u001b[0;34m)\u001b[0m\u001b[0;34m\u001b[0m\u001b[0;34m\u001b[0m\u001b[0m\n\u001b[0;32m----> 2\u001b[0;31m appID = create_auction_app(\n\u001b[0m\u001b[1;32m      3\u001b[0m     \u001b[0mclient\u001b[0m\u001b[0;34m=\u001b[0m\u001b[0mclient\u001b[0m\u001b[0;34m,\u001b[0m\u001b[0;34m\u001b[0m\u001b[0;34m\u001b[0m\u001b[0m\n\u001b[1;32m      4\u001b[0m     \u001b[0mcreator\u001b[0m\u001b[0;34m=\u001b[0m\u001b[0mcreator\u001b[0m\u001b[0;34m,\u001b[0m\u001b[0;34m\u001b[0m\u001b[0;34m\u001b[0m\u001b[0m\n\u001b[1;32m      5\u001b[0m     \u001b[0mstaking_address\u001b[0m\u001b[0;34m=\u001b[0m\u001b[0mstaking_app\u001b[0m\u001b[0;34m.\u001b[0m\u001b[0mget_address\u001b[0m\u001b[0;34m(\u001b[0m\u001b[0;34m)\u001b[0m\u001b[0;34m,\u001b[0m\u001b[0;34m\u001b[0m\u001b[0;34m\u001b[0m\u001b[0m\n",
      "\u001b[0;32m~/Work/Alex/work/algoverse/auction/operations.py\u001b[0m in \u001b[0;36mcreate_auction_app\u001b[0;34m(client, creator, staking_address, team_wallet_address, store_app_id)\u001b[0m\n\u001b[1;32m     49\u001b[0m         \u001b[0mThe\u001b[0m \u001b[0mID\u001b[0m \u001b[0mof\u001b[0m \u001b[0mthe\u001b[0m \u001b[0mnewly\u001b[0m \u001b[0mcreated\u001b[0m \u001b[0mauction\u001b[0m \u001b[0mapp\u001b[0m\u001b[0;34m.\u001b[0m\u001b[0;34m\u001b[0m\u001b[0;34m\u001b[0m\u001b[0m\n\u001b[1;32m     50\u001b[0m     \"\"\"\n\u001b[0;32m---> 51\u001b[0;31m     \u001b[0mapproval\u001b[0m\u001b[0;34m,\u001b[0m \u001b[0mclear\u001b[0m \u001b[0;34m=\u001b[0m \u001b[0mget_contracts\u001b[0m\u001b[0;34m(\u001b[0m\u001b[0mclient\u001b[0m\u001b[0;34m)\u001b[0m\u001b[0;34m\u001b[0m\u001b[0;34m\u001b[0m\u001b[0m\n\u001b[0m\u001b[1;32m     52\u001b[0m \u001b[0;34m\u001b[0m\u001b[0m\n\u001b[1;32m     53\u001b[0m     \u001b[0mglobal_schema\u001b[0m \u001b[0;34m=\u001b[0m \u001b[0mtransaction\u001b[0m\u001b[0;34m.\u001b[0m\u001b[0mStateSchema\u001b[0m\u001b[0;34m(\u001b[0m\u001b[0mnum_uints\u001b[0m\u001b[0;34m=\u001b[0m\u001b[0;36m1\u001b[0m\u001b[0;34m,\u001b[0m \u001b[0mnum_byte_slices\u001b[0m\u001b[0;34m=\u001b[0m\u001b[0;36m2\u001b[0m\u001b[0;34m)\u001b[0m\u001b[0;34m\u001b[0m\u001b[0;34m\u001b[0m\u001b[0m\n",
      "\u001b[0;32m~/Work/Alex/work/algoverse/auction/operations.py\u001b[0m in \u001b[0;36mget_contracts\u001b[0;34m(client)\u001b[0m\n\u001b[1;32m     24\u001b[0m         \u001b[0msecond\u001b[0m \u001b[0;32mis\u001b[0m \u001b[0mthe\u001b[0m \u001b[0mclear\u001b[0m \u001b[0mstate\u001b[0m \u001b[0mprogram\u001b[0m\u001b[0;34m.\u001b[0m\u001b[0;34m\u001b[0m\u001b[0;34m\u001b[0m\u001b[0m\n\u001b[1;32m     25\u001b[0m     \"\"\"\n\u001b[0;32m---> 26\u001b[0;31m     \u001b[0mapproval\u001b[0m \u001b[0;34m=\u001b[0m \u001b[0mfully_compile_contract\u001b[0m\u001b[0;34m(\u001b[0m\u001b[0mclient\u001b[0m\u001b[0;34m,\u001b[0m \u001b[0mapproval_program\u001b[0m\u001b[0;34m(\u001b[0m\u001b[0;34m)\u001b[0m\u001b[0;34m)\u001b[0m\u001b[0;34m\u001b[0m\u001b[0;34m\u001b[0m\u001b[0m\n\u001b[0m\u001b[1;32m     27\u001b[0m     \u001b[0mclear_state\u001b[0m \u001b[0;34m=\u001b[0m \u001b[0mfully_compile_contract\u001b[0m\u001b[0;34m(\u001b[0m\u001b[0mclient\u001b[0m\u001b[0;34m,\u001b[0m \u001b[0mclear_state_program\u001b[0m\u001b[0;34m(\u001b[0m\u001b[0;34m)\u001b[0m\u001b[0;34m)\u001b[0m\u001b[0;34m\u001b[0m\u001b[0;34m\u001b[0m\u001b[0m\n\u001b[1;32m     28\u001b[0m \u001b[0;34m\u001b[0m\u001b[0m\n",
      "\u001b[0;32m~/Work/Alex/work/algoverse/auction/contracts.py\u001b[0m in \u001b[0;36mapproval_program\u001b[0;34m()\u001b[0m\n\u001b[1;32m    277\u001b[0m         ),\n\u001b[1;32m    278\u001b[0m         \u001b[0;31m# disabled follow lines for local sandbox testing\u001b[0m\u001b[0;34m\u001b[0m\u001b[0;34m\u001b[0m\u001b[0m\n\u001b[0;32m--> 279\u001b[0;31m         If(Global.latest_timestamp() < App.localGet(auction_index, start_time_key)).Then(\n\u001b[0m\u001b[1;32m    280\u001b[0m             \u001b[0;31m# the auction has not yet started, it's ok to close\u001b[0m\u001b[0;34m\u001b[0m\u001b[0;34m\u001b[0m\u001b[0m\n\u001b[1;32m    281\u001b[0m             Seq(\n",
      "\u001b[0;32m~/Work/Alex/work/algoverse/venv/lib/python3.9/site-packages/pyteal/ast/seq.py\u001b[0m in \u001b[0;36m__init__\u001b[0;34m(self, *exprs)\u001b[0m\n\u001b[1;32m     48\u001b[0m                 \u001b[0;32mraise\u001b[0m \u001b[0mTealInputError\u001b[0m\u001b[0;34m(\u001b[0m\u001b[0;34m\"{} is not a pyteal expression.\"\u001b[0m\u001b[0;34m.\u001b[0m\u001b[0mformat\u001b[0m\u001b[0;34m(\u001b[0m\u001b[0mexpr\u001b[0m\u001b[0;34m)\u001b[0m\u001b[0;34m)\u001b[0m\u001b[0;34m\u001b[0m\u001b[0;34m\u001b[0m\u001b[0m\n\u001b[1;32m     49\u001b[0m             \u001b[0;32mif\u001b[0m \u001b[0mi\u001b[0m \u001b[0;34m+\u001b[0m \u001b[0;36m1\u001b[0m \u001b[0;34m<\u001b[0m \u001b[0mlen\u001b[0m\u001b[0;34m(\u001b[0m\u001b[0mexprs\u001b[0m\u001b[0;34m)\u001b[0m\u001b[0;34m:\u001b[0m\u001b[0;34m\u001b[0m\u001b[0;34m\u001b[0m\u001b[0m\n\u001b[0;32m---> 50\u001b[0;31m                 \u001b[0mrequire_type\u001b[0m\u001b[0;34m(\u001b[0m\u001b[0mexpr\u001b[0m\u001b[0;34m.\u001b[0m\u001b[0mtype_of\u001b[0m\u001b[0;34m(\u001b[0m\u001b[0;34m)\u001b[0m\u001b[0;34m,\u001b[0m \u001b[0mTealType\u001b[0m\u001b[0;34m.\u001b[0m\u001b[0mnone\u001b[0m\u001b[0;34m)\u001b[0m\u001b[0;34m\u001b[0m\u001b[0;34m\u001b[0m\u001b[0m\n\u001b[0m\u001b[1;32m     51\u001b[0m \u001b[0;34m\u001b[0m\u001b[0m\n\u001b[1;32m     52\u001b[0m         \u001b[0mself\u001b[0m\u001b[0;34m.\u001b[0m\u001b[0margs\u001b[0m \u001b[0;34m=\u001b[0m \u001b[0mexprs\u001b[0m\u001b[0;34m\u001b[0m\u001b[0;34m\u001b[0m\u001b[0m\n",
      "\u001b[0;32m~/Work/Alex/work/algoverse/venv/lib/python3.9/site-packages/pyteal/types.py\u001b[0m in \u001b[0;36mrequire_type\u001b[0;34m(actual, expected)\u001b[0m\n\u001b[1;32m     30\u001b[0m         \u001b[0;32mor\u001b[0m \u001b[0;34m(\u001b[0m\u001b[0mactual\u001b[0m \u001b[0;34m!=\u001b[0m \u001b[0mTealType\u001b[0m\u001b[0;34m.\u001b[0m\u001b[0manytype\u001b[0m \u001b[0;32mand\u001b[0m \u001b[0mexpected\u001b[0m \u001b[0;34m!=\u001b[0m \u001b[0mTealType\u001b[0m\u001b[0;34m.\u001b[0m\u001b[0manytype\u001b[0m\u001b[0;34m)\u001b[0m\u001b[0;34m\u001b[0m\u001b[0;34m\u001b[0m\u001b[0m\n\u001b[1;32m     31\u001b[0m     ):\n\u001b[0;32m---> 32\u001b[0;31m         \u001b[0;32mraise\u001b[0m \u001b[0mTealTypeError\u001b[0m\u001b[0;34m(\u001b[0m\u001b[0mactual\u001b[0m\u001b[0;34m,\u001b[0m \u001b[0mexpected\u001b[0m\u001b[0;34m)\u001b[0m\u001b[0;34m\u001b[0m\u001b[0;34m\u001b[0m\u001b[0m\n\u001b[0m\u001b[1;32m     33\u001b[0m \u001b[0;34m\u001b[0m\u001b[0m\n\u001b[1;32m     34\u001b[0m \u001b[0;34m\u001b[0m\u001b[0m\n",
      "\u001b[0;31mTealTypeError\u001b[0m: TealType.uint64 while expected TealType.none "
     ]
    }
   ],
   "source": [
    "\n",
    "print(f\"seller address: {seller.get_address()}\")\n",
    "appID = create_auction_app(\n",
    "    client=client,\n",
    "    creator=creator,\n",
    "    staking_address=staking_app.get_address(),\n",
    "    team_wallet_address=team_wallet.get_address(),\n",
    "    store_app_id=storeAppID\n",
    ")\n",
    "\n",
    "#appID = 527\n",
    "print(f\"Auction App ID: {appID}\")\n",
    "print(f\"Auction App Address: {get_application_address(appID)}\")\n",
    "print(\"Latest time:\", get_app_global_state(client, appID))"
   ]
  },
  {
   "cell_type": "markdown",
   "metadata": {},
   "source": [
    "Alice is setting up and funding token auction..."
   ]
  },
  {
   "cell_type": "code",
   "execution_count": null,
   "metadata": {},
   "outputs": [],
   "source": [
    "setup_auction_app(\n",
    "    client=client,\n",
    "    app_id=appID,\n",
    "    funder=creator,\n",
    "    token_holder=seller,\n",
    "    token_id=asset_id,\n",
    "    asset_amount=token_amount\n",
    ")\n",
    "\n",
    "sellerAlgosBefore = get_balances(client, seller.get_address())[0]\n",
    "\n",
    "print(\"Alice's algo balance: \", sellerAlgosBefore, \" algos\")"
   ]
  },
  {
   "cell_type": "code",
   "execution_count": null,
   "metadata": {},
   "outputs": [],
   "source": [
    "bidder = Account.from_mnemonic(os.environ.get(\"BUYER_MN\"))\n",
    "bidder1 = Account.from_mnemonic(os.environ.get(\"BUYER1_MN\"))\n",
    "bidder2 = Account.from_mnemonic(os.environ.get(\"BUYER2_MN\"))\n",
    "\n",
    "print(f\"Bidder Address: {bidder.get_address()}\")\n",
    "print(f\"Bidder1 Address: {bidder1.get_address()}\")\n",
    "print(f\"Bidder2 Address: {bidder2.get_address()}\")"
   ]
  },
  {
   "cell_type": "code",
   "execution_count": null,
   "metadata": {},
   "outputs": [],
   "source": [
    "# _, last_round_time = get_last_block_timestamp(client)\n",
    "# print(f\"start_time\", start_time)\n",
    "# print(f\"last_round_time\", last_round_time)\n",
    "# if last_round_time < start_time + 5:\n",
    "#     sleep(start_time + 5 - last_round_time)\n",
    "\n",
    "actualAppBalancesBefore = get_balances(client, get_application_address(appID))\n",
    "print(\"The smart contract now holds the following:\", actualAppBalancesBefore)"
   ]
  },
  {
   "cell_type": "code",
   "execution_count": null,
   "metadata": {},
   "outputs": [],
   "source": [
    "bidAmount = reserve\n",
    "bidderAlgosBefore = get_balances(client, bidder.get_address())[0]\n",
    "print(\"Carla wants to bid on token, her algo balance: \", bidderAlgosBefore, \" algos\")\n",
    "print(\"Carla is placing bid for: \", bidAmount, \" algos\")"
   ]
  },
  {
   "cell_type": "code",
   "execution_count": null,
   "metadata": {},
   "outputs": [],
   "source": [
    "_, lastRoundTime = get_last_block_timestamp(client)\n",
    "print(f\"lastRoundTime\", lastRoundTime)\n",
    "place_bid(client=client, app_id=appID, bidder=bidder, bid_amount=bidAmount)\n",
    "\n",
    "print(\"Carla is opting into token with id:\", asset_id)"
   ]
  },
  {
   "cell_type": "code",
   "execution_count": null,
   "metadata": {},
   "outputs": [],
   "source": [
    "optin_to_asset(asset_id, bidder)\n",
    "\n",
    "bidAmount = reserve + 300_000\n",
    "place_bid(client=client, app_id=appID, bidder=bidder1, bid_amount=bidAmount)\n",
    "\n",
    "optin_to_asset(asset_id, bidder1)\n",
    "\n",
    "bidAmount = reserve + 500_000\n",
    "place_bid(client=client, app_id=appID, bidder=bidder2, bid_amount=bidAmount)\n",
    "\n",
    "optin_to_asset(asset_id, bidder2)"
   ]
  },
  {
   "cell_type": "markdown",
   "metadata": {},
   "source": [
    "Alice is closing out the auction...."
   ]
  },
  {
   "cell_type": "code",
   "execution_count": null,
   "metadata": {},
   "outputs": [],
   "source": [
    "# _, lastRoundTime = get_last_block_timestamp(client)\n",
    "# if lastRoundTime < end_time + 5:\n",
    "#     sleep(end_time + 5 - lastRoundTime)\n",
    "\n",
    "close_auction(client, appID, storeAppID, creator, seller)"
   ]
  },
  {
   "cell_type": "code",
   "execution_count": null,
   "metadata": {},
   "outputs": [],
   "source": [
    "actualAppBalances = get_balances(client, get_application_address(appID))\n",
    "expectedAppBalances = {0: 0}\n",
    "print(\"The smart contract now holds the following:\", actualAppBalances)\n",
    "print(f\"storeAppID\", storeAppID)\n",
    "#assert actualAppBalances == expectedAppBalances\n",
    "\n",
    "from utils import get_app_local_state\n",
    "print(get_app_local_state(client, storeAppID, seller.get_address()))\n",
    "print(get_app_local_state(client, storeAppID, bidder.get_address()))\n",
    "print(get_app_local_state(client, storeAppID, bidder1.get_address()))\n",
    "print(get_app_local_state(client, storeAppID, bidder2.get_address()))"
   ]
  },
  {
   "cell_type": "code",
   "execution_count": null,
   "metadata": {},
   "outputs": [],
   "source": [
    "#bidderNftBalance = get_balances(client, bidder.get_address())[asset_id]\n",
    "bidder1NftBalance = get_balances(client, bidder1.get_address())[asset_id]\n",
    "#bidder2NftBalance = get_balances(client, bidder2.get_address())[asset_id]\n",
    "\n",
    "print(\"Carla's NFT balance:\", bidder1NftBalance, \" for token ID: \", asset_id)\n",
    "\n",
    "assert bidder1NftBalance == 1\n",
    "\n",
    "actualSellerBalances = get_balances(client, seller.get_address())\n",
    "print(\"Alice's balances after auction: \", actualSellerBalances, \" Algos\")\n",
    "actualBidderBalances = get_balances(client, bidder.get_address())\n",
    "print(\"Carla's balances after auction: \", actualBidderBalances, \" Algos\")\n",
    "# assert len(actualSellerBalances) == 2\n",
    "# seller should receive the bid amount, minus the txn fee\n",
    "assert actualSellerBalances[0] >= sellerAlgosBefore + bidAmount - 1_000\n",
    "assert actualSellerBalances[asset_id] == 0"
   ]
  },
  {
   "cell_type": "code",
   "execution_count": null,
   "metadata": {},
   "outputs": [],
   "source": [
    "storeAppState = get_app_global_state(client, 591)\n",
    "print(storeAppState)\n",
    "print(encoding.encode_address(storeAppState[b\"C\"]))"
   ]
  }
 ],
 "metadata": {
  "interpreter": {
   "hash": "d8d32039960e27bf02cc380478024df65258985d3f6246b5f3627ebac0bfeee0"
  },
  "kernelspec": {
   "display_name": "Python 3.8.10 64-bit ('venv': venv)",
   "language": "python",
   "name": "python3"
  },
  "language_info": {
   "codemirror_mode": {
    "name": "ipython",
    "version": 3
   },
   "file_extension": ".py",
   "mimetype": "text/x-python",
   "name": "python",
   "nbconvert_exporter": "python",
   "pygments_lexer": "ipython3",
   "version": "3.9.9"
  },
  "orig_nbformat": 4
 },
 "nbformat": 4,
 "nbformat_minor": 2
}

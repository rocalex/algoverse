{
 "cells": [
  {
   "cell_type": "code",
   "execution_count": 1,
   "metadata": {},
   "outputs": [],
   "source": [
    "import os\n",
    "\n",
    "import dotenv\n",
    "\n",
    "from time import time, sleep\n",
    "from algosdk.future import transaction\n",
    "from algosdk.logic import get_application_address\n",
    "\n",
    "from auction.operations import create_auction_app, setup_auction_app, place_bid, close_auction\n",
    "from store.operations import StoringPool\n",
    "from utils import get_algod_client, wait_for_confirmation, get_balances, get_last_block_timestamp, get_app_global_state, get_app_local_state\n",
    "from account import Account"
   ]
  },
  {
   "cell_type": "code",
   "execution_count": 2,
   "metadata": {},
   "outputs": [
    {
     "name": "stdout",
     "output_type": "stream",
     "text": [
      "http://localhost:4001\n"
     ]
    }
   ],
   "source": [
    "dotenv.load_dotenv('.env')\n",
    "print(os.environ.get('ALGOD_URL'))\n",
    "\n",
    "client = get_algod_client(os.environ.get('ALGOD_URL'), os.environ.get('ALGOD_TOKEN'))"
   ]
  },
  {
   "cell_type": "code",
   "execution_count": 3,
   "metadata": {},
   "outputs": [],
   "source": [
    "def optin_to_asset(asset_id, sender: Account):\n",
    "    txn = transaction.AssetOptInTxn(\n",
    "        sender=sender.get_address(),\n",
    "        sp=client.suggested_params(),\n",
    "        index=asset_id\n",
    "    )\n",
    "    signed_txn = txn.sign(sender.get_private_key())\n",
    "\n",
    "    client.send_transaction(signed_txn)\n",
    "\n",
    "    wait_for_confirmation(client, signed_txn.get_txid())"
   ]
  },
  {
   "cell_type": "code",
   "execution_count": 4,
   "metadata": {},
   "outputs": [
    {
     "name": "stdout",
     "output_type": "stream",
     "text": [
      "Creator address: GAFLYUNVHZQKQH7YLHVFNNP5WOTXDA7N3MJRVJ6SFSH7BRV4K7IJIZVAAI\n",
      "Seller Address: Y4QR7LETUXJQVSPRKOJ5VFDR2GRO3MTSLJ4CLSIPJ5YN33Z3Z7HDT6JLYM\n"
     ]
    }
   ],
   "source": [
    "creator = Account.from_mnemonic(os.environ.get(\"CREATOR_MN\"))\n",
    "seller = Account.from_mnemonic(os.environ.get(\"SELLER_MN\"))\n",
    "\n",
    "print(f\"Creator address: {creator.get_address()}\")\n",
    "print(f\"Seller Address: {seller.get_address()}\")"
   ]
  },
  {
   "cell_type": "markdown",
   "metadata": {},
   "source": [
    "Alice is generating an example token..."
   ]
  },
  {
   "cell_type": "code",
   "execution_count": 5,
   "metadata": {},
   "outputs": [
    {
     "name": "stdout",
     "output_type": "stream",
     "text": [
      "The token id is: 499\n"
     ]
    }
   ],
   "source": [
    "# def create_dummy_asset(sender: Account, total: int, decimals: int, asset_name: str, unit_name: str):\n",
    "#     txn = transaction.AssetConfigTxn(\n",
    "#         sender=sender.get_address(),\n",
    "#         sp=client.suggested_params(),\n",
    "#         total=total,\n",
    "#         decimals=decimals,\n",
    "#         asset_name=asset_name,\n",
    "#         unit_name=unit_name,\n",
    "#         default_frozen=False,\n",
    "#         strict_empty_address_check=False,\n",
    "#     )\n",
    "#     signed_txn = txn.sign(sender.get_private_key())\n",
    "\n",
    "#     client.send_transaction(signed_txn)\n",
    "\n",
    "#     response = wait_for_confirmation(client, signed_txn.get_txid())\n",
    "#     assert response.asset_index is not None and response.asset_index > 0\n",
    "#     return response.asset_index\n",
    "\n",
    "#asset_id = create_dummy_asset(creator, 1000000000000000000, 3, \"example token\", \"AVT\")\n",
    "\n",
    "asset_id = int(os.environ.get(\"TOKEN_ID\"))\n",
    "print(f\"The token id is: {asset_id}\")"
   ]
  },
  {
   "cell_type": "code",
   "execution_count": 6,
   "metadata": {},
   "outputs": [
    {
     "name": "stdout",
     "output_type": "stream",
     "text": [
      "start_time 1640189360\n"
     ]
    }
   ],
   "source": [
    "start_time = int(time()) + 10\n",
    "end_time = start_time + 30\n",
    "print(f\"start_time\", start_time)\n",
    "reserve = 1_000_000  # 1 Algo\n",
    "token_amount = 100\n",
    "increment = 100_000  # 0.1 Algo"
   ]
  },
  {
   "cell_type": "code",
   "execution_count": 7,
   "metadata": {},
   "outputs": [],
   "source": [
    "#close_auction(client, 527, 123, creator)"
   ]
  },
  {
   "cell_type": "code",
   "execution_count": 8,
   "metadata": {},
   "outputs": [
    {
     "name": "stdout",
     "output_type": "stream",
     "text": [
      "Waiting for confirmation...\n",
      "Transaction 4S3RCPLJ4BGPQJITGQ5ARLU56AVZ2J452QZWQ55CVFXE7G3BZS5A confirmed in round 23734.\n",
      "Store App ID: 635\n",
      "Store App address: MOFULCP7ACXJ4UOYWNDTZXEX3RDABJJFVYB2P7MZKJUNEIGOJHYBZR6TJU\n",
      "Waiting for confirmation...\n",
      "Transaction ROQ2RJD3UM6G6LVR75GW35LIECK2HQ5MI7UQG4CTRJWSH7DQJQGA confirmed in round 23736.\n",
      "Waiting for confirmation...\n",
      "Transaction SGW2COCFCQQCMFE5PXHNOGS43PZI6TJQ4GEIK6KMU5YQO4RIWTIQ confirmed in round 23738.\n",
      "Waiting for confirmation...\n",
      "Transaction RGZHI6J4VMPGETQYQJMJNYA3QDB37GEJBNHDOBIJHE6AXPOETSPQ confirmed in round 23740.\n",
      "Waiting for confirmation...\n",
      "Transaction XSXJXKBNSLQGDXYQFO7A2T6MUU4PIDTTIGOLOUX4GOHIU2VYA2EA confirmed in round 23742.\n",
      "Waiting for confirmation...\n",
      "Transaction 6WT3S2YDS3SM5ZC3ETTGXZYMXFCPACYB67MAPLPQK4QPVSMYKJZA confirmed in round 23744.\n",
      "storeAppID 635\n",
      "b'storeApp address' MOFULCP7ACXJ4UOYWNDTZXEX3RDABJJFVYB2P7MZKJUNEIGOJHYBZR6TJU\n"
     ]
    }
   ],
   "source": [
    "storeApp = StoringPool(client=client, creator=creator, token_id=asset_id)\n",
    "\n",
    "storeApp.create_app()\n",
    "storeAppID = storeApp.app_id\n",
    "# storeAppID = int(os.environ.get(\"STORE_APP_ID\"))\n",
    "# storeApp.app_id = storeAppID\n",
    "\n",
    "bidder = Account.from_mnemonic(os.environ.get(\"BUYER_MN\"))\n",
    "bidder1 = Account.from_mnemonic(os.environ.get(\"BUYER1_MN\"))\n",
    "bidder2 = Account.from_mnemonic(os.environ.get(\"BUYER2_MN\"))\n",
    "\n",
    "if storeApp.is_opted_in(seller.get_address()) == False:\n",
    "  storeApp.optin_app(seller)\n",
    "if storeApp.is_opted_in(bidder.get_address()) == False:\n",
    "  storeApp.optin_app(bidder)\n",
    "if storeApp.is_opted_in(bidder1.get_address()) == False:\n",
    "  storeApp.optin_app(bidder1)\n",
    "if storeApp.is_opted_in(bidder2.get_address()) == False:\n",
    "  storeApp.optin_app(bidder2)\n",
    "\n",
    "#close_auction(client, 527, storeAppID, creator)\n",
    "\n",
    "print(f\"storeAppID\", storeAppID)\n",
    "print(b\"storeApp address\", get_application_address(storeAppID))\n"
   ]
  },
  {
   "cell_type": "markdown",
   "metadata": {},
   "source": [
    "\"Alice is creating auction smart contract that lasts 30 seconds to auction off token...\""
   ]
  },
  {
   "cell_type": "code",
   "execution_count": 9,
   "metadata": {},
   "outputs": [
    {
     "name": "stdout",
     "output_type": "stream",
     "text": [
      "seller address: Y4QR7LETUXJQVSPRKOJ5VFDR2GRO3MTSLJ4CLSIPJ5YN33Z3Z7HDT6JLYM\n",
      "Waiting for confirmation...\n",
      "Transaction 5XZ6YQCJKVUAEU4HASW26Y5ZQR4EOZZIYIG4QKHGP3MG3TPZHR3A confirmed in round 23746.\n",
      "Auction App ID: 641\n",
      "Auction App Address: BN67VT3GVLNRS4GKKGDEZ6QPM6VVNOGGFKL6Q3K34TDKU2L7AWRHX77FKE\n",
      "Latest time: {b'TWA': b\"\\xa0\\x81}\\xb3\\xa7\\x97\\xdfk,>8\\xc4\\xcd;\\xe9'\\x0e-\\xc4\\xc1{lX\\xbf\\x92\\xc5=\\xac\\xcb\\xad\\x94\\xb4\", b'B_ADDR': b'\\x00\\x00\\x00\\x00\\x00\\x00\\x00\\x00\\x00\\x00\\x00\\x00\\x00\\x00\\x00\\x00\\x00\\x00\\x00\\x00\\x00\\x00\\x00\\x00\\x00\\x00\\x00\\x00\\x00\\x00\\x00\\x00', b'BA': 0, b'TKA': 100, b'DAA': b'0\\n\\xbcQ\\xb5>`\\xa8\\x1f\\xf8Y\\xeaV\\xb5\\xfd\\xb3\\xa7q\\x83\\xed\\xdb\\x13\\x1a\\xa7\\xd2,\\x8f\\xf0\\xc6\\xbcW\\xd0', b'min_bid_inc': 100000, b'end': 1640189390, b'reserve_amount': 1000000, b'num_bids': 0, b'SAA': b'c\\x8bE\\x89\\xff\\x00\\xae\\x9eQ\\xd8\\xb3G<\\xdc\\x97\\xdcF\\x00\\xa5%\\xae\\x03\\xa7\\xfd\\x99Rh\\xd2 \\xceI\\xf0', b'TK_ID': 499, b'S_ADDR': b'\\xc7!\\x1f\\xac\\x93\\xa5\\xd3\\n\\xc9\\xf1S\\x93\\xda\\x94q\\xd1\\xa2\\xed\\xb2rZx%\\xc9\\x0fOp\\xdd\\xef;\\xcf\\xce', b'start': 1640189360}\n"
     ]
    }
   ],
   "source": [
    "\n",
    "print(f\"seller address: {seller.get_address()}\")\n",
    "appID = create_auction_app(\n",
    "    client=client,\n",
    "    sender=creator,\n",
    "    seller=seller.get_address(),\n",
    "    token_id=asset_id,\n",
    "    token_amount=token_amount,\n",
    "    start_time=start_time,\n",
    "    end_time=end_time,\n",
    "    reserve=reserve,\n",
    "    min_bid_increment=increment,\n",
    "    store_app_address=get_application_address(storeAppID)\n",
    ")\n",
    "\n",
    "#appID = 527\n",
    "print(f\"Auction App ID: {appID}\")\n",
    "print(f\"Auction App Address: {get_application_address(appID)}\")\n",
    "print(\"Latest time:\", get_app_global_state(client, appID))"
   ]
  },
  {
   "cell_type": "markdown",
   "metadata": {},
   "source": [
    "Alice is setting up and funding token auction..."
   ]
  },
  {
   "cell_type": "code",
   "execution_count": 10,
   "metadata": {},
   "outputs": [
    {
     "name": "stdout",
     "output_type": "stream",
     "text": [
      "fund_app_txn: {'sender': 'GAFLYUNVHZQKQH7YLHVFNNP5WOTXDA7N3MJRVJ6SFSH7BRV4K7IJIZVAAI', 'fee': 1000, 'first_valid_round': 23746, 'last_valid_round': 24746, 'note': None, 'genesis_id': 'sandnet-v1', 'genesis_hash': 'S46yr60YjyJzK3Fk0J8V7mzMIOSxovaXAVqCHlwPl1A=', 'group': None, 'lease': None, 'type': 'pay', 'rekey_to': None, 'receiver': 'BN67VT3GVLNRS4GKKGDEZ6QPM6VVNOGGFKL6Q3K34TDKU2L7AWRHX77FKE', 'amt': 203000, 'close_remainder_to': None}\n",
      "setup_txn: {'sender': 'GAFLYUNVHZQKQH7YLHVFNNP5WOTXDA7N3MJRVJ6SFSH7BRV4K7IJIZVAAI', 'fee': 1000, 'first_valid_round': 23746, 'last_valid_round': 24746, 'note': None, 'genesis_id': 'sandnet-v1', 'genesis_hash': 'S46yr60YjyJzK3Fk0J8V7mzMIOSxovaXAVqCHlwPl1A=', 'group': None, 'lease': None, 'type': 'appl', 'rekey_to': None, 'index': 641, 'on_complete': <OnComplete.NoOpOC: 0>, 'local_schema': None, 'global_schema': None, 'approval_program': None, 'clear_program': None, 'app_args': [b'setup'], 'accounts': None, 'foreign_apps': None, 'foreign_assets': [499], 'extra_pages': 0}\n",
      "fund_token_txn: {'sender': 'Y4QR7LETUXJQVSPRKOJ5VFDR2GRO3MTSLJ4CLSIPJ5YN33Z3Z7HDT6JLYM', 'fee': 1000, 'first_valid_round': 23746, 'last_valid_round': 24746, 'note': None, 'genesis_id': 'sandnet-v1', 'genesis_hash': 'S46yr60YjyJzK3Fk0J8V7mzMIOSxovaXAVqCHlwPl1A=', 'group': None, 'lease': None, 'type': 'axfer', 'rekey_to': None, 'receiver': 'BN67VT3GVLNRS4GKKGDEZ6QPM6VVNOGGFKL6Q3K34TDKU2L7AWRHX77FKE', 'amount': 100, 'index': 499, 'close_assets_to': None, 'revocation_target': None}\n",
      "Waiting for confirmation...\n",
      "Transaction CD2UHVL22AYD3Y6PMODBUI5DGNHC76QEFQBHBXLMLYAK4ZSHZKZA confirmed in round 23748.\n",
      "Alice's algo balance:  20010522846594  algos\n"
     ]
    }
   ],
   "source": [
    "setup_auction_app(\n",
    "    client=client,\n",
    "    app_id=appID,\n",
    "    funder=creator,\n",
    "    token_holder=seller,\n",
    "    token_id=asset_id,\n",
    "    asset_amount=token_amount\n",
    ")\n",
    "\n",
    "sellerAlgosBefore = get_balances(client, seller.get_address())[0]\n",
    "\n",
    "print(\"Alice's algo balance: \", sellerAlgosBefore, \" algos\")"
   ]
  },
  {
   "cell_type": "code",
   "execution_count": 11,
   "metadata": {},
   "outputs": [
    {
     "name": "stdout",
     "output_type": "stream",
     "text": [
      "Bidder Address: LOUBIMVHXMWMJNC4ZBKTIQTGNLF36EIXTEVBD7BUHDMIXKSMKQRNIPMQ6I\n",
      "Bidder1 Address: CN4EQ6QXFCDLR2ATDTRJMMFGLXSUS5TMLGLO7FJDBQRQGFUXTUA4LBVEIA\n",
      "Bidder2 Address: 742N2DLQ6NUUQXNUTNIJHYXYGL6BWG7C2XSQDHLFJN2NFYDVAYYUAQ36NQ\n"
     ]
    }
   ],
   "source": [
    "bidder = Account.from_mnemonic(os.environ.get(\"BUYER_MN\"))\n",
    "bidder1 = Account.from_mnemonic(os.environ.get(\"BUYER1_MN\"))\n",
    "bidder2 = Account.from_mnemonic(os.environ.get(\"BUYER2_MN\"))\n",
    "\n",
    "print(f\"Bidder Address: {bidder.get_address()}\")\n",
    "print(f\"Bidder1 Address: {bidder1.get_address()}\")\n",
    "print(f\"Bidder2 Address: {bidder2.get_address()}\")"
   ]
  },
  {
   "cell_type": "code",
   "execution_count": 12,
   "metadata": {},
   "outputs": [
    {
     "name": "stdout",
     "output_type": "stream",
     "text": [
      "The smart contract now holds the following: {0: 202000, 499: 100}\n"
     ]
    }
   ],
   "source": [
    "# _, last_round_time = get_last_block_timestamp(client)\n",
    "# print(f\"start_time\", start_time)\n",
    "# print(f\"last_round_time\", last_round_time)\n",
    "# if last_round_time < start_time + 5:\n",
    "#     sleep(start_time + 5 - last_round_time)\n",
    "\n",
    "actualAppBalancesBefore = get_balances(client, get_application_address(appID))\n",
    "print(\"The smart contract now holds the following:\", actualAppBalancesBefore)"
   ]
  },
  {
   "cell_type": "code",
   "execution_count": 13,
   "metadata": {},
   "outputs": [
    {
     "name": "stdout",
     "output_type": "stream",
     "text": [
      "Carla wants to bid on token, her algo balance:  10005906815659  algos\n",
      "Carla is placing bid for:  1000000  algos\n"
     ]
    }
   ],
   "source": [
    "bidAmount = reserve\n",
    "bidderAlgosBefore = get_balances(client, bidder.get_address())[0]\n",
    "print(\"Carla wants to bid on token, her algo balance: \", bidderAlgosBefore, \" algos\")\n",
    "print(\"Carla is placing bid for: \", bidAmount, \" algos\")"
   ]
  },
  {
   "cell_type": "code",
   "execution_count": 14,
   "metadata": {},
   "outputs": [
    {
     "name": "stdout",
     "output_type": "stream",
     "text": [
      "lastRoundTime 1640156970\n",
      "Waiting for confirmation...\n",
      "Transaction USGN3BISOTKHM6OVZAMKJER3TDGI2DD4GDOONSOJPRUBVIYEKMRA confirmed in round 23750.\n",
      "Carla is opting into token with id: 499\n"
     ]
    }
   ],
   "source": [
    "_, lastRoundTime = get_last_block_timestamp(client)\n",
    "print(f\"lastRoundTime\", lastRoundTime)\n",
    "place_bid(client=client, app_id=appID, bidder=bidder, bid_amount=bidAmount)\n",
    "\n",
    "print(\"Carla is opting into token with id:\", asset_id)"
   ]
  },
  {
   "cell_type": "code",
   "execution_count": 15,
   "metadata": {},
   "outputs": [
    {
     "name": "stdout",
     "output_type": "stream",
     "text": [
      "Waiting for confirmation...\n",
      "Transaction S27MFGMVPJTECAXAONLOUGFBPPMPDPKODKHIKZQCSGLIMM6BB6IQ confirmed in round 23752.\n",
      "Waiting for confirmation...\n",
      "Transaction H3KHT3FPAWUOTXV24JURDH2DWMJEWXYL2DIEXMJCOAEJX26AK4ZA confirmed in round 23754.\n",
      "Waiting for confirmation...\n",
      "Transaction BG4NRF5CWLBMTKX4X4M4YGQXZG6WL7HANEFTAELHQ5H56GXITLRA confirmed in round 23756.\n",
      "Waiting for confirmation...\n",
      "Transaction BNI6BCROGYYLM2QSA53L4EW43QCTM5NYENP2HMZC3TIPQGYJRC2Q confirmed in round 23758.\n",
      "Waiting for confirmation...\n",
      "Transaction 5H52F3VG3FGSQHD4O2NK6PPEFXCAL6ABAUKG2LM36AJYWZ7VCP6Q confirmed in round 23760.\n"
     ]
    }
   ],
   "source": [
    "optin_to_asset(asset_id, bidder)\n",
    "\n",
    "bidAmount = reserve + 300_000\n",
    "place_bid(client=client, app_id=appID, bidder=bidder1, bid_amount=bidAmount)\n",
    "\n",
    "optin_to_asset(asset_id, bidder1)\n",
    "\n",
    "bidAmount = reserve + 500_000\n",
    "place_bid(client=client, app_id=appID, bidder=bidder2, bid_amount=bidAmount)\n",
    "\n",
    "optin_to_asset(asset_id, bidder2)"
   ]
  },
  {
   "cell_type": "markdown",
   "metadata": {},
   "source": [
    "Alice is closing out the auction...."
   ]
  },
  {
   "cell_type": "code",
   "execution_count": 16,
   "metadata": {},
   "outputs": [
    {
     "name": "stdout",
     "output_type": "stream",
     "text": [
      "app_global_state {b'BA': 1500000, b'TKA': 100, b'S_ADDR': b'\\xc7!\\x1f\\xac\\x93\\xa5\\xd3\\n\\xc9\\xf1S\\x93\\xda\\x94q\\xd1\\xa2\\xed\\xb2rZx%\\xc9\\x0fOp\\xdd\\xef;\\xcf\\xce', b'B_ADDR': b'\\xff4\\xdd\\rp\\xf3iH]\\xb4\\x9bP\\x93\\xe2\\xf82\\xfc\\x1b\\x1b\\xe2\\xd5\\xe5\\x01\\x9deKt\\xd2\\xe0u\\x061', b'DAA': b'0\\n\\xbcQ\\xb5>`\\xa8\\x1f\\xf8Y\\xeaV\\xb5\\xfd\\xb3\\xa7q\\x83\\xed\\xdb\\x13\\x1a\\xa7\\xd2,\\x8f\\xf0\\xc6\\xbcW\\xd0', b'SAA': b'c\\x8bE\\x89\\xff\\x00\\xae\\x9eQ\\xd8\\xb3G<\\xdc\\x97\\xdcF\\x00\\xa5%\\xae\\x03\\xa7\\xfd\\x99Rh\\xd2 \\xceI\\xf0', b'TWA': b\"\\xa0\\x81}\\xb3\\xa7\\x97\\xdfk,>8\\xc4\\xcd;\\xe9'\\x0e-\\xc4\\xc1{lX\\xbf\\x92\\xc5=\\xac\\xcb\\xad\\x94\\xb4\", b'TK_ID': 499, b'num_bids': 3, b'start': 1640189360, b'reserve_amount': 1000000, b'min_bid_inc': 100000, b'end': 1640189390}\n",
      "token_amount 100\n",
      "store_buying_txn: {'sender': 'GAFLYUNVHZQKQH7YLHVFNNP5WOTXDA7N3MJRVJ6SFSH7BRV4K7IJIZVAAI', 'fee': 1000, 'first_valid_round': 23760, 'last_valid_round': 24760, 'note': None, 'genesis_id': 'sandnet-v1', 'genesis_hash': 'S46yr60YjyJzK3Fk0J8V7mzMIOSxovaXAVqCHlwPl1A=', 'group': None, 'lease': None, 'type': 'appl', 'rekey_to': None, 'index': 635, 'on_complete': <OnComplete.NoOpOC: 0>, 'local_schema': None, 'global_schema': None, 'approval_program': None, 'clear_program': None, 'app_args': [b'buy', b'\\x00\\x00\\x00\\x00\\x00\\x00\\x00d'], 'accounts': ['Y4QR7LETUXJQVSPRKOJ5VFDR2GRO3MTSLJ4CLSIPJ5YN33Z3Z7HDT6JLYM', '742N2DLQ6NUUQXNUTNIJHYXYGL6BWG7C2XSQDHLFJN2NFYDVAYYUAQ36NQ'], 'foreign_apps': None, 'foreign_assets': [499], 'extra_pages': 0}\n",
      "Waiting for confirmation...\n",
      "Transaction SCJNVUO4VIVGC3GEOYMTJM4AWZAZIMIFES3KMRXHYSFXGF6EN4HQ confirmed in round 23762.\n",
      "['Y4QR7LETUXJQVSPRKOJ5VFDR2GRO3MTSLJ4CLSIPJ5YN33Z3Z7HDT6JLYM', '742N2DLQ6NUUQXNUTNIJHYXYGL6BWG7C2XSQDHLFJN2NFYDVAYYUAQ36NQ', 'UCAX3M5HS7PWWLB6HDCM2O7JE4HC3RGBPNWFRP4SYU62ZS5NSS2GFOKIOU', 'GAFLYUNVHZQKQH7YLHVFNNP5WOTXDA7N3MJRVJ6SFSH7BRV4K7IJIZVAAI']\n",
      "Waiting for confirmation...\n",
      "Transaction 32V5L6ACWUVGIR3TY6V2JVI4TMGNUGWHCYDQC7IJUE2DXJCOJWDA confirmed in round 23764.\n"
     ]
    }
   ],
   "source": [
    "# _, lastRoundTime = get_last_block_timestamp(client)\n",
    "# if lastRoundTime < end_time + 5:\n",
    "#     sleep(end_time + 5 - lastRoundTime)\n",
    "\n",
    "close_auction(client, appID, storeAppID, creator, seller)"
   ]
  },
  {
   "cell_type": "code",
   "execution_count": 22,
   "metadata": {},
   "outputs": [
    {
     "name": "stdout",
     "output_type": "stream",
     "text": [
      "The smart contract now holds the following: {0: 143647}\n",
      "storeAppID 635\n",
      "{b'TKSA': 100}\n",
      "{}\n",
      "{}\n",
      "{b'TKBA': 100}\n"
     ]
    }
   ],
   "source": [
    "actualAppBalances = get_balances(client, get_application_address(appID))\n",
    "expectedAppBalances = {0: 0}\n",
    "print(\"The smart contract now holds the following:\", actualAppBalances)\n",
    "print(f\"storeAppID\", storeAppID)\n",
    "#assert actualAppBalances == expectedAppBalances\n",
    "\n",
    "from utils import get_app_local_state\n",
    "print(get_app_local_state(client, storeAppID, seller.get_address()))\n",
    "print(get_app_local_state(client, storeAppID, bidder.get_address()))\n",
    "print(get_app_local_state(client, storeAppID, bidder1.get_address()))\n",
    "print(get_app_local_state(client, storeAppID, bidder2.get_address()))"
   ]
  },
  {
   "cell_type": "code",
   "execution_count": null,
   "metadata": {},
   "outputs": [],
   "source": [
    "#bidderNftBalance = get_balances(client, bidder.get_address())[asset_id]\n",
    "bidder1NftBalance = get_balances(client, bidder1.get_address())[asset_id]\n",
    "#bidder2NftBalance = get_balances(client, bidder2.get_address())[asset_id]\n",
    "\n",
    "print(\"Carla's NFT balance:\", bidder1NftBalance, \" for token ID: \", asset_id)\n",
    "\n",
    "assert bidder1NftBalance == 1\n",
    "\n",
    "actualSellerBalances = get_balances(client, seller.get_address())\n",
    "print(\"Alice's balances after auction: \", actualSellerBalances, \" Algos\")\n",
    "actualBidderBalances = get_balances(client, bidder.get_address())\n",
    "print(\"Carla's balances after auction: \", actualBidderBalances, \" Algos\")\n",
    "# assert len(actualSellerBalances) == 2\n",
    "# seller should receive the bid amount, minus the txn fee\n",
    "assert actualSellerBalances[0] >= sellerAlgosBefore + bidAmount - 1_000\n",
    "assert actualSellerBalances[asset_id] == 0"
   ]
  },
  {
   "cell_type": "code",
   "execution_count": null,
   "metadata": {},
   "outputs": [],
   "source": [
    "storeAppState = get_app_global_state(client, 591)\n",
    "print(storeAppState)"
   ]
  }
 ],
 "metadata": {
  "interpreter": {
   "hash": "d8d32039960e27bf02cc380478024df65258985d3f6246b5f3627ebac0bfeee0"
  },
  "kernelspec": {
   "display_name": "Python 3.8.10 64-bit ('venv': venv)",
   "language": "python",
   "name": "python3"
  },
  "language_info": {
   "codemirror_mode": {
    "name": "ipython",
    "version": 3
   },
   "file_extension": ".py",
   "mimetype": "text/x-python",
   "name": "python",
   "nbconvert_exporter": "python",
   "pygments_lexer": "ipython3",
   "version": "3.9.9"
  },
  "orig_nbformat": 4
 },
 "nbformat": 4,
 "nbformat_minor": 2
}

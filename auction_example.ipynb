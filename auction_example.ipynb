{
 "cells": [
  {
   "cell_type": "code",
   "execution_count": 1,
   "metadata": {},
   "outputs": [],
   "source": [
    "import os\n",
    "\n",
    "import dotenv\n",
    "\n",
    "from time import time, sleep\n",
    "from algosdk.future import transaction\n",
    "from algosdk.logic import get_application_address\n",
    "\n",
    "from auction.operations import create_auction_app, setup_auction_app, place_bid, close_auction\n",
    "from utils import get_algod_client, wait_for_confirmation, get_balances, get_last_block_timestamp\n",
    "from account import Account"
   ]
  },
  {
   "cell_type": "code",
   "execution_count": 2,
   "metadata": {},
   "outputs": [
    {
     "name": "stdout",
     "output_type": "stream",
     "text": [
      "https://testnet-algorand.api.purestake.io/ps2\n"
     ]
    }
   ],
   "source": [
    "dotenv.load_dotenv('.env')\n",
    "print(os.environ.get('ALGOD_URL'))\n",
    "\n",
    "client = get_algod_client(os.environ.get('ALGOD_URL'), os.environ.get('ALGOD_TOKEN'))"
   ]
  },
  {
   "cell_type": "code",
   "execution_count": 3,
   "metadata": {},
   "outputs": [],
   "source": [
    "def optin_to_asset(asset_id, sender: Account):\n",
    "    txn = transaction.AssetOptInTxn(\n",
    "        sender=sender.get_address(),\n",
    "        sp=client.suggested_params(),\n",
    "        index=asset_id\n",
    "    )\n",
    "    signed_txn = txn.sign(sender.get_private_key())\n",
    "\n",
    "    client.send_transaction(signed_txn)\n",
    "\n",
    "    wait_for_confirmation(client, signed_txn.get_txid())"
   ]
  },
  {
   "cell_type": "code",
   "execution_count": 4,
   "metadata": {},
   "outputs": [
    {
     "name": "stdout",
     "output_type": "stream",
     "text": [
      "Creator address: CN4EQ6QXFCDLR2ATDTRJMMFGLXSUS5TMLGLO7FJDBQRQGFUXTUA4LBVEIA\n",
      "Seller Address: Y4QR7LETUXJQVSPRKOJ5VFDR2GRO3MTSLJ4CLSIPJ5YN33Z3Z7HDT6JLYM\n"
     ]
    }
   ],
   "source": [
    "creator = Account.from_mnemonic(os.environ.get(\"CREATOR_MN\"))\n",
    "seller = Account.from_mnemonic(os.environ.get(\"SELLER_MN\"))\n",
    "\n",
    "print(f\"Creator address: {creator.get_address()}\")\n",
    "print(f\"Seller Address: {seller.get_address()}\")"
   ]
  },
  {
   "cell_type": "markdown",
   "metadata": {},
   "source": [
    "Alice is generating an example token..."
   ]
  },
  {
   "cell_type": "code",
   "execution_count": 5,
   "metadata": {},
   "outputs": [
    {
     "name": "stdout",
     "output_type": "stream",
     "text": [
      "Waiting for confirmation...\n",
      "Transaction M4IG76XYCV4MVPSQARPFGW3BEMK2KHVFASLYSBD7M6DADN22MMGQ confirmed in round 18478991.\n",
      "The token id is: 51559593\n"
     ]
    }
   ],
   "source": [
    "def create_dummy_asset(sender: Account, total: int, decimals: int, asset_name: str, unit_name: str):\n",
    "    txn = transaction.AssetConfigTxn(\n",
    "        sender=sender.get_address(),\n",
    "        sp=client.suggested_params(),\n",
    "        total=total,\n",
    "        decimals=decimals,\n",
    "        asset_name=asset_name,\n",
    "        unit_name=unit_name,\n",
    "        default_frozen=False,\n",
    "        strict_empty_address_check=False,\n",
    "    )\n",
    "    signed_txn = txn.sign(sender.get_private_key())\n",
    "\n",
    "    client.send_transaction(signed_txn)\n",
    "\n",
    "    response = wait_for_confirmation(client, signed_txn.get_txid())\n",
    "    assert response.asset_index is not None and response.asset_index > 0\n",
    "    return response.asset_index\n",
    "\n",
    "asset_id = create_dummy_asset(seller, 1, 0, \"example token\", \"AVT\")\n",
    "print(f\"The token id is: {asset_id}\")"
   ]
  },
  {
   "cell_type": "code",
   "execution_count": 6,
   "metadata": {},
   "outputs": [],
   "source": [
    "start_time = int(time()) + 10\n",
    "end_time = start_time + 10\n",
    "reserve = 1_000_000  # 1 Algo\n",
    "increment = 100_000  # 0.1 Algo"
   ]
  },
  {
   "cell_type": "markdown",
   "metadata": {},
   "source": [
    "\"Alice is creating auction smart contract that lasts 30 seconds to auction off token...\""
   ]
  },
  {
   "cell_type": "code",
   "execution_count": 7,
   "metadata": {},
   "outputs": [
    {
     "name": "stdout",
     "output_type": "stream",
     "text": [
      "seller address: Y4QR7LETUXJQVSPRKOJ5VFDR2GRO3MTSLJ4CLSIPJ5YN33Z3Z7HDT6JLYM\n",
      "Waiting for confirmation...\n",
      "Transaction 7KVICINKX27XNRWCLUAFAY7BE7DALITR2FXGNUVYYJU7FDDLYJFQ confirmed in round 18478994.\n",
      "App ID: 51559610\n",
      "App Address: RJIBBT4ULY74L2PLOUCP4UAEDFGOWWERQHI6WMCECOJVILT5NTKE76MMZU\n"
     ]
    }
   ],
   "source": [
    "print(f\"seller address: {seller.get_address()}\")\n",
    "appID = create_auction_app(\n",
    "    client=client,\n",
    "    sender=creator,\n",
    "    seller=seller.get_address(),\n",
    "    token_id=asset_id,\n",
    "    start_time=start_time,\n",
    "    end_time=end_time,\n",
    "    reserve=reserve,\n",
    "    min_bid_increment=increment,\n",
    ")\n",
    "print(f\"App ID: {appID}\")\n",
    "print(f\"App Address: {get_application_address(appID)}\")"
   ]
  },
  {
   "cell_type": "markdown",
   "metadata": {},
   "source": [
    "Alice is setting up and funding token auction..."
   ]
  },
  {
   "cell_type": "code",
   "execution_count": 8,
   "metadata": {},
   "outputs": [
    {
     "name": "stdout",
     "output_type": "stream",
     "text": [
      "fund_app_txn: {'sender': 'CN4EQ6QXFCDLR2ATDTRJMMFGLXSUS5TMLGLO7FJDBQRQGFUXTUA4LBVEIA', 'fee': 1000, 'first_valid_round': 18478994, 'last_valid_round': 18479994, 'note': None, 'genesis_id': 'testnet-v1.0', 'genesis_hash': 'SGO1GKSzyE7IEPItTxCByw9x8FmnrCDexi9/cOUJOiI=', 'group': None, 'lease': None, 'type': 'pay', 'rekey_to': None, 'receiver': 'RJIBBT4ULY74L2PLOUCP4UAEDFGOWWERQHI6WMCECOJVILT5NTKE76MMZU', 'amt': 203000, 'close_remainder_to': None}\n",
      "setup_txn: {'sender': 'CN4EQ6QXFCDLR2ATDTRJMMFGLXSUS5TMLGLO7FJDBQRQGFUXTUA4LBVEIA', 'fee': 1000, 'first_valid_round': 18478994, 'last_valid_round': 18479994, 'note': None, 'genesis_id': 'testnet-v1.0', 'genesis_hash': 'SGO1GKSzyE7IEPItTxCByw9x8FmnrCDexi9/cOUJOiI=', 'group': None, 'lease': None, 'type': 'appl', 'rekey_to': None, 'index': 51559610, 'on_complete': <OnComplete.NoOpOC: 0>, 'local_schema': None, 'global_schema': None, 'approval_program': None, 'clear_program': None, 'app_args': [b'setup'], 'accounts': None, 'foreign_apps': None, 'foreign_assets': [51559593], 'extra_pages': 0}\n",
      "fund_token_txn: {'sender': 'Y4QR7LETUXJQVSPRKOJ5VFDR2GRO3MTSLJ4CLSIPJ5YN33Z3Z7HDT6JLYM', 'fee': 1000, 'first_valid_round': 18478994, 'last_valid_round': 18479994, 'note': None, 'genesis_id': 'testnet-v1.0', 'genesis_hash': 'SGO1GKSzyE7IEPItTxCByw9x8FmnrCDexi9/cOUJOiI=', 'group': None, 'lease': None, 'type': 'axfer', 'rekey_to': None, 'receiver': 'RJIBBT4ULY74L2PLOUCP4UAEDFGOWWERQHI6WMCECOJVILT5NTKE76MMZU', 'amount': 1, 'index': 51559593, 'close_assets_to': None, 'revocation_target': None}\n",
      "Waiting for confirmation...\n",
      "Waiting for confirmation...\n",
      "Waiting for confirmation...\n",
      "Waiting for confirmation...\n",
      "Waiting for confirmation...\n",
      "Waiting for confirmation...\n",
      "Waiting for confirmation...\n",
      "Waiting for confirmation...\n",
      "Waiting for confirmation...\n",
      "Waiting for confirmation...\n",
      "Waiting for confirmation...\n",
      "Waiting for confirmation...\n",
      "Waiting for confirmation...\n",
      "Waiting for confirmation...\n",
      "Waiting for confirmation...\n",
      "Waiting for confirmation...\n",
      "Waiting for confirmation...\n",
      "Waiting for confirmation...\n",
      "Waiting for confirmation...\n",
      "Waiting for confirmation...\n",
      "Waiting for confirmation...\n",
      "Waiting for confirmation...\n",
      "Waiting for confirmation...\n",
      "Waiting for confirmation...\n",
      "Waiting for confirmation...\n",
      "Waiting for confirmation...\n",
      "Waiting for confirmation...\n",
      "Waiting for confirmation...\n",
      "Waiting for confirmation...\n",
      "Waiting for confirmation...\n",
      "Waiting for confirmation...\n",
      "Waiting for confirmation...\n",
      "Waiting for confirmation...\n",
      "Waiting for confirmation...\n",
      "Waiting for confirmation...\n",
      "Waiting for confirmation...\n",
      "Waiting for confirmation...\n",
      "Waiting for confirmation...\n",
      "Waiting for confirmation...\n",
      "Waiting for confirmation...\n",
      "Waiting for confirmation...\n",
      "Waiting for confirmation...\n",
      "Waiting for confirmation...\n",
      "Waiting for confirmation...\n",
      "Waiting for confirmation...\n",
      "Waiting for confirmation...\n",
      "Waiting for confirmation...\n",
      "Waiting for confirmation...\n",
      "Waiting for confirmation...\n",
      "Waiting for confirmation...\n",
      "Waiting for confirmation...\n",
      "Waiting for confirmation...\n",
      "Waiting for confirmation...\n",
      "Waiting for confirmation...\n",
      "Waiting for confirmation...\n",
      "Waiting for confirmation...\n",
      "Waiting for confirmation...\n",
      "Waiting for confirmation...\n",
      "Waiting for confirmation...\n",
      "Waiting for confirmation...\n",
      "Waiting for confirmation...\n",
      "Waiting for confirmation...\n",
      "Waiting for confirmation...\n",
      "Waiting for confirmation...\n",
      "Waiting for confirmation...\n",
      "Waiting for confirmation...\n",
      "Waiting for confirmation...\n",
      "Waiting for confirmation...\n",
      "Waiting for confirmation...\n",
      "Waiting for confirmation...\n",
      "Waiting for confirmation...\n",
      "Waiting for confirmation...\n",
      "Waiting for confirmation...\n",
      "Waiting for confirmation...\n",
      "Waiting for confirmation...\n",
      "Waiting for confirmation...\n",
      "Waiting for confirmation...\n",
      "Waiting for confirmation...\n",
      "Waiting for confirmation...\n",
      "Waiting for confirmation...\n",
      "Waiting for confirmation...\n",
      "Waiting for confirmation...\n",
      "Waiting for confirmation...\n",
      "Waiting for confirmation...\n",
      "Waiting for confirmation...\n",
      "Waiting for confirmation...\n",
      "Waiting for confirmation...\n",
      "Waiting for confirmation...\n",
      "Waiting for confirmation...\n",
      "Waiting for confirmation...\n",
      "Waiting for confirmation...\n",
      "Waiting for confirmation...\n",
      "Waiting for confirmation...\n",
      "Waiting for confirmation...\n",
      "Waiting for confirmation...\n",
      "Waiting for confirmation...\n",
      "Waiting for confirmation...\n",
      "Waiting for confirmation...\n",
      "Waiting for confirmation...\n",
      "Waiting for confirmation...\n",
      "Waiting for confirmation...\n",
      "Waiting for confirmation...\n",
      "Waiting for confirmation...\n",
      "Waiting for confirmation...\n",
      "Waiting for confirmation...\n",
      "Waiting for confirmation...\n",
      "Waiting for confirmation...\n",
      "Waiting for confirmation...\n",
      "Waiting for confirmation...\n",
      "Waiting for confirmation...\n",
      "Waiting for confirmation...\n",
      "Waiting for confirmation...\n",
      "Waiting for confirmation...\n",
      "Waiting for confirmation...\n",
      "Waiting for confirmation...\n",
      "Waiting for confirmation...\n",
      "Waiting for confirmation...\n",
      "Waiting for confirmation...\n",
      "Waiting for confirmation...\n",
      "Waiting for confirmation...\n",
      "Waiting for confirmation...\n",
      "Waiting for confirmation...\n",
      "Waiting for confirmation...\n",
      "Waiting for confirmation...\n",
      "Waiting for confirmation...\n",
      "Waiting for confirmation...\n",
      "Waiting for confirmation...\n",
      "Waiting for confirmation...\n",
      "Waiting for confirmation...\n",
      "Waiting for confirmation...\n",
      "Waiting for confirmation...\n",
      "Waiting for confirmation...\n",
      "Waiting for confirmation...\n",
      "Waiting for confirmation...\n",
      "Waiting for confirmation...\n",
      "Waiting for confirmation...\n",
      "Waiting for confirmation...\n",
      "Waiting for confirmation...\n",
      "Waiting for confirmation...\n",
      "Waiting for confirmation...\n",
      "Waiting for confirmation...\n",
      "Waiting for confirmation...\n",
      "Waiting for confirmation...\n",
      "Waiting for confirmation...\n",
      "Waiting for confirmation...\n",
      "Waiting for confirmation...\n",
      "Waiting for confirmation...\n",
      "Waiting for confirmation...\n",
      "Waiting for confirmation...\n",
      "Waiting for confirmation...\n",
      "Waiting for confirmation...\n",
      "Waiting for confirmation...\n",
      "Waiting for confirmation...\n",
      "Waiting for confirmation...\n",
      "Waiting for confirmation...\n",
      "Waiting for confirmation...\n",
      "Waiting for confirmation...\n",
      "Waiting for confirmation...\n",
      "Waiting for confirmation...\n",
      "Waiting for confirmation...\n",
      "Waiting for confirmation...\n",
      "Waiting for confirmation...\n",
      "Waiting for confirmation...\n",
      "Waiting for confirmation...\n",
      "Waiting for confirmation...\n",
      "Waiting for confirmation...\n",
      "Waiting for confirmation...\n",
      "Waiting for confirmation...\n",
      "Waiting for confirmation...\n",
      "Waiting for confirmation...\n",
      "Waiting for confirmation...\n",
      "Waiting for confirmation...\n",
      "Waiting for confirmation...\n",
      "Waiting for confirmation...\n",
      "Waiting for confirmation...\n",
      "Waiting for confirmation...\n",
      "Waiting for confirmation...\n",
      "Waiting for confirmation...\n",
      "Waiting for confirmation...\n",
      "Waiting for confirmation...\n",
      "Waiting for confirmation...\n",
      "Waiting for confirmation...\n",
      "Waiting for confirmation...\n",
      "Waiting for confirmation...\n",
      "Waiting for confirmation...\n",
      "Waiting for confirmation...\n",
      "Waiting for confirmation...\n",
      "Waiting for confirmation...\n",
      "Waiting for confirmation...\n",
      "Waiting for confirmation...\n",
      "Waiting for confirmation...\n",
      "Waiting for confirmation...\n",
      "Waiting for confirmation...\n",
      "Waiting for confirmation...\n",
      "Waiting for confirmation...\n",
      "Waiting for confirmation...\n",
      "Waiting for confirmation...\n",
      "Waiting for confirmation...\n",
      "Waiting for confirmation...\n",
      "Waiting for confirmation...\n",
      "Waiting for confirmation...\n",
      "Waiting for confirmation...\n",
      "Waiting for confirmation...\n",
      "Waiting for confirmation...\n",
      "Waiting for confirmation...\n",
      "Waiting for confirmation...\n",
      "Waiting for confirmation...\n",
      "Waiting for confirmation...\n",
      "Waiting for confirmation...\n",
      "Waiting for confirmation...\n",
      "Waiting for confirmation...\n",
      "Waiting for confirmation...\n",
      "Waiting for confirmation...\n",
      "Waiting for confirmation...\n",
      "Waiting for confirmation...\n",
      "Waiting for confirmation...\n",
      "Waiting for confirmation...\n",
      "Waiting for confirmation...\n",
      "Waiting for confirmation...\n",
      "Waiting for confirmation...\n",
      "Waiting for confirmation...\n",
      "Waiting for confirmation...\n",
      "Waiting for confirmation...\n",
      "Waiting for confirmation...\n",
      "Waiting for confirmation...\n",
      "Waiting for confirmation...\n",
      "Waiting for confirmation...\n",
      "Waiting for confirmation...\n",
      "Waiting for confirmation...\n",
      "Waiting for confirmation...\n",
      "Waiting for confirmation...\n",
      "Waiting for confirmation...\n",
      "Waiting for confirmation...\n",
      "Waiting for confirmation...\n",
      "Waiting for confirmation...\n",
      "Waiting for confirmation...\n",
      "Waiting for confirmation...\n",
      "Waiting for confirmation...\n",
      "Waiting for confirmation...\n",
      "Waiting for confirmation...\n",
      "Waiting for confirmation...\n",
      "Waiting for confirmation...\n",
      "Waiting for confirmation...\n",
      "Waiting for confirmation...\n",
      "Waiting for confirmation...\n",
      "Waiting for confirmation...\n",
      "Waiting for confirmation...\n",
      "Waiting for confirmation...\n",
      "Waiting for confirmation...\n",
      "Waiting for confirmation...\n",
      "Waiting for confirmation...\n",
      "Waiting for confirmation...\n",
      "Waiting for confirmation...\n",
      "Waiting for confirmation...\n",
      "Waiting for confirmation...\n",
      "Waiting for confirmation...\n",
      "Waiting for confirmation...\n",
      "Waiting for confirmation...\n",
      "Waiting for confirmation...\n",
      "Waiting for confirmation...\n",
      "Waiting for confirmation...\n",
      "Waiting for confirmation...\n",
      "Waiting for confirmation...\n",
      "Waiting for confirmation...\n",
      "Waiting for confirmation...\n",
      "Waiting for confirmation...\n",
      "Waiting for confirmation...\n",
      "Waiting for confirmation...\n",
      "Waiting for confirmation...\n",
      "Waiting for confirmation...\n",
      "Waiting for confirmation...\n",
      "Waiting for confirmation...\n",
      "Waiting for confirmation...\n",
      "Waiting for confirmation...\n",
      "Waiting for confirmation...\n",
      "Waiting for confirmation...\n",
      "Waiting for confirmation...\n",
      "Waiting for confirmation...\n",
      "Waiting for confirmation...\n",
      "Waiting for confirmation...\n",
      "Waiting for confirmation...\n",
      "Waiting for confirmation...\n",
      "Waiting for confirmation...\n",
      "Waiting for confirmation...\n",
      "Waiting for confirmation...\n",
      "Waiting for confirmation...\n",
      "Waiting for confirmation...\n",
      "Waiting for confirmation...\n",
      "Waiting for confirmation...\n",
      "Waiting for confirmation...\n",
      "Waiting for confirmation...\n",
      "Waiting for confirmation...\n",
      "Waiting for confirmation...\n",
      "Waiting for confirmation...\n",
      "Waiting for confirmation...\n",
      "Waiting for confirmation...\n",
      "Waiting for confirmation...\n",
      "Waiting for confirmation...\n",
      "Waiting for confirmation...\n",
      "Waiting for confirmation...\n",
      "Waiting for confirmation...\n",
      "Waiting for confirmation...\n",
      "Waiting for confirmation...\n",
      "Waiting for confirmation...\n",
      "Waiting for confirmation...\n",
      "Waiting for confirmation...\n",
      "Waiting for confirmation...\n",
      "Waiting for confirmation...\n",
      "Waiting for confirmation...\n",
      "Waiting for confirmation...\n",
      "Waiting for confirmation...\n",
      "Waiting for confirmation...\n",
      "Waiting for confirmation...\n",
      "Waiting for confirmation...\n",
      "Waiting for confirmation...\n",
      "Waiting for confirmation...\n",
      "Waiting for confirmation...\n",
      "Waiting for confirmation...\n",
      "Waiting for confirmation...\n",
      "Waiting for confirmation...\n",
      "Waiting for confirmation...\n",
      "Waiting for confirmation...\n",
      "Waiting for confirmation...\n",
      "Waiting for confirmation...\n",
      "Waiting for confirmation...\n",
      "Waiting for confirmation...\n",
      "Waiting for confirmation...\n",
      "Waiting for confirmation...\n",
      "Waiting for confirmation...\n",
      "Waiting for confirmation...\n",
      "Waiting for confirmation...\n",
      "Waiting for confirmation...\n",
      "Waiting for confirmation...\n",
      "Waiting for confirmation...\n",
      "Waiting for confirmation...\n",
      "Waiting for confirmation...\n",
      "Waiting for confirmation...\n",
      "Waiting for confirmation...\n",
      "Waiting for confirmation...\n",
      "Waiting for confirmation...\n",
      "Waiting for confirmation...\n",
      "Waiting for confirmation...\n",
      "Waiting for confirmation...\n",
      "Waiting for confirmation...\n",
      "Waiting for confirmation...\n"
     ]
    },
    {
     "ename": "URLError",
     "evalue": "<urlopen error EOF occurred in violation of protocol (_ssl.c:1129)>",
     "output_type": "error",
     "traceback": [
      "\u001b[0;31m---------------------------------------------------------------------------\u001b[0m",
      "\u001b[0;31mSSLEOFError\u001b[0m                               Traceback (most recent call last)",
      "\u001b[0;32m/usr/local/Cellar/python@3.9/3.9.7_1/Frameworks/Python.framework/Versions/3.9/lib/python3.9/urllib/request.py\u001b[0m in \u001b[0;36mdo_open\u001b[0;34m(self, http_class, req, **http_conn_args)\u001b[0m\n\u001b[1;32m   1345\u001b[0m             \u001b[0;32mtry\u001b[0m\u001b[0;34m:\u001b[0m\u001b[0;34m\u001b[0m\u001b[0;34m\u001b[0m\u001b[0m\n\u001b[0;32m-> 1346\u001b[0;31m                 h.request(req.get_method(), req.selector, req.data, headers,\n\u001b[0m\u001b[1;32m   1347\u001b[0m                           encode_chunked=req.has_header('Transfer-encoding'))\n",
      "\u001b[0;32m/usr/local/Cellar/python@3.9/3.9.7_1/Frameworks/Python.framework/Versions/3.9/lib/python3.9/http/client.py\u001b[0m in \u001b[0;36mrequest\u001b[0;34m(self, method, url, body, headers, encode_chunked)\u001b[0m\n\u001b[1;32m   1278\u001b[0m         \u001b[0;34m\"\"\"Send a complete request to the server.\"\"\"\u001b[0m\u001b[0;34m\u001b[0m\u001b[0;34m\u001b[0m\u001b[0m\n\u001b[0;32m-> 1279\u001b[0;31m         \u001b[0mself\u001b[0m\u001b[0;34m.\u001b[0m\u001b[0m_send_request\u001b[0m\u001b[0;34m(\u001b[0m\u001b[0mmethod\u001b[0m\u001b[0;34m,\u001b[0m \u001b[0murl\u001b[0m\u001b[0;34m,\u001b[0m \u001b[0mbody\u001b[0m\u001b[0;34m,\u001b[0m \u001b[0mheaders\u001b[0m\u001b[0;34m,\u001b[0m \u001b[0mencode_chunked\u001b[0m\u001b[0;34m)\u001b[0m\u001b[0;34m\u001b[0m\u001b[0;34m\u001b[0m\u001b[0m\n\u001b[0m\u001b[1;32m   1280\u001b[0m \u001b[0;34m\u001b[0m\u001b[0m\n",
      "\u001b[0;32m/usr/local/Cellar/python@3.9/3.9.7_1/Frameworks/Python.framework/Versions/3.9/lib/python3.9/http/client.py\u001b[0m in \u001b[0;36m_send_request\u001b[0;34m(self, method, url, body, headers, encode_chunked)\u001b[0m\n\u001b[1;32m   1324\u001b[0m             \u001b[0mbody\u001b[0m \u001b[0;34m=\u001b[0m \u001b[0m_encode\u001b[0m\u001b[0;34m(\u001b[0m\u001b[0mbody\u001b[0m\u001b[0;34m,\u001b[0m \u001b[0;34m'body'\u001b[0m\u001b[0;34m)\u001b[0m\u001b[0;34m\u001b[0m\u001b[0;34m\u001b[0m\u001b[0m\n\u001b[0;32m-> 1325\u001b[0;31m         \u001b[0mself\u001b[0m\u001b[0;34m.\u001b[0m\u001b[0mendheaders\u001b[0m\u001b[0;34m(\u001b[0m\u001b[0mbody\u001b[0m\u001b[0;34m,\u001b[0m \u001b[0mencode_chunked\u001b[0m\u001b[0;34m=\u001b[0m\u001b[0mencode_chunked\u001b[0m\u001b[0;34m)\u001b[0m\u001b[0;34m\u001b[0m\u001b[0;34m\u001b[0m\u001b[0m\n\u001b[0m\u001b[1;32m   1326\u001b[0m \u001b[0;34m\u001b[0m\u001b[0m\n",
      "\u001b[0;32m/usr/local/Cellar/python@3.9/3.9.7_1/Frameworks/Python.framework/Versions/3.9/lib/python3.9/http/client.py\u001b[0m in \u001b[0;36mendheaders\u001b[0;34m(self, message_body, encode_chunked)\u001b[0m\n\u001b[1;32m   1273\u001b[0m             \u001b[0;32mraise\u001b[0m \u001b[0mCannotSendHeader\u001b[0m\u001b[0;34m(\u001b[0m\u001b[0;34m)\u001b[0m\u001b[0;34m\u001b[0m\u001b[0;34m\u001b[0m\u001b[0m\n\u001b[0;32m-> 1274\u001b[0;31m         \u001b[0mself\u001b[0m\u001b[0;34m.\u001b[0m\u001b[0m_send_output\u001b[0m\u001b[0;34m(\u001b[0m\u001b[0mmessage_body\u001b[0m\u001b[0;34m,\u001b[0m \u001b[0mencode_chunked\u001b[0m\u001b[0;34m=\u001b[0m\u001b[0mencode_chunked\u001b[0m\u001b[0;34m)\u001b[0m\u001b[0;34m\u001b[0m\u001b[0;34m\u001b[0m\u001b[0m\n\u001b[0m\u001b[1;32m   1275\u001b[0m \u001b[0;34m\u001b[0m\u001b[0m\n",
      "\u001b[0;32m/usr/local/Cellar/python@3.9/3.9.7_1/Frameworks/Python.framework/Versions/3.9/lib/python3.9/http/client.py\u001b[0m in \u001b[0;36m_send_output\u001b[0;34m(self, message_body, encode_chunked)\u001b[0m\n\u001b[1;32m   1033\u001b[0m         \u001b[0;32mdel\u001b[0m \u001b[0mself\u001b[0m\u001b[0;34m.\u001b[0m\u001b[0m_buffer\u001b[0m\u001b[0;34m[\u001b[0m\u001b[0;34m:\u001b[0m\u001b[0;34m]\u001b[0m\u001b[0;34m\u001b[0m\u001b[0;34m\u001b[0m\u001b[0m\n\u001b[0;32m-> 1034\u001b[0;31m         \u001b[0mself\u001b[0m\u001b[0;34m.\u001b[0m\u001b[0msend\u001b[0m\u001b[0;34m(\u001b[0m\u001b[0mmsg\u001b[0m\u001b[0;34m)\u001b[0m\u001b[0;34m\u001b[0m\u001b[0;34m\u001b[0m\u001b[0m\n\u001b[0m\u001b[1;32m   1035\u001b[0m \u001b[0;34m\u001b[0m\u001b[0m\n",
      "\u001b[0;32m/usr/local/Cellar/python@3.9/3.9.7_1/Frameworks/Python.framework/Versions/3.9/lib/python3.9/http/client.py\u001b[0m in \u001b[0;36msend\u001b[0;34m(self, data)\u001b[0m\n\u001b[1;32m    973\u001b[0m             \u001b[0;32mif\u001b[0m \u001b[0mself\u001b[0m\u001b[0;34m.\u001b[0m\u001b[0mauto_open\u001b[0m\u001b[0;34m:\u001b[0m\u001b[0;34m\u001b[0m\u001b[0;34m\u001b[0m\u001b[0m\n\u001b[0;32m--> 974\u001b[0;31m                 \u001b[0mself\u001b[0m\u001b[0;34m.\u001b[0m\u001b[0mconnect\u001b[0m\u001b[0;34m(\u001b[0m\u001b[0;34m)\u001b[0m\u001b[0;34m\u001b[0m\u001b[0;34m\u001b[0m\u001b[0m\n\u001b[0m\u001b[1;32m    975\u001b[0m             \u001b[0;32melse\u001b[0m\u001b[0;34m:\u001b[0m\u001b[0;34m\u001b[0m\u001b[0;34m\u001b[0m\u001b[0m\n",
      "\u001b[0;32m/usr/local/Cellar/python@3.9/3.9.7_1/Frameworks/Python.framework/Versions/3.9/lib/python3.9/http/client.py\u001b[0m in \u001b[0;36mconnect\u001b[0;34m(self)\u001b[0m\n\u001b[1;32m   1447\u001b[0m \u001b[0;34m\u001b[0m\u001b[0m\n\u001b[0;32m-> 1448\u001b[0;31m             self.sock = self._context.wrap_socket(self.sock,\n\u001b[0m\u001b[1;32m   1449\u001b[0m                                                   server_hostname=server_hostname)\n",
      "\u001b[0;32m/usr/local/Cellar/python@3.9/3.9.7_1/Frameworks/Python.framework/Versions/3.9/lib/python3.9/ssl.py\u001b[0m in \u001b[0;36mwrap_socket\u001b[0;34m(self, sock, server_side, do_handshake_on_connect, suppress_ragged_eofs, server_hostname, session)\u001b[0m\n\u001b[1;32m    499\u001b[0m         \u001b[0;31m# ctx._wrap_socket()\u001b[0m\u001b[0;34m\u001b[0m\u001b[0;34m\u001b[0m\u001b[0m\n\u001b[0;32m--> 500\u001b[0;31m         return self.sslsocket_class._create(\n\u001b[0m\u001b[1;32m    501\u001b[0m             \u001b[0msock\u001b[0m\u001b[0;34m=\u001b[0m\u001b[0msock\u001b[0m\u001b[0;34m,\u001b[0m\u001b[0;34m\u001b[0m\u001b[0;34m\u001b[0m\u001b[0m\n",
      "\u001b[0;32m/usr/local/Cellar/python@3.9/3.9.7_1/Frameworks/Python.framework/Versions/3.9/lib/python3.9/ssl.py\u001b[0m in \u001b[0;36m_create\u001b[0;34m(cls, sock, server_side, do_handshake_on_connect, suppress_ragged_eofs, server_hostname, context, session)\u001b[0m\n\u001b[1;32m   1039\u001b[0m                         \u001b[0;32mraise\u001b[0m \u001b[0mValueError\u001b[0m\u001b[0;34m(\u001b[0m\u001b[0;34m\"do_handshake_on_connect should not be specified for non-blocking sockets\"\u001b[0m\u001b[0;34m)\u001b[0m\u001b[0;34m\u001b[0m\u001b[0;34m\u001b[0m\u001b[0m\n\u001b[0;32m-> 1040\u001b[0;31m                     \u001b[0mself\u001b[0m\u001b[0;34m.\u001b[0m\u001b[0mdo_handshake\u001b[0m\u001b[0;34m(\u001b[0m\u001b[0;34m)\u001b[0m\u001b[0;34m\u001b[0m\u001b[0;34m\u001b[0m\u001b[0m\n\u001b[0m\u001b[1;32m   1041\u001b[0m             \u001b[0;32mexcept\u001b[0m \u001b[0;34m(\u001b[0m\u001b[0mOSError\u001b[0m\u001b[0;34m,\u001b[0m \u001b[0mValueError\u001b[0m\u001b[0;34m)\u001b[0m\u001b[0;34m:\u001b[0m\u001b[0;34m\u001b[0m\u001b[0;34m\u001b[0m\u001b[0m\n",
      "\u001b[0;32m/usr/local/Cellar/python@3.9/3.9.7_1/Frameworks/Python.framework/Versions/3.9/lib/python3.9/ssl.py\u001b[0m in \u001b[0;36mdo_handshake\u001b[0;34m(self, block)\u001b[0m\n\u001b[1;32m   1308\u001b[0m                 \u001b[0mself\u001b[0m\u001b[0;34m.\u001b[0m\u001b[0msettimeout\u001b[0m\u001b[0;34m(\u001b[0m\u001b[0;32mNone\u001b[0m\u001b[0;34m)\u001b[0m\u001b[0;34m\u001b[0m\u001b[0;34m\u001b[0m\u001b[0m\n\u001b[0;32m-> 1309\u001b[0;31m             \u001b[0mself\u001b[0m\u001b[0;34m.\u001b[0m\u001b[0m_sslobj\u001b[0m\u001b[0;34m.\u001b[0m\u001b[0mdo_handshake\u001b[0m\u001b[0;34m(\u001b[0m\u001b[0;34m)\u001b[0m\u001b[0;34m\u001b[0m\u001b[0;34m\u001b[0m\u001b[0m\n\u001b[0m\u001b[1;32m   1310\u001b[0m         \u001b[0;32mfinally\u001b[0m\u001b[0;34m:\u001b[0m\u001b[0;34m\u001b[0m\u001b[0;34m\u001b[0m\u001b[0m\n",
      "\u001b[0;31mSSLEOFError\u001b[0m: EOF occurred in violation of protocol (_ssl.c:1129)",
      "\nDuring handling of the above exception, another exception occurred:\n",
      "\u001b[0;31mURLError\u001b[0m                                  Traceback (most recent call last)",
      "\u001b[0;32m/var/folders/3k/5_sd8_ms50n24wv9pqsdmpcr0000gn/T/ipykernel_4687/1523173457.py\u001b[0m in \u001b[0;36m<module>\u001b[0;34m\u001b[0m\n\u001b[0;32m----> 1\u001b[0;31m setup_auction_app(\n\u001b[0m\u001b[1;32m      2\u001b[0m     \u001b[0mclient\u001b[0m\u001b[0;34m=\u001b[0m\u001b[0mclient\u001b[0m\u001b[0;34m,\u001b[0m\u001b[0;34m\u001b[0m\u001b[0;34m\u001b[0m\u001b[0m\n\u001b[1;32m      3\u001b[0m     \u001b[0mapp_id\u001b[0m\u001b[0;34m=\u001b[0m\u001b[0mappID\u001b[0m\u001b[0;34m,\u001b[0m\u001b[0;34m\u001b[0m\u001b[0;34m\u001b[0m\u001b[0m\n\u001b[1;32m      4\u001b[0m     \u001b[0mfunder\u001b[0m\u001b[0;34m=\u001b[0m\u001b[0mcreator\u001b[0m\u001b[0;34m,\u001b[0m\u001b[0;34m\u001b[0m\u001b[0;34m\u001b[0m\u001b[0m\n\u001b[1;32m      5\u001b[0m     \u001b[0mtoken_holder\u001b[0m\u001b[0;34m=\u001b[0m\u001b[0mseller\u001b[0m\u001b[0;34m,\u001b[0m\u001b[0;34m\u001b[0m\u001b[0;34m\u001b[0m\u001b[0m\n",
      "\u001b[0;32m~/Work/Alex/work/algoverse/auction/operations.py\u001b[0m in \u001b[0;36msetup_auction_app\u001b[0;34m(client, app_id, funder, token_holder, token_id, asset_amount)\u001b[0m\n\u001b[1;32m    175\u001b[0m     \u001b[0mclient\u001b[0m\u001b[0;34m.\u001b[0m\u001b[0msend_transactions\u001b[0m\u001b[0;34m(\u001b[0m\u001b[0;34m[\u001b[0m\u001b[0msigned_fund_app_txn\u001b[0m\u001b[0;34m,\u001b[0m \u001b[0msigned_setup_txn\u001b[0m\u001b[0;34m,\u001b[0m \u001b[0msigned_fund_token_txn\u001b[0m\u001b[0;34m]\u001b[0m\u001b[0;34m)\u001b[0m\u001b[0;34m\u001b[0m\u001b[0;34m\u001b[0m\u001b[0m\n\u001b[1;32m    176\u001b[0m \u001b[0;34m\u001b[0m\u001b[0m\n\u001b[0;32m--> 177\u001b[0;31m     \u001b[0mwait_for_confirmation\u001b[0m\u001b[0;34m(\u001b[0m\u001b[0mclient\u001b[0m\u001b[0;34m,\u001b[0m \u001b[0msigned_fund_app_txn\u001b[0m\u001b[0;34m.\u001b[0m\u001b[0mget_txid\u001b[0m\u001b[0;34m(\u001b[0m\u001b[0;34m)\u001b[0m\u001b[0;34m)\u001b[0m\u001b[0;34m\u001b[0m\u001b[0;34m\u001b[0m\u001b[0m\n\u001b[0m\u001b[1;32m    178\u001b[0m \u001b[0;34m\u001b[0m\u001b[0m\n\u001b[1;32m    179\u001b[0m \u001b[0;34m\u001b[0m\u001b[0m\n",
      "\u001b[0;32m~/Work/Alex/work/algoverse/utils.py\u001b[0m in \u001b[0;36mwait_for_confirmation\u001b[0;34m(client, tx_id)\u001b[0m\n\u001b[1;32m     78\u001b[0m         \u001b[0mlast_round\u001b[0m \u001b[0;34m+=\u001b[0m \u001b[0;36m1\u001b[0m\u001b[0;34m\u001b[0m\u001b[0;34m\u001b[0m\u001b[0m\n\u001b[1;32m     79\u001b[0m         \u001b[0mclient\u001b[0m\u001b[0;34m.\u001b[0m\u001b[0mstatus_after_block\u001b[0m\u001b[0;34m(\u001b[0m\u001b[0mlast_round\u001b[0m\u001b[0;34m)\u001b[0m\u001b[0;34m\u001b[0m\u001b[0;34m\u001b[0m\u001b[0m\n\u001b[0;32m---> 80\u001b[0;31m         \u001b[0mpending_txn\u001b[0m \u001b[0;34m=\u001b[0m \u001b[0mclient\u001b[0m\u001b[0;34m.\u001b[0m\u001b[0mpending_transaction_info\u001b[0m\u001b[0;34m(\u001b[0m\u001b[0mtx_id\u001b[0m\u001b[0;34m)\u001b[0m\u001b[0;34m\u001b[0m\u001b[0;34m\u001b[0m\u001b[0m\n\u001b[0m\u001b[1;32m     81\u001b[0m     print(\n\u001b[1;32m     82\u001b[0m         \"Transaction {} confirmed in round {}.\".format(\n",
      "\u001b[0;32m~/Work/Alex/work/algoverse/venv/lib/python3.9/site-packages/algosdk/v2client/algod.py\u001b[0m in \u001b[0;36mpending_transaction_info\u001b[0;34m(self, transaction_id, response_format, **kwargs)\u001b[0m\n\u001b[1;32m    271\u001b[0m         \u001b[0mreq\u001b[0m \u001b[0;34m=\u001b[0m \u001b[0;34m\"/transactions/pending/\"\u001b[0m \u001b[0;34m+\u001b[0m \u001b[0mtransaction_id\u001b[0m\u001b[0;34m\u001b[0m\u001b[0;34m\u001b[0m\u001b[0m\n\u001b[1;32m    272\u001b[0m         \u001b[0mquery\u001b[0m \u001b[0;34m=\u001b[0m \u001b[0;34m{\u001b[0m\u001b[0;34m\"format\"\u001b[0m\u001b[0;34m:\u001b[0m \u001b[0mresponse_format\u001b[0m\u001b[0;34m}\u001b[0m\u001b[0;34m\u001b[0m\u001b[0;34m\u001b[0m\u001b[0m\n\u001b[0;32m--> 273\u001b[0;31m         res = self.algod_request(\n\u001b[0m\u001b[1;32m    274\u001b[0m             \u001b[0;34m\"GET\"\u001b[0m\u001b[0;34m,\u001b[0m \u001b[0mreq\u001b[0m\u001b[0;34m,\u001b[0m \u001b[0mparams\u001b[0m\u001b[0;34m=\u001b[0m\u001b[0mquery\u001b[0m\u001b[0;34m,\u001b[0m \u001b[0mresponse_format\u001b[0m\u001b[0;34m=\u001b[0m\u001b[0mresponse_format\u001b[0m\u001b[0;34m,\u001b[0m \u001b[0;34m**\u001b[0m\u001b[0mkwargs\u001b[0m\u001b[0;34m\u001b[0m\u001b[0;34m\u001b[0m\u001b[0m\n\u001b[1;32m    275\u001b[0m         )\n",
      "\u001b[0;32m~/Work/Alex/work/algoverse/venv/lib/python3.9/site-packages/algosdk/v2client/algod.py\u001b[0m in \u001b[0;36malgod_request\u001b[0;34m(self, method, requrl, params, data, headers, response_format)\u001b[0m\n\u001b[1;32m     80\u001b[0m \u001b[0;34m\u001b[0m\u001b[0m\n\u001b[1;32m     81\u001b[0m         \u001b[0;32mtry\u001b[0m\u001b[0;34m:\u001b[0m\u001b[0;34m\u001b[0m\u001b[0;34m\u001b[0m\u001b[0m\n\u001b[0;32m---> 82\u001b[0;31m             \u001b[0mresp\u001b[0m \u001b[0;34m=\u001b[0m \u001b[0murlopen\u001b[0m\u001b[0;34m(\u001b[0m\u001b[0mreq\u001b[0m\u001b[0;34m)\u001b[0m\u001b[0;34m\u001b[0m\u001b[0;34m\u001b[0m\u001b[0m\n\u001b[0m\u001b[1;32m     83\u001b[0m         \u001b[0;32mexcept\u001b[0m \u001b[0murllib\u001b[0m\u001b[0;34m.\u001b[0m\u001b[0merror\u001b[0m\u001b[0;34m.\u001b[0m\u001b[0mHTTPError\u001b[0m \u001b[0;32mas\u001b[0m \u001b[0me\u001b[0m\u001b[0;34m:\u001b[0m\u001b[0;34m\u001b[0m\u001b[0;34m\u001b[0m\u001b[0m\n\u001b[1;32m     84\u001b[0m             \u001b[0mcode\u001b[0m \u001b[0;34m=\u001b[0m \u001b[0me\u001b[0m\u001b[0;34m.\u001b[0m\u001b[0mcode\u001b[0m\u001b[0;34m\u001b[0m\u001b[0;34m\u001b[0m\u001b[0m\n",
      "\u001b[0;32m/usr/local/Cellar/python@3.9/3.9.7_1/Frameworks/Python.framework/Versions/3.9/lib/python3.9/urllib/request.py\u001b[0m in \u001b[0;36murlopen\u001b[0;34m(url, data, timeout, cafile, capath, cadefault, context)\u001b[0m\n\u001b[1;32m    212\u001b[0m     \u001b[0;32melse\u001b[0m\u001b[0;34m:\u001b[0m\u001b[0;34m\u001b[0m\u001b[0;34m\u001b[0m\u001b[0m\n\u001b[1;32m    213\u001b[0m         \u001b[0mopener\u001b[0m \u001b[0;34m=\u001b[0m \u001b[0m_opener\u001b[0m\u001b[0;34m\u001b[0m\u001b[0;34m\u001b[0m\u001b[0m\n\u001b[0;32m--> 214\u001b[0;31m     \u001b[0;32mreturn\u001b[0m \u001b[0mopener\u001b[0m\u001b[0;34m.\u001b[0m\u001b[0mopen\u001b[0m\u001b[0;34m(\u001b[0m\u001b[0murl\u001b[0m\u001b[0;34m,\u001b[0m \u001b[0mdata\u001b[0m\u001b[0;34m,\u001b[0m \u001b[0mtimeout\u001b[0m\u001b[0;34m)\u001b[0m\u001b[0;34m\u001b[0m\u001b[0;34m\u001b[0m\u001b[0m\n\u001b[0m\u001b[1;32m    215\u001b[0m \u001b[0;34m\u001b[0m\u001b[0m\n\u001b[1;32m    216\u001b[0m \u001b[0;32mdef\u001b[0m \u001b[0minstall_opener\u001b[0m\u001b[0;34m(\u001b[0m\u001b[0mopener\u001b[0m\u001b[0;34m)\u001b[0m\u001b[0;34m:\u001b[0m\u001b[0;34m\u001b[0m\u001b[0;34m\u001b[0m\u001b[0m\n",
      "\u001b[0;32m/usr/local/Cellar/python@3.9/3.9.7_1/Frameworks/Python.framework/Versions/3.9/lib/python3.9/urllib/request.py\u001b[0m in \u001b[0;36mopen\u001b[0;34m(self, fullurl, data, timeout)\u001b[0m\n\u001b[1;32m    515\u001b[0m \u001b[0;34m\u001b[0m\u001b[0m\n\u001b[1;32m    516\u001b[0m         \u001b[0msys\u001b[0m\u001b[0;34m.\u001b[0m\u001b[0maudit\u001b[0m\u001b[0;34m(\u001b[0m\u001b[0;34m'urllib.Request'\u001b[0m\u001b[0;34m,\u001b[0m \u001b[0mreq\u001b[0m\u001b[0;34m.\u001b[0m\u001b[0mfull_url\u001b[0m\u001b[0;34m,\u001b[0m \u001b[0mreq\u001b[0m\u001b[0;34m.\u001b[0m\u001b[0mdata\u001b[0m\u001b[0;34m,\u001b[0m \u001b[0mreq\u001b[0m\u001b[0;34m.\u001b[0m\u001b[0mheaders\u001b[0m\u001b[0;34m,\u001b[0m \u001b[0mreq\u001b[0m\u001b[0;34m.\u001b[0m\u001b[0mget_method\u001b[0m\u001b[0;34m(\u001b[0m\u001b[0;34m)\u001b[0m\u001b[0;34m)\u001b[0m\u001b[0;34m\u001b[0m\u001b[0;34m\u001b[0m\u001b[0m\n\u001b[0;32m--> 517\u001b[0;31m         \u001b[0mresponse\u001b[0m \u001b[0;34m=\u001b[0m \u001b[0mself\u001b[0m\u001b[0;34m.\u001b[0m\u001b[0m_open\u001b[0m\u001b[0;34m(\u001b[0m\u001b[0mreq\u001b[0m\u001b[0;34m,\u001b[0m \u001b[0mdata\u001b[0m\u001b[0;34m)\u001b[0m\u001b[0;34m\u001b[0m\u001b[0;34m\u001b[0m\u001b[0m\n\u001b[0m\u001b[1;32m    518\u001b[0m \u001b[0;34m\u001b[0m\u001b[0m\n\u001b[1;32m    519\u001b[0m         \u001b[0;31m# post-process response\u001b[0m\u001b[0;34m\u001b[0m\u001b[0;34m\u001b[0m\u001b[0m\n",
      "\u001b[0;32m/usr/local/Cellar/python@3.9/3.9.7_1/Frameworks/Python.framework/Versions/3.9/lib/python3.9/urllib/request.py\u001b[0m in \u001b[0;36m_open\u001b[0;34m(self, req, data)\u001b[0m\n\u001b[1;32m    532\u001b[0m \u001b[0;34m\u001b[0m\u001b[0m\n\u001b[1;32m    533\u001b[0m         \u001b[0mprotocol\u001b[0m \u001b[0;34m=\u001b[0m \u001b[0mreq\u001b[0m\u001b[0;34m.\u001b[0m\u001b[0mtype\u001b[0m\u001b[0;34m\u001b[0m\u001b[0;34m\u001b[0m\u001b[0m\n\u001b[0;32m--> 534\u001b[0;31m         result = self._call_chain(self.handle_open, protocol, protocol +\n\u001b[0m\u001b[1;32m    535\u001b[0m                                   '_open', req)\n\u001b[1;32m    536\u001b[0m         \u001b[0;32mif\u001b[0m \u001b[0mresult\u001b[0m\u001b[0;34m:\u001b[0m\u001b[0;34m\u001b[0m\u001b[0;34m\u001b[0m\u001b[0m\n",
      "\u001b[0;32m/usr/local/Cellar/python@3.9/3.9.7_1/Frameworks/Python.framework/Versions/3.9/lib/python3.9/urllib/request.py\u001b[0m in \u001b[0;36m_call_chain\u001b[0;34m(self, chain, kind, meth_name, *args)\u001b[0m\n\u001b[1;32m    492\u001b[0m         \u001b[0;32mfor\u001b[0m \u001b[0mhandler\u001b[0m \u001b[0;32min\u001b[0m \u001b[0mhandlers\u001b[0m\u001b[0;34m:\u001b[0m\u001b[0;34m\u001b[0m\u001b[0;34m\u001b[0m\u001b[0m\n\u001b[1;32m    493\u001b[0m             \u001b[0mfunc\u001b[0m \u001b[0;34m=\u001b[0m \u001b[0mgetattr\u001b[0m\u001b[0;34m(\u001b[0m\u001b[0mhandler\u001b[0m\u001b[0;34m,\u001b[0m \u001b[0mmeth_name\u001b[0m\u001b[0;34m)\u001b[0m\u001b[0;34m\u001b[0m\u001b[0;34m\u001b[0m\u001b[0m\n\u001b[0;32m--> 494\u001b[0;31m             \u001b[0mresult\u001b[0m \u001b[0;34m=\u001b[0m \u001b[0mfunc\u001b[0m\u001b[0;34m(\u001b[0m\u001b[0;34m*\u001b[0m\u001b[0margs\u001b[0m\u001b[0;34m)\u001b[0m\u001b[0;34m\u001b[0m\u001b[0;34m\u001b[0m\u001b[0m\n\u001b[0m\u001b[1;32m    495\u001b[0m             \u001b[0;32mif\u001b[0m \u001b[0mresult\u001b[0m \u001b[0;32mis\u001b[0m \u001b[0;32mnot\u001b[0m \u001b[0;32mNone\u001b[0m\u001b[0;34m:\u001b[0m\u001b[0;34m\u001b[0m\u001b[0;34m\u001b[0m\u001b[0m\n\u001b[1;32m    496\u001b[0m                 \u001b[0;32mreturn\u001b[0m \u001b[0mresult\u001b[0m\u001b[0;34m\u001b[0m\u001b[0;34m\u001b[0m\u001b[0m\n",
      "\u001b[0;32m/usr/local/Cellar/python@3.9/3.9.7_1/Frameworks/Python.framework/Versions/3.9/lib/python3.9/urllib/request.py\u001b[0m in \u001b[0;36mhttps_open\u001b[0;34m(self, req)\u001b[0m\n\u001b[1;32m   1387\u001b[0m \u001b[0;34m\u001b[0m\u001b[0m\n\u001b[1;32m   1388\u001b[0m         \u001b[0;32mdef\u001b[0m \u001b[0mhttps_open\u001b[0m\u001b[0;34m(\u001b[0m\u001b[0mself\u001b[0m\u001b[0;34m,\u001b[0m \u001b[0mreq\u001b[0m\u001b[0;34m)\u001b[0m\u001b[0;34m:\u001b[0m\u001b[0;34m\u001b[0m\u001b[0;34m\u001b[0m\u001b[0m\n\u001b[0;32m-> 1389\u001b[0;31m             return self.do_open(http.client.HTTPSConnection, req,\n\u001b[0m\u001b[1;32m   1390\u001b[0m                 context=self._context, check_hostname=self._check_hostname)\n\u001b[1;32m   1391\u001b[0m \u001b[0;34m\u001b[0m\u001b[0m\n",
      "\u001b[0;32m/usr/local/Cellar/python@3.9/3.9.7_1/Frameworks/Python.framework/Versions/3.9/lib/python3.9/urllib/request.py\u001b[0m in \u001b[0;36mdo_open\u001b[0;34m(self, http_class, req, **http_conn_args)\u001b[0m\n\u001b[1;32m   1347\u001b[0m                           encode_chunked=req.has_header('Transfer-encoding'))\n\u001b[1;32m   1348\u001b[0m             \u001b[0;32mexcept\u001b[0m \u001b[0mOSError\u001b[0m \u001b[0;32mas\u001b[0m \u001b[0merr\u001b[0m\u001b[0;34m:\u001b[0m \u001b[0;31m# timeout error\u001b[0m\u001b[0;34m\u001b[0m\u001b[0;34m\u001b[0m\u001b[0m\n\u001b[0;32m-> 1349\u001b[0;31m                 \u001b[0;32mraise\u001b[0m \u001b[0mURLError\u001b[0m\u001b[0;34m(\u001b[0m\u001b[0merr\u001b[0m\u001b[0;34m)\u001b[0m\u001b[0;34m\u001b[0m\u001b[0;34m\u001b[0m\u001b[0m\n\u001b[0m\u001b[1;32m   1350\u001b[0m             \u001b[0mr\u001b[0m \u001b[0;34m=\u001b[0m \u001b[0mh\u001b[0m\u001b[0;34m.\u001b[0m\u001b[0mgetresponse\u001b[0m\u001b[0;34m(\u001b[0m\u001b[0;34m)\u001b[0m\u001b[0;34m\u001b[0m\u001b[0;34m\u001b[0m\u001b[0m\n\u001b[1;32m   1351\u001b[0m         \u001b[0;32mexcept\u001b[0m\u001b[0;34m:\u001b[0m\u001b[0;34m\u001b[0m\u001b[0;34m\u001b[0m\u001b[0m\n",
      "\u001b[0;31mURLError\u001b[0m: <urlopen error EOF occurred in violation of protocol (_ssl.c:1129)>"
     ]
    }
   ],
   "source": [
    "setup_auction_app(\n",
    "    client=client,\n",
    "    app_id=appID,\n",
    "    funder=creator,\n",
    "    token_holder=seller,\n",
    "    token_id=asset_id,\n",
    "    asset_amount=1\n",
    ")\n",
    "\n",
    "sellerAlgosBefore = get_balances(client, seller.get_address())[0]\n",
    "\n",
    "print(\"Alice's algo balance: \", sellerAlgosBefore, \" algos\")"
   ]
  },
  {
   "cell_type": "code",
   "execution_count": null,
   "metadata": {},
   "outputs": [
    {
     "name": "stdout",
     "output_type": "stream",
     "text": [
      "Bidder Address: PAGKBMWTKVNLVPOT6JQLMMCEULFMOMGNU3JU6GFISDKTFMRAYOJPBARU5Y\n"
     ]
    }
   ],
   "source": [
    "bidder = Account(os.environ.get(\"BUYER_PK\"))\n",
    "\n",
    "print(f\"Bidder Address: {bidder.get_address()}\")"
   ]
  },
  {
   "cell_type": "code",
   "execution_count": null,
   "metadata": {},
   "outputs": [
    {
     "name": "stdout",
     "output_type": "stream",
     "text": [
      "The smart contract now holds the following: {0: 202000, 1: 1}\n"
     ]
    }
   ],
   "source": [
    "_, last_round_time = get_last_block_timestamp(client)\n",
    "if last_round_time < start_time + 5:\n",
    "    sleep(start_time + 5 - last_round_time)\n",
    "\n",
    "actualAppBalancesBefore = get_balances(client, get_application_address(appID))\n",
    "print(\"The smart contract now holds the following:\", actualAppBalancesBefore)"
   ]
  },
  {
   "cell_type": "code",
   "execution_count": null,
   "metadata": {},
   "outputs": [
    {
     "name": "stdout",
     "output_type": "stream",
     "text": [
      "Carla wants to bid on token, her algo balance:  1000006000000000  algos\n",
      "Carla is placing bid for:  1000000  algos\n"
     ]
    }
   ],
   "source": [
    "bidAmount = reserve\n",
    "bidderAlgosBefore = get_balances(client, bidder.get_address())[0]\n",
    "print(\"Carla wants to bid on token, her algo balance: \", bidderAlgosBefore, \" algos\")\n",
    "print(\"Carla is placing bid for: \", bidAmount, \" algos\")"
   ]
  },
  {
   "cell_type": "code",
   "execution_count": null,
   "metadata": {},
   "outputs": [
    {
     "name": "stdout",
     "output_type": "stream",
     "text": [
      "Waiting for confirmation...\n",
      "Transaction 7T3C3LYT7EJZHRBNHEV3A4FHPS6M4MSS3HQTBV2HGTT5F2XTQLIQ confirmed in round 263.\n",
      "Carla is opting into token with id: 1\n"
     ]
    }
   ],
   "source": [
    "place_bid(client=client, app_id=appID, bidder=bidder, bid_amount=bidAmount)\n",
    "\n",
    "print(\"Carla is opting into token with id:\", asset_id)"
   ]
  },
  {
   "cell_type": "code",
   "execution_count": null,
   "metadata": {},
   "outputs": [
    {
     "name": "stdout",
     "output_type": "stream",
     "text": [
      "Waiting for confirmation...\n",
      "Transaction S23Z2WMPE6Y3SCZV4WEFKE2Y5AM3S4KY4CEO4OPTBVYZHVYKUZVA confirmed in round 265.\n"
     ]
    }
   ],
   "source": [
    "optin_to_asset(asset_id, bidder)"
   ]
  },
  {
   "cell_type": "markdown",
   "metadata": {},
   "source": [
    "Alice is closing out the auction...."
   ]
  },
  {
   "cell_type": "code",
   "execution_count": null,
   "metadata": {},
   "outputs": [
    {
     "name": "stdout",
     "output_type": "stream",
     "text": [
      "Waiting for confirmation...\n",
      "Transaction LIV5KSITX4ORH424JXPKLX4MXDI4JDAEQWD23W6CYGBBRSYRB54A confirmed in round 267.\n"
     ]
    }
   ],
   "source": [
    "_, lastRoundTime = get_last_block_timestamp(client)\n",
    "if lastRoundTime < end_time + 5:\n",
    "    sleep(end_time + 5 - lastRoundTime)\n",
    "\n",
    "close_auction(client, appID, seller)"
   ]
  },
  {
   "cell_type": "code",
   "execution_count": null,
   "metadata": {},
   "outputs": [
    {
     "name": "stdout",
     "output_type": "stream",
     "text": [
      "The smart contract now holds the following: {0: 0}\n"
     ]
    }
   ],
   "source": [
    "actualAppBalances = get_balances(client, get_application_address(appID))\n",
    "expectedAppBalances = {0: 0}\n",
    "print(\"The smart contract now holds the following:\", actualAppBalances)\n",
    "\n",
    "assert actualAppBalances == expectedAppBalances"
   ]
  },
  {
   "cell_type": "code",
   "execution_count": null,
   "metadata": {},
   "outputs": [
    {
     "name": "stdout",
     "output_type": "stream",
     "text": [
      "Carla's NFT balance: 1  for token ID:  1\n",
      "Alice's balances after auction:  {0: 4000024001197000, 1: 0}  Algos\n",
      "Carla's balances after auction:  {0: 1000005998997000, 1: 1}  Algos\n"
     ]
    }
   ],
   "source": [
    "bidderNftBalance = get_balances(client, bidder.get_address())[asset_id]\n",
    "\n",
    "print(\"Carla's NFT balance:\", bidderNftBalance, \" for token ID: \", asset_id)\n",
    "\n",
    "assert bidderNftBalance == 1\n",
    "\n",
    "actualSellerBalances = get_balances(client, seller.get_address())\n",
    "print(\"Alice's balances after auction: \", actualSellerBalances, \" Algos\")\n",
    "actualBidderBalances = get_balances(client, bidder.get_address())\n",
    "print(\"Carla's balances after auction: \", actualBidderBalances, \" Algos\")\n",
    "# assert len(actualSellerBalances) == 2\n",
    "# seller should receive the bid amount, minus the txn fee\n",
    "assert actualSellerBalances[0] >= sellerAlgosBefore + bidAmount - 1_000\n",
    "assert actualSellerBalances[asset_id] == 0"
   ]
  }
 ],
 "metadata": {
  "interpreter": {
   "hash": "d8d32039960e27bf02cc380478024df65258985d3f6246b5f3627ebac0bfeee0"
  },
  "kernelspec": {
   "display_name": "Python 3.8.10 64-bit ('venv': venv)",
   "language": "python",
   "name": "python3"
  },
  "language_info": {
   "codemirror_mode": {
    "name": "ipython",
    "version": 3
   },
   "file_extension": ".py",
   "mimetype": "text/x-python",
   "name": "python",
   "nbconvert_exporter": "python",
   "pygments_lexer": "ipython3",
   "version": "3.9.7"
  },
  "orig_nbformat": 4
 },
 "nbformat": 4,
 "nbformat_minor": 2
}

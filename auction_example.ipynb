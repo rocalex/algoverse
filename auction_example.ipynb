{
 "cells": [
  {
   "cell_type": "code",
   "execution_count": 1,
   "metadata": {},
   "outputs": [],
   "source": [
    "import os\n",
    "\n",
    "import dotenv\n",
    "\n",
    "from time import time, sleep\n",
    "from algosdk.future import transaction\n",
    "from algosdk.logic import get_application_address\n",
    "\n",
    "from auction.operations import *\n",
    "from store.operations import StoringPool\n",
    "from utils import *\n",
    "from account import Account"
   ]
  },
  {
   "cell_type": "code",
   "execution_count": 2,
   "metadata": {},
   "outputs": [
    {
     "name": "stdout",
     "output_type": "stream",
     "text": [
      "STORE_APP_ID 3310\n"
     ]
    }
   ],
   "source": [
    "dotenv.load_dotenv('.env')\n",
    "print('STORE_APP_ID', os.environ.get('STORE_APP_ID'))\n",
    "\n",
    "client = get_algod_client(os.environ.get('ALGOD_URL'), os.environ.get('ALGOD_TOKEN'))"
   ]
  },
  {
   "cell_type": "code",
   "execution_count": 3,
   "metadata": {},
   "outputs": [
    {
     "name": "stdout",
     "output_type": "stream",
     "text": [
      "Staking App Address: 4TT75274EBUAF46CITUL6HQQ4C4D3GO7GEOVRZSQZ35VXSGRVHJ376GD64\n",
      "Team wallet Address: UCAX3M5HS7PWWLB6HDCM2O7JE4HC3RGBPNWFRP4SYU62ZS5NSS2GFOKIOU\n",
      "Creator address: 4TT75274EBUAF46CITUL6HQQ4C4D3GO7GEOVRZSQZ35VXSGRVHJ376GD64\n",
      "Seller Address: CN4EQ6QXFCDLR2ATDTRJMMFGLXSUS5TMLGLO7FJDBQRQGFUXTUA4LBVEIA\n",
      "Bidder Address: X7PMCPPRD2T35ZZRTPETYK53G5YWBKUNONVDY52WODP3N3YM7NGEF5HGWU\n",
      "Bidder1 Address: LOUBIMVHXMWMJNC4ZBKTIQTGNLF36EIXTEVBD7BUHDMIXKSMKQRNIPMQ6I\n",
      "Bidder2 Address: 742N2DLQ6NUUQXNUTNIJHYXYGL6BWG7C2XSQDHLFJN2NFYDVAYYUAQ36NQ\n"
     ]
    }
   ],
   "source": [
    "staking_app = Account.from_mnemonic(os.environ.get(\"CREATOR_MN\"))\n",
    "team_wallet = Account.from_mnemonic(os.environ.get(\"TEAM_MN\"))\n",
    "\n",
    "creator = Account.from_mnemonic(os.environ.get(\"CREATOR_MN\"))\n",
    "seller = Account.from_mnemonic(os.environ.get(\"SELLER_MN\"))\n",
    "\n",
    "bidder = Account.from_mnemonic(os.environ.get(\"BUYER_MN\"))\n",
    "bidder1 = Account.from_mnemonic(os.environ.get(\"BUYER1_MN\"))\n",
    "bidder2 = Account.from_mnemonic(os.environ.get(\"BUYER2_MN\"))\n",
    "\n",
    "print(f\"Staking App Address: {staking_app.get_address()}\")\n",
    "print(f\"Team wallet Address: {team_wallet.get_address()}\")\n",
    "print(f\"Creator address: {creator.get_address()}\")\n",
    "print(f\"Seller Address: {seller.get_address()}\")\n",
    "print(f\"Bidder Address: {bidder.get_address()}\")\n",
    "print(f\"Bidder1 Address: {bidder1.get_address()}\")\n",
    "print(f\"Bidder2 Address: {bidder2.get_address()}\")   \n",
    "  \n"
   ]
  },
  {
   "cell_type": "code",
   "execution_count": null,
   "metadata": {},
   "outputs": [],
   "source": [
    "#seller_info = get_account_info(client, seller.get_address())\n",
    "#print('seller_info', seller_info)"
   ]
  },
  {
   "cell_type": "code",
   "execution_count": null,
   "metadata": {},
   "outputs": [],
   "source": [
    "deleteApps(client, [], creator)\n",
    "# optoutApps(client, [], seller)\n",
    "# optoutApps(client, [], bidder)\n",
    "# optoutApps(client, [], bidder1)\n",
    "# optoutApps(client, [], bidder2)"
   ]
  },
  {
   "cell_type": "markdown",
   "metadata": {},
   "source": [
    "Alice is generating an example token..."
   ]
  },
  {
   "cell_type": "code",
   "execution_count": 4,
   "metadata": {},
   "outputs": [
    {
     "name": "stdout",
     "output_type": "stream",
     "text": [
      "Waiting for confirmation...\n",
      "Transaction WX63JYWDD5Z6MTFYL2WF6PXMWWVXYDKEOF2Y3RJVC3TSOVVFAFGQ confirmed in round 136234.\n",
      "The token id is: 2989\n"
     ]
    }
   ],
   "source": [
    "# def create_dummy_asset(sender: Account, total: int, decimals: int, asset_name: str, unit_name: str):\n",
    "#     txn = transaction.AssetConfigTxn(\n",
    "#         sender=sender.get_address(),\n",
    "#         sp=client.suggested_params(),\n",
    "#         total=total,\n",
    "#         decimals=decimals,\n",
    "#         asset_name=asset_name,\n",
    "#         unit_name=unit_name,\n",
    "#         default_frozen=False,\n",
    "#         strict_empty_address_check=False,\n",
    "#     )\n",
    "#     signed_txn = txn.sign(sender.get_private_key())\n",
    "\n",
    "#     client.send_transaction(signed_txn)\n",
    "\n",
    "#     response = wait_for_confirmation(client, signed_txn.get_txid())\n",
    "#     assert response.asset_index is not None and response.asset_index > 0\n",
    "#     return response.asset_index\n",
    "\n",
    "# asset_id = create_dummy_asset(creator, 1000000000000000000, 3, \"example token\", \"AVT\")\n",
    "\n",
    "asset_id = int(os.environ.get(\"TOKEN_ID\"))\n",
    "print(f\"The token id is: {asset_id}\")\n",
    "#send_asset(client, asset_id, 500000000000000, creator, seller)"
   ]
  },
  {
   "cell_type": "code",
   "execution_count": null,
   "metadata": {},
   "outputs": [],
   "source": [
    "start_time = int(time()) + 10\n",
    "end_time = start_time + 30\n",
    "print(f\"start_time\", start_time)\n",
    "reserve = 1_000_000  # 1 Algo\n",
    "token_amount = 100\n",
    "increment = 100_000  # 0.1 Algo"
   ]
  },
  {
   "cell_type": "code",
   "execution_count": null,
   "metadata": {},
   "outputs": [],
   "source": [
    "storeApp = StoringPool(client=client, creator=creator)\n",
    "\n",
    "storeAppID = int(os.environ.get(\"STORE_APP_ID\"))\n",
    "storeApp.app_id = storeAppID\n",
    "\n",
    "# optout_app(client, storeAppID, seller)\n",
    "# optout_app(client, storeAppID, bidder)\n",
    "# optout_app(client, storeAppID, bidder1)\n",
    "# optout_app(client, storeAppID, bidder2)\n",
    "\n",
    "storeApp.create_app()\n",
    "storeAppID = storeApp.app_id\n",
    "\n",
    "print(f\"storeAppID\", storeAppID)\n",
    "print(b\"storeApp address\", get_application_address(storeAppID))\n"
   ]
  },
  {
   "cell_type": "markdown",
   "metadata": {},
   "source": [
    "\"Alice is creating auction smart contract that lasts 30 seconds to auction off token...\""
   ]
  },
  {
   "cell_type": "code",
   "execution_count": null,
   "metadata": {},
   "outputs": [],
   "source": [
    "\n",
    "print(f\"seller address: {seller.get_address()}\")\n",
    "appID = create_auction_app(\n",
    "    client=client,\n",
    "    creator=creator,\n",
    "    staking_address=staking_app.get_address(),\n",
    "    team_wallet_address=team_wallet.get_address(),\n",
    "    store_app_id=storeAppID\n",
    ")\n",
    "\n",
    "#appID = 2843\n",
    "print(f\"Auction App ID: {appID}\")\n",
    "print(f\"Auction App Address: {get_application_address(appID)}\")\n",
    "print(\"Latest time:\", get_app_global_state(client, appID))"
   ]
  },
  {
   "cell_type": "markdown",
   "metadata": {},
   "source": [
    "Alice is setting up and funding token auction..."
   ]
  },
  {
   "cell_type": "code",
   "execution_count": null,
   "metadata": {},
   "outputs": [],
   "source": [
    "storeApp.set_up(trade_app_id=100, bid_app_id=101, auction_app_id=appID)"
   ]
  },
  {
   "cell_type": "code",
   "execution_count": null,
   "metadata": {},
   "outputs": [],
   "source": [
    "auction_index = setup_auction_app(\n",
    "    client=client,\n",
    "    app_id=appID,\n",
    "    seller=seller,\n",
    "    token_id=asset_id,\n",
    "    token_amount=token_amount,\n",
    "    start_time=start_time,\n",
    "    end_time=end_time,\n",
    "    reserve=reserve,\n",
    "    min_bid_increment=increment\n",
    ")\n",
    "\n",
    "sellerAlgosBefore = get_balances(client, seller.get_address())[0]\n",
    "\n",
    "print(\"Alice's algo balance: \", sellerAlgosBefore, \" algos\")"
   ]
  },
  {
   "cell_type": "code",
   "execution_count": null,
   "metadata": {},
   "outputs": [],
   "source": [
    "close_auction(client, appID, auction_index, seller)"
   ]
  },
  {
   "cell_type": "code",
   "execution_count": null,
   "metadata": {},
   "outputs": [],
   "source": [
    "start_time = int(time()) + 10\n",
    "end_time = start_time + 30\n",
    "print(f\"start_time\", start_time)\n",
    "auction_index = setup_auction_app(\n",
    "    client=client,\n",
    "    app_id=appID,\n",
    "    seller=seller,\n",
    "    token_id=asset_id,\n",
    "    token_amount=token_amount,\n",
    "    start_time=start_time,\n",
    "    end_time=end_time,\n",
    "    reserve=reserve,\n",
    "    min_bid_increment=increment\n",
    ")\n",
    "\n",
    "sellerAlgosBefore = get_balances(client, seller.get_address())[0]\n",
    "\n",
    "print(\"Alice's algo balance: \", sellerAlgosBefore, \" algos\")"
   ]
  },
  {
   "cell_type": "code",
   "execution_count": null,
   "metadata": {},
   "outputs": [],
   "source": [
    "# _, last_round_time = get_last_block_timestamp(client)\n",
    "# print(f\"start_time\", start_time)\n",
    "# print(f\"last_round_time\", last_round_time)\n",
    "# if last_round_time < start_time + 5:\n",
    "#     sleep(start_time + 5 - last_round_time)\n",
    "\n",
    "actualAppBalancesBefore = get_balances(client, get_application_address(appID))\n",
    "print(\"The smart contract now holds the following:\", actualAppBalancesBefore)"
   ]
  },
  {
   "cell_type": "code",
   "execution_count": null,
   "metadata": {},
   "outputs": [],
   "source": [
    "bidAmount = reserve + 4000\n",
    "bidderAlgosBefore = get_balances(client, bidder.get_address())[0]\n",
    "print(\"Carla wants to bid on token, her algo balance: \", bidderAlgosBefore, \" algos\")\n",
    "print(\"Carla is placing bid for: \", bidAmount, \" algos\")"
   ]
  },
  {
   "cell_type": "code",
   "execution_count": null,
   "metadata": {},
   "outputs": [],
   "source": [
    "_, lastRoundTime = get_last_block_timestamp(client)\n",
    "print(f\"lastRoundTime\", lastRoundTime)\n",
    "place_bid(client=client, app_id=appID, auction_index=auction_index, bidder=bidder, bid_amount=bidAmount)\n",
    "\n",
    "print(\"Carla is opting into token with id:\", asset_id)"
   ]
  },
  {
   "cell_type": "code",
   "execution_count": null,
   "metadata": {},
   "outputs": [],
   "source": [
    "bidAmount = reserve + 300_000\n",
    "place_bid(client=client, app_id=appID, auction_index=auction_index, bidder=bidder1, bid_amount=bidAmount)\n",
    "\n",
    "bidAmount = reserve + 500_000\n",
    "place_bid(client=client, app_id=appID, auction_index=auction_index, bidder=bidder2, bid_amount=bidAmount)\n"
   ]
  },
  {
   "cell_type": "markdown",
   "metadata": {},
   "source": [
    "Alice is closing out the auction...."
   ]
  },
  {
   "cell_type": "code",
   "execution_count": null,
   "metadata": {},
   "outputs": [],
   "source": [
    "# _, lastRoundTime = get_last_block_timestamp(client)\n",
    "# if lastRoundTime < end_time + 5:\n",
    "#     sleep(end_time + 5 - lastRoundTime)\n",
    "\n",
    "close_auction(client, appID, auction_index, seller)"
   ]
  },
  {
   "cell_type": "code",
   "execution_count": null,
   "metadata": {},
   "outputs": [],
   "source": [
    "actualAppBalances = get_balances(client, get_application_address(appID))\n",
    "expectedAppBalances = {0: 0}\n",
    "print(\"The smart contract now holds the following:\", actualAppBalances)\n",
    "print(f\"storeAppID\", storeAppID)\n",
    "#assert actualAppBalances == expectedAppBalances\n",
    "\n",
    "from utils import get_app_local_state\n",
    "print(get_app_local_state(client, storeAppID, seller.get_address()))\n",
    "print(get_app_local_state(client, storeAppID, bidder.get_address()))\n",
    "print(get_app_local_state(client, storeAppID, bidder1.get_address()))\n",
    "print(get_app_local_state(client, storeAppID, bidder2.get_address()))"
   ]
  },
  {
   "cell_type": "code",
   "execution_count": null,
   "metadata": {},
   "outputs": [],
   "source": [
    "#bidderNftBalance = get_balances(client, bidder.get_address())[asset_id]\n",
    "bidder1NftBalance = get_balances(client, bidder1.get_address())[asset_id]\n",
    "#bidder2NftBalance = get_balances(client, bidder2.get_address())[asset_id]\n",
    "\n",
    "print(\"Carla's NFT balance:\", bidder1NftBalance, \" for token ID: \", asset_id)\n",
    "\n",
    "assert bidder1NftBalance == 1\n",
    "\n",
    "actualSellerBalances = get_balances(client, seller.get_address())\n",
    "print(\"Alice's balances after auction: \", actualSellerBalances, \" Algos\")\n",
    "actualBidderBalances = get_balances(client, bidder.get_address())\n",
    "print(\"Carla's balances after auction: \", actualBidderBalances, \" Algos\")\n",
    "# assert len(actualSellerBalances) == 2\n",
    "# seller should receive the bid amount, minus the txn fee\n",
    "assert actualSellerBalances[0] >= sellerAlgosBefore + bidAmount - 1_000\n",
    "assert actualSellerBalances[asset_id] == 0"
   ]
  },
  {
   "cell_type": "code",
   "execution_count": null,
   "metadata": {},
   "outputs": [],
   "source": [
    "storeAppState = get_app_global_state(client, storeAppID)\n",
    "print(storeAppState)\n",
    "print(encoding.encode_address(storeAppState[b\"C\"]))"
   ]
  }
 ],
 "metadata": {
  "interpreter": {
   "hash": "d8d32039960e27bf02cc380478024df65258985d3f6246b5f3627ebac0bfeee0"
  },
  "kernelspec": {
   "display_name": "Python 3.8.10 64-bit ('venv': venv)",
   "language": "python",
   "name": "python3"
  },
  "language_info": {
   "codemirror_mode": {
    "name": "ipython",
    "version": 3
   },
   "file_extension": ".py",
   "mimetype": "text/x-python",
   "name": "python",
   "nbconvert_exporter": "python",
   "pygments_lexer": "ipython3",
   "version": "3.9.9"
  },
  "orig_nbformat": 4
 },
 "nbformat": 4,
 "nbformat_minor": 2
}

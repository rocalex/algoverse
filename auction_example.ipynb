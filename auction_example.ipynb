{
 "cells": [
  {
   "cell_type": "code",
   "execution_count": 1,
   "metadata": {},
   "outputs": [],
   "source": [
    "import os\n",
    "\n",
    "import dotenv\n",
    "\n",
    "from time import time, sleep\n",
    "from algosdk.future import transaction\n",
    "from algosdk.logic import get_application_address\n",
    "\n",
    "from auction.operations import create_auction_app, setup_auction_app, place_bid, close_auction\n",
    "from store.operations import StoringPool\n",
    "from utils import *\n",
    "from account import Account"
   ]
  },
  {
   "cell_type": "code",
   "execution_count": 2,
   "metadata": {},
   "outputs": [
    {
     "name": "stdout",
     "output_type": "stream",
     "text": [
      "http://localhost:4001\n"
     ]
    }
   ],
   "source": [
    "dotenv.load_dotenv('.env')\n",
    "print(os.environ.get('ALGOD_URL'))\n",
    "\n",
    "client = get_algod_client(os.environ.get('ALGOD_URL'), os.environ.get('ALGOD_TOKEN'))"
   ]
  },
  {
   "cell_type": "code",
   "execution_count": 3,
   "metadata": {},
   "outputs": [
    {
     "name": "stdout",
     "output_type": "stream",
     "text": [
      "Creator address: GAFLYUNVHZQKQH7YLHVFNNP5WOTXDA7N3MJRVJ6SFSH7BRV4K7IJIZVAAI\n",
      "Seller Address: Y4QR7LETUXJQVSPRKOJ5VFDR2GRO3MTSLJ4CLSIPJ5YN33Z3Z7HDT6JLYM\n"
     ]
    }
   ],
   "source": [
    "creator = Account.from_mnemonic(os.environ.get(\"CREATOR_MN\"))\n",
    "seller = Account.from_mnemonic(os.environ.get(\"SELLER_MN\"))\n",
    "\n",
    "print(f\"Creator address: {creator.get_address()}\")\n",
    "print(f\"Seller Address: {seller.get_address()}\")"
   ]
  },
  {
   "cell_type": "markdown",
   "metadata": {},
   "source": [
    "Alice is generating an example token..."
   ]
  },
  {
   "cell_type": "code",
   "execution_count": 4,
   "metadata": {},
   "outputs": [
    {
     "name": "stdout",
     "output_type": "stream",
     "text": [
      "The token id is: 499\n"
     ]
    }
   ],
   "source": [
    "# def create_dummy_asset(sender: Account, total: int, decimals: int, asset_name: str, unit_name: str):\n",
    "#     txn = transaction.AssetConfigTxn(\n",
    "#         sender=sender.get_address(),\n",
    "#         sp=client.suggested_params(),\n",
    "#         total=total,\n",
    "#         decimals=decimals,\n",
    "#         asset_name=asset_name,\n",
    "#         unit_name=unit_name,\n",
    "#         default_frozen=False,\n",
    "#         strict_empty_address_check=False,\n",
    "#     )\n",
    "#     signed_txn = txn.sign(sender.get_private_key())\n",
    "\n",
    "#     client.send_transaction(signed_txn)\n",
    "\n",
    "#     response = wait_for_confirmation(client, signed_txn.get_txid())\n",
    "#     assert response.asset_index is not None and response.asset_index > 0\n",
    "#     return response.asset_index\n",
    "\n",
    "#asset_id = create_dummy_asset(creator, 1000000000000000000, 3, \"example token\", \"AVT\")\n",
    "\n",
    "asset_id = int(os.environ.get(\"TOKEN_ID\"))\n",
    "print(f\"The token id is: {asset_id}\")"
   ]
  },
  {
   "cell_type": "code",
   "execution_count": 5,
   "metadata": {},
   "outputs": [
    {
     "name": "stdout",
     "output_type": "stream",
     "text": [
      "start_time 1640613491\n"
     ]
    }
   ],
   "source": [
    "start_time = int(time()) + 10\n",
    "end_time = start_time + 30\n",
    "print(f\"start_time\", start_time)\n",
    "reserve = 1_000_000  # 1 Algo\n",
    "token_amount = 100\n",
    "increment = 100_000  # 0.1 Algo"
   ]
  },
  {
   "cell_type": "code",
   "execution_count": 13,
   "metadata": {},
   "outputs": [
    {
     "name": "stdout",
     "output_type": "stream",
     "text": [
      "app_global_state {b'T': 499, b'TBA': 0, b'C': b'0\\n\\xbcQ\\xb5>`\\xa8\\x1f\\xf8Y\\xeaV\\xb5\\xfd\\xb3\\xa7q\\x83\\xed\\xdb\\x13\\x1a\\xa7\\xd2,\\x8f\\xf0\\xc6\\xbcW\\xd0', b'TSA': 0}\n"
     ]
    },
    {
     "ename": "KeyError",
     "evalue": "b'TK_ID'",
     "output_type": "error",
     "traceback": [
      "\u001b[0;31m---------------------------------------------------------------------------\u001b[0m",
      "\u001b[0;31mKeyError\u001b[0m                                  Traceback (most recent call last)",
      "\u001b[0;32m/var/folders/3k/5_sd8_ms50n24wv9pqsdmpcr0000gn/T/ipykernel_22744/623659596.py\u001b[0m in \u001b[0;36m<module>\u001b[0;34m\u001b[0m\n\u001b[0;32m----> 1\u001b[0;31m \u001b[0mclose_auction\u001b[0m\u001b[0;34m(\u001b[0m\u001b[0mclient\u001b[0m\u001b[0;34m,\u001b[0m \u001b[0;36m635\u001b[0m\u001b[0;34m,\u001b[0m \u001b[0;36m550\u001b[0m\u001b[0;34m,\u001b[0m \u001b[0mcreator\u001b[0m\u001b[0;34m,\u001b[0m \u001b[0mcreator\u001b[0m\u001b[0;34m)\u001b[0m\u001b[0;34m\u001b[0m\u001b[0;34m\u001b[0m\u001b[0m\n\u001b[0m",
      "\u001b[0;32m~/Work/Alex/work/algoverse/auction/operations.py\u001b[0m in \u001b[0;36mclose_auction\u001b[0;34m(client, app_id, store_app_id, creator, closer)\u001b[0m\n\u001b[1;32m    261\u001b[0m     \u001b[0mprint\u001b[0m\u001b[0;34m(\u001b[0m\u001b[0;34m\"app_global_state\"\u001b[0m\u001b[0;34m,\u001b[0m \u001b[0mapp_global_state\u001b[0m\u001b[0;34m)\u001b[0m\u001b[0;34m\u001b[0m\u001b[0;34m\u001b[0m\u001b[0m\n\u001b[1;32m    262\u001b[0m \u001b[0;34m\u001b[0m\u001b[0m\n\u001b[0;32m--> 263\u001b[0;31m     \u001b[0mtoken_id\u001b[0m \u001b[0;34m=\u001b[0m \u001b[0mapp_global_state\u001b[0m\u001b[0;34m[\u001b[0m\u001b[0;34mb\"TK_ID\"\u001b[0m\u001b[0;34m]\u001b[0m\u001b[0;34m\u001b[0m\u001b[0;34m\u001b[0m\u001b[0m\n\u001b[0m\u001b[1;32m    264\u001b[0m \u001b[0;34m\u001b[0m\u001b[0m\n\u001b[1;32m    265\u001b[0m     \u001b[0maccounts\u001b[0m\u001b[0;34m:\u001b[0m \u001b[0mList\u001b[0m\u001b[0;34m[\u001b[0m\u001b[0mstr\u001b[0m\u001b[0;34m]\u001b[0m \u001b[0;34m=\u001b[0m \u001b[0;34m[\u001b[0m\u001b[0mencoding\u001b[0m\u001b[0;34m.\u001b[0m\u001b[0mencode_address\u001b[0m\u001b[0;34m(\u001b[0m\u001b[0mapp_global_state\u001b[0m\u001b[0;34m[\u001b[0m\u001b[0;34mb\"S_ADDR\"\u001b[0m\u001b[0;34m]\u001b[0m\u001b[0;34m)\u001b[0m\u001b[0;34m]\u001b[0m\u001b[0;34m\u001b[0m\u001b[0;34m\u001b[0m\u001b[0m\n",
      "\u001b[0;31mKeyError\u001b[0m: b'TK_ID'"
     ]
    }
   ],
   "source": [
    "close_auction(client, 635, 550, creator, creator)"
   ]
  },
  {
   "cell_type": "code",
   "execution_count": 6,
   "metadata": {},
   "outputs": [
    {
     "ename": "TypeError",
     "evalue": "close_auction() missing 1 required positional argument: 'closer'",
     "output_type": "error",
     "traceback": [
      "\u001b[0;31m---------------------------------------------------------------------------\u001b[0m",
      "\u001b[0;31mTypeError\u001b[0m                                 Traceback (most recent call last)",
      "\u001b[0;32m/var/folders/3k/5_sd8_ms50n24wv9pqsdmpcr0000gn/T/ipykernel_22744/3324699897.py\u001b[0m in \u001b[0;36m<module>\u001b[0;34m\u001b[0m\n\u001b[1;32m     19\u001b[0m \u001b[0;31m#   storeApp.optin_app(bidder2)\u001b[0m\u001b[0;34m\u001b[0m\u001b[0;34m\u001b[0m\u001b[0m\n\u001b[1;32m     20\u001b[0m \u001b[0;34m\u001b[0m\u001b[0m\n\u001b[0;32m---> 21\u001b[0;31m \u001b[0mclose_auction\u001b[0m\u001b[0;34m(\u001b[0m\u001b[0mclient\u001b[0m\u001b[0;34m,\u001b[0m \u001b[0;36m557\u001b[0m\u001b[0;34m,\u001b[0m \u001b[0mstoreAppID\u001b[0m\u001b[0;34m,\u001b[0m \u001b[0mcreator\u001b[0m\u001b[0;34m)\u001b[0m\u001b[0;34m\u001b[0m\u001b[0;34m\u001b[0m\u001b[0m\n\u001b[0m\u001b[1;32m     22\u001b[0m \u001b[0;34m\u001b[0m\u001b[0m\n\u001b[1;32m     23\u001b[0m \u001b[0mprint\u001b[0m\u001b[0;34m(\u001b[0m\u001b[0;34mf\"storeAppID\"\u001b[0m\u001b[0;34m,\u001b[0m \u001b[0mstoreAppID\u001b[0m\u001b[0;34m)\u001b[0m\u001b[0;34m\u001b[0m\u001b[0;34m\u001b[0m\u001b[0m\n",
      "\u001b[0;31mTypeError\u001b[0m: close_auction() missing 1 required positional argument: 'closer'"
     ]
    }
   ],
   "source": [
    "storeApp = StoringPool(client=client, creator=creator, token_id=asset_id)\n",
    "\n",
    "# storeApp.create_app()\n",
    "# storeAppID = storeApp.app_id\n",
    "storeAppID = int(os.environ.get(\"STORE_APP_ID\"))\n",
    "storeApp.app_id = storeAppID\n",
    "\n",
    "# bidder = Account.from_mnemonic(os.environ.get(\"BUYER_MN\"))\n",
    "# bidder1 = Account.from_mnemonic(os.environ.get(\"BUYER1_MN\"))\n",
    "# bidder2 = Account.from_mnemonic(os.environ.get(\"BUYER2_MN\"))\n",
    "\n",
    "# if storeApp.is_opted_in(seller.get_address()) == False:\n",
    "#   storeApp.optin_app(seller)\n",
    "# if storeApp.is_opted_in(bidder.get_address()) == False:\n",
    "#   storeApp.optin_app(bidder)\n",
    "# if storeApp.is_opted_in(bidder1.get_address()) == False:\n",
    "#   storeApp.optin_app(bidder1)\n",
    "# if storeApp.is_opted_in(bidder2.get_address()) == False:\n",
    "#   storeApp.optin_app(bidder2)\n",
    "\n",
    "close_auction(client, 557, storeAppID, creator)\n",
    "\n",
    "print(f\"storeAppID\", storeAppID)\n",
    "print(b\"storeApp address\", get_application_address(storeAppID))\n"
   ]
  },
  {
   "cell_type": "markdown",
   "metadata": {},
   "source": [
    "\"Alice is creating auction smart contract that lasts 30 seconds to auction off token...\""
   ]
  },
  {
   "cell_type": "code",
   "execution_count": null,
   "metadata": {},
   "outputs": [],
   "source": [
    "\n",
    "print(f\"seller address: {seller.get_address()}\")\n",
    "appID = create_auction_app(\n",
    "    client=client,\n",
    "    sender=creator,\n",
    "    seller=seller.get_address(),\n",
    "    token_id=asset_id,\n",
    "    token_amount=token_amount,\n",
    "    start_time=start_time,\n",
    "    end_time=end_time,\n",
    "    reserve=reserve,\n",
    "    min_bid_increment=increment,\n",
    "    store_app_address=get_application_address(storeAppID)\n",
    ")\n",
    "\n",
    "#appID = 527\n",
    "print(f\"Auction App ID: {appID}\")\n",
    "print(f\"Auction App Address: {get_application_address(appID)}\")\n",
    "print(\"Latest time:\", get_app_global_state(client, appID))"
   ]
  },
  {
   "cell_type": "markdown",
   "metadata": {},
   "source": [
    "Alice is setting up and funding token auction..."
   ]
  },
  {
   "cell_type": "code",
   "execution_count": null,
   "metadata": {},
   "outputs": [],
   "source": [
    "setup_auction_app(\n",
    "    client=client,\n",
    "    app_id=appID,\n",
    "    funder=creator,\n",
    "    token_holder=seller,\n",
    "    token_id=asset_id,\n",
    "    asset_amount=token_amount\n",
    ")\n",
    "\n",
    "sellerAlgosBefore = get_balances(client, seller.get_address())[0]\n",
    "\n",
    "print(\"Alice's algo balance: \", sellerAlgosBefore, \" algos\")"
   ]
  },
  {
   "cell_type": "code",
   "execution_count": null,
   "metadata": {},
   "outputs": [],
   "source": [
    "bidder = Account.from_mnemonic(os.environ.get(\"BUYER_MN\"))\n",
    "bidder1 = Account.from_mnemonic(os.environ.get(\"BUYER1_MN\"))\n",
    "bidder2 = Account.from_mnemonic(os.environ.get(\"BUYER2_MN\"))\n",
    "\n",
    "print(f\"Bidder Address: {bidder.get_address()}\")\n",
    "print(f\"Bidder1 Address: {bidder1.get_address()}\")\n",
    "print(f\"Bidder2 Address: {bidder2.get_address()}\")"
   ]
  },
  {
   "cell_type": "code",
   "execution_count": null,
   "metadata": {},
   "outputs": [],
   "source": [
    "# _, last_round_time = get_last_block_timestamp(client)\n",
    "# print(f\"start_time\", start_time)\n",
    "# print(f\"last_round_time\", last_round_time)\n",
    "# if last_round_time < start_time + 5:\n",
    "#     sleep(start_time + 5 - last_round_time)\n",
    "\n",
    "actualAppBalancesBefore = get_balances(client, get_application_address(appID))\n",
    "print(\"The smart contract now holds the following:\", actualAppBalancesBefore)"
   ]
  },
  {
   "cell_type": "code",
   "execution_count": null,
   "metadata": {},
   "outputs": [],
   "source": [
    "bidAmount = reserve\n",
    "bidderAlgosBefore = get_balances(client, bidder.get_address())[0]\n",
    "print(\"Carla wants to bid on token, her algo balance: \", bidderAlgosBefore, \" algos\")\n",
    "print(\"Carla is placing bid for: \", bidAmount, \" algos\")"
   ]
  },
  {
   "cell_type": "code",
   "execution_count": null,
   "metadata": {},
   "outputs": [],
   "source": [
    "_, lastRoundTime = get_last_block_timestamp(client)\n",
    "print(f\"lastRoundTime\", lastRoundTime)\n",
    "place_bid(client=client, app_id=appID, bidder=bidder, bid_amount=bidAmount)\n",
    "\n",
    "print(\"Carla is opting into token with id:\", asset_id)"
   ]
  },
  {
   "cell_type": "code",
   "execution_count": null,
   "metadata": {},
   "outputs": [],
   "source": [
    "optin_to_asset(asset_id, bidder)\n",
    "\n",
    "bidAmount = reserve + 300_000\n",
    "place_bid(client=client, app_id=appID, bidder=bidder1, bid_amount=bidAmount)\n",
    "\n",
    "optin_to_asset(asset_id, bidder1)\n",
    "\n",
    "bidAmount = reserve + 500_000\n",
    "place_bid(client=client, app_id=appID, bidder=bidder2, bid_amount=bidAmount)\n",
    "\n",
    "optin_to_asset(asset_id, bidder2)"
   ]
  },
  {
   "cell_type": "markdown",
   "metadata": {},
   "source": [
    "Alice is closing out the auction...."
   ]
  },
  {
   "cell_type": "code",
   "execution_count": null,
   "metadata": {},
   "outputs": [],
   "source": [
    "# _, lastRoundTime = get_last_block_timestamp(client)\n",
    "# if lastRoundTime < end_time + 5:\n",
    "#     sleep(end_time + 5 - lastRoundTime)\n",
    "\n",
    "close_auction(client, appID, storeAppID, creator, seller)"
   ]
  },
  {
   "cell_type": "code",
   "execution_count": null,
   "metadata": {},
   "outputs": [],
   "source": [
    "actualAppBalances = get_balances(client, get_application_address(appID))\n",
    "expectedAppBalances = {0: 0}\n",
    "print(\"The smart contract now holds the following:\", actualAppBalances)\n",
    "print(f\"storeAppID\", storeAppID)\n",
    "#assert actualAppBalances == expectedAppBalances\n",
    "\n",
    "from utils import get_app_local_state\n",
    "print(get_app_local_state(client, storeAppID, seller.get_address()))\n",
    "print(get_app_local_state(client, storeAppID, bidder.get_address()))\n",
    "print(get_app_local_state(client, storeAppID, bidder1.get_address()))\n",
    "print(get_app_local_state(client, storeAppID, bidder2.get_address()))"
   ]
  },
  {
   "cell_type": "code",
   "execution_count": null,
   "metadata": {},
   "outputs": [],
   "source": [
    "#bidderNftBalance = get_balances(client, bidder.get_address())[asset_id]\n",
    "bidder1NftBalance = get_balances(client, bidder1.get_address())[asset_id]\n",
    "#bidder2NftBalance = get_balances(client, bidder2.get_address())[asset_id]\n",
    "\n",
    "print(\"Carla's NFT balance:\", bidder1NftBalance, \" for token ID: \", asset_id)\n",
    "\n",
    "assert bidder1NftBalance == 1\n",
    "\n",
    "actualSellerBalances = get_balances(client, seller.get_address())\n",
    "print(\"Alice's balances after auction: \", actualSellerBalances, \" Algos\")\n",
    "actualBidderBalances = get_balances(client, bidder.get_address())\n",
    "print(\"Carla's balances after auction: \", actualBidderBalances, \" Algos\")\n",
    "# assert len(actualSellerBalances) == 2\n",
    "# seller should receive the bid amount, minus the txn fee\n",
    "assert actualSellerBalances[0] >= sellerAlgosBefore + bidAmount - 1_000\n",
    "assert actualSellerBalances[asset_id] == 0"
   ]
  },
  {
   "cell_type": "code",
   "execution_count": null,
   "metadata": {},
   "outputs": [],
   "source": [
    "storeAppState = get_app_global_state(client, 591)\n",
    "print(storeAppState)\n",
    "print(encoding.encode_address(storeAppState[b\"C\"]))"
   ]
  }
 ],
 "metadata": {
  "interpreter": {
   "hash": "d8d32039960e27bf02cc380478024df65258985d3f6246b5f3627ebac0bfeee0"
  },
  "kernelspec": {
   "display_name": "Python 3.8.10 64-bit ('venv': venv)",
   "language": "python",
   "name": "python3"
  },
  "language_info": {
   "codemirror_mode": {
    "name": "ipython",
    "version": 3
   },
   "file_extension": ".py",
   "mimetype": "text/x-python",
   "name": "python",
   "nbconvert_exporter": "python",
   "pygments_lexer": "ipython3",
   "version": "3.9.9"
  },
  "orig_nbformat": 4
 },
 "nbformat": 4,
 "nbformat_minor": 2
}

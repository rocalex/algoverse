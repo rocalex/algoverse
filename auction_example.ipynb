{
 "cells": [
  {
   "cell_type": "code",
   "execution_count": 1,
   "metadata": {},
   "outputs": [],
   "source": [
    "import os\n",
    "\n",
    "import dotenv\n",
    "\n",
    "from time import time, sleep\n",
    "from algosdk.future import transaction\n",
    "from algosdk.logic import get_application_address\n",
    "\n",
    "from auction.operations import *\n",
    "from store.operations import StoringPool\n",
    "from utils import *\n",
    "from account import Account"
   ]
  },
  {
   "cell_type": "code",
   "execution_count": 2,
   "metadata": {},
   "outputs": [
    {
     "name": "stdout",
     "output_type": "stream",
     "text": [
      "STORE_APP_ID 2779\n"
     ]
    }
   ],
   "source": [
    "dotenv.load_dotenv('.env')\n",
    "print('STORE_APP_ID', os.environ.get('STORE_APP_ID'))\n",
    "\n",
    "client = get_algod_client(os.environ.get('ALGOD_URL'), os.environ.get('ALGOD_TOKEN'))"
   ]
  },
  {
   "cell_type": "code",
   "execution_count": 3,
   "metadata": {},
   "outputs": [
    {
     "name": "stdout",
     "output_type": "stream",
     "text": [
      "Staking App Address: 4TT75274EBUAF46CITUL6HQQ4C4D3GO7GEOVRZSQZ35VXSGRVHJ376GD64\n",
      "Team wallet Address: UCAX3M5HS7PWWLB6HDCM2O7JE4HC3RGBPNWFRP4SYU62ZS5NSS2GFOKIOU\n",
      "Creator address: 4TT75274EBUAF46CITUL6HQQ4C4D3GO7GEOVRZSQZ35VXSGRVHJ376GD64\n",
      "Seller Address: CN4EQ6QXFCDLR2ATDTRJMMFGLXSUS5TMLGLO7FJDBQRQGFUXTUA4LBVEIA\n",
      "Bidder Address: X7PMCPPRD2T35ZZRTPETYK53G5YWBKUNONVDY52WODP3N3YM7NGEF5HGWU\n",
      "Bidder1 Address: LOUBIMVHXMWMJNC4ZBKTIQTGNLF36EIXTEVBD7BUHDMIXKSMKQRNIPMQ6I\n",
      "Bidder2 Address: 742N2DLQ6NUUQXNUTNIJHYXYGL6BWG7C2XSQDHLFJN2NFYDVAYYUAQ36NQ\n"
     ]
    }
   ],
   "source": [
    "staking_app = Account.from_mnemonic(os.environ.get(\"CREATOR_MN\"))\n",
    "team_wallet = Account.from_mnemonic(os.environ.get(\"TEAM_MN\"))\n",
    "\n",
    "creator = Account.from_mnemonic(os.environ.get(\"CREATOR_MN\"))\n",
    "seller = Account.from_mnemonic(os.environ.get(\"SELLER_MN\"))\n",
    "\n",
    "bidder = Account.from_mnemonic(os.environ.get(\"BUYER_MN\"))\n",
    "bidder1 = Account.from_mnemonic(os.environ.get(\"BUYER1_MN\"))\n",
    "bidder2 = Account.from_mnemonic(os.environ.get(\"BUYER2_MN\"))\n",
    "\n",
    "print(f\"Staking App Address: {staking_app.get_address()}\")\n",
    "print(f\"Team wallet Address: {team_wallet.get_address()}\")\n",
    "print(f\"Creator address: {creator.get_address()}\")\n",
    "print(f\"Seller Address: {seller.get_address()}\")\n",
    "print(f\"Bidder Address: {bidder.get_address()}\")\n",
    "print(f\"Bidder1 Address: {bidder1.get_address()}\")\n",
    "print(f\"Bidder2 Address: {bidder2.get_address()}\")   \n",
    "  \n"
   ]
  },
  {
   "cell_type": "code",
   "execution_count": 4,
   "metadata": {},
   "outputs": [],
   "source": [
    "#seller_info = get_account_info(client, seller.get_address())\n",
    "#print('seller_info', seller_info)"
   ]
  },
  {
   "cell_type": "code",
   "execution_count": 5,
   "metadata": {},
   "outputs": [
    {
     "name": "stdout",
     "output_type": "stream",
     "text": [
      "Waiting for confirmation...\n",
      "Transaction I4HN3ORZE6K2AFY4N57BY4QIKJTEGN5ZYFDC2XJMGZWQNOZN7CMA confirmed in round 126209.\n",
      "Waiting for confirmation...\n",
      "Transaction LCT2XLXFLSKCQU5V7BK5J4IS73SRVJ3VVJH2YRZAJYOQUCZNOVCQ confirmed in round 126211.\n",
      "Waiting for confirmation...\n",
      "Transaction WLTBUAF4YGBO257WMDQ3IGBRPEWKBBSKSBTR7KCGB64RVNV46ICQ confirmed in round 126213.\n",
      "Waiting for confirmation...\n",
      "Transaction L3SWFZWG2B5UC2YR6R6ZQA3YVKM6N6KUHFB2OUSMNYTXHJSNQBEQ confirmed in round 126215.\n",
      "Waiting for confirmation...\n",
      "Transaction KD4K2SRHW4KSTCVZO64GIKQQ4XUPQFRPUL7733WGSXFRMJUFDZJA confirmed in round 126217.\n",
      "Waiting for confirmation...\n",
      "Transaction O5PAGA2VIXTRGIBRFP64VMCIP5ZUEVXLLY2UAWSMNZCCQJS5FY2A confirmed in round 126219.\n",
      "Waiting for confirmation...\n",
      "Transaction KU4FEXROB4GCBIXUSTWS6QMUBFAH2PODLQB5YOBGQWKDN3JSZHDA confirmed in round 126221.\n",
      "Waiting for confirmation...\n",
      "Transaction UV7HSXNFAPM74JCEGDCNFK3KZVL7GFS2TNDXCNCGOICI6KKBAMQA confirmed in round 126223.\n"
     ]
    }
   ],
   "source": [
    "deleteApps(client, [3177, 3179, 3200, 3202, 3223, 3225, 3246, 3248], creator)\n",
    "# optoutApps(client, [], seller)\n",
    "# optoutApps(client, [], bidder)\n",
    "# optoutApps(client, [], bidder1)\n",
    "# optoutApps(client, [], bidder2)"
   ]
  },
  {
   "cell_type": "markdown",
   "metadata": {},
   "source": [
    "Alice is generating an example token..."
   ]
  },
  {
   "cell_type": "code",
   "execution_count": 6,
   "metadata": {},
   "outputs": [
    {
     "name": "stdout",
     "output_type": "stream",
     "text": [
      "The token id is: 2989\n"
     ]
    }
   ],
   "source": [
    "# def create_dummy_asset(sender: Account, total: int, decimals: int, asset_name: str, unit_name: str):\n",
    "#     txn = transaction.AssetConfigTxn(\n",
    "#         sender=sender.get_address(),\n",
    "#         sp=client.suggested_params(),\n",
    "#         total=total,\n",
    "#         decimals=decimals,\n",
    "#         asset_name=asset_name,\n",
    "#         unit_name=unit_name,\n",
    "#         default_frozen=False,\n",
    "#         strict_empty_address_check=False,\n",
    "#     )\n",
    "#     signed_txn = txn.sign(sender.get_private_key())\n",
    "\n",
    "#     client.send_transaction(signed_txn)\n",
    "\n",
    "#     response = wait_for_confirmation(client, signed_txn.get_txid())\n",
    "#     assert response.asset_index is not None and response.asset_index > 0\n",
    "#     return response.asset_index\n",
    "\n",
    "# asset_id = create_dummy_asset(creator, 1000000000000000000, 3, \"example token\", \"AVT\")\n",
    "\n",
    "asset_id = int(os.environ.get(\"TOKEN_ID\"))\n",
    "print(f\"The token id is: {asset_id}\")\n",
    "#send_asset(client, asset_id, 500000000000000, creator, seller)"
   ]
  },
  {
   "cell_type": "code",
   "execution_count": 7,
   "metadata": {},
   "outputs": [
    {
     "name": "stdout",
     "output_type": "stream",
     "text": [
      "start_time 1641486284\n"
     ]
    }
   ],
   "source": [
    "start_time = int(time()) + 10\n",
    "end_time = start_time + 30\n",
    "print(f\"start_time\", start_time)\n",
    "reserve = 1_000_000  # 1 Algo\n",
    "token_amount = 100\n",
    "increment = 100_000  # 0.1 Algo"
   ]
  },
  {
   "cell_type": "code",
   "execution_count": 8,
   "metadata": {},
   "outputs": [
    {
     "name": "stdout",
     "output_type": "stream",
     "text": [
      "Waiting for confirmation...\n",
      "Transaction MYPFDEYERNITHGKBFLF6BX7ZMHGLOSMSFVYZHYFU5VPII5VUO2WQ confirmed in round 126225.\n",
      "Store App ID: 3283\n",
      "Store App address: FYB4HRQYVCKRFESMCJDQIYD6V4RCTXNVZ3CLQV7MLTCTFTTNGGBX5UKVCM\n",
      "Waiting for confirmation...\n",
      "Transaction NRDSPQDP2EHRGSQJ6TSIGMJ36EY4BHD26YAOHOEKQKJEQKYMTSNA confirmed in round 126227.\n",
      "storeAppID 3283\n",
      "b'storeApp address' FYB4HRQYVCKRFESMCJDQIYD6V4RCTXNVZ3CLQV7MLTCTFTTNGGBX5UKVCM\n"
     ]
    }
   ],
   "source": [
    "storeApp = StoringPool(client=client, creator=creator)\n",
    "\n",
    "storeAppID = int(os.environ.get(\"STORE_APP_ID\"))\n",
    "storeApp.app_id = storeAppID\n",
    "\n",
    "# optout_app(client, storeAppID, seller)\n",
    "# optout_app(client, storeAppID, bidder)\n",
    "# optout_app(client, storeAppID, bidder1)\n",
    "# optout_app(client, storeAppID, bidder2)\n",
    "\n",
    "storeApp.create_app()\n",
    "storeAppID = storeApp.app_id\n",
    "\n",
    "print(f\"storeAppID\", storeAppID)\n",
    "print(b\"storeApp address\", get_application_address(storeAppID))\n"
   ]
  },
  {
   "cell_type": "markdown",
   "metadata": {},
   "source": [
    "\"Alice is creating auction smart contract that lasts 30 seconds to auction off token...\""
   ]
  },
  {
   "cell_type": "code",
   "execution_count": 9,
   "metadata": {},
   "outputs": [
    {
     "name": "stdout",
     "output_type": "stream",
     "text": [
      "seller address: CN4EQ6QXFCDLR2ATDTRJMMFGLXSUS5TMLGLO7FJDBQRQGFUXTUA4LBVEIA\n",
      "Waiting for confirmation...\n",
      "Transaction CHAOOQ5UCO6DMHSUCKE5BHGUSYWF5BS56IPZDSM7F5E6PRY4DG6Q confirmed in round 126229.\n",
      "Waiting for confirmation...\n",
      "Transaction XRSKUVOZVILXZIFLUERLJ7OP42VVTKVUGZ73LDSYLOPYMYCAFELA confirmed in round 126231.\n",
      "Auction App ID: 3285\n",
      "Auction App Address: 2RULKVZUQVGHARJYPMJUVJ7NS2P6F5QF6U2XZY54TOHZ4NYHPK6EIYS5SQ\n",
      "Latest time: {b'SA_ADDR': b'\\xe4\\xe7\\xfe\\xeb\\xfc h\\x02\\xf3\\xc2D\\xe8\\xbf\\x1e\\x10\\xe0\\xb8=\\x99\\xdf1\\x1dX\\xe6P\\xce\\xfb[\\xc8\\xd1\\xa9\\xd3', b'SA_ID': 3283, b'TW_ADDR': b\"\\xa0\\x81}\\xb3\\xa7\\x97\\xdfk,>8\\xc4\\xcd;\\xe9'\\x0e-\\xc4\\xc1{lX\\xbf\\x92\\xc5=\\xac\\xcb\\xad\\x94\\xb4\"}\n"
     ]
    }
   ],
   "source": [
    "\n",
    "print(f\"seller address: {seller.get_address()}\")\n",
    "appID = create_auction_app(\n",
    "    client=client,\n",
    "    creator=creator,\n",
    "    staking_address=staking_app.get_address(),\n",
    "    team_wallet_address=team_wallet.get_address(),\n",
    "    store_app_id=storeAppID\n",
    ")\n",
    "\n",
    "#appID = 2843\n",
    "print(f\"Auction App ID: {appID}\")\n",
    "print(f\"Auction App Address: {get_application_address(appID)}\")\n",
    "print(\"Latest time:\", get_app_global_state(client, appID))"
   ]
  },
  {
   "cell_type": "markdown",
   "metadata": {},
   "source": [
    "Alice is setting up and funding token auction..."
   ]
  },
  {
   "cell_type": "code",
   "execution_count": 10,
   "metadata": {},
   "outputs": [
    {
     "name": "stdout",
     "output_type": "stream",
     "text": [
      "Waiting for confirmation...\n",
      "Transaction ZVBY54U4O6UG3URFVTVHKHGAZK54W5XQ5FPZ2LUI5TRD66TVWF6A confirmed in round 126233.\n"
     ]
    }
   ],
   "source": [
    "storeApp.set_up(trade_app_id=100, bid_app_id=101, auction_app_id=appID)"
   ]
  },
  {
   "cell_type": "code",
   "execution_count": 11,
   "metadata": {},
   "outputs": [
    {
     "name": "stdout",
     "output_type": "stream",
     "text": [
      "store_app_id 3283\n",
      "seller CN4EQ6QXFCDLR2ATDTRJMMFGLXSUS5TMLGLO7FJDBQRQGFUXTUA4LBVEIA opt in app 3283\n",
      "Waiting for confirmation...\n",
      "Transaction FYOKP2P6JOK6SVSCJGDXNRSEBGEQT5VEAZJD445LCEPT3C427B5Q confirmed in round 126235.\n",
      "new address: DIUGRE7GC4CCUCCE3SCQFM4Q5ELCNEU4EPFKAW72G6MAHU262N2W4ICAXU\n",
      "new private_key: yz9d7bSjn9CE79wPHNdWNP1poz68ctNq8MzPhvwZp3saKGiT5hcEKghE3IUCs5DpFiaSnCPKoFv6N5gD017TdQ==\n",
      "new passphrase: west insane issue deputy dismiss crouch label table limit fragile clock spy stadium potato tiger increase foil script toy hollow weekend shoe tag about news\n",
      "Waiting for confirmation...\n",
      "Transaction HFMNLL7DTIONOSFZSD7FF5RHKPLRTYY2LERINIUGPGP2IMLNBJ4Q confirmed in round 126237.\n",
      "Waiting for confirmation...\n",
      "Transaction AM7C7WTYJTVPO2SCOBTHLL2C4W5Y5XLM67UFPB63D37DOVOLAKVQ confirmed in round 126239.\n",
      "Waiting for confirmation...\n",
      "Transaction PPROJL6VE2CGW4SZFAQJZWO3BS3R5OWZDBVQENLHZ2BUJCTCGSWA confirmed in round 126241.\n",
      "Waiting for confirmation...\n",
      "Transaction CNOWSATEQTUI64A6FB3ABVTSHSWEAPZIDWHSJ7OEFTAF2RG7IYAA confirmed in round 126243.\n",
      "Alice's algo balance:  20061756477594  algos\n"
     ]
    }
   ],
   "source": [
    "auction_index = setup_auction_app(\n",
    "    client=client,\n",
    "    app_id=appID,\n",
    "    seller=seller,\n",
    "    token_id=asset_id,\n",
    "    token_amount=token_amount,\n",
    "    start_time=start_time,\n",
    "    end_time=end_time,\n",
    "    reserve=reserve,\n",
    "    min_bid_increment=increment\n",
    ")\n",
    "\n",
    "sellerAlgosBefore = get_balances(client, seller.get_address())[0]\n",
    "\n",
    "print(\"Alice's algo balance: \", sellerAlgosBefore, \" algos\")"
   ]
  },
  {
   "cell_type": "code",
   "execution_count": 12,
   "metadata": {},
   "outputs": [
    {
     "name": "stdout",
     "output_type": "stream",
     "text": [
      "The smart contract now holds the following: {0: 200000, 2989: 100}\n"
     ]
    }
   ],
   "source": [
    "# _, last_round_time = get_last_block_timestamp(client)\n",
    "# print(f\"start_time\", start_time)\n",
    "# print(f\"last_round_time\", last_round_time)\n",
    "# if last_round_time < start_time + 5:\n",
    "#     sleep(start_time + 5 - last_round_time)\n",
    "\n",
    "actualAppBalancesBefore = get_balances(client, get_application_address(appID))\n",
    "print(\"The smart contract now holds the following:\", actualAppBalancesBefore)"
   ]
  },
  {
   "cell_type": "code",
   "execution_count": 13,
   "metadata": {},
   "outputs": [
    {
     "name": "stdout",
     "output_type": "stream",
     "text": [
      "Carla wants to bid on token, her algo balance:  10028777475452  algos\n",
      "Carla is placing bid for:  1004000  algos\n"
     ]
    }
   ],
   "source": [
    "bidAmount = reserve + 4000\n",
    "bidderAlgosBefore = get_balances(client, bidder.get_address())[0]\n",
    "print(\"Carla wants to bid on token, her algo balance: \", bidderAlgosBefore, \" algos\")\n",
    "print(\"Carla is placing bid for: \", bidAmount, \" algos\")"
   ]
  },
  {
   "cell_type": "code",
   "execution_count": 14,
   "metadata": {},
   "outputs": [
    {
     "name": "stdout",
     "output_type": "stream",
     "text": [
      "lastRoundTime 1641486350\n",
      "Waiting for confirmation...\n",
      "Transaction FFO6TE2YRLOQPC3EMPWD3Y52H4WEC7UYURLUOA6MUHRGSJEWWZIA confirmed in round 126245.\n",
      "prev_bid_leader None\n",
      "Waiting for confirmation...\n",
      "Transaction NMWLQWL5JEE2FB66CLT4DAHXQWDEPGHAOOZFMLIHJ4EM3LO2TNKQ confirmed in round 126247.\n",
      "Carla is opting into token with id: 2989\n"
     ]
    }
   ],
   "source": [
    "_, lastRoundTime = get_last_block_timestamp(client)\n",
    "print(f\"lastRoundTime\", lastRoundTime)\n",
    "place_bid(client=client, app_id=appID, auction_index=auction_index, bidder=bidder, bid_amount=bidAmount)\n",
    "\n",
    "print(\"Carla is opting into token with id:\", asset_id)"
   ]
  },
  {
   "cell_type": "code",
   "execution_count": 15,
   "metadata": {},
   "outputs": [
    {
     "name": "stdout",
     "output_type": "stream",
     "text": [
      "Waiting for confirmation...\n",
      "Transaction HM5UTY7KTZDE3KDPQNVZ2RTBU4HBMW7FMPEYU3E2N64DJ36V4R6A confirmed in round 126249.\n",
      "prev_bid_leader X7PMCPPRD2T35ZZRTPETYK53G5YWBKUNONVDY52WODP3N3YM7NGEF5HGWU\n",
      "Waiting for confirmation...\n",
      "Transaction F3ZNNI3DMLH5AGRIIA47JDNMSMRY3YKWJ7DO7QCU5MYUACZ4APTA confirmed in round 126251.\n",
      "Waiting for confirmation...\n",
      "Transaction MRTZV4NJ3BC3GCUKCEHZO5FIUCZQALTO3EWUJ5O764RCZDG3Y3AA confirmed in round 126253.\n",
      "prev_bid_leader LOUBIMVHXMWMJNC4ZBKTIQTGNLF36EIXTEVBD7BUHDMIXKSMKQRNIPMQ6I\n",
      "Waiting for confirmation...\n",
      "Transaction XOP7GX3L7D74RHCSW5WR7G5SIUANAVBJCAZ3UJF64S5MPBTRACQA confirmed in round 126255.\n"
     ]
    },
    {
     "data": {
      "text/plain": [
       "True"
      ]
     },
     "execution_count": 15,
     "metadata": {},
     "output_type": "execute_result"
    }
   ],
   "source": [
    "bidAmount = reserve + 300_000\n",
    "place_bid(client=client, app_id=appID, auction_index=auction_index, bidder=bidder1, bid_amount=bidAmount)\n",
    "\n",
    "bidAmount = reserve + 500_000\n",
    "place_bid(client=client, app_id=appID, auction_index=auction_index, bidder=bidder2, bid_amount=bidAmount)\n"
   ]
  },
  {
   "cell_type": "markdown",
   "metadata": {},
   "source": [
    "Alice is closing out the auction...."
   ]
  },
  {
   "cell_type": "code",
   "execution_count": 16,
   "metadata": {},
   "outputs": [
    {
     "name": "stdout",
     "output_type": "stream",
     "text": [
      "app_global_state {b'SA_ADDR': b'\\xe4\\xe7\\xfe\\xeb\\xfc h\\x02\\xf3\\xc2D\\xe8\\xbf\\x1e\\x10\\xe0\\xb8=\\x99\\xdf1\\x1dX\\xe6P\\xce\\xfb[\\xc8\\xd1\\xa9\\xd3', b'SA_ID': 3283, b'TW_ADDR': b\"\\xa0\\x81}\\xb3\\xa7\\x97\\xdfk,>8\\xc4\\xcd;\\xe9'\\x0e-\\xc4\\xc1{lX\\xbf\\x92\\xc5=\\xac\\xcb\\xad\\x94\\xb4\"}\n",
      "['DIUGRE7GC4CCUCCE3SCQFM4Q5ELCNEU4EPFKAW72G6MAHU262N2W4ICAXU', '742N2DLQ6NUUQXNUTNIJHYXYGL6BWG7C2XSQDHLFJN2NFYDVAYYUAQ36NQ', 'UCAX3M5HS7PWWLB6HDCM2O7JE4HC3RGBPNWFRP4SYU62ZS5NSS2GFOKIOU', '4TT75274EBUAF46CITUL6HQQ4C4D3GO7GEOVRZSQZ35VXSGRVHJ376GD64']\n",
      "Waiting for confirmation...\n",
      "Transaction H4OC5NHILT3UNOA3XCQBD4CHU5CEZBKOFZ7APPMFE4WY5EM5LZKQ confirmed in round 126257.\n"
     ]
    },
    {
     "data": {
      "text/plain": [
       "True"
      ]
     },
     "execution_count": 16,
     "metadata": {},
     "output_type": "execute_result"
    }
   ],
   "source": [
    "# _, lastRoundTime = get_last_block_timestamp(client)\n",
    "# if lastRoundTime < end_time + 5:\n",
    "#     sleep(end_time + 5 - lastRoundTime)\n",
    "\n",
    "close_auction(client, appID, auction_index, seller)"
   ]
  },
  {
   "cell_type": "code",
   "execution_count": 17,
   "metadata": {},
   "outputs": [
    {
     "name": "stdout",
     "output_type": "stream",
     "text": [
      "The smart contract now holds the following: {0: 1705001, 2989: 0}\n",
      "storeAppID 3283\n",
      "{b'SA': 1496000}\n",
      "{}\n",
      "{}\n",
      "{b'BA': 1496000}\n"
     ]
    }
   ],
   "source": [
    "actualAppBalances = get_balances(client, get_application_address(appID))\n",
    "expectedAppBalances = {0: 0}\n",
    "print(\"The smart contract now holds the following:\", actualAppBalances)\n",
    "print(f\"storeAppID\", storeAppID)\n",
    "#assert actualAppBalances == expectedAppBalances\n",
    "\n",
    "from utils import get_app_local_state\n",
    "print(get_app_local_state(client, storeAppID, seller.get_address()))\n",
    "print(get_app_local_state(client, storeAppID, bidder.get_address()))\n",
    "print(get_app_local_state(client, storeAppID, bidder1.get_address()))\n",
    "print(get_app_local_state(client, storeAppID, bidder2.get_address()))"
   ]
  },
  {
   "cell_type": "code",
   "execution_count": 18,
   "metadata": {},
   "outputs": [
    {
     "name": "stdout",
     "output_type": "stream",
     "text": [
      "Carla's NFT balance: 0  for token ID:  2989\n"
     ]
    },
    {
     "ename": "AssertionError",
     "evalue": "",
     "output_type": "error",
     "traceback": [
      "\u001b[0;31m---------------------------------------------------------------------------\u001b[0m",
      "\u001b[0;31mAssertionError\u001b[0m                            Traceback (most recent call last)",
      "\u001b[0;32m/var/folders/3k/5_sd8_ms50n24wv9pqsdmpcr0000gn/T/ipykernel_22209/2185462811.py\u001b[0m in \u001b[0;36m<module>\u001b[0;34m\u001b[0m\n\u001b[1;32m      5\u001b[0m \u001b[0mprint\u001b[0m\u001b[0;34m(\u001b[0m\u001b[0;34m\"Carla's NFT balance:\"\u001b[0m\u001b[0;34m,\u001b[0m \u001b[0mbidder1NftBalance\u001b[0m\u001b[0;34m,\u001b[0m \u001b[0;34m\" for token ID: \"\u001b[0m\u001b[0;34m,\u001b[0m \u001b[0masset_id\u001b[0m\u001b[0;34m)\u001b[0m\u001b[0;34m\u001b[0m\u001b[0;34m\u001b[0m\u001b[0m\n\u001b[1;32m      6\u001b[0m \u001b[0;34m\u001b[0m\u001b[0m\n\u001b[0;32m----> 7\u001b[0;31m \u001b[0;32massert\u001b[0m \u001b[0mbidder1NftBalance\u001b[0m \u001b[0;34m==\u001b[0m \u001b[0;36m1\u001b[0m\u001b[0;34m\u001b[0m\u001b[0;34m\u001b[0m\u001b[0m\n\u001b[0m\u001b[1;32m      8\u001b[0m \u001b[0;34m\u001b[0m\u001b[0m\n\u001b[1;32m      9\u001b[0m \u001b[0mactualSellerBalances\u001b[0m \u001b[0;34m=\u001b[0m \u001b[0mget_balances\u001b[0m\u001b[0;34m(\u001b[0m\u001b[0mclient\u001b[0m\u001b[0;34m,\u001b[0m \u001b[0mseller\u001b[0m\u001b[0;34m.\u001b[0m\u001b[0mget_address\u001b[0m\u001b[0;34m(\u001b[0m\u001b[0;34m)\u001b[0m\u001b[0;34m)\u001b[0m\u001b[0;34m\u001b[0m\u001b[0;34m\u001b[0m\u001b[0m\n",
      "\u001b[0;31mAssertionError\u001b[0m: "
     ]
    }
   ],
   "source": [
    "#bidderNftBalance = get_balances(client, bidder.get_address())[asset_id]\n",
    "bidder1NftBalance = get_balances(client, bidder1.get_address())[asset_id]\n",
    "#bidder2NftBalance = get_balances(client, bidder2.get_address())[asset_id]\n",
    "\n",
    "print(\"Carla's NFT balance:\", bidder1NftBalance, \" for token ID: \", asset_id)\n",
    "\n",
    "assert bidder1NftBalance == 1\n",
    "\n",
    "actualSellerBalances = get_balances(client, seller.get_address())\n",
    "print(\"Alice's balances after auction: \", actualSellerBalances, \" Algos\")\n",
    "actualBidderBalances = get_balances(client, bidder.get_address())\n",
    "print(\"Carla's balances after auction: \", actualBidderBalances, \" Algos\")\n",
    "# assert len(actualSellerBalances) == 2\n",
    "# seller should receive the bid amount, minus the txn fee\n",
    "assert actualSellerBalances[0] >= sellerAlgosBefore + bidAmount - 1_000\n",
    "assert actualSellerBalances[asset_id] == 0"
   ]
  },
  {
   "cell_type": "code",
   "execution_count": 19,
   "metadata": {},
   "outputs": [
    {
     "name": "stdout",
     "output_type": "stream",
     "text": [
      "{b'AA_ADDR': 3285, b'BA_ADDR': 101, b'TA_ADDR': 100, b'TBA': 1496000, b'TSA': 1496000}\n"
     ]
    },
    {
     "ename": "KeyError",
     "evalue": "b'C'",
     "output_type": "error",
     "traceback": [
      "\u001b[0;31m---------------------------------------------------------------------------\u001b[0m",
      "\u001b[0;31mKeyError\u001b[0m                                  Traceback (most recent call last)",
      "\u001b[0;32m/var/folders/3k/5_sd8_ms50n24wv9pqsdmpcr0000gn/T/ipykernel_22209/2802072406.py\u001b[0m in \u001b[0;36m<module>\u001b[0;34m\u001b[0m\n\u001b[1;32m      1\u001b[0m \u001b[0mstoreAppState\u001b[0m \u001b[0;34m=\u001b[0m \u001b[0mget_app_global_state\u001b[0m\u001b[0;34m(\u001b[0m\u001b[0mclient\u001b[0m\u001b[0;34m,\u001b[0m \u001b[0mstoreAppID\u001b[0m\u001b[0;34m)\u001b[0m\u001b[0;34m\u001b[0m\u001b[0;34m\u001b[0m\u001b[0m\n\u001b[1;32m      2\u001b[0m \u001b[0mprint\u001b[0m\u001b[0;34m(\u001b[0m\u001b[0mstoreAppState\u001b[0m\u001b[0;34m)\u001b[0m\u001b[0;34m\u001b[0m\u001b[0;34m\u001b[0m\u001b[0m\n\u001b[0;32m----> 3\u001b[0;31m \u001b[0mprint\u001b[0m\u001b[0;34m(\u001b[0m\u001b[0mencoding\u001b[0m\u001b[0;34m.\u001b[0m\u001b[0mencode_address\u001b[0m\u001b[0;34m(\u001b[0m\u001b[0mstoreAppState\u001b[0m\u001b[0;34m[\u001b[0m\u001b[0;34mb\"C\"\u001b[0m\u001b[0;34m]\u001b[0m\u001b[0;34m)\u001b[0m\u001b[0;34m)\u001b[0m\u001b[0;34m\u001b[0m\u001b[0;34m\u001b[0m\u001b[0m\n\u001b[0m",
      "\u001b[0;31mKeyError\u001b[0m: b'C'"
     ]
    }
   ],
   "source": [
    "storeAppState = get_app_global_state(client, storeAppID)\n",
    "print(storeAppState)\n",
    "print(encoding.encode_address(storeAppState[b\"C\"]))"
   ]
  }
 ],
 "metadata": {
  "interpreter": {
   "hash": "d8d32039960e27bf02cc380478024df65258985d3f6246b5f3627ebac0bfeee0"
  },
  "kernelspec": {
   "display_name": "Python 3.8.10 64-bit ('venv': venv)",
   "language": "python",
   "name": "python3"
  },
  "language_info": {
   "codemirror_mode": {
    "name": "ipython",
    "version": 3
   },
   "file_extension": ".py",
   "mimetype": "text/x-python",
   "name": "python",
   "nbconvert_exporter": "python",
   "pygments_lexer": "ipython3",
   "version": "3.9.9"
  },
  "orig_nbformat": 4
 },
 "nbformat": 4,
 "nbformat_minor": 2
}

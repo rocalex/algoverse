{
 "cells": [
  {
   "cell_type": "code",
   "execution_count": 1,
   "metadata": {},
   "outputs": [],
   "source": [
    "import os\n",
    "\n",
    "import dotenv\n",
    "\n",
    "from time import time, sleep\n",
    "from algosdk.future import transaction\n",
    "from algosdk.logic import get_application_address\n",
    "\n",
    "from trading.operations import create_trading_app, setup_trading_app, place_trade, cancel_trade, place_accept, close_trading\n",
    "from store.operations import StoringPool\n",
    "from utils import *\n",
    "from account import Account"
   ]
  },
  {
   "cell_type": "code",
   "execution_count": 2,
   "metadata": {},
   "outputs": [],
   "source": [
    "dotenv.load_dotenv('.env')\n",
    "\n",
    "client = get_algod_client(os.environ.get('ALGOD_URL'), os.environ.get('ALGOD_TOKEN'))"
   ]
  },
  {
   "cell_type": "code",
   "execution_count": 3,
   "metadata": {},
   "outputs": [
    {
     "name": "stdout",
     "output_type": "stream",
     "text": [
      "Creator address: 4TT75274EBUAF46CITUL6HQQ4C4D3GO7GEOVRZSQZ35VXSGRVHJ376GD64\n",
      "Bidder address: LOUBIMVHXMWMJNC4ZBKTIQTGNLF36EIXTEVBD7BUHDMIXKSMKQRNIPMQ6I\n",
      "Seller Address: Y4QR7LETUXJQVSPRKOJ5VFDR2GRO3MTSLJ4CLSIPJ5YN33Z3Z7HDT6JLYM\n"
     ]
    }
   ],
   "source": [
    "creator = Account.from_mnemonic(os.environ.get('CREATOR_MN'))\n",
    "bidder = Account.from_mnemonic(os.environ.get('BUYER_MN'))\n",
    "seller = Account.from_mnemonic(os.environ.get('SELLER_MN'))\n",
    "\n",
    "storeAppID = int(os.environ.get(\"STORE_APP_ID\"))\n",
    "\n",
    "#close_trading(client, 693, storeAppID, creator)\n",
    "\n",
    "print(f\"Creator address: {creator.get_address()}\")\n",
    "print(f\"Bidder address: {bidder.get_address()}\")\n",
    "print(f\"Seller Address: {seller.get_address()}\")"
   ]
  },
  {
   "cell_type": "markdown",
   "metadata": {},
   "source": [
    "Alice is generating an example token..."
   ]
  },
  {
   "cell_type": "code",
   "execution_count": 4,
   "metadata": {},
   "outputs": [
    {
     "name": "stdout",
     "output_type": "stream",
     "text": [
      "The token id is: 499\n"
     ]
    }
   ],
   "source": [
    "# def create_dummy_asset(sender: Account, total: int, decimals: int, asset_name: str, unit_name: str):\n",
    "#     txn = transaction.AssetConfigTxn(\n",
    "#         sender=sender.get_address(),\n",
    "#         sp=client.suggested_params(),\n",
    "#         total=total,\n",
    "#         decimals=decimals,\n",
    "#         asset_name=asset_name,\n",
    "#         unit_name=unit_name,\n",
    "#         default_frozen=False,\n",
    "#         strict_empty_address_check=False,\n",
    "#     )\n",
    "#     signed_txn = txn.sign(sender.get_private_key())\n",
    "\n",
    "#     client.send_transaction(signed_txn)\n",
    "\n",
    "#     response = wait_for_confirmation(client, signed_txn.get_txid())\n",
    "#     assert response.asset_index is not None and response.asset_index > 0\n",
    "#     return response.asset_index\n",
    "\n",
    "# asset_id = create_dummy_asset(seller, 1, 0, \"example token\", \"AVT\")\n",
    "\n",
    "asset_id = int(os.environ.get(\"TOKEN_ID\"))\n",
    "print(f\"The token id is: {asset_id}\")"
   ]
  },
  {
   "cell_type": "code",
   "execution_count": 5,
   "metadata": {},
   "outputs": [],
   "source": [
    "start_time = int(time()) + 10\n",
    "end_time = start_time + 10\n",
    "price = 1_000_000  # 1 Algo"
   ]
  },
  {
   "cell_type": "markdown",
   "metadata": {},
   "source": [
    "\"Alice is creating auction smart contract that lasts 30 seconds to auction off token...\""
   ]
  },
  {
   "cell_type": "code",
   "execution_count": 6,
   "metadata": {},
   "outputs": [
    {
     "name": "stdout",
     "output_type": "stream",
     "text": [
      "Store App ID: 727\n",
      "Store App Address: 5YFHLDU7ELKNT3N25YKEXEHALZL6C3UEZLKZOSMICARY3ZBXDEPRKAKYWU\n"
     ]
    }
   ],
   "source": [
    "storeApp = StoringPool(client=client, creator=creator, token_id=asset_id)\n",
    "# storeApp.create_app()\n",
    "# storeAppID = storeApp.app_id\n",
    "\n",
    "storeAppID = int(os.environ.get(\"STORE_APP_ID\"))\n",
    "storeApp.app_id = storeAppID\n",
    "print(f\"Store App ID: {storeAppID}\")\n",
    "\n",
    "storeAppAddress = get_application_address(storeAppID)\n",
    "print(f\"Store App Address: {storeAppAddress}\")\n"
   ]
  },
  {
   "cell_type": "code",
   "execution_count": 7,
   "metadata": {},
   "outputs": [
    {
     "name": "stdout",
     "output_type": "stream",
     "text": [
      "Waiting for confirmation...\n",
      "Transaction EX55WVKTBBYQUWX7HWJZY3FJFOJGOM6EEVGKB2N7TRBDL34SCNCQ confirmed in round 77844.\n",
      "App ID: 1473\n",
      "App Address: DVR5LPRWKLOMAGDSZ6WU5QVX3JGW62VOC2WFDBWOREJ4BXDFMH6DH2SVX4\n"
     ]
    }
   ],
   "source": [
    "\n",
    "appID = create_trading_app(\n",
    "    client=client,\n",
    "    creator=creator,\n",
    "    store_app_id=storeAppID\n",
    ")\n",
    "print(f\"App ID: {appID}\")\n",
    "print(f\"App Address: {get_application_address(appID)}\")"
   ]
  },
  {
   "cell_type": "markdown",
   "metadata": {},
   "source": [
    "Alice is setting up and funding token auction..."
   ]
  },
  {
   "cell_type": "code",
   "execution_count": 8,
   "metadata": {},
   "outputs": [
    {
     "name": "stdout",
     "output_type": "stream",
     "text": [
      "Waiting for confirmation...\n",
      "Transaction 5SOOSEWVABKXN3N5HWGAHBKNT4ZKWEZN4HMDBHVPIVXSEH7K3VRQ confirmed in round 77846.\n",
      "Alice's algo balance:  20037596683628  algos\n"
     ]
    }
   ],
   "source": [
    "setup_trading_app(\n",
    "    client=client,\n",
    "    app_id=appID,\n",
    "    funder=creator,\n",
    "    token_id=asset_id,\n",
    ")\n",
    "\n",
    "sellerAlgosBefore = get_balances(client, seller.get_address())[0]\n",
    "print(\"Alice's algo balance: \", sellerAlgosBefore, \" algos\")"
   ]
  },
  {
   "cell_type": "code",
   "execution_count": 9,
   "metadata": {},
   "outputs": [
    {
     "name": "stdout",
     "output_type": "stream",
     "text": [
      "The smart contract now holds the following: {0: 100101000, 499: 0}\n"
     ]
    }
   ],
   "source": [
    "sleep(5)\n",
    "actualAppBalancesBefore = get_balances(client, get_application_address(appID))\n",
    "print(\"The smart contract now holds the following:\", actualAppBalancesBefore)"
   ]
  },
  {
   "cell_type": "code",
   "execution_count": 10,
   "metadata": {},
   "outputs": [
    {
     "name": "stdout",
     "output_type": "stream",
     "text": [
      "Carla wants to bid on token, her algo balance:  10019403884749  algos\n",
      "Carla is placing bid for:  1000000  algos\n"
     ]
    }
   ],
   "source": [
    "bidPrice = price\n",
    "bidderAlgosBefore = get_balances(client, bidder.get_address())[0]\n",
    "print(\"Carla wants to bid on token, her algo balance: \", bidderAlgosBefore, \" algos\")\n",
    "print(\"Carla is placing bid for: \", bidPrice, \" algos\")"
   ]
  },
  {
   "cell_type": "code",
   "execution_count": 11,
   "metadata": {},
   "outputs": [
    {
     "name": "stdout",
     "output_type": "stream",
     "text": [
      "store_app_id 727\n",
      "new address: 6WUN7376ILJCYKNCWRLDCRIIAECD4SKCBXZWPTBNBWGBTX43EUOMGOKEFY\n",
      "new private_key: zG7o4ykDfwdqrpiQHx8P0xvcK7GAaap5hyulbY3XdO71qN/v/kLSLCmitFYxRQgBBD5JQg3zZ8wtDYwZ35slHA==\n",
      "new passphrase: sunset payment vehicle crater wrap limb infant obvious velvet ladder maple rule return enough airport hat crystal bulb noise surge bracket curious inhale abstract hidden\n",
      "Waiting for confirmation...\n",
      "Transaction 77L6WWZJQA5RUHLRGTL6B2CFSCB72E5MNQLYXQO55YMJQJZ7I2XA confirmed in round 77849.\n",
      "Waiting for confirmation...\n",
      "Transaction EEQ7Y527ASY3LNFZS7Z2M77ZVN6EVI2XUBBKFWEQXLU5DMTFZI6A confirmed in round 77851.\n",
      "Waiting for confirmation...\n",
      "Transaction 5CVKCN6MGAEJHE5NA3XXKTQCVHKMVQTEW6BQHN74HGY4DISQS5GA confirmed in round 77853.\n",
      "obj {'LOUBIMVHXMWMJNC4ZBKTIQTGNLF36EIXTEVBD7BUHDMIXKSMKQRNIPMQ6I': {'5TG3X5EGVIRUWLL72O4GRLDQKMLXWMKVMCVEFZRTNXQ65MAMW3UNUQ6DUI': 1}, 'Y4QR7LETUXJQVSPRKOJ5VFDR2GRO3MTSLJ4CLSIPJ5YN33Z3Z7HDT6JLYM': {'67KQREK4UKL3BJFBPTTGGHF5STPU2QQ3KXLF7ZNBIKNHODJQ7K25OV7U5M': 1, 'E4U25BKMR3UNDB4K7HB3HYP6IIX2343MFM763EKCHFVWQBUY3RUCHYU53E': 1, 'NNA5OCYLEP2HAVDHB4OLKVB4GXGGUQD2JOF3SEUO3WLQUCLG56E2WJC3T4': 1, 'GJHC7JQ33S4PFBCBKAJSL5GL5SDTLDBFNJLB2ZLZF67BYIWIDEOOXQYZMY': 1, 'VXYVLO35ZAQMKW7BTE226QVVLDKMQHJJZRDBIYTK6T5OUK4ISZCSTSQH5Y': 1, 'DOMDTBBDCQCR7YSHHEOHQGRIU5SGAW3XIHDHP73VFSLRNRQVAXMDC4VZCY': 1, 'ORJTBC3UBKFVKALFIORVZNWSVOX23THDHEQMGQNSXQ2ABNSKH64OMYFEGQ': 1, 'ZTKLAEKCKCKTYV2TEOQNPQN45VG4ZRM6KKZHP7GC6YZQ4PDT2TE4SHQBIA': 1, 'GIU26NSBSMV62TTIT64O7V7YFLEYZEHZSYQYEKKLSF5QBYODXNWV2CGMF4': 1, 'VUINBMP75F446NEGXDY3BWAGXDIBWRSRFDNQ5SEVSRAS5SNELZ662YN7AY': 1}}\n",
      "token_txn: {'sender': 'Y4QR7LETUXJQVSPRKOJ5VFDR2GRO3MTSLJ4CLSIPJ5YN33Z3Z7HDT6JLYM', 'fee': 1000, 'first_valid_round': 77847, 'last_valid_round': 78847, 'note': None, 'genesis_id': 'sandnet-v1', 'genesis_hash': 'S46yr60YjyJzK3Fk0J8V7mzMIOSxovaXAVqCHlwPl1A=', 'group': None, 'lease': None, 'type': 'axfer', 'rekey_to': None, 'receiver': 'DVR5LPRWKLOMAGDSZ6WU5QVX3JGW62VOC2WFDBWOREJ4BXDFMH6DH2SVX4', 'amount': 10, 'index': 499, 'close_assets_to': None, 'revocation_target': None}\n",
      "Waiting for confirmation...\n",
      "Transaction FU5EWFE7IX27V3XXJTWIIZP3U336EFDUAC2ASFNGDTUJ3QJTLA4A confirmed in round 77855.\n",
      "Carla bid 6WUN7376ILJCYKNCWRLDCRIIAECD4SKCBXZWPTBNBWGBTX43EUOMGOKEFY\n"
     ]
    }
   ],
   "source": [
    "trading_index = place_trade(client=client, app_id=appID, seller=seller, token_id=asset_id, token_amount=10, price=bidPrice, trading_index=\"\")\n",
    "\n",
    "print(\"Carla bid\", trading_index)"
   ]
  },
  {
   "cell_type": "code",
   "execution_count": 12,
   "metadata": {},
   "outputs": [
    {
     "name": "stdout",
     "output_type": "stream",
     "text": [
      "Waiting for confirmation...\n",
      "Transaction BM6T7UNOCHLNQWDZDA5BPP3KZSWXHMYQJLGHTQHRYEASEZLDUL4Q confirmed in round 77857.\n",
      "Carla cancel trading 6WUN7376ILJCYKNCWRLDCRIIAECD4SKCBXZWPTBNBWGBTX43EUOMGOKEFY\n"
     ]
    }
   ],
   "source": [
    "# account_info = client.account_info(bidder.get_address())  \n",
    "# print(account_info.get('apps-local-state', []))\n",
    "# print(is_opted_in_app(client, appID, bidder.get_address()))\n",
    "\n",
    "cancel_trade(client, appID, seller, trading_index)\n",
    "print(\"Carla cancel trading\", trading_index)"
   ]
  },
  {
   "cell_type": "code",
   "execution_count": 13,
   "metadata": {},
   "outputs": [
    {
     "name": "stdout",
     "output_type": "stream",
     "text": [
      "store_app_id 727\n",
      "new address: 6IWEQJHKDP45O35COSVCBZRQAXKSVCQQGNEUNZJ7MU6RUGUTT4TH4ULBLA\n",
      "new private_key: XhLs1MvvlLEA7gqxTv8lgfH8C3QhbJ3TzFIvBL2zWE/yLEgk6hv512+idKog5jAF1SqKEDNJRuU/ZT0aGpOfJg==\n",
      "new passphrase: envelope raccoon tuna witness clap cluster hybrid april stomach wood napkin blossom wheat actual arm history inhale crew practice drill key coconut kiss able advice\n",
      "Waiting for confirmation...\n",
      "Transaction BJWMELDFR2XZKRIFK5VDSLJFQEIBZNZWAVF2VEXZUZ2JD27VZEKQ confirmed in round 77859.\n",
      "Waiting for confirmation...\n",
      "Transaction WYWG7C45LOU6WHGROYHUDKVYVDCOVRRSFG2YVNIEHNG5IQXPPDVA confirmed in round 77861.\n",
      "Waiting for confirmation...\n",
      "Transaction F52T3ZHGZUBDJNH2UQRSBEJXGF6GQHUYA3QC42LG5JHHBVCYPU7Q confirmed in round 77863.\n",
      "obj {'LOUBIMVHXMWMJNC4ZBKTIQTGNLF36EIXTEVBD7BUHDMIXKSMKQRNIPMQ6I': {'5TG3X5EGVIRUWLL72O4GRLDQKMLXWMKVMCVEFZRTNXQ65MAMW3UNUQ6DUI': 1}, 'Y4QR7LETUXJQVSPRKOJ5VFDR2GRO3MTSLJ4CLSIPJ5YN33Z3Z7HDT6JLYM': {'67KQREK4UKL3BJFBPTTGGHF5STPU2QQ3KXLF7ZNBIKNHODJQ7K25OV7U5M': 1, 'E4U25BKMR3UNDB4K7HB3HYP6IIX2343MFM763EKCHFVWQBUY3RUCHYU53E': 1, 'NNA5OCYLEP2HAVDHB4OLKVB4GXGGUQD2JOF3SEUO3WLQUCLG56E2WJC3T4': 1, 'GJHC7JQ33S4PFBCBKAJSL5GL5SDTLDBFNJLB2ZLZF67BYIWIDEOOXQYZMY': 1, 'VXYVLO35ZAQMKW7BTE226QVVLDKMQHJJZRDBIYTK6T5OUK4ISZCSTSQH5Y': 1, 'DOMDTBBDCQCR7YSHHEOHQGRIU5SGAW3XIHDHP73VFSLRNRQVAXMDC4VZCY': 1, 'ORJTBC3UBKFVKALFIORVZNWSVOX23THDHEQMGQNSXQ2ABNSKH64OMYFEGQ': 1, 'ZTKLAEKCKCKTYV2TEOQNPQN45VG4ZRM6KKZHP7GC6YZQ4PDT2TE4SHQBIA': 1, 'GIU26NSBSMV62TTIT64O7V7YFLEYZEHZSYQYEKKLSF5QBYODXNWV2CGMF4': 1, 'VUINBMP75F446NEGXDY3BWAGXDIBWRSRFDNQ5SEVSRAS5SNELZ662YN7AY': 1, '6WUN7376ILJCYKNCWRLDCRIIAECD4SKCBXZWPTBNBWGBTX43EUOMGOKEFY': 1}}\n",
      "token_txn: {'sender': 'Y4QR7LETUXJQVSPRKOJ5VFDR2GRO3MTSLJ4CLSIPJ5YN33Z3Z7HDT6JLYM', 'fee': 1000, 'first_valid_round': 77857, 'last_valid_round': 78857, 'note': None, 'genesis_id': 'sandnet-v1', 'genesis_hash': 'S46yr60YjyJzK3Fk0J8V7mzMIOSxovaXAVqCHlwPl1A=', 'group': None, 'lease': None, 'type': 'axfer', 'rekey_to': None, 'receiver': 'DVR5LPRWKLOMAGDSZ6WU5QVX3JGW62VOC2WFDBWOREJ4BXDFMH6DH2SVX4', 'amount': 10, 'index': 499, 'close_assets_to': None, 'revocation_target': None}\n",
      "Waiting for confirmation...\n",
      "Transaction FC37LZGW3RKBAKWHI37EBRNLYM6B56AC4FU6PORTXMM4ZYVUWSYA confirmed in round 77865.\n",
      "store_app_id 727\n",
      "token_txn: {'sender': 'Y4QR7LETUXJQVSPRKOJ5VFDR2GRO3MTSLJ4CLSIPJ5YN33Z3Z7HDT6JLYM', 'fee': 1000, 'first_valid_round': 77865, 'last_valid_round': 78865, 'note': None, 'genesis_id': 'sandnet-v1', 'genesis_hash': 'S46yr60YjyJzK3Fk0J8V7mzMIOSxovaXAVqCHlwPl1A=', 'group': None, 'lease': None, 'type': 'axfer', 'rekey_to': None, 'receiver': 'DVR5LPRWKLOMAGDSZ6WU5QVX3JGW62VOC2WFDBWOREJ4BXDFMH6DH2SVX4', 'amount': 15, 'index': 499, 'close_assets_to': None, 'revocation_target': None}\n",
      "Waiting for confirmation...\n",
      "Transaction DHWQ35QU2IYMJK5S74G2G2FAOAVEMVBRBSWUW2RWNCUIYOV7UXJA confirmed in round 77867.\n"
     ]
    },
    {
     "data": {
      "text/plain": [
       "'6IWEQJHKDP45O35COSVCBZRQAXKSVCQQGNEUNZJ7MU6RUGUTT4TH4ULBLA'"
      ]
     },
     "execution_count": 13,
     "metadata": {},
     "output_type": "execute_result"
    }
   ],
   "source": [
    "trading_index = place_trade(client=client, app_id=appID, seller=seller, token_id=asset_id, token_amount=10, price=bidPrice, trading_index=\"\")\n",
    "\n",
    "place_trade(client=client, app_id=appID, seller=seller, token_id=asset_id, token_amount=15, price=bidPrice, trading_index=trading_index)"
   ]
  },
  {
   "cell_type": "code",
   "execution_count": 14,
   "metadata": {},
   "outputs": [
    {
     "name": "stdout",
     "output_type": "stream",
     "text": [
      "token_amount 15\n",
      "price 1000000\n",
      "Waiting for confirmation...\n",
      "Transaction 723YKJM5LVDPM5R4YLO3AILWCRQXI2PIJM7XMODC24UR4QGN2P2A confirmed in round 77869.\n",
      "Waiting for confirmation...\n",
      "Transaction Y63M7AD4SIGCNJXRT4Q5TBPHYLRRUGPBLA36HQACNBUEGHECKAUA confirmed in round 77871.\n"
     ]
    },
    {
     "data": {
      "text/plain": [
       "True"
      ]
     },
     "execution_count": 14,
     "metadata": {},
     "output_type": "execute_result"
    }
   ],
   "source": [
    "place_accept(client, creator, appID, bidder, seller.get_address(), trading_index)"
   ]
  },
  {
   "cell_type": "markdown",
   "metadata": {},
   "source": [
    "Alice is closing out the auction...."
   ]
  },
  {
   "cell_type": "code",
   "execution_count": 15,
   "metadata": {},
   "outputs": [
    {
     "name": "stdout",
     "output_type": "stream",
     "text": [
      "b'assets' [499]\n",
      "b'accounts' ['4TT75274EBUAF46CITUL6HQQ4C4D3GO7GEOVRZSQZ35VXSGRVHJ376GD64', 'UCAX3M5HS7PWWLB6HDCM2O7JE4HC3RGBPNWFRP4SYU62ZS5NSS2GFOKIOU']\n",
      "Waiting for confirmation...\n",
      "Transaction G463FMVE2S6F25ACBBZTZY6WJVYTPCZEJSH6N4EJ3TXKVQRPTH5Q confirmed in round 77874.\n"
     ]
    }
   ],
   "source": [
    "sleep(5)\n",
    "\n",
    "close_trading(client, appID, creator, [asset_id])"
   ]
  },
  {
   "cell_type": "code",
   "execution_count": 16,
   "metadata": {},
   "outputs": [
    {
     "name": "stdout",
     "output_type": "stream",
     "text": [
      "The smart contract now holds the following: {0: 100097100, 499: 0}\n"
     ]
    }
   ],
   "source": [
    "actualAppBalances = get_balances(client, get_application_address(appID))\n",
    "expectedAppBalances = {0: 0}\n",
    "print(\"The smart contract now holds the following:\", actualAppBalances)\n",
    "\n",
    "#assert actualAppBalances == expectedAppBalances"
   ]
  },
  {
   "cell_type": "code",
   "execution_count": 17,
   "metadata": {},
   "outputs": [
    {
     "name": "stdout",
     "output_type": "stream",
     "text": [
      "Carla's NFT balance: 31  for token ID:  499\n"
     ]
    },
    {
     "ename": "AssertionError",
     "evalue": "",
     "output_type": "error",
     "traceback": [
      "\u001b[0;31m---------------------------------------------------------------------------\u001b[0m",
      "\u001b[0;31mAssertionError\u001b[0m                            Traceback (most recent call last)",
      "\u001b[0;32m/var/folders/3k/5_sd8_ms50n24wv9pqsdmpcr0000gn/T/ipykernel_2993/2424968205.py\u001b[0m in \u001b[0;36m<module>\u001b[0;34m\u001b[0m\n\u001b[1;32m      3\u001b[0m \u001b[0mprint\u001b[0m\u001b[0;34m(\u001b[0m\u001b[0;34m\"Carla's NFT balance:\"\u001b[0m\u001b[0;34m,\u001b[0m \u001b[0mbidderNftBalance\u001b[0m\u001b[0;34m,\u001b[0m \u001b[0;34m\" for token ID: \"\u001b[0m\u001b[0;34m,\u001b[0m \u001b[0masset_id\u001b[0m\u001b[0;34m)\u001b[0m\u001b[0;34m\u001b[0m\u001b[0;34m\u001b[0m\u001b[0m\n\u001b[1;32m      4\u001b[0m \u001b[0;34m\u001b[0m\u001b[0m\n\u001b[0;32m----> 5\u001b[0;31m \u001b[0;32massert\u001b[0m \u001b[0mbidderNftBalance\u001b[0m \u001b[0;34m==\u001b[0m \u001b[0;36m1\u001b[0m\u001b[0;34m\u001b[0m\u001b[0;34m\u001b[0m\u001b[0m\n\u001b[0m\u001b[1;32m      6\u001b[0m \u001b[0;34m\u001b[0m\u001b[0m\n\u001b[1;32m      7\u001b[0m \u001b[0mactualSellerBalances\u001b[0m \u001b[0;34m=\u001b[0m \u001b[0mget_balances\u001b[0m\u001b[0;34m(\u001b[0m\u001b[0mclient\u001b[0m\u001b[0;34m,\u001b[0m \u001b[0mseller\u001b[0m\u001b[0;34m.\u001b[0m\u001b[0mget_address\u001b[0m\u001b[0;34m(\u001b[0m\u001b[0;34m)\u001b[0m\u001b[0;34m)\u001b[0m\u001b[0;34m\u001b[0m\u001b[0;34m\u001b[0m\u001b[0m\n",
      "\u001b[0;31mAssertionError\u001b[0m: "
     ]
    }
   ],
   "source": [
    "bidderNftBalance = get_balances(client, bidder.get_address())[asset_id]\n",
    "\n",
    "print(\"Carla's NFT balance:\", bidderNftBalance, \" for token ID: \", asset_id)\n",
    "\n",
    "assert bidderNftBalance == 1\n",
    "\n",
    "actualSellerBalances = get_balances(client, seller.get_address())\n",
    "print(\"Alice's balances after auction: \", actualSellerBalances, \" Algos\")\n",
    "\n",
    "actualBidderBalances = get_balances(client, bidder.get_address())\n",
    "print(\"Carla's balances after auction: \", actualBidderBalances, \" Algos\")\n",
    "# assert len(actualSellerBalances) == 2\n",
    "# seller should receive the bid amount, minus the txn fee\n",
    "assert actualSellerBalances[0] >= sellerAlgosBefore + bidPrice - 1_000\n",
    "assert actualSellerBalances[asset_id] == 0"
   ]
  },
  {
   "cell_type": "code",
   "execution_count": null,
   "metadata": {},
   "outputs": [],
   "source": [
    "app_global_state = get_app_global_state(client, appID)\n",
    "print(app_global_state)\n",
    "print(encoding.encode_address(app_global_state[b\"AS\"]))\n",
    "print(encoding.encode_address(app_global_state[b\"S\"]))\n",
    "#print(encoding.encode_address(storeAppState[b\"C\"]))"
   ]
  }
 ],
 "metadata": {
  "interpreter": {
   "hash": "d8d32039960e27bf02cc380478024df65258985d3f6246b5f3627ebac0bfeee0"
  },
  "kernelspec": {
   "display_name": "Python 3.8.10 64-bit ('venv': venv)",
   "language": "python",
   "name": "python3"
  },
  "language_info": {
   "codemirror_mode": {
    "name": "ipython",
    "version": 3
   },
   "file_extension": ".py",
   "mimetype": "text/x-python",
   "name": "python",
   "nbconvert_exporter": "python",
   "pygments_lexer": "ipython3",
   "version": "3.9.9"
  },
  "orig_nbformat": 4
 },
 "nbformat": 4,
 "nbformat_minor": 2
}

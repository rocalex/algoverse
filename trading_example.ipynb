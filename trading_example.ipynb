{
 "cells": [
  {
   "cell_type": "code",
   "execution_count": 2,
   "metadata": {},
   "outputs": [],
   "source": [
    "import os\n",
    "\n",
    "import dotenv\n",
    "\n",
    "from time import time, sleep\n",
    "from algosdk.future import transaction\n",
    "from algosdk.logic import get_application_address\n",
    "\n",
    "from trading.operations import create_trading_app, setup_trading_app, place_bid, close_trading\n",
    "from utils import get_algod_client, wait_for_confirmation, get_balances, get_last_block_timestamp\n",
    "from account import Account"
   ]
  },
  {
   "cell_type": "code",
   "execution_count": 3,
   "metadata": {},
   "outputs": [],
   "source": [
    "dotenv.load_dotenv('.env')\n",
    "\n",
    "client = get_algod_client(os.environ.get('ALGOD_URL'), os.environ.get('ALGOD_TOKEN'))"
   ]
  },
  {
   "cell_type": "code",
   "execution_count": 4,
   "metadata": {},
   "outputs": [],
   "source": [
    "def optin_to_asset(asset_id, sender: Account):\n",
    "    txn = transaction.AssetOptInTxn(\n",
    "        sender=sender.get_address(),\n",
    "        sp=client.suggested_params(),\n",
    "        index=asset_id\n",
    "    )\n",
    "    signed_txn = txn.sign(sender.get_private_key())\n",
    "\n",
    "    client.send_transaction(signed_txn)\n",
    "\n",
    "    wait_for_confirmation(client, signed_txn.get_txid())"
   ]
  },
  {
   "cell_type": "code",
   "execution_count": 5,
   "metadata": {},
   "outputs": [
    {
     "name": "stdout",
     "output_type": "stream",
     "text": [
      "Creator address: CN4EQ6QXFCDLR2ATDTRJMMFGLXSUS5TMLGLO7FJDBQRQGFUXTUA4LBVEIA\n",
      "Seller Address: Y4QR7LETUXJQVSPRKOJ5VFDR2GRO3MTSLJ4CLSIPJ5YN33Z3Z7HDT6JLYM\n"
     ]
    }
   ],
   "source": [
    "creator = Account.from_mnemonic(os.environ.get('CREATOR_MN'))\n",
    "seller = Account.from_mnemonic(os.environ.get('SELLER_MN'))\n",
    "\n",
    "print(f\"Creator address: {creator.get_address()}\")\n",
    "print(f\"Seller Address: {seller.get_address()}\")"
   ]
  },
  {
   "cell_type": "markdown",
   "metadata": {},
   "source": [
    "Alice is generating an example token..."
   ]
  },
  {
   "cell_type": "code",
   "execution_count": 6,
   "metadata": {},
   "outputs": [
    {
     "name": "stdout",
     "output_type": "stream",
     "text": [
      "Waiting for confirmation...\n",
      "Transaction UAG2YFNRWWJW52Y5AEZI3XWQKSVAI3IVO4EOIQ2URELIU27K2DBQ confirmed in round 18481141.\n",
      "The token id is: 51577182\n"
     ]
    }
   ],
   "source": [
    "def create_dummy_asset(sender: Account, total: int, decimals: int, asset_name: str, unit_name: str):\n",
    "    txn = transaction.AssetConfigTxn(\n",
    "        sender=sender.get_address(),\n",
    "        sp=client.suggested_params(),\n",
    "        total=total,\n",
    "        decimals=decimals,\n",
    "        asset_name=asset_name,\n",
    "        unit_name=unit_name,\n",
    "        default_frozen=False,\n",
    "        strict_empty_address_check=False,\n",
    "    )\n",
    "    signed_txn = txn.sign(sender.get_private_key())\n",
    "\n",
    "    client.send_transaction(signed_txn)\n",
    "\n",
    "    response = wait_for_confirmation(client, signed_txn.get_txid())\n",
    "    assert response.asset_index is not None and response.asset_index > 0\n",
    "    return response.asset_index\n",
    "\n",
    "asset_id = create_dummy_asset(seller, 1, 0, \"example token\", \"AVT\")\n",
    "print(f\"The token id is: {asset_id}\")"
   ]
  },
  {
   "cell_type": "code",
   "execution_count": 7,
   "metadata": {},
   "outputs": [],
   "source": [
    "start_time = int(time()) + 10\n",
    "end_time = start_time + 10\n",
    "price = 1_000_000  # 1 Algo"
   ]
  },
  {
   "cell_type": "markdown",
   "metadata": {},
   "source": [
    "\"Alice is creating auction smart contract that lasts 30 seconds to auction off token...\""
   ]
  },
  {
   "cell_type": "code",
   "execution_count": 8,
   "metadata": {},
   "outputs": [
    {
     "name": "stdout",
     "output_type": "stream",
     "text": [
      "Waiting for confirmation...\n",
      "Transaction B4W57ODMXI6VYWDBZCJHWATA5PMJ3NWC4FA4D6ZJTMVUE24I6VBA confirmed in round 18481144.\n",
      "App ID: 51577201\n",
      "App Address: KYT2OD6W6GHLJF2TSCXJSUU62EXVWJ442M67ETVSOIPCO3PVBCW2ADBJ4U\n"
     ]
    }
   ],
   "source": [
    "appID = create_trading_app(\n",
    "    client=client,\n",
    "    sender=creator,\n",
    "    seller=seller.get_address(),\n",
    "    token_id=asset_id,\n",
    "    price=price,\n",
    ")\n",
    "print(f\"App ID: {appID}\")\n",
    "print(f\"App Address: {get_application_address(appID)}\")"
   ]
  },
  {
   "cell_type": "markdown",
   "metadata": {},
   "source": [
    "Alice is setting up and funding token auction..."
   ]
  },
  {
   "cell_type": "code",
   "execution_count": 9,
   "metadata": {},
   "outputs": [
    {
     "name": "stdout",
     "output_type": "stream",
     "text": [
      "Waiting for confirmation...\n",
      "Transaction CFS6E372U2EHO2B5ANHS5QR6VB7ZMC7UUYTPJ6QYPDKYEAS2YYUA confirmed in round 18481146.\n",
      "Alice's algo balance:  29981000  algos\n"
     ]
    }
   ],
   "source": [
    "setup_trading_app(\n",
    "    client=client,\n",
    "    app_id=appID,\n",
    "    funder=creator,\n",
    "    token_holder=seller,\n",
    "    token_id=asset_id,\n",
    "    asset_amount=1\n",
    ")\n",
    "\n",
    "sellerAlgosBefore = get_balances(client, seller.get_address())[0]\n",
    "\n",
    "print(\"Alice's algo balance: \", sellerAlgosBefore, \" algos\")"
   ]
  },
  {
   "cell_type": "code",
   "execution_count": 10,
   "metadata": {},
   "outputs": [
    {
     "name": "stdout",
     "output_type": "stream",
     "text": [
      "Bidder Address: GAFLYUNVHZQKQH7YLHVFNNP5WOTXDA7N3MJRVJ6SFSH7BRV4K7IJIZVAAI\n"
     ]
    }
   ],
   "source": [
    "bidder = Account.from_mnemonic(os.environ.get('BUYER_MN'))\n",
    "\n",
    "print(f\"Bidder Address: {bidder.get_address()}\")"
   ]
  },
  {
   "cell_type": "code",
   "execution_count": 11,
   "metadata": {},
   "outputs": [
    {
     "name": "stdout",
     "output_type": "stream",
     "text": [
      "The smart contract now holds the following: {0: 202000, 51577182: 1}\n"
     ]
    }
   ],
   "source": [
    "_, last_round_time = get_last_block_timestamp(client)\n",
    "if last_round_time < start_time + 5:\n",
    "    sleep(start_time + 5 - last_round_time)\n",
    "\n",
    "actualAppBalancesBefore = get_balances(client, get_application_address(appID))\n",
    "print(\"The smart contract now holds the following:\", actualAppBalancesBefore)"
   ]
  },
  {
   "cell_type": "code",
   "execution_count": 12,
   "metadata": {},
   "outputs": [
    {
     "name": "stdout",
     "output_type": "stream",
     "text": [
      "Carla wants to bid on token, her algo balance:  26991000  algos\n",
      "Carla is placing bid for:  1000000  algos\n"
     ]
    }
   ],
   "source": [
    "bidAmount = price\n",
    "bidderAlgosBefore = get_balances(client, bidder.get_address())[0]\n",
    "print(\"Carla wants to bid on token, her algo balance: \", bidderAlgosBefore, \" algos\")\n",
    "print(\"Carla is placing bid for: \", bidAmount, \" algos\")"
   ]
  },
  {
   "cell_type": "code",
   "execution_count": 13,
   "metadata": {},
   "outputs": [
    {
     "name": "stdout",
     "output_type": "stream",
     "text": [
      "Waiting for confirmation...\n",
      "Transaction WQ2AMBTW5XJ33LJ6MHAPPRMF6QLGKVTRDJZGEB6BNVAGMK3MRBOA confirmed in round 18481150.\n",
      "Carla is opting into token with id: 51577182\n"
     ]
    }
   ],
   "source": [
    "place_bid(client=client, app_id=appID, bidder=bidder, bid_amount=bidAmount)\n",
    "\n",
    "print(\"Carla is opting into token with id:\", asset_id)"
   ]
  },
  {
   "cell_type": "code",
   "execution_count": 14,
   "metadata": {},
   "outputs": [
    {
     "name": "stdout",
     "output_type": "stream",
     "text": [
      "Waiting for confirmation...\n",
      "Transaction TKCKWH3GMTSBBXBX7XXVI2TKE4VEVTEALWLZJUHQQI2DGYJNS64A confirmed in round 18481152.\n"
     ]
    }
   ],
   "source": [
    "optin_to_asset(asset_id, bidder)"
   ]
  },
  {
   "cell_type": "markdown",
   "metadata": {},
   "source": [
    "Alice is closing out the auction...."
   ]
  },
  {
   "cell_type": "code",
   "execution_count": 15,
   "metadata": {},
   "outputs": [
    {
     "name": "stdout",
     "output_type": "stream",
     "text": [
      "51577182\n",
      "b'Y4QR7LETUXJQVSPRKOJ5VFDR2GRO3MTSLJ4CLSIPJ5YN33Z3Z7HDT6JLYM'\n"
     ]
    },
    {
     "ename": "WrongKeyBytesLengthError",
     "evalue": "key length in bytes must be 32",
     "output_type": "error",
     "traceback": [
      "\u001b[0;31m---------------------------------------------------------------------------\u001b[0m",
      "\u001b[0;31mWrongKeyBytesLengthError\u001b[0m                  Traceback (most recent call last)",
      "\u001b[0;32m/var/folders/3k/5_sd8_ms50n24wv9pqsdmpcr0000gn/T/ipykernel_22772/3938602971.py\u001b[0m in \u001b[0;36m<module>\u001b[0;34m\u001b[0m\n\u001b[1;32m      3\u001b[0m     \u001b[0msleep\u001b[0m\u001b[0;34m(\u001b[0m\u001b[0mend_time\u001b[0m \u001b[0;34m+\u001b[0m \u001b[0;36m5\u001b[0m \u001b[0;34m-\u001b[0m \u001b[0mlastRoundTime\u001b[0m\u001b[0;34m)\u001b[0m\u001b[0;34m\u001b[0m\u001b[0;34m\u001b[0m\u001b[0m\n\u001b[1;32m      4\u001b[0m \u001b[0;34m\u001b[0m\u001b[0m\n\u001b[0;32m----> 5\u001b[0;31m \u001b[0mclose_trading\u001b[0m\u001b[0;34m(\u001b[0m\u001b[0mclient\u001b[0m\u001b[0;34m,\u001b[0m \u001b[0mappID\u001b[0m\u001b[0;34m,\u001b[0m \u001b[0mseller\u001b[0m\u001b[0;34m)\u001b[0m\u001b[0;34m\u001b[0m\u001b[0;34m\u001b[0m\u001b[0m\n\u001b[0m",
      "\u001b[0;32m~/Work/Alex/work/algoverse/trading/operations.py\u001b[0m in \u001b[0;36mclose_trading\u001b[0;34m(client, app_id, closer)\u001b[0m\n\u001b[1;32m    237\u001b[0m \u001b[0;34m\u001b[0m\u001b[0m\n\u001b[1;32m    238\u001b[0m     \u001b[0mprint\u001b[0m\u001b[0;34m(\u001b[0m\u001b[0mapp_global_state\u001b[0m\u001b[0;34m[\u001b[0m\u001b[0;34mb\"seller\"\u001b[0m\u001b[0;34m]\u001b[0m\u001b[0;34m)\u001b[0m\u001b[0;34m\u001b[0m\u001b[0;34m\u001b[0m\u001b[0m\n\u001b[0;32m--> 239\u001b[0;31m     \u001b[0maccounts\u001b[0m\u001b[0;34m:\u001b[0m \u001b[0mList\u001b[0m\u001b[0;34m[\u001b[0m\u001b[0mstr\u001b[0m\u001b[0;34m]\u001b[0m \u001b[0;34m=\u001b[0m \u001b[0;34m[\u001b[0m\u001b[0mencoding\u001b[0m\u001b[0;34m.\u001b[0m\u001b[0mencode_address\u001b[0m\u001b[0;34m(\u001b[0m\u001b[0mapp_global_state\u001b[0m\u001b[0;34m[\u001b[0m\u001b[0;34mb\"seller\"\u001b[0m\u001b[0;34m]\u001b[0m\u001b[0;34m)\u001b[0m\u001b[0;34m]\u001b[0m\u001b[0;34m\u001b[0m\u001b[0;34m\u001b[0m\u001b[0m\n\u001b[0m\u001b[1;32m    240\u001b[0m     \u001b[0mprint\u001b[0m\u001b[0;34m(\u001b[0m\u001b[0maccounts\u001b[0m\u001b[0;34m)\u001b[0m\u001b[0;34m\u001b[0m\u001b[0;34m\u001b[0m\u001b[0m\n\u001b[1;32m    241\u001b[0m     \u001b[0mprint\u001b[0m\u001b[0;34m(\u001b[0m\u001b[0mapp_global_state\u001b[0m\u001b[0;34m[\u001b[0m\u001b[0;34mb\"bid_account\"\u001b[0m\u001b[0;34m]\u001b[0m\u001b[0;34m)\u001b[0m\u001b[0;34m\u001b[0m\u001b[0;34m\u001b[0m\u001b[0m\n",
      "\u001b[0;32m~/Work/Alex/work/algoverse/venv/lib/python3.9/site-packages/algosdk/encoding.py\u001b[0m in \u001b[0;36mencode_address\u001b[0;34m(addr_bytes)\u001b[0m\n\u001b[1;32m    194\u001b[0m         \u001b[0;32mreturn\u001b[0m \u001b[0maddr_bytes\u001b[0m\u001b[0;34m\u001b[0m\u001b[0;34m\u001b[0m\u001b[0m\n\u001b[1;32m    195\u001b[0m     \u001b[0;32mif\u001b[0m \u001b[0;32mnot\u001b[0m \u001b[0mlen\u001b[0m\u001b[0;34m(\u001b[0m\u001b[0maddr_bytes\u001b[0m\u001b[0;34m)\u001b[0m \u001b[0;34m==\u001b[0m \u001b[0mconstants\u001b[0m\u001b[0;34m.\u001b[0m\u001b[0mkey_len_bytes\u001b[0m\u001b[0;34m:\u001b[0m\u001b[0;34m\u001b[0m\u001b[0;34m\u001b[0m\u001b[0m\n\u001b[0;32m--> 196\u001b[0;31m         \u001b[0;32mraise\u001b[0m \u001b[0merror\u001b[0m\u001b[0;34m.\u001b[0m\u001b[0mWrongKeyBytesLengthError\u001b[0m\u001b[0;34m\u001b[0m\u001b[0;34m\u001b[0m\u001b[0m\n\u001b[0m\u001b[1;32m    197\u001b[0m     \u001b[0mchksum\u001b[0m \u001b[0;34m=\u001b[0m \u001b[0m_checksum\u001b[0m\u001b[0;34m(\u001b[0m\u001b[0maddr_bytes\u001b[0m\u001b[0;34m)\u001b[0m\u001b[0;34m\u001b[0m\u001b[0;34m\u001b[0m\u001b[0m\n\u001b[1;32m    198\u001b[0m     \u001b[0maddr\u001b[0m \u001b[0;34m=\u001b[0m \u001b[0mbase64\u001b[0m\u001b[0;34m.\u001b[0m\u001b[0mb32encode\u001b[0m\u001b[0;34m(\u001b[0m\u001b[0maddr_bytes\u001b[0m \u001b[0;34m+\u001b[0m \u001b[0mchksum\u001b[0m\u001b[0;34m)\u001b[0m\u001b[0;34m\u001b[0m\u001b[0;34m\u001b[0m\u001b[0m\n",
      "\u001b[0;31mWrongKeyBytesLengthError\u001b[0m: key length in bytes must be 32"
     ]
    }
   ],
   "source": [
    "_, lastRoundTime = get_last_block_timestamp(client)\n",
    "if lastRoundTime < end_time + 5:\n",
    "    sleep(end_time + 5 - lastRoundTime)\n",
    "\n",
    "close_trading(client, appID, seller)"
   ]
  },
  {
   "cell_type": "code",
   "execution_count": null,
   "metadata": {},
   "outputs": [
    {
     "name": "stdout",
     "output_type": "stream",
     "text": [
      "The smart contract now holds the following: {0: 0}\n"
     ]
    }
   ],
   "source": [
    "actualAppBalances = get_balances(client, get_application_address(appID))\n",
    "expectedAppBalances = {0: 0}\n",
    "print(\"The smart contract now holds the following:\", actualAppBalances)\n",
    "\n",
    "assert actualAppBalances == expectedAppBalances"
   ]
  },
  {
   "cell_type": "code",
   "execution_count": null,
   "metadata": {},
   "outputs": [
    {
     "name": "stdout",
     "output_type": "stream",
     "text": [
      "Carla's NFT balance: 1  for token ID:  1\n",
      "Alice's balances after auction:  {0: 4000024001197000, 1: 0}  Algos\n",
      "Carla's balances after auction:  {0: 1000005998997000, 1: 1}  Algos\n"
     ]
    }
   ],
   "source": [
    "bidderNftBalance = get_balances(client, bidder.get_address())[asset_id]\n",
    "\n",
    "print(\"Carla's NFT balance:\", bidderNftBalance, \" for token ID: \", asset_id)\n",
    "\n",
    "assert bidderNftBalance == 1\n",
    "\n",
    "actualSellerBalances = get_balances(client, seller.get_address())\n",
    "print(\"Alice's balances after auction: \", actualSellerBalances, \" Algos\")\n",
    "actualBidderBalances = get_balances(client, bidder.get_address())\n",
    "print(\"Carla's balances after auction: \", actualBidderBalances, \" Algos\")\n",
    "# assert len(actualSellerBalances) == 2\n",
    "# seller should receive the bid amount, minus the txn fee\n",
    "assert actualSellerBalances[0] >= sellerAlgosBefore + bidAmount - 1_000\n",
    "assert actualSellerBalances[asset_id] == 0"
   ]
  }
 ],
 "metadata": {
  "interpreter": {
   "hash": "d8d32039960e27bf02cc380478024df65258985d3f6246b5f3627ebac0bfeee0"
  },
  "kernelspec": {
   "display_name": "Python 3.8.10 64-bit ('venv': venv)",
   "language": "python",
   "name": "python3"
  },
  "language_info": {
   "codemirror_mode": {
    "name": "ipython",
    "version": 3
   },
   "file_extension": ".py",
   "mimetype": "text/x-python",
   "name": "python",
   "nbconvert_exporter": "python",
   "pygments_lexer": "ipython3",
   "version": "3.9.7"
  },
  "orig_nbformat": 4
 },
 "nbformat": 4,
 "nbformat_minor": 2
}

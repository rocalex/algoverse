{
 "cells": [
  {
   "cell_type": "code",
   "execution_count": 1,
   "metadata": {},
   "outputs": [],
   "source": [
    "import os\n",
    "\n",
    "import dotenv\n",
    "\n",
    "from time import time, sleep\n",
    "from algosdk.future import transaction\n",
    "from algosdk.logic import get_application_address\n",
    "\n",
    "from trading.operations import create_trading_app, setup_trading_app, place_trade, cancel_trade, place_accept, close_trading\n",
    "from store.operations import StoringPool\n",
    "from utils import *\n",
    "from account import Account"
   ]
  },
  {
   "cell_type": "code",
   "execution_count": 2,
   "metadata": {},
   "outputs": [],
   "source": [
    "dotenv.load_dotenv('.env')\n",
    "\n",
    "client = get_algod_client(os.environ.get('ALGOD_URL'), os.environ.get('ALGOD_TOKEN'))"
   ]
  },
  {
   "cell_type": "code",
   "execution_count": 3,
   "metadata": {},
   "outputs": [
    {
     "name": "stdout",
     "output_type": "stream",
     "text": [
      "Creator address: 4TT75274EBUAF46CITUL6HQQ4C4D3GO7GEOVRZSQZ35VXSGRVHJ376GD64\n",
      "Bidder address: LOUBIMVHXMWMJNC4ZBKTIQTGNLF36EIXTEVBD7BUHDMIXKSMKQRNIPMQ6I\n",
      "Seller Address: Y4QR7LETUXJQVSPRKOJ5VFDR2GRO3MTSLJ4CLSIPJ5YN33Z3Z7HDT6JLYM\n"
     ]
    }
   ],
   "source": [
    "creator = Account.from_mnemonic(os.environ.get('CREATOR_MN'))\n",
    "bidder = Account.from_mnemonic(os.environ.get('BUYER_MN'))\n",
    "seller = Account.from_mnemonic(os.environ.get('SELLER_MN'))\n",
    "\n",
    "storeAppID = int(os.environ.get(\"STORE_APP_ID\"))\n",
    "\n",
    "#close_trading(client, 693, storeAppID, creator)\n",
    "\n",
    "print(f\"Creator address: {creator.get_address()}\")\n",
    "print(f\"Bidder address: {bidder.get_address()}\")\n",
    "print(f\"Seller Address: {seller.get_address()}\")"
   ]
  },
  {
   "cell_type": "markdown",
   "metadata": {},
   "source": [
    "Alice is generating an example token..."
   ]
  },
  {
   "cell_type": "code",
   "execution_count": 4,
   "metadata": {},
   "outputs": [
    {
     "name": "stdout",
     "output_type": "stream",
     "text": [
      "The token id is: 499\n"
     ]
    }
   ],
   "source": [
    "# def create_dummy_asset(sender: Account, total: int, decimals: int, asset_name: str, unit_name: str):\n",
    "#     txn = transaction.AssetConfigTxn(\n",
    "#         sender=sender.get_address(),\n",
    "#         sp=client.suggested_params(),\n",
    "#         total=total,\n",
    "#         decimals=decimals,\n",
    "#         asset_name=asset_name,\n",
    "#         unit_name=unit_name,\n",
    "#         default_frozen=False,\n",
    "#         strict_empty_address_check=False,\n",
    "#     )\n",
    "#     signed_txn = txn.sign(sender.get_private_key())\n",
    "\n",
    "#     client.send_transaction(signed_txn)\n",
    "\n",
    "#     response = wait_for_confirmation(client, signed_txn.get_txid())\n",
    "#     assert response.asset_index is not None and response.asset_index > 0\n",
    "#     return response.asset_index\n",
    "\n",
    "# asset_id = create_dummy_asset(seller, 1, 0, \"example token\", \"AVT\")\n",
    "\n",
    "asset_id = int(os.environ.get(\"TOKEN_ID\"))\n",
    "print(f\"The token id is: {asset_id}\")"
   ]
  },
  {
   "cell_type": "code",
   "execution_count": 5,
   "metadata": {},
   "outputs": [],
   "source": [
    "start_time = int(time()) + 10\n",
    "end_time = start_time + 10\n",
    "price = 1_000_000  # 1 Algo"
   ]
  },
  {
   "cell_type": "markdown",
   "metadata": {},
   "source": [
    "\"Alice is creating auction smart contract that lasts 30 seconds to auction off token...\""
   ]
  },
  {
   "cell_type": "code",
   "execution_count": 6,
   "metadata": {},
   "outputs": [
    {
     "name": "stdout",
     "output_type": "stream",
     "text": [
      "Store App ID: 727\n",
      "Store App Address: 5YFHLDU7ELKNT3N25YKEXEHALZL6C3UEZLKZOSMICARY3ZBXDEPRKAKYWU\n"
     ]
    }
   ],
   "source": [
    "storeApp = StoringPool(client=client, creator=creator, token_id=asset_id)\n",
    "# storeApp.create_app()\n",
    "# storeAppID = storeApp.app_id\n",
    "\n",
    "storeAppID = int(os.environ.get(\"STORE_APP_ID\"))\n",
    "storeApp.app_id = storeAppID\n",
    "print(f\"Store App ID: {storeAppID}\")\n",
    "\n",
    "storeAppAddress = get_application_address(storeAppID)\n",
    "print(f\"Store App Address: {storeAppAddress}\")\n"
   ]
  },
  {
   "cell_type": "code",
   "execution_count": 7,
   "metadata": {},
   "outputs": [
    {
     "name": "stdout",
     "output_type": "stream",
     "text": [
      "Waiting for confirmation...\n",
      "Transaction QLVZMH72I5E7NXH6SYAZAOKHXSHCZHQSWKK7VGE2Y5FIORIFSPGQ confirmed in round 44414.\n",
      "App ID: 1191\n",
      "App Address: IKFUUZDNRXCZSVEWGFKEGSNHXBYXFFBMYRQP6X3EOTEAD4L3NHWCSSFKNQ\n"
     ]
    }
   ],
   "source": [
    "\n",
    "appID = create_trading_app(\n",
    "    client=client,\n",
    "    creator=creator,\n",
    "    store_app_id=storeAppID\n",
    ")\n",
    "print(f\"App ID: {appID}\")\n",
    "print(f\"App Address: {get_application_address(appID)}\")"
   ]
  },
  {
   "cell_type": "markdown",
   "metadata": {},
   "source": [
    "Alice is setting up and funding token auction..."
   ]
  },
  {
   "cell_type": "code",
   "execution_count": 8,
   "metadata": {},
   "outputs": [
    {
     "name": "stdout",
     "output_type": "stream",
     "text": [
      "Waiting for confirmation...\n",
      "Transaction MC42FZ4OJKJATGB7GTVQDBN5VJTHGT7PRGIWNHATCJQXMA6EDLHQ confirmed in round 44416.\n",
      "Alice's algo balance:  20020878032475  algos\n"
     ]
    }
   ],
   "source": [
    "setup_trading_app(\n",
    "    client=client,\n",
    "    app_id=appID,\n",
    "    funder=creator,\n",
    "    token_id=asset_id,\n",
    ")\n",
    "\n",
    "sellerAlgosBefore = get_balances(client, seller.get_address())[0]\n",
    "print(\"Alice's algo balance: \", sellerAlgosBefore, \" algos\")"
   ]
  },
  {
   "cell_type": "code",
   "execution_count": 9,
   "metadata": {},
   "outputs": [
    {
     "name": "stdout",
     "output_type": "stream",
     "text": [
      "The smart contract now holds the following: {0: 201000, 499: 0}\n"
     ]
    }
   ],
   "source": [
    "sleep(5)\n",
    "actualAppBalancesBefore = get_balances(client, get_application_address(appID))\n",
    "print(\"The smart contract now holds the following:\", actualAppBalancesBefore)"
   ]
  },
  {
   "cell_type": "code",
   "execution_count": 10,
   "metadata": {},
   "outputs": [
    {
     "name": "stdout",
     "output_type": "stream",
     "text": [
      "Carla wants to bid on token, her algo balance:  10011054680720  algos\n",
      "Carla is placing bid for:  1000000  algos\n"
     ]
    }
   ],
   "source": [
    "bidPrice = price\n",
    "bidderAlgosBefore = get_balances(client, bidder.get_address())[0]\n",
    "print(\"Carla wants to bid on token, her algo balance: \", bidderAlgosBefore, \" algos\")\n",
    "print(\"Carla is placing bid for: \", bidPrice, \" algos\")"
   ]
  },
  {
   "cell_type": "code",
   "execution_count": 11,
   "metadata": {},
   "outputs": [
    {
     "name": "stdout",
     "output_type": "stream",
     "text": [
      "bidder Y4QR7LETUXJQVSPRKOJ5VFDR2GRO3MTSLJ4CLSIPJ5YN33Z3Z7HDT6JLYM opt in app 1191\n",
      "Waiting for confirmation...\n",
      "Transaction NGE4T43M2NX5TANP7HOWVKSRI5LS3ZGNMEY764VZNZVIQHNIB72A confirmed in round 44419.\n",
      "store_app_id 727\n",
      "token_txn: {'sender': 'Y4QR7LETUXJQVSPRKOJ5VFDR2GRO3MTSLJ4CLSIPJ5YN33Z3Z7HDT6JLYM', 'fee': 1000, 'first_valid_round': 44417, 'last_valid_round': 45417, 'note': None, 'genesis_id': 'sandnet-v1', 'genesis_hash': 'S46yr60YjyJzK3Fk0J8V7mzMIOSxovaXAVqCHlwPl1A=', 'group': None, 'lease': None, 'type': 'axfer', 'rekey_to': None, 'receiver': 'IKFUUZDNRXCZSVEWGFKEGSNHXBYXFFBMYRQP6X3EOTEAD4L3NHWCSSFKNQ', 'amount': 10, 'index': 499, 'close_assets_to': None, 'revocation_target': None}\n"
     ]
    },
    {
     "ename": "AlgodHTTPError",
     "evalue": "TransactionPool.Remember: transaction YSZALJXWRXQHIOJDNCGFL5FMD3OPAVKT4FT3D6UNZXZIIMFT6BTQ: logic eval error: assert failed pc=287",
     "output_type": "error",
     "traceback": [
      "\u001b[0;31m---------------------------------------------------------------------------\u001b[0m",
      "\u001b[0;31mHTTPError\u001b[0m                                 Traceback (most recent call last)",
      "\u001b[0;32m~/Work/Alex/work/algoverse/venv/lib/python3.9/site-packages/algosdk/v2client/algod.py\u001b[0m in \u001b[0;36malgod_request\u001b[0;34m(self, method, requrl, params, data, headers, response_format)\u001b[0m\n\u001b[1;32m     81\u001b[0m         \u001b[0;32mtry\u001b[0m\u001b[0;34m:\u001b[0m\u001b[0;34m\u001b[0m\u001b[0;34m\u001b[0m\u001b[0m\n\u001b[0;32m---> 82\u001b[0;31m             \u001b[0mresp\u001b[0m \u001b[0;34m=\u001b[0m \u001b[0murlopen\u001b[0m\u001b[0;34m(\u001b[0m\u001b[0mreq\u001b[0m\u001b[0;34m)\u001b[0m\u001b[0;34m\u001b[0m\u001b[0;34m\u001b[0m\u001b[0m\n\u001b[0m\u001b[1;32m     83\u001b[0m         \u001b[0;32mexcept\u001b[0m \u001b[0murllib\u001b[0m\u001b[0;34m.\u001b[0m\u001b[0merror\u001b[0m\u001b[0;34m.\u001b[0m\u001b[0mHTTPError\u001b[0m \u001b[0;32mas\u001b[0m \u001b[0me\u001b[0m\u001b[0;34m:\u001b[0m\u001b[0;34m\u001b[0m\u001b[0;34m\u001b[0m\u001b[0m\n",
      "\u001b[0;32m/usr/local/Cellar/python@3.9/3.9.9/Frameworks/Python.framework/Versions/3.9/lib/python3.9/urllib/request.py\u001b[0m in \u001b[0;36murlopen\u001b[0;34m(url, data, timeout, cafile, capath, cadefault, context)\u001b[0m\n\u001b[1;32m    213\u001b[0m         \u001b[0mopener\u001b[0m \u001b[0;34m=\u001b[0m \u001b[0m_opener\u001b[0m\u001b[0;34m\u001b[0m\u001b[0;34m\u001b[0m\u001b[0m\n\u001b[0;32m--> 214\u001b[0;31m     \u001b[0;32mreturn\u001b[0m \u001b[0mopener\u001b[0m\u001b[0;34m.\u001b[0m\u001b[0mopen\u001b[0m\u001b[0;34m(\u001b[0m\u001b[0murl\u001b[0m\u001b[0;34m,\u001b[0m \u001b[0mdata\u001b[0m\u001b[0;34m,\u001b[0m \u001b[0mtimeout\u001b[0m\u001b[0;34m)\u001b[0m\u001b[0;34m\u001b[0m\u001b[0;34m\u001b[0m\u001b[0m\n\u001b[0m\u001b[1;32m    215\u001b[0m \u001b[0;34m\u001b[0m\u001b[0m\n",
      "\u001b[0;32m/usr/local/Cellar/python@3.9/3.9.9/Frameworks/Python.framework/Versions/3.9/lib/python3.9/urllib/request.py\u001b[0m in \u001b[0;36mopen\u001b[0;34m(self, fullurl, data, timeout)\u001b[0m\n\u001b[1;32m    522\u001b[0m             \u001b[0mmeth\u001b[0m \u001b[0;34m=\u001b[0m \u001b[0mgetattr\u001b[0m\u001b[0;34m(\u001b[0m\u001b[0mprocessor\u001b[0m\u001b[0;34m,\u001b[0m \u001b[0mmeth_name\u001b[0m\u001b[0;34m)\u001b[0m\u001b[0;34m\u001b[0m\u001b[0;34m\u001b[0m\u001b[0m\n\u001b[0;32m--> 523\u001b[0;31m             \u001b[0mresponse\u001b[0m \u001b[0;34m=\u001b[0m \u001b[0mmeth\u001b[0m\u001b[0;34m(\u001b[0m\u001b[0mreq\u001b[0m\u001b[0;34m,\u001b[0m \u001b[0mresponse\u001b[0m\u001b[0;34m)\u001b[0m\u001b[0;34m\u001b[0m\u001b[0;34m\u001b[0m\u001b[0m\n\u001b[0m\u001b[1;32m    524\u001b[0m \u001b[0;34m\u001b[0m\u001b[0m\n",
      "\u001b[0;32m/usr/local/Cellar/python@3.9/3.9.9/Frameworks/Python.framework/Versions/3.9/lib/python3.9/urllib/request.py\u001b[0m in \u001b[0;36mhttp_response\u001b[0;34m(self, request, response)\u001b[0m\n\u001b[1;32m    631\u001b[0m         \u001b[0;32mif\u001b[0m \u001b[0;32mnot\u001b[0m \u001b[0;34m(\u001b[0m\u001b[0;36m200\u001b[0m \u001b[0;34m<=\u001b[0m \u001b[0mcode\u001b[0m \u001b[0;34m<\u001b[0m \u001b[0;36m300\u001b[0m\u001b[0;34m)\u001b[0m\u001b[0;34m:\u001b[0m\u001b[0;34m\u001b[0m\u001b[0;34m\u001b[0m\u001b[0m\n\u001b[0;32m--> 632\u001b[0;31m             response = self.parent.error(\n\u001b[0m\u001b[1;32m    633\u001b[0m                 'http', request, response, code, msg, hdrs)\n",
      "\u001b[0;32m/usr/local/Cellar/python@3.9/3.9.9/Frameworks/Python.framework/Versions/3.9/lib/python3.9/urllib/request.py\u001b[0m in \u001b[0;36merror\u001b[0;34m(self, proto, *args)\u001b[0m\n\u001b[1;32m    560\u001b[0m             \u001b[0margs\u001b[0m \u001b[0;34m=\u001b[0m \u001b[0;34m(\u001b[0m\u001b[0mdict\u001b[0m\u001b[0;34m,\u001b[0m \u001b[0;34m'default'\u001b[0m\u001b[0;34m,\u001b[0m \u001b[0;34m'http_error_default'\u001b[0m\u001b[0;34m)\u001b[0m \u001b[0;34m+\u001b[0m \u001b[0morig_args\u001b[0m\u001b[0;34m\u001b[0m\u001b[0;34m\u001b[0m\u001b[0m\n\u001b[0;32m--> 561\u001b[0;31m             \u001b[0;32mreturn\u001b[0m \u001b[0mself\u001b[0m\u001b[0;34m.\u001b[0m\u001b[0m_call_chain\u001b[0m\u001b[0;34m(\u001b[0m\u001b[0;34m*\u001b[0m\u001b[0margs\u001b[0m\u001b[0;34m)\u001b[0m\u001b[0;34m\u001b[0m\u001b[0;34m\u001b[0m\u001b[0m\n\u001b[0m\u001b[1;32m    562\u001b[0m \u001b[0;34m\u001b[0m\u001b[0m\n",
      "\u001b[0;32m/usr/local/Cellar/python@3.9/3.9.9/Frameworks/Python.framework/Versions/3.9/lib/python3.9/urllib/request.py\u001b[0m in \u001b[0;36m_call_chain\u001b[0;34m(self, chain, kind, meth_name, *args)\u001b[0m\n\u001b[1;32m    493\u001b[0m             \u001b[0mfunc\u001b[0m \u001b[0;34m=\u001b[0m \u001b[0mgetattr\u001b[0m\u001b[0;34m(\u001b[0m\u001b[0mhandler\u001b[0m\u001b[0;34m,\u001b[0m \u001b[0mmeth_name\u001b[0m\u001b[0;34m)\u001b[0m\u001b[0;34m\u001b[0m\u001b[0;34m\u001b[0m\u001b[0m\n\u001b[0;32m--> 494\u001b[0;31m             \u001b[0mresult\u001b[0m \u001b[0;34m=\u001b[0m \u001b[0mfunc\u001b[0m\u001b[0;34m(\u001b[0m\u001b[0;34m*\u001b[0m\u001b[0margs\u001b[0m\u001b[0;34m)\u001b[0m\u001b[0;34m\u001b[0m\u001b[0;34m\u001b[0m\u001b[0m\n\u001b[0m\u001b[1;32m    495\u001b[0m             \u001b[0;32mif\u001b[0m \u001b[0mresult\u001b[0m \u001b[0;32mis\u001b[0m \u001b[0;32mnot\u001b[0m \u001b[0;32mNone\u001b[0m\u001b[0;34m:\u001b[0m\u001b[0;34m\u001b[0m\u001b[0;34m\u001b[0m\u001b[0m\n",
      "\u001b[0;32m/usr/local/Cellar/python@3.9/3.9.9/Frameworks/Python.framework/Versions/3.9/lib/python3.9/urllib/request.py\u001b[0m in \u001b[0;36mhttp_error_default\u001b[0;34m(self, req, fp, code, msg, hdrs)\u001b[0m\n\u001b[1;32m    640\u001b[0m     \u001b[0;32mdef\u001b[0m \u001b[0mhttp_error_default\u001b[0m\u001b[0;34m(\u001b[0m\u001b[0mself\u001b[0m\u001b[0;34m,\u001b[0m \u001b[0mreq\u001b[0m\u001b[0;34m,\u001b[0m \u001b[0mfp\u001b[0m\u001b[0;34m,\u001b[0m \u001b[0mcode\u001b[0m\u001b[0;34m,\u001b[0m \u001b[0mmsg\u001b[0m\u001b[0;34m,\u001b[0m \u001b[0mhdrs\u001b[0m\u001b[0;34m)\u001b[0m\u001b[0;34m:\u001b[0m\u001b[0;34m\u001b[0m\u001b[0;34m\u001b[0m\u001b[0m\n\u001b[0;32m--> 641\u001b[0;31m         \u001b[0;32mraise\u001b[0m \u001b[0mHTTPError\u001b[0m\u001b[0;34m(\u001b[0m\u001b[0mreq\u001b[0m\u001b[0;34m.\u001b[0m\u001b[0mfull_url\u001b[0m\u001b[0;34m,\u001b[0m \u001b[0mcode\u001b[0m\u001b[0;34m,\u001b[0m \u001b[0mmsg\u001b[0m\u001b[0;34m,\u001b[0m \u001b[0mhdrs\u001b[0m\u001b[0;34m,\u001b[0m \u001b[0mfp\u001b[0m\u001b[0;34m)\u001b[0m\u001b[0;34m\u001b[0m\u001b[0;34m\u001b[0m\u001b[0m\n\u001b[0m\u001b[1;32m    642\u001b[0m \u001b[0;34m\u001b[0m\u001b[0m\n",
      "\u001b[0;31mHTTPError\u001b[0m: HTTP Error 400: Bad Request",
      "\nDuring handling of the above exception, another exception occurred:\n",
      "\u001b[0;31mAlgodHTTPError\u001b[0m                            Traceback (most recent call last)",
      "\u001b[0;32m/var/folders/3k/5_sd8_ms50n24wv9pqsdmpcr0000gn/T/ipykernel_36957/612435250.py\u001b[0m in \u001b[0;36m<module>\u001b[0;34m\u001b[0m\n\u001b[0;32m----> 1\u001b[0;31m \u001b[0mplace_trade\u001b[0m\u001b[0;34m(\u001b[0m\u001b[0mclient\u001b[0m\u001b[0;34m=\u001b[0m\u001b[0mclient\u001b[0m\u001b[0;34m,\u001b[0m \u001b[0mapp_id\u001b[0m\u001b[0;34m=\u001b[0m\u001b[0mappID\u001b[0m\u001b[0;34m,\u001b[0m \u001b[0mseller\u001b[0m\u001b[0;34m=\u001b[0m\u001b[0mseller\u001b[0m\u001b[0;34m,\u001b[0m \u001b[0mtoken_id\u001b[0m\u001b[0;34m=\u001b[0m\u001b[0masset_id\u001b[0m\u001b[0;34m,\u001b[0m \u001b[0mtoken_amount\u001b[0m\u001b[0;34m=\u001b[0m\u001b[0;36m10\u001b[0m\u001b[0;34m,\u001b[0m \u001b[0mprice\u001b[0m\u001b[0;34m=\u001b[0m\u001b[0mbidPrice\u001b[0m\u001b[0;34m)\u001b[0m\u001b[0;34m\u001b[0m\u001b[0;34m\u001b[0m\u001b[0m\n\u001b[0m\u001b[1;32m      2\u001b[0m \u001b[0;34m\u001b[0m\u001b[0m\n\u001b[1;32m      3\u001b[0m \u001b[0mprint\u001b[0m\u001b[0;34m(\u001b[0m\u001b[0;34m\"Carla bid\"\u001b[0m\u001b[0;34m,\u001b[0m \u001b[0masset_id\u001b[0m\u001b[0;34m)\u001b[0m\u001b[0;34m\u001b[0m\u001b[0;34m\u001b[0m\u001b[0m\n",
      "\u001b[0;32m~/Work/Alex/work/algoverse/trading/operations.py\u001b[0m in \u001b[0;36mplace_trade\u001b[0;34m(client, app_id, seller, token_id, token_amount, price)\u001b[0m\n\u001b[1;32m    192\u001b[0m     \u001b[0msigned_app_call_txn\u001b[0m \u001b[0;34m=\u001b[0m \u001b[0mapp_call_txn\u001b[0m\u001b[0;34m.\u001b[0m\u001b[0msign\u001b[0m\u001b[0;34m(\u001b[0m\u001b[0mseller\u001b[0m\u001b[0;34m.\u001b[0m\u001b[0mget_private_key\u001b[0m\u001b[0;34m(\u001b[0m\u001b[0;34m)\u001b[0m\u001b[0;34m)\u001b[0m\u001b[0;34m\u001b[0m\u001b[0;34m\u001b[0m\u001b[0m\n\u001b[1;32m    193\u001b[0m \u001b[0;34m\u001b[0m\u001b[0m\n\u001b[0;32m--> 194\u001b[0;31m     \u001b[0mclient\u001b[0m\u001b[0;34m.\u001b[0m\u001b[0msend_transactions\u001b[0m\u001b[0;34m(\u001b[0m\u001b[0;34m[\u001b[0m\u001b[0msigned_token_txn\u001b[0m\u001b[0;34m,\u001b[0m \u001b[0msigned_app_call_txn\u001b[0m\u001b[0;34m]\u001b[0m\u001b[0;34m)\u001b[0m\u001b[0;34m\u001b[0m\u001b[0;34m\u001b[0m\u001b[0m\n\u001b[0m\u001b[1;32m    195\u001b[0m \u001b[0;34m\u001b[0m\u001b[0m\n\u001b[1;32m    196\u001b[0m     \u001b[0mwait_for_confirmation\u001b[0m\u001b[0;34m(\u001b[0m\u001b[0mclient\u001b[0m\u001b[0;34m,\u001b[0m \u001b[0mapp_call_txn\u001b[0m\u001b[0;34m.\u001b[0m\u001b[0mget_txid\u001b[0m\u001b[0;34m(\u001b[0m\u001b[0;34m)\u001b[0m\u001b[0;34m)\u001b[0m\u001b[0;34m\u001b[0m\u001b[0;34m\u001b[0m\u001b[0m\n",
      "\u001b[0;32m~/Work/Alex/work/algoverse/venv/lib/python3.9/site-packages/algosdk/v2client/algod.py\u001b[0m in \u001b[0;36msend_transactions\u001b[0;34m(self, txns, **kwargs)\u001b[0m\n\u001b[1;32m    305\u001b[0m             \u001b[0mserialized\u001b[0m\u001b[0;34m.\u001b[0m\u001b[0mappend\u001b[0m\u001b[0;34m(\u001b[0m\u001b[0mbase64\u001b[0m\u001b[0;34m.\u001b[0m\u001b[0mb64decode\u001b[0m\u001b[0;34m(\u001b[0m\u001b[0mencoding\u001b[0m\u001b[0;34m.\u001b[0m\u001b[0mmsgpack_encode\u001b[0m\u001b[0;34m(\u001b[0m\u001b[0mtxn\u001b[0m\u001b[0;34m)\u001b[0m\u001b[0;34m)\u001b[0m\u001b[0;34m)\u001b[0m\u001b[0;34m\u001b[0m\u001b[0;34m\u001b[0m\u001b[0m\n\u001b[1;32m    306\u001b[0m \u001b[0;34m\u001b[0m\u001b[0m\n\u001b[0;32m--> 307\u001b[0;31m         return self.send_raw_transaction(\n\u001b[0m\u001b[1;32m    308\u001b[0m             \u001b[0mbase64\u001b[0m\u001b[0;34m.\u001b[0m\u001b[0mb64encode\u001b[0m\u001b[0;34m(\u001b[0m\u001b[0;34mb\"\"\u001b[0m\u001b[0;34m.\u001b[0m\u001b[0mjoin\u001b[0m\u001b[0;34m(\u001b[0m\u001b[0mserialized\u001b[0m\u001b[0;34m)\u001b[0m\u001b[0;34m)\u001b[0m\u001b[0;34m,\u001b[0m \u001b[0;34m**\u001b[0m\u001b[0mkwargs\u001b[0m\u001b[0;34m\u001b[0m\u001b[0;34m\u001b[0m\u001b[0m\n\u001b[1;32m    309\u001b[0m         )\n",
      "\u001b[0;32m~/Work/Alex/work/algoverse/venv/lib/python3.9/site-packages/algosdk/v2client/algod.py\u001b[0m in \u001b[0;36msend_raw_transaction\u001b[0;34m(self, txn, **kwargs)\u001b[0m\n\u001b[1;32m    235\u001b[0m         \u001b[0mkwargs\u001b[0m\u001b[0;34m[\u001b[0m\u001b[0;34m\"headers\"\u001b[0m\u001b[0;34m]\u001b[0m \u001b[0;34m=\u001b[0m \u001b[0mheaders\u001b[0m\u001b[0;34m\u001b[0m\u001b[0;34m\u001b[0m\u001b[0m\n\u001b[1;32m    236\u001b[0m \u001b[0;34m\u001b[0m\u001b[0m\n\u001b[0;32m--> 237\u001b[0;31m         \u001b[0;32mreturn\u001b[0m \u001b[0mself\u001b[0m\u001b[0;34m.\u001b[0m\u001b[0malgod_request\u001b[0m\u001b[0;34m(\u001b[0m\u001b[0;34m\"POST\"\u001b[0m\u001b[0;34m,\u001b[0m \u001b[0mreq\u001b[0m\u001b[0;34m,\u001b[0m \u001b[0mdata\u001b[0m\u001b[0;34m=\u001b[0m\u001b[0mtxn\u001b[0m\u001b[0;34m,\u001b[0m \u001b[0;34m**\u001b[0m\u001b[0mkwargs\u001b[0m\u001b[0;34m)\u001b[0m\u001b[0;34m[\u001b[0m\u001b[0;34m\"txId\"\u001b[0m\u001b[0;34m]\u001b[0m\u001b[0;34m\u001b[0m\u001b[0;34m\u001b[0m\u001b[0m\n\u001b[0m\u001b[1;32m    238\u001b[0m \u001b[0;34m\u001b[0m\u001b[0m\n\u001b[1;32m    239\u001b[0m     def pending_transactions(\n",
      "\u001b[0;32m~/Work/Alex/work/algoverse/venv/lib/python3.9/site-packages/algosdk/v2client/algod.py\u001b[0m in \u001b[0;36malgod_request\u001b[0;34m(self, method, requrl, params, data, headers, response_format)\u001b[0m\n\u001b[1;32m     87\u001b[0m                 \u001b[0me\u001b[0m \u001b[0;34m=\u001b[0m \u001b[0mjson\u001b[0m\u001b[0;34m.\u001b[0m\u001b[0mloads\u001b[0m\u001b[0;34m(\u001b[0m\u001b[0me\u001b[0m\u001b[0;34m)\u001b[0m\u001b[0;34m[\u001b[0m\u001b[0;34m\"message\"\u001b[0m\u001b[0;34m]\u001b[0m\u001b[0;34m\u001b[0m\u001b[0;34m\u001b[0m\u001b[0m\n\u001b[1;32m     88\u001b[0m             \u001b[0;32mfinally\u001b[0m\u001b[0;34m:\u001b[0m\u001b[0;34m\u001b[0m\u001b[0;34m\u001b[0m\u001b[0m\n\u001b[0;32m---> 89\u001b[0;31m                 \u001b[0;32mraise\u001b[0m \u001b[0merror\u001b[0m\u001b[0;34m.\u001b[0m\u001b[0mAlgodHTTPError\u001b[0m\u001b[0;34m(\u001b[0m\u001b[0me\u001b[0m\u001b[0;34m,\u001b[0m \u001b[0mcode\u001b[0m\u001b[0;34m)\u001b[0m\u001b[0;34m\u001b[0m\u001b[0;34m\u001b[0m\u001b[0m\n\u001b[0m\u001b[1;32m     90\u001b[0m         \u001b[0;32mif\u001b[0m \u001b[0mresponse_format\u001b[0m \u001b[0;34m==\u001b[0m \u001b[0;34m\"json\"\u001b[0m\u001b[0;34m:\u001b[0m\u001b[0;34m\u001b[0m\u001b[0;34m\u001b[0m\u001b[0m\n\u001b[1;32m     91\u001b[0m             \u001b[0;32mtry\u001b[0m\u001b[0;34m:\u001b[0m\u001b[0;34m\u001b[0m\u001b[0;34m\u001b[0m\u001b[0m\n",
      "\u001b[0;31mAlgodHTTPError\u001b[0m: TransactionPool.Remember: transaction YSZALJXWRXQHIOJDNCGFL5FMD3OPAVKT4FT3D6UNZXZIIMFT6BTQ: logic eval error: assert failed pc=287"
     ]
    }
   ],
   "source": [
    "place_trade(client=client, app_id=appID, seller=seller, token_id=asset_id, token_amount=10, price=bidPrice)\n",
    "\n",
    "print(\"Carla bid\", asset_id)"
   ]
  },
  {
   "cell_type": "code",
   "execution_count": null,
   "metadata": {},
   "outputs": [],
   "source": [
    "# account_info = client.account_info(bidder.get_address())  \n",
    "# print(account_info.get('apps-local-state', []))\n",
    "# print(is_opted_in_app(client, appID, bidder.get_address()))\n",
    "\n",
    "cancel_trade(client, appID, seller)\n",
    "print(\"Carla cancel bid\", asset_id)"
   ]
  },
  {
   "cell_type": "code",
   "execution_count": null,
   "metadata": {},
   "outputs": [],
   "source": [
    "place_trade(client=client, app_id=appID, seller=seller, token_id=asset_id, token_amount=10, price=bidPrice)\n",
    "\n",
    "place_trade(client=client, app_id=appID, seller=seller, token_id=asset_id, token_amount=15, price=bidPrice)\n",
    "\n"
   ]
  },
  {
   "cell_type": "code",
   "execution_count": null,
   "metadata": {},
   "outputs": [],
   "source": [
    "place_accept(client, creator, appID, bidder, seller.get_address())"
   ]
  },
  {
   "cell_type": "markdown",
   "metadata": {},
   "source": [
    "Alice is closing out the auction...."
   ]
  },
  {
   "cell_type": "code",
   "execution_count": null,
   "metadata": {},
   "outputs": [],
   "source": [
    "sleep(5)\n",
    "\n",
    "close_trading(client, appID, creator, [asset_id])"
   ]
  },
  {
   "cell_type": "code",
   "execution_count": null,
   "metadata": {},
   "outputs": [],
   "source": [
    "actualAppBalances = get_balances(client, get_application_address(appID))\n",
    "expectedAppBalances = {0: 0}\n",
    "print(\"The smart contract now holds the following:\", actualAppBalances)\n",
    "\n",
    "#assert actualAppBalances == expectedAppBalances"
   ]
  },
  {
   "cell_type": "code",
   "execution_count": null,
   "metadata": {},
   "outputs": [],
   "source": [
    "bidderNftBalance = get_balances(client, bidder.get_address())[asset_id]\n",
    "\n",
    "print(\"Carla's NFT balance:\", bidderNftBalance, \" for token ID: \", asset_id)\n",
    "\n",
    "assert bidderNftBalance == 1\n",
    "\n",
    "actualSellerBalances = get_balances(client, seller.get_address())\n",
    "print(\"Alice's balances after auction: \", actualSellerBalances, \" Algos\")\n",
    "\n",
    "actualBidderBalances = get_balances(client, bidder.get_address())\n",
    "print(\"Carla's balances after auction: \", actualBidderBalances, \" Algos\")\n",
    "# assert len(actualSellerBalances) == 2\n",
    "# seller should receive the bid amount, minus the txn fee\n",
    "assert actualSellerBalances[0] >= sellerAlgosBefore + bidPrice - 1_000\n",
    "assert actualSellerBalances[asset_id] == 0"
   ]
  },
  {
   "cell_type": "code",
   "execution_count": null,
   "metadata": {},
   "outputs": [],
   "source": [
    "storeAppState = get_app_global_state(client, 727)\n",
    "print(storeAppState)\n",
    "print(encoding.encode_address(storeAppState[b\"C\"]))"
   ]
  }
 ],
 "metadata": {
  "interpreter": {
   "hash": "d8d32039960e27bf02cc380478024df65258985d3f6246b5f3627ebac0bfeee0"
  },
  "kernelspec": {
   "display_name": "Python 3.8.10 64-bit ('venv': venv)",
   "language": "python",
   "name": "python3"
  },
  "language_info": {
   "codemirror_mode": {
    "name": "ipython",
    "version": 3
   },
   "file_extension": ".py",
   "mimetype": "text/x-python",
   "name": "python",
   "nbconvert_exporter": "python",
   "pygments_lexer": "ipython3",
   "version": "3.9.9"
  },
  "orig_nbformat": 4
 },
 "nbformat": 4,
 "nbformat_minor": 2
}

{
 "cells": [
  {
   "cell_type": "code",
   "execution_count": 1,
   "metadata": {},
   "outputs": [],
   "source": [
    "import os\n",
    "\n",
    "import dotenv\n",
    "\n",
    "from time import time, sleep\n",
    "from algosdk.future import transaction\n",
    "from algosdk.logic import get_application_address\n",
    "\n",
    "from trading.operations import create_trading_app, setup_trading_app, place_bid, close_trading\n",
    "from store.operations import StoringPool\n",
    "from utils import get_algod_client, wait_for_confirmation, get_balances, get_last_block_timestamp\n",
    "from account import Account"
   ]
  },
  {
   "cell_type": "code",
   "execution_count": 2,
   "metadata": {},
   "outputs": [],
   "source": [
    "dotenv.load_dotenv('.env')\n",
    "\n",
    "client = get_algod_client(os.environ.get('ALGOD_URL'), os.environ.get('ALGOD_TOKEN'))"
   ]
  },
  {
   "cell_type": "code",
   "execution_count": 3,
   "metadata": {},
   "outputs": [],
   "source": [
    "def optin_to_asset(asset_id, sender: Account):\n",
    "    txn = transaction.AssetOptInTxn(\n",
    "        sender=sender.get_address(),\n",
    "        sp=client.suggested_params(),\n",
    "        index=asset_id\n",
    "    )\n",
    "    signed_txn = txn.sign(sender.get_private_key())\n",
    "\n",
    "    client.send_transaction(signed_txn)\n",
    "\n",
    "    wait_for_confirmation(client, signed_txn.get_txid())"
   ]
  },
  {
   "cell_type": "code",
   "execution_count": 4,
   "metadata": {},
   "outputs": [
    {
     "name": "stdout",
     "output_type": "stream",
     "text": [
      "Creator address: 742N2DLQ6NUUQXNUTNIJHYXYGL6BWG7C2XSQDHLFJN2NFYDVAYYUAQ36NQ\n",
      "Seller Address: Y4QR7LETUXJQVSPRKOJ5VFDR2GRO3MTSLJ4CLSIPJ5YN33Z3Z7HDT6JLYM\n"
     ]
    }
   ],
   "source": [
    "creator = Account.from_mnemonic(os.environ.get('CREATOR_MN'))\n",
    "seller = Account.from_mnemonic(os.environ.get('SELLER_MN'))\n",
    "\n",
    "print(f\"Creator address: {creator.get_address()}\")\n",
    "print(f\"Seller Address: {seller.get_address()}\")"
   ]
  },
  {
   "cell_type": "markdown",
   "metadata": {},
   "source": [
    "Alice is generating an example token..."
   ]
  },
  {
   "cell_type": "code",
   "execution_count": 5,
   "metadata": {},
   "outputs": [
    {
     "name": "stdout",
     "output_type": "stream",
     "text": [
      "Waiting for confirmation...\n",
      "Transaction HM6I6UMSNLFELLS54VRIF2AP2MCZFPMT67EC66VVVS5Q5BCUMVGA confirmed in round 5381.\n",
      "The token id is: 265\n"
     ]
    }
   ],
   "source": [
    "def create_dummy_asset(sender: Account, total: int, decimals: int, asset_name: str, unit_name: str):\n",
    "    txn = transaction.AssetConfigTxn(\n",
    "        sender=sender.get_address(),\n",
    "        sp=client.suggested_params(),\n",
    "        total=total,\n",
    "        decimals=decimals,\n",
    "        asset_name=asset_name,\n",
    "        unit_name=unit_name,\n",
    "        default_frozen=False,\n",
    "        strict_empty_address_check=False,\n",
    "    )\n",
    "    signed_txn = txn.sign(sender.get_private_key())\n",
    "\n",
    "    client.send_transaction(signed_txn)\n",
    "\n",
    "    response = wait_for_confirmation(client, signed_txn.get_txid())\n",
    "    assert response.asset_index is not None and response.asset_index > 0\n",
    "    return response.asset_index\n",
    "\n",
    "asset_id = create_dummy_asset(seller, 1, 0, \"example token\", \"AVT\")\n",
    "print(f\"The token id is: {asset_id}\")"
   ]
  },
  {
   "cell_type": "code",
   "execution_count": 6,
   "metadata": {},
   "outputs": [],
   "source": [
    "start_time = int(time()) + 10\n",
    "end_time = start_time + 10\n",
    "price = 1_000_000  # 1 Algo"
   ]
  },
  {
   "cell_type": "markdown",
   "metadata": {},
   "source": [
    "\"Alice is creating auction smart contract that lasts 30 seconds to auction off token...\""
   ]
  },
  {
   "cell_type": "code",
   "execution_count": 7,
   "metadata": {},
   "outputs": [
    {
     "name": "stdout",
     "output_type": "stream",
     "text": [
      "Waiting for confirmation...\n",
      "Transaction VPDESAE3CQPI4HQB7NZFKNIDTRX2X5Z4RW7Q5RGPJCWXO72SZDIA confirmed in round 5383.\n",
      "Store App ID: 266\n",
      "Store App address: ZYE6MAYVU4OODNGXFUO5I7K5OTW2KT7JY6HSU7FB6BVO4D2NCRYW4POM4A\n",
      "Waiting for confirmation...\n",
      "Transaction OSVHSXXXIDMTEBYJD4UPH6ZEI42VDNYXU4UZTTPUZG3I2LHPCO3A confirmed in round 5385.\n",
      "Waiting for confirmation...\n",
      "Transaction JY5MDTO5O3PMKDT6KKICWUGYEE7DQ7WSEWNX3NW7YT4C7LFUK7OA confirmed in round 5387.\n",
      "App ID: 268\n",
      "App Address: 7Z2XRQGMXUY2MRKMSFURRGLC4KCAOIFCB7SW47BXJBCSBEMPQJNLPD3WHA\n"
     ]
    }
   ],
   "source": [
    "storeApp = StoringPool(client=client, creator=creator, token_id=asset_id)\n",
    "storeApp.create_app()\n",
    "storeAppID = storeApp.app_id\n",
    "\n",
    "appID = create_trading_app(\n",
    "    client=client,\n",
    "    sender=creator,\n",
    "    seller=seller.get_address(),\n",
    "    token_id=asset_id,\n",
    "    price=price,\n",
    "    store_app_address=get_application_address(storeAppID)\n",
    ")\n",
    "print(f\"App ID: {appID}\")\n",
    "print(f\"App Address: {get_application_address(appID)}\")"
   ]
  },
  {
   "cell_type": "markdown",
   "metadata": {},
   "source": [
    "Alice is setting up and funding token auction..."
   ]
  },
  {
   "cell_type": "code",
   "execution_count": 8,
   "metadata": {},
   "outputs": [
    {
     "name": "stdout",
     "output_type": "stream",
     "text": [
      "Waiting for confirmation...\n",
      "Transaction NZCEG6C5N5K3G2CTKH26CCD5Y3YG42WGRX7KAWBVIVZZ5I5ALTDA confirmed in round 5389.\n",
      "Alice's algo balance:  20001321090118  algos\n"
     ]
    }
   ],
   "source": [
    "setup_trading_app(\n",
    "    client=client,\n",
    "    app_id=appID,\n",
    "    funder=creator,\n",
    "    token_holder=seller,\n",
    "    token_id=asset_id,\n",
    "    asset_amount=1\n",
    ")\n",
    "\n",
    "sellerAlgosBefore = get_balances(client, seller.get_address())[0]\n",
    "\n",
    "print(\"Alice's algo balance: \", sellerAlgosBefore, \" algos\")"
   ]
  },
  {
   "cell_type": "code",
   "execution_count": 9,
   "metadata": {},
   "outputs": [
    {
     "name": "stdout",
     "output_type": "stream",
     "text": [
      "Bidder Address: GAFLYUNVHZQKQH7YLHVFNNP5WOTXDA7N3MJRVJ6SFSH7BRV4K7IJIZVAAI\n"
     ]
    }
   ],
   "source": [
    "bidder = Account.from_mnemonic(os.environ.get('BUYER_MN'))\n",
    "\n",
    "print(f\"Bidder Address: {bidder.get_address()}\")"
   ]
  },
  {
   "cell_type": "code",
   "execution_count": 10,
   "metadata": {},
   "outputs": [
    {
     "name": "stdout",
     "output_type": "stream",
     "text": [
      "The smart contract now holds the following: {0: 202000, 265: 1}\n"
     ]
    }
   ],
   "source": [
    "sleep(5)\n",
    "actualAppBalancesBefore = get_balances(client, get_application_address(appID))\n",
    "print(\"The smart contract now holds the following:\", actualAppBalancesBefore)"
   ]
  },
  {
   "cell_type": "code",
   "execution_count": 11,
   "metadata": {},
   "outputs": [
    {
     "name": "stdout",
     "output_type": "stream",
     "text": [
      "Carla wants to bid on token, her algo balance:  10001299013246  algos\n",
      "Carla is placing bid for:  1000000  algos\n"
     ]
    }
   ],
   "source": [
    "bidAmount = price\n",
    "bidderAlgosBefore = get_balances(client, bidder.get_address())[0]\n",
    "print(\"Carla wants to bid on token, her algo balance: \", bidderAlgosBefore, \" algos\")\n",
    "print(\"Carla is placing bid for: \", bidAmount, \" algos\")"
   ]
  },
  {
   "cell_type": "code",
   "execution_count": 12,
   "metadata": {},
   "outputs": [
    {
     "name": "stdout",
     "output_type": "stream",
     "text": [
      "Waiting for confirmation...\n",
      "Transaction YRAGJXMWDL2WY3LNABYASSCTWNAI2QVDEOD3NFF73I4ICVCJK3YA confirmed in round 5392.\n",
      "Carla is opting into token with id: 265\n"
     ]
    }
   ],
   "source": [
    "place_bid(client=client, app_id=appID, bidder=bidder, bid_amount=bidAmount)\n",
    "\n",
    "print(\"Carla is opting into token with id:\", asset_id)"
   ]
  },
  {
   "cell_type": "code",
   "execution_count": 13,
   "metadata": {},
   "outputs": [
    {
     "name": "stdout",
     "output_type": "stream",
     "text": [
      "Waiting for confirmation...\n",
      "Transaction 5SN54HTUX4GVPC4M2UFRI7ZORJMBK7XNFPXMUCRB6ZEUNI4VB4HQ confirmed in round 5394.\n"
     ]
    }
   ],
   "source": [
    "optin_to_asset(asset_id, bidder)"
   ]
  },
  {
   "cell_type": "markdown",
   "metadata": {},
   "source": [
    "Alice is closing out the auction...."
   ]
  },
  {
   "cell_type": "code",
   "execution_count": 14,
   "metadata": {},
   "outputs": [
    {
     "name": "stdout",
     "output_type": "stream",
     "text": [
      "b'token_id' 265\n",
      "b'seller' Y4QR7LETUXJQVSPRKOJ5VFDR2GRO3MTSLJ4CLSIPJ5YN33Z3Z7HDT6JLYM\n",
      "b'accounts' ['Y4QR7LETUXJQVSPRKOJ5VFDR2GRO3MTSLJ4CLSIPJ5YN33Z3Z7HDT6JLYM']\n",
      "b'bidder' GAFLYUNVHZQKQH7YLHVFNNP5WOTXDA7N3MJRVJ6SFSH7BRV4K7IJIZVAAI\n",
      "Waiting for confirmation...\n",
      "Transaction 7WP7EYEPAJ234GJHBGFVYTI4JWOBSPTDYCCKLVNFYH74V5ES6NIQ confirmed in round 5397.\n"
     ]
    }
   ],
   "source": [
    "sleep(5)\n",
    "\n",
    "close_trading(client, appID, seller)"
   ]
  },
  {
   "cell_type": "code",
   "execution_count": 16,
   "metadata": {},
   "outputs": [
    {
     "name": "stdout",
     "output_type": "stream",
     "text": [
      "The smart contract now holds the following: {0: 129092}\n"
     ]
    }
   ],
   "source": [
    "actualAppBalances = get_balances(client, get_application_address(appID))\n",
    "expectedAppBalances = {0: 0}\n",
    "print(\"The smart contract now holds the following:\", actualAppBalances)\n",
    "\n",
    "#assert actualAppBalances == expectedAppBalances"
   ]
  },
  {
   "cell_type": "code",
   "execution_count": 17,
   "metadata": {},
   "outputs": [
    {
     "name": "stdout",
     "output_type": "stream",
     "text": [
      "Carla's NFT balance: 1  for token ID:  265\n",
      "Alice's balances after auction:  {0: 20001362159732, 6: 0, 17: 0, 31: 0, 42: 0, 53: 0, 68: 0, 80: 0, 92: 0, 104: 1, 107: 0, 118: 0, 129: 0, 140: 0, 155: 0, 166: 0, 177: 0, 188: 1, 189: 1, 190: 1, 191: 1, 192: 1, 193: 1, 195: 0, 206: 0, 217: 1, 220: 0, 231: 0, 247: 0, 265: 0}  Algos\n",
      "Carla's balances after auction:  {0: 10001318012842, 6: 0, 17: 0, 31: 0, 42: 0, 53: 0, 68: 0, 80: 0, 92: 0, 107: 0, 118: 0, 129: 0, 140: 0, 155: 0, 166: 0, 177: 0, 195: 0, 206: 0, 220: 0, 231: 0, 247: 1, 265: 1}  Algos\n"
     ]
    }
   ],
   "source": [
    "bidderNftBalance = get_balances(client, bidder.get_address())[asset_id]\n",
    "\n",
    "print(\"Carla's NFT balance:\", bidderNftBalance, \" for token ID: \", asset_id)\n",
    "\n",
    "assert bidderNftBalance == 1\n",
    "\n",
    "actualSellerBalances = get_balances(client, seller.get_address())\n",
    "print(\"Alice's balances after auction: \", actualSellerBalances, \" Algos\")\n",
    "actualBidderBalances = get_balances(client, bidder.get_address())\n",
    "print(\"Carla's balances after auction: \", actualBidderBalances, \" Algos\")\n",
    "# assert len(actualSellerBalances) == 2\n",
    "# seller should receive the bid amount, minus the txn fee\n",
    "assert actualSellerBalances[0] >= sellerAlgosBefore + bidAmount - 1_000\n",
    "assert actualSellerBalances[asset_id] == 0"
   ]
  }
 ],
 "metadata": {
  "interpreter": {
   "hash": "d8d32039960e27bf02cc380478024df65258985d3f6246b5f3627ebac0bfeee0"
  },
  "kernelspec": {
   "display_name": "Python 3.8.10 64-bit ('venv': venv)",
   "language": "python",
   "name": "python3"
  },
  "language_info": {
   "codemirror_mode": {
    "name": "ipython",
    "version": 3
   },
   "file_extension": ".py",
   "mimetype": "text/x-python",
   "name": "python",
   "nbconvert_exporter": "python",
   "pygments_lexer": "ipython3",
   "version": "3.9.9"
  },
  "orig_nbformat": 4
 },
 "nbformat": 4,
 "nbformat_minor": 2
}

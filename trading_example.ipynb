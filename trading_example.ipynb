{
 "cells": [
  {
   "cell_type": "code",
   "execution_count": 1,
   "metadata": {},
   "outputs": [],
   "source": [
    "import os\n",
    "\n",
    "import dotenv\n",
    "\n",
    "from time import time, sleep\n",
    "from algosdk.future import transaction\n",
    "from algosdk.logic import get_application_address\n",
    "\n",
    "from trading.operations import create_trading_app, setup_trading_app, place_trade, cancel_trade, accept_trade, close_trading\n",
    "from store.operations import *\n",
    "from utils import *\n",
    "from account import Account"
   ]
  },
  {
   "cell_type": "code",
   "execution_count": 2,
   "metadata": {},
   "outputs": [
    {
     "name": "stdout",
     "output_type": "stream",
     "text": [
      "ALGOD_URL: http://localhost:4001\n",
      "ALGOD_TOKEN: aaaaaaaaaaaaaaaaaaaaaaaaaaaaaaaaaaaaaaaaaaaaaaaaaaaaaaaaaaaaaaaa\n"
     ]
    }
   ],
   "source": [
    "dotenv.load_dotenv('.env')\n",
    "\n",
    "ALGOD_URL = os.environ.get('ALGOD_URL')\n",
    "ALGOD_TOKEN = os.environ.get('ALGOD_TOKEN')\n",
    "print(f\"ALGOD_URL: {ALGOD_URL}\")\n",
    "print(f\"ALGOD_TOKEN: {ALGOD_TOKEN}\")\n",
    "\n",
    "client = get_algod_client(ALGOD_URL, ALGOD_TOKEN)"
   ]
  },
  {
   "cell_type": "code",
   "execution_count": 3,
   "metadata": {},
   "outputs": [
    {
     "name": "stdout",
     "output_type": "stream",
     "text": [
      "storeAppID: 4734\n",
      "Creator address: NBIIRJVCVD7ZWZGKCPLVZ5Z6QFUCXDE2GR4KQR5URM2ZBPV7V4VKPJFRZI\n",
      "Bidder address: X7PMCPPRD2T35ZZRTPETYK53G5YWBKUNONVDY52WODP3N3YM7NGEF5HGWU\n",
      "Seller Address: GAFLYUNVHZQKQH7YLHVFNNP5WOTXDA7N3MJRVJ6SFSH7BRV4K7IJIZVAAI\n"
     ]
    }
   ],
   "source": [
    "creator = Account.from_mnemonic(os.environ.get('CREATOR_MN'))\n",
    "bidder = Account.from_mnemonic(os.environ.get('BUYER_MN'))\n",
    "seller = Account.from_mnemonic(os.environ.get('SELLER_MN'))\n",
    "\n",
    "storeAppID = int(os.environ.get(\"STORE_APP_ID\"))\n",
    "print(f\"storeAppID: {storeAppID}\")\n",
    "#close_trading(client, 693, storeAppID, creator)\n",
    "\n",
    "print(f\"Creator address: {creator.get_address()}\")\n",
    "print(f\"Bidder address: {bidder.get_address()}\")\n",
    "print(f\"Seller Address: {seller.get_address()}\")"
   ]
  },
  {
   "cell_type": "markdown",
   "metadata": {},
   "source": [
    "Alice is generating an example token..."
   ]
  },
  {
   "cell_type": "code",
   "execution_count": 4,
   "metadata": {},
   "outputs": [
    {
     "name": "stdout",
     "output_type": "stream",
     "text": [
      "Waiting for confirmation...\n",
      "Transaction KQHV6USX74TO7MBIRGD4B7GQPKHJIJWIZENLKVCGMFFKLAI2SO5A confirmed in round 218492.\n",
      "The token id is: 4964\n"
     ]
    }
   ],
   "source": [
    "def create_dummy_asset(sender: Account, total: int, decimals: int, asset_name: str, unit_name: str):\n",
    "    txn = transaction.AssetConfigTxn(\n",
    "        sender=sender.get_address(),\n",
    "        sp=client.suggested_params(),\n",
    "        total=total,\n",
    "        decimals=decimals,\n",
    "        asset_name=asset_name,\n",
    "        unit_name=unit_name,\n",
    "        default_frozen=False,\n",
    "        strict_empty_address_check=False,\n",
    "    )\n",
    "    signed_txn = txn.sign(sender.get_private_key())\n",
    "\n",
    "    client.send_transaction(signed_txn)\n",
    "\n",
    "    response = wait_for_confirmation(client, signed_txn.get_txid())\n",
    "    assert response.asset_index is not None and response.asset_index > 0\n",
    "    return response.asset_index\n",
    "\n",
    "asset_id = create_dummy_asset(seller, 100000000000000000, 0, \"example token\", \"AVT\")\n",
    "\n",
    "# asset_id = int(os.environ.get(\"TOKEN_ID\"))\n",
    "print(f\"The token id is: {asset_id}\")"
   ]
  },
  {
   "cell_type": "code",
   "execution_count": 5,
   "metadata": {},
   "outputs": [],
   "source": [
    "start_time = int(time()) + 10\n",
    "end_time = start_time + 10\n",
    "price = 1_000_000  # 1 Algo"
   ]
  },
  {
   "cell_type": "markdown",
   "metadata": {},
   "source": [
    "\"Alice is creating auction smart contract that lasts 30 seconds to auction off token...\""
   ]
  },
  {
   "cell_type": "code",
   "execution_count": 6,
   "metadata": {},
   "outputs": [
    {
     "name": "stdout",
     "output_type": "stream",
     "text": [
      "Waiting for confirmation...\n",
      "Transaction SQGKFLKEOLQ6HLFGJQ3VDWGB4HV6VNTYJN5V6XDYYSJKAZTCIAWQ confirmed in round 218494.\n",
      "Store App ID: 4965\n",
      "Store App address: ZESS2GUDJCZG6UUDX464ZD2GSRLIVW7B2EULLVBWSCPBNCZ3UZHSYW3S24\n",
      "Waiting for confirmation...\n",
      "Transaction EOUIFVZ6QHIM5YZW2UN5YYCDRT223WZZU5UQQJUIYHSJ4MT6WRPA confirmed in round 218496.\n",
      "Store App ID: 4965\n",
      "Store App Address: ZESS2GUDJCZG6UUDX464ZD2GSRLIVW7B2EULLVBWSCPBNCZ3UZHSYW3S24\n"
     ]
    }
   ],
   "source": [
    "storeAppID = int(os.environ.get(\"STORE_APP_ID\"))\n",
    "\n",
    "storeAppID = create_store_app(client, creator)\n",
    "print(f\"Store App ID: {storeAppID}\")\n",
    "\n",
    "storeAppAddress = get_application_address(storeAppID)\n",
    "print(f\"Store App Address: {storeAppAddress}\")\n"
   ]
  },
  {
   "cell_type": "code",
   "execution_count": 7,
   "metadata": {},
   "outputs": [
    {
     "name": "stdout",
     "output_type": "stream",
     "text": [
      "Waiting for confirmation...\n",
      "Transaction 4QWSB6XGW7NDILKLTF2CLSGBBD3DG2KHOAHHXUN4VNEXEHQSK7NQ confirmed in round 218498.\n",
      "Waiting for confirmation...\n",
      "Transaction MJXEYGFMUQXOMBMSCNU7WEMHHXS3QPKKHEN4DEAZ6YZ3AIHOG2EQ confirmed in round 218500.\n",
      "App ID: 4967\n",
      "App Address: G4HJHFMQHDPCKWEXOOY2DUB7ZY465GVEXVD3KE5CIU5N4IVTG4OIYRTU7A\n"
     ]
    }
   ],
   "source": [
    "\n",
    "appID = create_trading_app(\n",
    "    client=client,\n",
    "    creator=creator,\n",
    "    store_app_id=storeAppID\n",
    ")\n",
    "print(f\"App ID: {appID}\")\n",
    "print(f\"App Address: {get_application_address(appID)}\")"
   ]
  },
  {
   "cell_type": "code",
   "execution_count": 8,
   "metadata": {},
   "outputs": [
    {
     "name": "stdout",
     "output_type": "stream",
     "text": [
      "Waiting for confirmation...\n",
      "Transaction TRQCLNO5EFMBW6I4MEC5WKIXB5JQD6JZ7SHXN45CBRNU6GRIN3LQ confirmed in round 218502.\n"
     ]
    }
   ],
   "source": [
    "set_up(client=client, creator=creator, app_id=storeAppID, trade_app_id=appID, bid_app_id=appID, auction_app_id=appID, distribution_app_id=appID)"
   ]
  },
  {
   "cell_type": "markdown",
   "metadata": {},
   "source": [
    "Alice is setting up and funding token auction..."
   ]
  },
  {
   "cell_type": "code",
   "execution_count": 9,
   "metadata": {},
   "outputs": [
    {
     "name": "stdout",
     "output_type": "stream",
     "text": [
      "Waiting for confirmation...\n",
      "Transaction 4WB3R33PW5GXZJGLBH5BX56ZAD2OVZKBMASNTJFNJZ2DQA43VSWA confirmed in round 218504.\n",
      "Alice's algo balance:  10054595078745  algos\n"
     ]
    }
   ],
   "source": [
    "setup_trading_app(\n",
    "    client=client,\n",
    "    app_id=appID,\n",
    "    funder=creator,\n",
    "    token_id=asset_id,\n",
    ")\n",
    "\n",
    "sellerAlgosBefore = get_balances(client, seller.get_address())[0]\n",
    "print(\"Alice's algo balance: \", sellerAlgosBefore, \" algos\")"
   ]
  },
  {
   "cell_type": "code",
   "execution_count": 10,
   "metadata": {},
   "outputs": [
    {
     "name": "stdout",
     "output_type": "stream",
     "text": [
      "The smart contract now holds the following: {0: 201000, 4964: 0}\n"
     ]
    }
   ],
   "source": [
    "actualAppBalancesBefore = get_balances(client, get_application_address(appID))\n",
    "print(\"The smart contract now holds the following:\", actualAppBalancesBefore)"
   ]
  },
  {
   "cell_type": "code",
   "execution_count": 11,
   "metadata": {},
   "outputs": [
    {
     "name": "stdout",
     "output_type": "stream",
     "text": [
      "Carla wants to bid on token, her algo balance:  10051504089949  algos\n",
      "Carla is placing bid for:  1000000  algos\n"
     ]
    }
   ],
   "source": [
    "bidPrice = price\n",
    "bidderAlgosBefore = get_balances(client, bidder.get_address())[0]\n",
    "print(\"Carla wants to bid on token, her algo balance: \", bidderAlgosBefore, \" algos\")\n",
    "print(\"Carla is placing bid for: \", bidPrice, \" algos\")"
   ]
  },
  {
   "cell_type": "code",
   "execution_count": 12,
   "metadata": {},
   "outputs": [
    {
     "name": "stdout",
     "output_type": "stream",
     "text": [
      "store_app_id 4965\n",
      "seller GAFLYUNVHZQKQH7YLHVFNNP5WOTXDA7N3MJRVJ6SFSH7BRV4K7IJIZVAAI opt in app 4965\n",
      "Waiting for confirmation...\n",
      "Transaction TH5ZYS3QE6WQBR5SJ2V36GGSMRO6CVCATWYA4KZ2NEAP3LSTTG6A confirmed in round 218506.\n",
      "new address: DROJGIOI6TONGEGCR32FE3FLNNOYNYZYV7QQY2AVT6FG4DEM7BLRBKSCHA\n",
      "new private_key: DIetWFQkL6eavUxeQf2D8k80NGcbqhV4Rq0Su36rFaQcXJMhyPTc0xDCjvRSbKtrXYbjOK/hDGgVn4puDIz4Vw==\n",
      "new passphrase: thunder render clump earn furnace prefer under erosion cloth vital draft you hammer snack swamp present actor boring find raise word hello camera absent mixed\n",
      "Waiting for confirmation...\n",
      "Transaction O6KTKWM4NFEUDW4C2TSUBOET7SBEHJUI5SLKVEV5MDNR2W33D2XQ confirmed in round 218508.\n",
      "Waiting for confirmation...\n",
      "Transaction IIHADVSOSNUDM5GMFLK24CSKJNGGZRW7YUO5PVCNZFQXBP5JCFCA confirmed in round 218510.\n",
      "Waiting for confirmation...\n",
      "Transaction FRY2W2PFWIZBWS6GANNHBOFJMPEKNRW7ZQH7WV7VXEU24SUK4PAQ confirmed in round 218512.\n",
      "token_txn: {'sender': 'GAFLYUNVHZQKQH7YLHVFNNP5WOTXDA7N3MJRVJ6SFSH7BRV4K7IJIZVAAI', 'fee': 506000, 'first_valid_round': 218504, 'last_valid_round': 219504, 'note': None, 'genesis_id': 'sandnet-v1', 'genesis_hash': 'S46yr60YjyJzK3Fk0J8V7mzMIOSxovaXAVqCHlwPl1A=', 'group': None, 'lease': None, 'type': 'axfer', 'rekey_to': None, 'receiver': 'G4HJHFMQHDPCKWEXOOY2DUB7ZY465GVEXVD3KE5CIU5N4IVTG4OIYRTU7A', 'amount': 10, 'index': 4964, 'close_assets_to': None, 'revocation_target': None}\n",
      "Waiting for confirmation...\n",
      "Transaction MW7Z3VQD3UKF3BENC6MDDRMXV47UNV5S5FPXVBW7DCIYJDAAD3RA confirmed in round 218514.\n",
      "Carla bid DROJGIOI6TONGEGCR32FE3FLNNOYNYZYV7QQY2AVT6FG4DEM7BLRBKSCHA\n"
     ]
    }
   ],
   "source": [
    "trading_index = place_trade(client=client, app_id=appID, seller=seller, token_id=asset_id, token_amount=10, price=bidPrice, trading_index=\"\")\n",
    "\n",
    "print(\"Carla bid\", trading_index)"
   ]
  },
  {
   "cell_type": "code",
   "execution_count": 13,
   "metadata": {},
   "outputs": [
    {
     "name": "stdout",
     "output_type": "stream",
     "text": [
      "Waiting for confirmation...\n",
      "Transaction WQL2Y4KCGU45JGPXEJA7IJUU7YFDDKJV3UB5EM2TUA42LTUFM2EQ confirmed in round 218516.\n",
      "Carla cancel trading DROJGIOI6TONGEGCR32FE3FLNNOYNYZYV7QQY2AVT6FG4DEM7BLRBKSCHA\n"
     ]
    }
   ],
   "source": [
    "# account_info = client.account_info(bidder.get_address())  \n",
    "# print(account_info.get('apps-local-state', []))\n",
    "# print(is_opted_in_app(client, appID, bidder.get_address()))\n",
    "\n",
    "cancel_trade(client, appID, seller, trading_index)\n",
    "print(\"Carla cancel trading\", trading_index)"
   ]
  },
  {
   "cell_type": "code",
   "execution_count": 14,
   "metadata": {},
   "outputs": [
    {
     "name": "stdout",
     "output_type": "stream",
     "text": [
      "store_app_id 4965\n",
      "new address: GJYKQBVDYARNMTKVHE2PXATHK3HI4S3ZGRIEUDPDG2QRDJCVBYXDRJWVNA\n",
      "new private_key: f6x7/RyXpmy/Bpp6ABqJM+LwxQ6LHhqGofU4LGj3BVUycKgGo8Ai1k1VOTT7gmdWzo5LeTRQSg3jNqERpFUOLg==\n",
      "new passphrase: morning upgrade leaf impact essay swamp curious old aunt gym setup case tide ramp flash burden select maid kiss seminar space lava popular able hurry\n",
      "Waiting for confirmation...\n",
      "Transaction 4T2MYCJJLL3CWV6MK5Q3PTAEDFYBWELQMZESCAYZBV4SPSSRKDEQ confirmed in round 218518.\n",
      "Waiting for confirmation...\n",
      "Transaction SWYXFLWITMVHYXCE5ANCMQNKR7IABUTY5JS46TU7YGYPAYSMPXAA confirmed in round 218520.\n",
      "Waiting for confirmation...\n",
      "Transaction 7TKA7BRIEQW2R7BCSHPC3N4TSRUZHPQWCI5DMAV2CKVSDNM32C6A confirmed in round 218522.\n",
      "token_txn: {'sender': 'GAFLYUNVHZQKQH7YLHVFNNP5WOTXDA7N3MJRVJ6SFSH7BRV4K7IJIZVAAI', 'fee': 506000, 'first_valid_round': 218516, 'last_valid_round': 219516, 'note': None, 'genesis_id': 'sandnet-v1', 'genesis_hash': 'S46yr60YjyJzK3Fk0J8V7mzMIOSxovaXAVqCHlwPl1A=', 'group': None, 'lease': None, 'type': 'axfer', 'rekey_to': None, 'receiver': 'G4HJHFMQHDPCKWEXOOY2DUB7ZY465GVEXVD3KE5CIU5N4IVTG4OIYRTU7A', 'amount': 10, 'index': 4964, 'close_assets_to': None, 'revocation_target': None}\n",
      "Waiting for confirmation...\n",
      "Transaction JAN2AWAC5JKFXXVHCP35N5PSO4OENHTDXOKK654ZBHSRQARXXBWQ confirmed in round 218524.\n",
      "store_app_id 4965\n",
      "token_txn: {'sender': 'GAFLYUNVHZQKQH7YLHVFNNP5WOTXDA7N3MJRVJ6SFSH7BRV4K7IJIZVAAI', 'fee': 759000, 'first_valid_round': 218524, 'last_valid_round': 219524, 'note': None, 'genesis_id': 'sandnet-v1', 'genesis_hash': 'S46yr60YjyJzK3Fk0J8V7mzMIOSxovaXAVqCHlwPl1A=', 'group': None, 'lease': None, 'type': 'axfer', 'rekey_to': None, 'receiver': 'G4HJHFMQHDPCKWEXOOY2DUB7ZY465GVEXVD3KE5CIU5N4IVTG4OIYRTU7A', 'amount': 15, 'index': 4964, 'close_assets_to': None, 'revocation_target': None}\n",
      "Waiting for confirmation...\n",
      "Transaction 5HYU7NN2FUSQBJAVTO5WCKB3T3DM66DTBSVKEKDVKRMIGQ6WFXWA confirmed in round 218526.\n"
     ]
    },
    {
     "data": {
      "text/plain": [
       "'GJYKQBVDYARNMTKVHE2PXATHK3HI4S3ZGRIEUDPDG2QRDJCVBYXDRJWVNA'"
      ]
     },
     "execution_count": 14,
     "metadata": {},
     "output_type": "execute_result"
    }
   ],
   "source": [
    "trading_index = place_trade(client=client, app_id=appID, seller=seller, token_id=asset_id, token_amount=10, price=bidPrice, trading_index=\"\")\n",
    "\n",
    "place_trade(client=client, app_id=appID, seller=seller, token_id=asset_id, token_amount=15, price=bidPrice, trading_index=trading_index)"
   ]
  },
  {
   "cell_type": "code",
   "execution_count": 15,
   "metadata": {},
   "outputs": [
    {
     "name": "stdout",
     "output_type": "stream",
     "text": [
      "token_amount 15\n",
      "price 1000000\n",
      "Waiting for confirmation...\n",
      "Transaction AB4GUBNCPDXAOSCQISJF5YIMWLPOTO3LMLUXRZCRBABBM6VGM54A confirmed in round 218528.\n",
      "Waiting for confirmation...\n",
      "Transaction JOIVG5C2UYKYPMA3J56BZFYVTL7JWYA66BBGZWYPFC553VVVERFA confirmed in round 218530.\n",
      "Waiting for confirmation...\n",
      "Transaction D3GODDPROR67SWERHTYD254EXT6EXGEKKM6VMQHFPPSAOE3ZAYEQ confirmed in round 218532.\n"
     ]
    },
    {
     "data": {
      "text/plain": [
       "True"
      ]
     },
     "execution_count": 15,
     "metadata": {},
     "output_type": "execute_result"
    }
   ],
   "source": [
    "accept_trade(client, appID, bidder, seller.get_address(), trading_index)"
   ]
  },
  {
   "cell_type": "markdown",
   "metadata": {},
   "source": [
    "Alice is closing out the auction...."
   ]
  },
  {
   "cell_type": "code",
   "execution_count": 16,
   "metadata": {},
   "outputs": [
    {
     "name": "stdout",
     "output_type": "stream",
     "text": [
      "b'assets' [4964]\n",
      "b'accounts' ['NBIIRJVCVD7ZWZGKCPLVZ5Z6QFUCXDE2GR4KQR5URM2ZBPV7V4VKPJFRZI', 'UCAX3M5HS7PWWLB6HDCM2O7JE4HC3RGBPNWFRP4SYU62ZS5NSS2GFOKIOU']\n",
      "Waiting for confirmation...\n",
      "Transaction 4M6FXY7DKHCNJBMUYJZBH3R7XCGO3VDFRGCYM3Z2KPKZJHFRLUOQ confirmed in round 218535.\n"
     ]
    }
   ],
   "source": [
    "sleep(5)\n",
    "\n",
    "close_trading(client, appID, creator, [asset_id])"
   ]
  },
  {
   "cell_type": "code",
   "execution_count": 17,
   "metadata": {},
   "outputs": [
    {
     "name": "stdout",
     "output_type": "stream",
     "text": [
      "The smart contract now holds the following: {0: 201000, 4964: 0}\n"
     ]
    }
   ],
   "source": [
    "actualAppBalances = get_balances(client, get_application_address(appID))\n",
    "expectedAppBalances = {0: 0}\n",
    "print(\"The smart contract now holds the following:\", actualAppBalances)\n",
    "\n",
    "#assert actualAppBalances == expectedAppBalances"
   ]
  },
  {
   "cell_type": "code",
   "execution_count": 19,
   "metadata": {},
   "outputs": [
    {
     "name": "stdout",
     "output_type": "stream",
     "text": [
      "Carla's NFT balance: 15  for token ID:  4964\n",
      "Alice's balances after auction:  {0: 10054613165931, 6: 0, 17: 0, 31: 0, 42: 0, 53: 0, 68: 0, 80: 0, 92: 0, 107: 0, 118: 0, 129: 0, 140: 0, 155: 0, 166: 0, 177: 0, 195: 1, 206: 0, 220: 1, 231: 1, 247: 1, 265: 1, 282: 1, 298: 1, 499: 999999999999700000, 4964: 99999999999999985}  Algos\n",
      "Carla's balances after auction:  {0: 10051523183955, 499: 155, 2989: 50000000050050, 3559: 49999999900000, 3992: 0, 4002: 10, 4031: 10, 4050: 10, 4964: 15}  Algos\n"
     ]
    }
   ],
   "source": [
    "bidderNftBalance = get_balances(client, bidder.get_address())[asset_id]\n",
    "print(\"Carla's NFT balance:\", bidderNftBalance, \" for token ID: \", asset_id)\n",
    "\n",
    "actualSellerBalances = get_balances(client, seller.get_address())\n",
    "print(\"Alice's balances after auction: \", actualSellerBalances, \" Algos\")\n",
    "\n",
    "actualBidderBalances = get_balances(client, bidder.get_address())\n",
    "print(\"Carla's balances after auction: \", actualBidderBalances, \" Algos\")\n",
    "# assert len(actualSellerBalances) == 2\n",
    "# seller should receive the bid amount, minus the txn fee"
   ]
  },
  {
   "cell_type": "code",
   "execution_count": 20,
   "metadata": {},
   "outputs": [
    {
     "name": "stdout",
     "output_type": "stream",
     "text": [
      "{b'AA_ADDR': 4967, b'BA_ADDR': 4967, b'TA_ADDR': 4967, b'DA_ADDR': 4967, b'TBA': 1000000, b'TSA': 1000000}\n",
      "{b'SA': 1000000}\n",
      "{b'BA': 1000000}\n"
     ]
    }
   ],
   "source": [
    "app_global_state = get_app_global_state(client, storeAppID)\n",
    "print(app_global_state)\n",
    "seller_app_local_state = get_app_local_state(client, storeAppID, seller.get_address())\n",
    "print(seller_app_local_state)\n",
    "bidder_app_local_state = get_app_local_state(client, storeAppID, bidder.get_address())\n",
    "print(bidder_app_local_state)\n",
    "# print(encoding.encode_address(app_global_state[b\"AS\"]))\n",
    "# print(encoding.encode_address(app_global_state[b\"S\"]))\n",
    "#print(encoding.encode_address(storeAppState[b\"C\"]))"
   ]
  }
 ],
 "metadata": {
  "interpreter": {
   "hash": "d8d32039960e27bf02cc380478024df65258985d3f6246b5f3627ebac0bfeee0"
  },
  "kernelspec": {
   "display_name": "Python 3.8.10 64-bit ('venv': venv)",
   "language": "python",
   "name": "python3"
  },
  "language_info": {
   "codemirror_mode": {
    "name": "ipython",
    "version": 3
   },
   "file_extension": ".py",
   "mimetype": "text/x-python",
   "name": "python",
   "nbconvert_exporter": "python",
   "pygments_lexer": "ipython3",
   "version": "3.9.9"
  },
  "orig_nbformat": 4
 },
 "nbformat": 4,
 "nbformat_minor": 2
}

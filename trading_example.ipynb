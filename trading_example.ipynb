{
 "cells": [
  {
   "cell_type": "code",
   "execution_count": 1,
   "metadata": {},
   "outputs": [],
   "source": [
    "import os\n",
    "\n",
    "import dotenv\n",
    "\n",
    "from time import time, sleep\n",
    "from algosdk.future import transaction\n",
    "from algosdk.logic import get_application_address\n",
    "\n",
    "from trading.operations import create_trading_app, setup_trading_app, place_trade, cancel_trade, place_accept, close_trading\n",
    "from store.operations import StoringPool\n",
    "from utils import *\n",
    "from account import Account"
   ]
  },
  {
   "cell_type": "code",
   "execution_count": 2,
   "metadata": {},
   "outputs": [],
   "source": [
    "dotenv.load_dotenv('.env')\n",
    "\n",
    "client = get_algod_client(os.environ.get('ALGOD_URL'), os.environ.get('ALGOD_TOKEN'))"
   ]
  },
  {
   "cell_type": "code",
   "execution_count": 3,
   "metadata": {},
   "outputs": [
    {
     "name": "stdout",
     "output_type": "stream",
     "text": [
      "Creator address: 1906\n",
      "Creator address: 4TT75274EBUAF46CITUL6HQQ4C4D3GO7GEOVRZSQZ35VXSGRVHJ376GD64\n",
      "Bidder address: X7PMCPPRD2T35ZZRTPETYK53G5YWBKUNONVDY52WODP3N3YM7NGEF5HGWU\n",
      "Seller Address: Y4QR7LETUXJQVSPRKOJ5VFDR2GRO3MTSLJ4CLSIPJ5YN33Z3Z7HDT6JLYM\n"
     ]
    }
   ],
   "source": [
    "creator = Account.from_mnemonic(os.environ.get('CREATOR_MN'))\n",
    "bidder = Account.from_mnemonic(os.environ.get('BUYER_MN'))\n",
    "seller = Account.from_mnemonic(os.environ.get('SELLER_MN'))\n",
    "\n",
    "storeAppID = int(os.environ.get(\"STORE_APP_ID\"))\n",
    "print(f\"Creator address: {storeAppID}\")\n",
    "#close_trading(client, 693, storeAppID, creator)\n",
    "\n",
    "print(f\"Creator address: {creator.get_address()}\")\n",
    "print(f\"Bidder address: {bidder.get_address()}\")\n",
    "print(f\"Seller Address: {seller.get_address()}\")"
   ]
  },
  {
   "cell_type": "markdown",
   "metadata": {},
   "source": [
    "Alice is generating an example token..."
   ]
  },
  {
   "cell_type": "code",
   "execution_count": 4,
   "metadata": {},
   "outputs": [
    {
     "name": "stdout",
     "output_type": "stream",
     "text": [
      "The token id is: 499\n"
     ]
    }
   ],
   "source": [
    "# def create_dummy_asset(sender: Account, total: int, decimals: int, asset_name: str, unit_name: str):\n",
    "#     txn = transaction.AssetConfigTxn(\n",
    "#         sender=sender.get_address(),\n",
    "#         sp=client.suggested_params(),\n",
    "#         total=total,\n",
    "#         decimals=decimals,\n",
    "#         asset_name=asset_name,\n",
    "#         unit_name=unit_name,\n",
    "#         default_frozen=False,\n",
    "#         strict_empty_address_check=False,\n",
    "#     )\n",
    "#     signed_txn = txn.sign(sender.get_private_key())\n",
    "\n",
    "#     client.send_transaction(signed_txn)\n",
    "\n",
    "#     response = wait_for_confirmation(client, signed_txn.get_txid())\n",
    "#     assert response.asset_index is not None and response.asset_index > 0\n",
    "#     return response.asset_index\n",
    "\n",
    "# asset_id = create_dummy_asset(seller, 1, 0, \"example token\", \"AVT\")\n",
    "\n",
    "asset_id = int(os.environ.get(\"TOKEN_ID\"))\n",
    "print(f\"The token id is: {asset_id}\")"
   ]
  },
  {
   "cell_type": "code",
   "execution_count": 5,
   "metadata": {},
   "outputs": [],
   "source": [
    "start_time = int(time()) + 10\n",
    "end_time = start_time + 10\n",
    "price = 1_000_000  # 1 Algo"
   ]
  },
  {
   "cell_type": "markdown",
   "metadata": {},
   "source": [
    "\"Alice is creating auction smart contract that lasts 30 seconds to auction off token...\""
   ]
  },
  {
   "cell_type": "code",
   "execution_count": 6,
   "metadata": {},
   "outputs": [
    {
     "name": "stdout",
     "output_type": "stream",
     "text": [
      "Store App ID: 1906\n",
      "Store App Address: K54FEXSDDO6SK5LSR46PFGOMALD5JA6TXMZT3DS5RU5ZXVM6JY2PFLYNB4\n"
     ]
    }
   ],
   "source": [
    "storeApp = StoringPool(client=client, creator=creator)\n",
    "# storeApp.create_app()\n",
    "# storeAppID = storeApp.app_id\n",
    "\n",
    "storeAppID = int(os.environ.get(\"STORE_APP_ID\"))\n",
    "storeApp.app_id = storeAppID\n",
    "print(f\"Store App ID: {storeAppID}\")\n",
    "\n",
    "storeAppAddress = get_application_address(storeAppID)\n",
    "print(f\"Store App Address: {storeAppAddress}\")\n"
   ]
  },
  {
   "cell_type": "code",
   "execution_count": 7,
   "metadata": {},
   "outputs": [
    {
     "name": "stdout",
     "output_type": "stream",
     "text": [
      "Waiting for confirmation...\n",
      "Transaction RFPZJ65WHLVGK4VWXYDOUVSHVVDGLZHDDIAFWHACCOWRHVA2CVLA confirmed in round 106998.\n",
      "Waiting for confirmation...\n",
      "Transaction ODYHFRI5RV2GIN77QM4MSHTXBQJ5JGSTKS64HYKXDRAJDFFDEI7Q confirmed in round 107000.\n",
      "App ID: 2156\n",
      "App Address: BXKJQG6JX4OIPRHL7S2O7PVRRKM2TT7PEDBLJOFZYGDBQKFDADG4ML27HU\n"
     ]
    }
   ],
   "source": [
    "\n",
    "appID = create_trading_app(\n",
    "    client=client,\n",
    "    creator=creator,\n",
    "    store_app_id=storeAppID\n",
    ")\n",
    "print(f\"App ID: {appID}\")\n",
    "print(f\"App Address: {get_application_address(appID)}\")"
   ]
  },
  {
   "cell_type": "markdown",
   "metadata": {},
   "source": [
    "Alice is setting up and funding token auction..."
   ]
  },
  {
   "cell_type": "code",
   "execution_count": 8,
   "metadata": {},
   "outputs": [
    {
     "name": "stdout",
     "output_type": "stream",
     "text": [
      "Waiting for confirmation...\n",
      "Transaction KHZ2KOMVZ6U2YFDWA35ZAT5LAPZLSMQBZCPADR3OEJ3GAIW3KGUQ confirmed in round 107002.\n",
      "Alice's algo balance:  20052208288652  algos\n"
     ]
    }
   ],
   "source": [
    "setup_trading_app(\n",
    "    client=client,\n",
    "    app_id=appID,\n",
    "    funder=creator,\n",
    "    token_id=asset_id,\n",
    ")\n",
    "\n",
    "sellerAlgosBefore = get_balances(client, seller.get_address())[0]\n",
    "print(\"Alice's algo balance: \", sellerAlgosBefore, \" algos\")"
   ]
  },
  {
   "cell_type": "code",
   "execution_count": 9,
   "metadata": {},
   "outputs": [
    {
     "name": "stdout",
     "output_type": "stream",
     "text": [
      "The smart contract now holds the following: {0: 335500, 499: 0}\n"
     ]
    }
   ],
   "source": [
    "sleep(5)\n",
    "actualAppBalancesBefore = get_balances(client, get_application_address(appID))\n",
    "print(\"The smart contract now holds the following:\", actualAppBalancesBefore)"
   ]
  },
  {
   "cell_type": "code",
   "execution_count": 10,
   "metadata": {},
   "outputs": [
    {
     "name": "stdout",
     "output_type": "stream",
     "text": [
      "Carla wants to bid on token, her algo balance:  10023975331955  algos\n",
      "Carla is placing bid for:  1000000  algos\n"
     ]
    }
   ],
   "source": [
    "bidPrice = price\n",
    "bidderAlgosBefore = get_balances(client, bidder.get_address())[0]\n",
    "print(\"Carla wants to bid on token, her algo balance: \", bidderAlgosBefore, \" algos\")\n",
    "print(\"Carla is placing bid for: \", bidPrice, \" algos\")"
   ]
  },
  {
   "cell_type": "code",
   "execution_count": 11,
   "metadata": {},
   "outputs": [
    {
     "name": "stdout",
     "output_type": "stream",
     "text": [
      "store_app_id 1906\n",
      "new address: 6VRMOIJJ3RAJLA3FZO2HIU4KLCXTIPA55JR4XQK7VV5CS2SEZYE44ZOYG4\n",
      "new private_key: DdO7mqeTsCHaPFXxHaZ7FEA6h9GscSNqNaokkNkS+bv1YschKdxAlYNly7R0U4pYrzQ8Hepjy8FfrXopakTOCQ==\n",
      "new passphrase: giant urban snap denial gentle mask traffic festival sail observe differ access innocent gift grief immune dutch stick fence across rebel dwarf thank absent clean\n",
      "Waiting for confirmation...\n",
      "Transaction VMREMODXSWYIQWQIIGM6CQ4GTWQQHIZKLKYLCMY2Y2VYJ6LDB42A confirmed in round 107005.\n",
      "Waiting for confirmation...\n",
      "Transaction JZL7LXR6I3SBWIO7VC4NRAMTEBIXOYSJXK4JXFILG46SOG36R7XQ confirmed in round 107007.\n",
      "Waiting for confirmation...\n",
      "Transaction RD2UEVQI7ZOUQABDFCHLXXUQ5227XNU6T7DJVKAITAHKPHN7VQ6Q confirmed in round 107009.\n",
      "obj {'LOUBIMVHXMWMJNC4ZBKTIQTGNLF36EIXTEVBD7BUHDMIXKSMKQRNIPMQ6I': {'FOWXDCFQJKY3ISR7A5ZC2K5QEA5EYOJYCML55JWZVZYWWKQSUD6UFWIWKU': 1}, 'X7PMCPPRD2T35ZZRTPETYK53G5YWBKUNONVDY52WODP3N3YM7NGEF5HGWU': {'FOWXDCFQJKY3ISR7A5ZC2K5QEA5EYOJYCML55JWZVZYWWKQSUD6UFWIWKU': 1, 'OZPWYTPI547K62IA6F55NCRKQPZRQP2EJQQFBK4ENELNGOFPQQXXSVNMWM': 1, 'CKTCUB4FJ63T34TTBFKZ424SMM227HVZPCFOVBISYSUNCQOOBJBI776HFY': 1, 'K6HDOAXSH5DIQLIHUNKLHNYFTM67G4CJVEPI5MG2Q5G6HL3NTLRI25FHNE': 1, 'P56N7L4RA4QDDZSV4D6EUMZNWKNVOJ7WLRK4KWWQMHACH5UHZ4UIZXF3II': 1, '55R3M5TXP4I6BZ3ITZD7Q4Y2X4O2PMJUD5R665P3FDEQK7673BRXXKTZ5A': 1, 'PCONPWZT4WA4H7HLV4FPAYCY2X5HAM66JTEWFVYWYNVWUMWCSUEX6GXW4Y': 1, 'XGI4ERV7PI5B3WS7YOQKLJV7ORQZVCVTDTHKF7U5ZCLNITEYOYHETKMZJA': 1, 'VN45YQ67CYIS2NUCPHAG66BSVAWCWS3PLS3W5IKACXYOV536DX6PKDZGZY': 1, 'HLEQ4AAIO3UGH4KKNQS6FO73OJGNVHR7EDAMAJJK6WFT6QACKYPYAEBDGI': 1, 'KQZH4ADOGTXEZ2DUHLBG7CTN7PXGDSWIAK3P4AKUWUHUTFV2IYK5V64KME': 1, 'NMRPWY4BWIVQRSSK2LY2AEE4CMYIRFYG2SQNHDWQBF7F2VJWW5C2FXNK3U': 1}, 'Y4QR7LETUXJQVSPRKOJ5VFDR2GRO3MTSLJ4CLSIPJ5YN33Z3Z7HDT6JLYM': {'HQ65V4UBXPPHHZFDZNXYMRDNDMRGZJJGALMBSWGJML6BU5BCGRCVTLJIU4': 1, '46BGLWLH5FLZBZX7JXDPLGO5E4SJJ4LYK7YBTTEISVZ2VLK5LI2DDBFM24': 1, '66SAHH5ANRQMC2CVR34VQYGF2ZBMEPW5PWBZOFJAST23CPRWJFBPE2F64Y': 1, 'ZX3645GVKYBZFNR4F23EMBQ7Y7MEU64WK2PSCQL2XO2RAJU4FJTQYWEFHQ': 1, 'JMT2PVNGNK7VHTTZX22IWEFVFYGKQDQ2FG7UUWZAZGYGXX5ZX3DE4POSGQ': 1, '42LNDMDHLBYAEADTZD6TH6EAHIVBYSUL7DEL4KF5RGYYYECIWYF5OCYWKE': 1, 'PIGZM2H446LN4OWQYVSMIWSEPFYX7TD6OMF7FB52WH5DYYK3U65UJCAW7I': 1}}\n",
      "token_txn: {'sender': 'Y4QR7LETUXJQVSPRKOJ5VFDR2GRO3MTSLJ4CLSIPJ5YN33Z3Z7HDT6JLYM', 'fee': 1000, 'first_valid_round': 107003, 'last_valid_round': 108003, 'note': None, 'genesis_id': 'sandnet-v1', 'genesis_hash': 'S46yr60YjyJzK3Fk0J8V7mzMIOSxovaXAVqCHlwPl1A=', 'group': None, 'lease': None, 'type': 'axfer', 'rekey_to': None, 'receiver': 'BXKJQG6JX4OIPRHL7S2O7PVRRKM2TT7PEDBLJOFZYGDBQKFDADG4ML27HU', 'amount': 10, 'index': 499, 'close_assets_to': None, 'revocation_target': None}\n",
      "Waiting for confirmation...\n",
      "Transaction BWHECQ3CX5QOVBI6XTTFAZESOCH3DBMJ4RVDKDFXY72NYEKTDL6Q confirmed in round 107011.\n",
      "Carla bid 6VRMOIJJ3RAJLA3FZO2HIU4KLCXTIPA55JR4XQK7VV5CS2SEZYE44ZOYG4\n"
     ]
    }
   ],
   "source": [
    "trading_index = place_trade(client=client, app_id=appID, seller=seller, token_id=asset_id, token_amount=10, price=bidPrice, trading_index=\"\")\n",
    "\n",
    "print(\"Carla bid\", trading_index)"
   ]
  },
  {
   "cell_type": "code",
   "execution_count": 12,
   "metadata": {},
   "outputs": [
    {
     "name": "stdout",
     "output_type": "stream",
     "text": [
      "Waiting for confirmation...\n",
      "Transaction EYLHDO7HMU4F7KXHFOEAPRSO3ZVWR77C3R6WL34GCUWA56KT4BUQ confirmed in round 107013.\n",
      "Carla cancel trading 6VRMOIJJ3RAJLA3FZO2HIU4KLCXTIPA55JR4XQK7VV5CS2SEZYE44ZOYG4\n"
     ]
    }
   ],
   "source": [
    "# account_info = client.account_info(bidder.get_address())  \n",
    "# print(account_info.get('apps-local-state', []))\n",
    "# print(is_opted_in_app(client, appID, bidder.get_address()))\n",
    "\n",
    "cancel_trade(client, appID, seller, trading_index)\n",
    "print(\"Carla cancel trading\", trading_index)"
   ]
  },
  {
   "cell_type": "code",
   "execution_count": 13,
   "metadata": {},
   "outputs": [
    {
     "name": "stdout",
     "output_type": "stream",
     "text": [
      "store_app_id 1906\n",
      "new address: 7H2374LYBHFGWKZP2753RGRPEH7RIECON3QVQUAQYL64YWB4GWR2EBJR2A\n",
      "new private_key: 1PozJzI2Us8+od2iqeyJLskNlqA4nRJVDCIrSdzI64j59b/xeAnKaysv1/u4mi8h/xQQTm7hWFAQwv3MWDw1ow==\n",
      "new passphrase: fold soup bean glimpse piece record antique tank crowd razor eager napkin breeze cereal shallow outdoor pelican course much naive review vendor elder above volume\n",
      "Waiting for confirmation...\n",
      "Transaction 7H7G3TQGL5YYEBJR7YX5BDJDI6RHDY3YQTG5KRWQSXA5PYCSPXQA confirmed in round 107015.\n",
      "Waiting for confirmation...\n",
      "Transaction I4PG63MF2ECSUHMK25UPRNHSMNXRLNVRF54XZLSLPDRGIS5DIABQ confirmed in round 107017.\n",
      "Waiting for confirmation...\n",
      "Transaction 5XPXJW2DGNSUIAPPXJL4FKFABNRDKCYGDNIJYRPKVRDF42IWO7EA confirmed in round 107019.\n",
      "obj {'LOUBIMVHXMWMJNC4ZBKTIQTGNLF36EIXTEVBD7BUHDMIXKSMKQRNIPMQ6I': {'FOWXDCFQJKY3ISR7A5ZC2K5QEA5EYOJYCML55JWZVZYWWKQSUD6UFWIWKU': 1}, 'X7PMCPPRD2T35ZZRTPETYK53G5YWBKUNONVDY52WODP3N3YM7NGEF5HGWU': {'FOWXDCFQJKY3ISR7A5ZC2K5QEA5EYOJYCML55JWZVZYWWKQSUD6UFWIWKU': 1, 'OZPWYTPI547K62IA6F55NCRKQPZRQP2EJQQFBK4ENELNGOFPQQXXSVNMWM': 1, 'CKTCUB4FJ63T34TTBFKZ424SMM227HVZPCFOVBISYSUNCQOOBJBI776HFY': 1, 'K6HDOAXSH5DIQLIHUNKLHNYFTM67G4CJVEPI5MG2Q5G6HL3NTLRI25FHNE': 1, 'P56N7L4RA4QDDZSV4D6EUMZNWKNVOJ7WLRK4KWWQMHACH5UHZ4UIZXF3II': 1, '55R3M5TXP4I6BZ3ITZD7Q4Y2X4O2PMJUD5R665P3FDEQK7673BRXXKTZ5A': 1, 'PCONPWZT4WA4H7HLV4FPAYCY2X5HAM66JTEWFVYWYNVWUMWCSUEX6GXW4Y': 1, 'XGI4ERV7PI5B3WS7YOQKLJV7ORQZVCVTDTHKF7U5ZCLNITEYOYHETKMZJA': 1, 'VN45YQ67CYIS2NUCPHAG66BSVAWCWS3PLS3W5IKACXYOV536DX6PKDZGZY': 1, 'HLEQ4AAIO3UGH4KKNQS6FO73OJGNVHR7EDAMAJJK6WFT6QACKYPYAEBDGI': 1, 'KQZH4ADOGTXEZ2DUHLBG7CTN7PXGDSWIAK3P4AKUWUHUTFV2IYK5V64KME': 1, 'NMRPWY4BWIVQRSSK2LY2AEE4CMYIRFYG2SQNHDWQBF7F2VJWW5C2FXNK3U': 1}, 'Y4QR7LETUXJQVSPRKOJ5VFDR2GRO3MTSLJ4CLSIPJ5YN33Z3Z7HDT6JLYM': {'HQ65V4UBXPPHHZFDZNXYMRDNDMRGZJJGALMBSWGJML6BU5BCGRCVTLJIU4': 1, '46BGLWLH5FLZBZX7JXDPLGO5E4SJJ4LYK7YBTTEISVZ2VLK5LI2DDBFM24': 1, '66SAHH5ANRQMC2CVR34VQYGF2ZBMEPW5PWBZOFJAST23CPRWJFBPE2F64Y': 1, 'ZX3645GVKYBZFNR4F23EMBQ7Y7MEU64WK2PSCQL2XO2RAJU4FJTQYWEFHQ': 1, 'JMT2PVNGNK7VHTTZX22IWEFVFYGKQDQ2FG7UUWZAZGYGXX5ZX3DE4POSGQ': 1, '42LNDMDHLBYAEADTZD6TH6EAHIVBYSUL7DEL4KF5RGYYYECIWYF5OCYWKE': 1, 'PIGZM2H446LN4OWQYVSMIWSEPFYX7TD6OMF7FB52WH5DYYK3U65UJCAW7I': 1, '6VRMOIJJ3RAJLA3FZO2HIU4KLCXTIPA55JR4XQK7VV5CS2SEZYE44ZOYG4': 1}}\n",
      "token_txn: {'sender': 'Y4QR7LETUXJQVSPRKOJ5VFDR2GRO3MTSLJ4CLSIPJ5YN33Z3Z7HDT6JLYM', 'fee': 1000, 'first_valid_round': 107013, 'last_valid_round': 108013, 'note': None, 'genesis_id': 'sandnet-v1', 'genesis_hash': 'S46yr60YjyJzK3Fk0J8V7mzMIOSxovaXAVqCHlwPl1A=', 'group': None, 'lease': None, 'type': 'axfer', 'rekey_to': None, 'receiver': 'BXKJQG6JX4OIPRHL7S2O7PVRRKM2TT7PEDBLJOFZYGDBQKFDADG4ML27HU', 'amount': 10, 'index': 499, 'close_assets_to': None, 'revocation_target': None}\n",
      "Waiting for confirmation...\n",
      "Transaction A4524NDL5OR4XP75TKPYNZ2LKEKYBKILVFHYBUU6QWF2OFDCYF7Q confirmed in round 107021.\n",
      "store_app_id 1906\n",
      "token_txn: {'sender': 'Y4QR7LETUXJQVSPRKOJ5VFDR2GRO3MTSLJ4CLSIPJ5YN33Z3Z7HDT6JLYM', 'fee': 1000, 'first_valid_round': 107021, 'last_valid_round': 108021, 'note': None, 'genesis_id': 'sandnet-v1', 'genesis_hash': 'S46yr60YjyJzK3Fk0J8V7mzMIOSxovaXAVqCHlwPl1A=', 'group': None, 'lease': None, 'type': 'axfer', 'rekey_to': None, 'receiver': 'BXKJQG6JX4OIPRHL7S2O7PVRRKM2TT7PEDBLJOFZYGDBQKFDADG4ML27HU', 'amount': 15, 'index': 499, 'close_assets_to': None, 'revocation_target': None}\n",
      "Waiting for confirmation...\n",
      "Transaction P4AIWFO3J3E3VAPKWZXO2T3TMWYN5KDNHJ4JQRADLAAOYLVJRAJQ confirmed in round 107023.\n"
     ]
    },
    {
     "data": {
      "text/plain": [
       "'7H2374LYBHFGWKZP2753RGRPEH7RIECON3QVQUAQYL64YWB4GWR2EBJR2A'"
      ]
     },
     "execution_count": 13,
     "metadata": {},
     "output_type": "execute_result"
    }
   ],
   "source": [
    "trading_index = place_trade(client=client, app_id=appID, seller=seller, token_id=asset_id, token_amount=10, price=bidPrice, trading_index=\"\")\n",
    "\n",
    "place_trade(client=client, app_id=appID, seller=seller, token_id=asset_id, token_amount=15, price=bidPrice, trading_index=trading_index)"
   ]
  },
  {
   "cell_type": "code",
   "execution_count": 14,
   "metadata": {},
   "outputs": [
    {
     "name": "stdout",
     "output_type": "stream",
     "text": [
      "token_amount 15\n",
      "price 1000000\n",
      "Waiting for confirmation...\n",
      "Transaction E6A7QU57FRJORD7MKHXDTLJICA75A2NMORFCR65OJ77NLDZAPAOA confirmed in round 107025.\n"
     ]
    },
    {
     "data": {
      "text/plain": [
       "True"
      ]
     },
     "execution_count": 14,
     "metadata": {},
     "output_type": "execute_result"
    }
   ],
   "source": [
    "place_accept(client, creator, appID, bidder, seller.get_address(), trading_index)"
   ]
  },
  {
   "cell_type": "markdown",
   "metadata": {},
   "source": [
    "Alice is closing out the auction...."
   ]
  },
  {
   "cell_type": "code",
   "execution_count": 15,
   "metadata": {},
   "outputs": [
    {
     "name": "stdout",
     "output_type": "stream",
     "text": [
      "b'assets' [499]\n",
      "b'accounts' ['4TT75274EBUAF46CITUL6HQQ4C4D3GO7GEOVRZSQZ35VXSGRVHJ376GD64', 'UCAX3M5HS7PWWLB6HDCM2O7JE4HC3RGBPNWFRP4SYU62ZS5NSS2GFOKIOU']\n",
      "Waiting for confirmation...\n",
      "Transaction ALRPGMFJMLGYGRLZTEVVNGDGO667ALWWTHS5FD4KVIUEW3NEWBKA confirmed in round 107028.\n"
     ]
    }
   ],
   "source": [
    "sleep(5)\n",
    "\n",
    "close_trading(client, appID, creator, [asset_id])"
   ]
  },
  {
   "cell_type": "code",
   "execution_count": 16,
   "metadata": {},
   "outputs": [
    {
     "name": "stdout",
     "output_type": "stream",
     "text": [
      "The smart contract now holds the following: {0: 335500, 499: 0}\n"
     ]
    }
   ],
   "source": [
    "actualAppBalances = get_balances(client, get_application_address(appID))\n",
    "expectedAppBalances = {0: 0}\n",
    "print(\"The smart contract now holds the following:\", actualAppBalances)\n",
    "\n",
    "#assert actualAppBalances == expectedAppBalances"
   ]
  },
  {
   "cell_type": "code",
   "execution_count": 17,
   "metadata": {},
   "outputs": [
    {
     "name": "stdout",
     "output_type": "stream",
     "text": [
      "Carla's NFT balance: 105  for token ID:  499\n"
     ]
    },
    {
     "ename": "AssertionError",
     "evalue": "",
     "output_type": "error",
     "traceback": [
      "\u001b[0;31m---------------------------------------------------------------------------\u001b[0m",
      "\u001b[0;31mAssertionError\u001b[0m                            Traceback (most recent call last)",
      "\u001b[0;32m/var/folders/3k/5_sd8_ms50n24wv9pqsdmpcr0000gn/T/ipykernel_26765/2424968205.py\u001b[0m in \u001b[0;36m<module>\u001b[0;34m\u001b[0m\n\u001b[1;32m      3\u001b[0m \u001b[0mprint\u001b[0m\u001b[0;34m(\u001b[0m\u001b[0;34m\"Carla's NFT balance:\"\u001b[0m\u001b[0;34m,\u001b[0m \u001b[0mbidderNftBalance\u001b[0m\u001b[0;34m,\u001b[0m \u001b[0;34m\" for token ID: \"\u001b[0m\u001b[0;34m,\u001b[0m \u001b[0masset_id\u001b[0m\u001b[0;34m)\u001b[0m\u001b[0;34m\u001b[0m\u001b[0;34m\u001b[0m\u001b[0m\n\u001b[1;32m      4\u001b[0m \u001b[0;34m\u001b[0m\u001b[0m\n\u001b[0;32m----> 5\u001b[0;31m \u001b[0;32massert\u001b[0m \u001b[0mbidderNftBalance\u001b[0m \u001b[0;34m==\u001b[0m \u001b[0;36m1\u001b[0m\u001b[0;34m\u001b[0m\u001b[0;34m\u001b[0m\u001b[0m\n\u001b[0m\u001b[1;32m      6\u001b[0m \u001b[0;34m\u001b[0m\u001b[0m\n\u001b[1;32m      7\u001b[0m \u001b[0mactualSellerBalances\u001b[0m \u001b[0;34m=\u001b[0m \u001b[0mget_balances\u001b[0m\u001b[0;34m(\u001b[0m\u001b[0mclient\u001b[0m\u001b[0;34m,\u001b[0m \u001b[0mseller\u001b[0m\u001b[0;34m.\u001b[0m\u001b[0mget_address\u001b[0m\u001b[0;34m(\u001b[0m\u001b[0;34m)\u001b[0m\u001b[0;34m)\u001b[0m\u001b[0;34m\u001b[0m\u001b[0;34m\u001b[0m\u001b[0m\n",
      "\u001b[0;31mAssertionError\u001b[0m: "
     ]
    }
   ],
   "source": [
    "bidderNftBalance = get_balances(client, bidder.get_address())[asset_id]\n",
    "\n",
    "print(\"Carla's NFT balance:\", bidderNftBalance, \" for token ID: \", asset_id)\n",
    "\n",
    "assert bidderNftBalance == 1\n",
    "\n",
    "actualSellerBalances = get_balances(client, seller.get_address())\n",
    "print(\"Alice's balances after auction: \", actualSellerBalances, \" Algos\")\n",
    "\n",
    "actualBidderBalances = get_balances(client, bidder.get_address())\n",
    "print(\"Carla's balances after auction: \", actualBidderBalances, \" Algos\")\n",
    "# assert len(actualSellerBalances) == 2\n",
    "# seller should receive the bid amount, minus the txn fee\n",
    "assert actualSellerBalances[0] >= sellerAlgosBefore + bidPrice - 1_000\n",
    "assert actualSellerBalances[asset_id] == 0"
   ]
  },
  {
   "cell_type": "code",
   "execution_count": 19,
   "metadata": {},
   "outputs": [
    {
     "name": "stdout",
     "output_type": "stream",
     "text": [
      "{b'TBA': 0, b'TSA': 0}\n",
      "{b'SA': 10000000}\n",
      "{b'BA': 10000000}\n"
     ]
    }
   ],
   "source": [
    "app_global_state = get_app_global_state(client, storeAppID)\n",
    "print(app_global_state)\n",
    "seller_app_local_state = get_app_local_state(client, storeAppID, seller.get_address())\n",
    "print(seller_app_local_state)\n",
    "bidder_app_local_state = get_app_local_state(client, storeAppID, bidder.get_address())\n",
    "print(bidder_app_local_state)\n",
    "# print(encoding.encode_address(app_global_state[b\"AS\"]))\n",
    "# print(encoding.encode_address(app_global_state[b\"S\"]))\n",
    "#print(encoding.encode_address(storeAppState[b\"C\"]))"
   ]
  }
 ],
 "metadata": {
  "interpreter": {
   "hash": "d8d32039960e27bf02cc380478024df65258985d3f6246b5f3627ebac0bfeee0"
  },
  "kernelspec": {
   "display_name": "Python 3.8.10 64-bit ('venv': venv)",
   "language": "python",
   "name": "python3"
  },
  "language_info": {
   "codemirror_mode": {
    "name": "ipython",
    "version": 3
   },
   "file_extension": ".py",
   "mimetype": "text/x-python",
   "name": "python",
   "nbconvert_exporter": "python",
   "pygments_lexer": "ipython3",
   "version": "3.9.9"
  },
  "orig_nbformat": 4
 },
 "nbformat": 4,
 "nbformat_minor": 2
}

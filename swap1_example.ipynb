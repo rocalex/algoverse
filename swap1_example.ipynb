{
 "cells": [
  {
   "cell_type": "code",
   "execution_count": 1,
   "metadata": {},
   "outputs": [],
   "source": [
    "import os\n",
    "\n",
    "import dotenv\n",
    "\n",
    "from time import time, sleep\n",
    "from algosdk.future import transaction\n",
    "from algosdk.logic import get_application_address\n",
    "\n",
    "from swap.operations import create_swap_app, place_swap, cancel_swap, accept_swap, close_swap\n",
    "from utils import *\n",
    "from account import Account"
   ]
  },
  {
   "cell_type": "code",
   "execution_count": 2,
   "metadata": {},
   "outputs": [],
   "source": [
    "dotenv.load_dotenv('.env')\n",
    "\n",
    "client = get_algod_client(os.environ.get('ALGOD_URL'), os.environ.get('ALGOD_TOKEN'))"
   ]
  },
  {
   "cell_type": "code",
   "execution_count": 3,
   "metadata": {},
   "outputs": [
    {
     "name": "stdout",
     "output_type": "stream",
     "text": [
      "Creator address: 4TT75274EBUAF46CITUL6HQQ4C4D3GO7GEOVRZSQZ35VXSGRVHJ376GD64\n",
      "Bidder address: X7PMCPPRD2T35ZZRTPETYK53G5YWBKUNONVDY52WODP3N3YM7NGEF5HGWU\n",
      "Seller Address: CN4EQ6QXFCDLR2ATDTRJMMFGLXSUS5TMLGLO7FJDBQRQGFUXTUA4LBVEIA\n"
     ]
    }
   ],
   "source": [
    "creator = Account.from_mnemonic(os.environ.get('CREATOR_MN'))\n",
    "bidder = Account.from_mnemonic(os.environ.get('BUYER_MN'))\n",
    "seller = Account.from_mnemonic(os.environ.get('SELLER_MN'))\n",
    "\n",
    "print(f\"Creator address: {creator.get_address()}\")\n",
    "print(f\"Bidder address: {bidder.get_address()}\")\n",
    "print(f\"Seller Address: {seller.get_address()}\")"
   ]
  },
  {
   "cell_type": "markdown",
   "metadata": {},
   "source": [
    "Alice is generating an example token..."
   ]
  },
  {
   "cell_type": "code",
   "execution_count": 4,
   "metadata": {},
   "outputs": [
    {
     "name": "stdout",
     "output_type": "stream",
     "text": [
      "The token id is: 2989\n",
      "The token2 id is: 3559\n"
     ]
    }
   ],
   "source": [
    "asset1_id = int(os.environ.get(\"TOKEN_ID\"))\n",
    "asset2_id = int(os.environ.get(\"TOKEN2_ID\"))\n",
    "print(f\"The token id is: {asset1_id}\")\n",
    "print(f\"The token2 id is: {asset2_id}\")"
   ]
  },
  {
   "cell_type": "markdown",
   "metadata": {},
   "source": [
    "\"Alice is creating auction smart contract that lasts 30 seconds to auction off token...\""
   ]
  },
  {
   "cell_type": "code",
   "execution_count": 5,
   "metadata": {},
   "outputs": [],
   "source": [
    "deleteApps(client, [], creator)"
   ]
  },
  {
   "cell_type": "code",
   "execution_count": 6,
   "metadata": {},
   "outputs": [
    {
     "name": "stdout",
     "output_type": "stream",
     "text": [
      "Waiting for confirmation...\n",
      "Transaction P3LV2MM7TIBG6RF73IJPKPQ3HLYPEZJMBTPA76XFNYDNRGWL575Q confirmed in round 145439.\n",
      "Waiting for confirmation...\n",
      "Transaction 7O5XN77263P3R5JSVEGICYA34QXLIICTM3G2RELL4ZNZXONGKSHQ confirmed in round 145441.\n",
      "App ID: 3919\n",
      "App Address: GXTGO46CMJGIZ4FVU22LQPOE6A5QEQDQQETKWYLHAID7PQW6RGV5S6TADA\n"
     ]
    }
   ],
   "source": [
    "\n",
    "appID = create_swap_app(\n",
    "    client=client,\n",
    "    creator=creator\n",
    ")\n",
    "print(f\"App ID: {appID}\")\n",
    "print(f\"App Address: {get_application_address(appID)}\")"
   ]
  },
  {
   "cell_type": "markdown",
   "metadata": {},
   "source": [
    "Alice is setting up and funding token auction..."
   ]
  },
  {
   "cell_type": "code",
   "execution_count": 7,
   "metadata": {},
   "outputs": [
    {
     "name": "stdout",
     "output_type": "stream",
     "text": [
      "Alice's asset1 balance:  49999999868200\n",
      "Alice's asset2 balance:  60000\n",
      "Carla's asset1 balance:  50000000030000\n",
      "Carla's asset2 balance:  49999999940000\n"
     ]
    }
   ],
   "source": [
    "sellerAsset1BalanceBefore = get_balances(client, seller.get_address())[asset1_id]\n",
    "print(\"Alice's asset1 balance: \", sellerAsset1BalanceBefore)\n",
    "\n",
    "sellerAsset2BalanceBefore = get_balances(client, seller.get_address())[asset2_id]\n",
    "print(\"Alice's asset2 balance: \", sellerAsset2BalanceBefore)\n",
    "\n",
    "bidderAsset1BalanceBefore = get_balances(client, bidder.get_address())[asset1_id]\n",
    "print(\"Carla's asset1 balance: \", bidderAsset1BalanceBefore)\n",
    "\n",
    "bidderAsset2BalanceBefore = get_balances(client, bidder.get_address())[asset2_id]\n",
    "print(\"Carla's asset2 balance: \", bidderAsset2BalanceBefore)"
   ]
  },
  {
   "cell_type": "code",
   "execution_count": 8,
   "metadata": {},
   "outputs": [
    {
     "name": "stdout",
     "output_type": "stream",
     "text": [
      "The smart contract now holds the following: {0: 100000}\n"
     ]
    }
   ],
   "source": [
    "actualAppBalancesBefore = get_balances(client, get_application_address(appID))\n",
    "print(\"The smart contract now holds the following:\", actualAppBalancesBefore)"
   ]
  },
  {
   "cell_type": "code",
   "execution_count": 9,
   "metadata": {},
   "outputs": [],
   "source": [
    "offeringAmount = 10_000\n",
    "acceptingAmount = 20_000\n"
   ]
  },
  {
   "cell_type": "code",
   "execution_count": 10,
   "metadata": {},
   "outputs": [
    {
     "name": "stdout",
     "output_type": "stream",
     "text": [
      "Waiting for confirmation...\n",
      "Transaction HGM5OLVK5JTCKO5ZBD5JJBQ7TVDYDG4DATBQBQO5XDFDLXJZXZTA confirmed in round 145443.\n",
      "new address: CKS5KSBRTNINH6C7P35NXKSMGY3FHTVFE2TDSXUICW6RMJ76CQAISM7L7Y\n",
      "new private_key: 6wRbeW750I8+51jDDRQ9nmaTgmfuGzo2JTyIDAyoU5USpdVIMZtQ0/hffvrbqkw2NlPOpSamOV6IFb0WJ/4UAA==\n",
      "new passphrase: output hire device notice peanut physical delay flight reveal expand burden hazard chat thing industry brief shrug network bulk silk blossom tube pride above jacket\n",
      "Waiting for confirmation...\n",
      "Transaction OI7WHWZCKB3VAQXYAWQPHULA2ETVKWSP6KQGY4XKCXWQWSWHGQAA confirmed in round 145445.\n",
      "Waiting for confirmation...\n",
      "Transaction 3MG6X7UBB2VXGOALZSY5WIFPWPYCXUHXHJSCXZD6UCSO2L76GMJA confirmed in round 145447.\n",
      "Waiting for confirmation...\n",
      "Transaction UFZAIQPWTVFNNXSM6SVGMMQSY6RSNUXXNB5XBIJNH6KOUF6VUMZQ confirmed in round 145449.\n",
      "token_txn: {'sender': 'CN4EQ6QXFCDLR2ATDTRJMMFGLXSUS5TMLGLO7FJDBQRQGFUXTUA4LBVEIA', 'fee': 1000, 'first_valid_round': 145441, 'last_valid_round': 146441, 'note': None, 'genesis_id': 'sandnet-v1', 'genesis_hash': 'S46yr60YjyJzK3Fk0J8V7mzMIOSxovaXAVqCHlwPl1A=', 'group': None, 'lease': None, 'type': 'axfer', 'rekey_to': None, 'receiver': 'GXTGO46CMJGIZ4FVU22LQPOE6A5QEQDQQETKWYLHAID7PQW6RGV5S6TADA', 'amount': 10000, 'index': 2989, 'close_assets_to': None, 'revocation_target': None}\n",
      "tokens 2\n",
      "Waiting for confirmation...\n",
      "Transaction PGB2SHOBKCDXZNKWNXWBHM3PX4PDMCI7M3K57JVMKDOGONGF4GOQ confirmed in round 145451.\n",
      "Carla wants to swap on asset1  10000  to asset2  20000\n",
      "Carla bid CKS5KSBRTNINH6C7P35NXKSMGY3FHTVFE2TDSXUICW6RMJ76CQAISM7L7Y\n"
     ]
    }
   ],
   "source": [
    "\n",
    "swap_index = place_swap(client=client, app_id=appID, offer=seller, offering_token_id=asset1_id, offering_token_amount=offeringAmount, accepting_token_id=asset2_id, accepting_token_amount=acceptingAmount, swap_index=\"\")\n",
    "print(\"Carla wants to swap on asset1 \", offeringAmount, \" to asset2 \", acceptingAmount)\n",
    "print(\"Carla bid\", swap_index)"
   ]
  },
  {
   "cell_type": "code",
   "execution_count": 11,
   "metadata": {},
   "outputs": [
    {
     "name": "stdout",
     "output_type": "stream",
     "text": [
      "Waiting for confirmation...\n",
      "Transaction IGEYCFOAIYSEGQPBPDYR5OD756QZUZLI2SSE4U4ZKNWMAQ7WDK2A confirmed in round 145453.\n",
      "Carla cancel swap CKS5KSBRTNINH6C7P35NXKSMGY3FHTVFE2TDSXUICW6RMJ76CQAISM7L7Y\n"
     ]
    }
   ],
   "source": [
    "# account_info = client.account_info(bidder.get_address())  \n",
    "# print(account_info.get('apps-local-state', []))\n",
    "# print(is_opted_in_app(client, appID, bidder.get_address()))\n",
    "\n",
    "cancel_swap(client, appID, seller, swap_index)\n",
    "print(\"Carla cancel swap\", swap_index)"
   ]
  },
  {
   "cell_type": "code",
   "execution_count": 12,
   "metadata": {},
   "outputs": [
    {
     "name": "stdout",
     "output_type": "stream",
     "text": [
      "new address: FKSZ6WXD3BIEPRRV4YK4QNZGPAF67WMSXPSA5APA6PTBTLKGPMKA5HZZLU\n",
      "new private_key: wxhgJMRFxEGfbzAjlRSBF7Bmzj9m9k0l6xBzK/gEOXMqpZ9a49hQR8Y15hXINyZ4C+/ZkrvkDoHg8+YZrUZ7FA==\n",
      "new passphrase: blur lesson banana fox mass spare language corn piece false scene accident sniff vicious cradle wait predict prosper mask rescue utility donkey oil about humble\n",
      "Waiting for confirmation...\n",
      "Transaction 5BC27GSKD3WK65P4NRURC2V5FR45O4TNEXRZXTRAEZVKU35QFUBQ confirmed in round 145455.\n",
      "Waiting for confirmation...\n",
      "Transaction R64QB7EYGUXPVEUNTCF7ANBQVYZJLFA372FR6WARGCBZPA7MXOBA confirmed in round 145457.\n",
      "Waiting for confirmation...\n",
      "Transaction RUDESPUW5HLETBBLMX7S2U44A47EPRFWPPCC3BLNUMZNIE7H3LMA confirmed in round 145459.\n",
      "token_txn: {'sender': 'CN4EQ6QXFCDLR2ATDTRJMMFGLXSUS5TMLGLO7FJDBQRQGFUXTUA4LBVEIA', 'fee': 1000, 'first_valid_round': 145453, 'last_valid_round': 146453, 'note': None, 'genesis_id': 'sandnet-v1', 'genesis_hash': 'S46yr60YjyJzK3Fk0J8V7mzMIOSxovaXAVqCHlwPl1A=', 'group': None, 'lease': None, 'type': 'axfer', 'rekey_to': None, 'receiver': 'GXTGO46CMJGIZ4FVU22LQPOE6A5QEQDQQETKWYLHAID7PQW6RGV5S6TADA', 'amount': 10000, 'index': 2989, 'close_assets_to': None, 'revocation_target': None}\n",
      "tokens 2\n",
      "Waiting for confirmation...\n",
      "Transaction R7PLMZQFQXZW4OPPCVKNXYEYC35LTBKLKGR2ABUIU35IHLUOQY4A confirmed in round 145461.\n",
      "token_txn: {'sender': 'CN4EQ6QXFCDLR2ATDTRJMMFGLXSUS5TMLGLO7FJDBQRQGFUXTUA4LBVEIA', 'fee': 1000, 'first_valid_round': 145461, 'last_valid_round': 146461, 'note': None, 'genesis_id': 'sandnet-v1', 'genesis_hash': 'S46yr60YjyJzK3Fk0J8V7mzMIOSxovaXAVqCHlwPl1A=', 'group': None, 'lease': None, 'type': 'axfer', 'rekey_to': None, 'receiver': 'GXTGO46CMJGIZ4FVU22LQPOE6A5QEQDQQETKWYLHAID7PQW6RGV5S6TADA', 'amount': 10000, 'index': 2989, 'close_assets_to': None, 'revocation_target': None}\n",
      "tokens 3\n",
      "Waiting for confirmation...\n",
      "Transaction 6MF2HF57XDK2JWTAZGS2N5SXL2STCW4XKXHLAVFCBZDAOENZA5BA confirmed in round 145463.\n"
     ]
    }
   ],
   "source": [
    "swap_index = place_swap(client=client, app_id=appID, offer=seller, offering_token_id=asset1_id, offering_token_amount=offeringAmount, accepting_token_id=asset2_id, accepting_token_amount=acceptingAmount, swap_index=\"\")\n",
    "# replace swap\n",
    "swap_index = place_swap(client=client, app_id=appID, offer=seller, offering_token_id=asset1_id, offering_token_amount=offeringAmount, accepting_token_id=asset2_id, accepting_token_amount=acceptingAmount, swap_index=swap_index)"
   ]
  },
  {
   "cell_type": "code",
   "execution_count": 13,
   "metadata": {},
   "outputs": [
    {
     "name": "stdout",
     "output_type": "stream",
     "text": [
      "offer address CN4EQ6QXFCDLR2ATDTRJMMFGLXSUS5TMLGLO7FJDBQRQGFUXTUA4LBVEIA\n",
      "offering_token_id 2989\n",
      "offering_token_amount 10000\n",
      "accepting_token_id 3559\n",
      "accepting_token_amount 20000\n",
      "Waiting for confirmation...\n",
      "Transaction QYBMOJ5G4XXVD7OJ4Q5S22IVU5PVVD4GGEJUOMEANNWELLBRXI5Q confirmed in round 145465.\n"
     ]
    },
    {
     "data": {
      "text/plain": [
       "True"
      ]
     },
     "execution_count": 13,
     "metadata": {},
     "output_type": "execute_result"
    }
   ],
   "source": [
    "accept_swap(client, appID, bidder, swap_index)"
   ]
  },
  {
   "cell_type": "markdown",
   "metadata": {},
   "source": [
    "Alice is closing out the auction...."
   ]
  },
  {
   "cell_type": "code",
   "execution_count": 14,
   "metadata": {},
   "outputs": [
    {
     "name": "stdout",
     "output_type": "stream",
     "text": [
      "b'assets' [2989, 3559]\n",
      "b'accounts' ['4TT75274EBUAF46CITUL6HQQ4C4D3GO7GEOVRZSQZ35VXSGRVHJ376GD64', 'UCAX3M5HS7PWWLB6HDCM2O7JE4HC3RGBPNWFRP4SYU62ZS5NSS2GFOKIOU']\n",
      "Waiting for confirmation...\n",
      "Transaction UOCGJDS6ST3IGLNIAFURONFCUWJR4XZY7BLS7QZ7AZNQWPUY2K3A confirmed in round 145468.\n"
     ]
    }
   ],
   "source": [
    "sleep(5)\n",
    "\n",
    "close_swap(client, appID, creator, [asset1_id, asset2_id])"
   ]
  },
  {
   "cell_type": "code",
   "execution_count": 15,
   "metadata": {},
   "outputs": [
    {
     "name": "stdout",
     "output_type": "stream",
     "text": [
      "The smart contract now holds the following: {0: 300000, 2989: 0, 3559: 0}\n"
     ]
    }
   ],
   "source": [
    "actualAppBalances = get_balances(client, get_application_address(appID))\n",
    "expectedAppBalances = {0: 0}\n",
    "print(\"The smart contract now holds the following:\", actualAppBalances)\n",
    "\n",
    "#assert actualAppBalances == expectedAppBalances"
   ]
  },
  {
   "cell_type": "code",
   "execution_count": 16,
   "metadata": {},
   "outputs": [
    {
     "name": "stdout",
     "output_type": "stream",
     "text": [
      "Alice's asset1 balance:  49999999858200\n",
      "Alice's asset2 balance:  80000\n",
      "Carla's asset1 balance:  50000000040000\n",
      "Carla's asset2 balance:  49999999920000\n"
     ]
    }
   ],
   "source": [
    "sellerAsset1BalanceAfter = get_balances(client, seller.get_address())[asset1_id]\n",
    "print(\"Alice's asset1 balance: \", sellerAsset1BalanceAfter)\n",
    "\n",
    "sellerAsset2BalanceAfter = get_balances(client, seller.get_address())[asset2_id]\n",
    "print(\"Alice's asset2 balance: \", sellerAsset2BalanceAfter)\n",
    "\n",
    "bidderAsset1BalanceAfter = get_balances(client, bidder.get_address())[asset1_id]\n",
    "print(\"Carla's asset1 balance: \", bidderAsset1BalanceAfter)\n",
    "\n",
    "bidderAsset2BalanceAfter = get_balances(client, bidder.get_address())[asset2_id]\n",
    "print(\"Carla's asset2 balance: \", bidderAsset2BalanceAfter)"
   ]
  }
 ],
 "metadata": {
  "interpreter": {
   "hash": "d8d32039960e27bf02cc380478024df65258985d3f6246b5f3627ebac0bfeee0"
  },
  "kernelspec": {
   "display_name": "Python 3.8.10 64-bit ('venv': venv)",
   "language": "python",
   "name": "python3"
  },
  "language_info": {
   "codemirror_mode": {
    "name": "ipython",
    "version": 3
   },
   "file_extension": ".py",
   "mimetype": "text/x-python",
   "name": "python",
   "nbconvert_exporter": "python",
   "pygments_lexer": "ipython3",
   "version": "3.9.9"
  },
  "orig_nbformat": 4
 },
 "nbformat": 4,
 "nbformat_minor": 2
}

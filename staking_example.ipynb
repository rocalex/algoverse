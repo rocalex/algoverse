{
 "cells": [
  {
   "cell_type": "code",
   "execution_count": 1,
   "metadata": {},
   "outputs": [
    {
     "data": {
      "text/plain": [
       "True"
      ]
     },
     "execution_count": 1,
     "metadata": {},
     "output_type": "execute_result"
    }
   ],
   "source": [
    "import os\n",
    "\n",
    "import dotenv\n",
    "\n",
    "dotenv.load_dotenv('.env')"
   ]
  },
  {
   "cell_type": "code",
   "execution_count": 2,
   "metadata": {},
   "outputs": [
    {
     "name": "stdout",
     "output_type": "stream",
     "text": [
      "Creator's address: FE6UTVPOXD7HCTEYTG27P7KEDZCQFX7ECJANPTI76CMJSKKDQRYFVB4NWM\n",
      "Token ID: 1\n"
     ]
    }
   ],
   "source": [
    "from staking.operations import StakingPool\n",
    "from utils import get_algod_client\n",
    "from account import Account\n",
    "\n",
    "client = get_algod_client(os.environ.get('ALGOD_URL'), os.environ.get('ALGOD_TOKEN'))\n",
    "creator = Account(os.environ.get(\"CREATOR_PK\"))\n",
    "print(f\"Creator's address: {creator.get_address()}\")\n",
    "\n",
    "token_id = int(os.environ.get(\"TOKEN_ID\"))\n",
    "print(f\"Token ID: {token_id}\")\n",
    "\n",
    "pool = StakingPool(client, creator, token_id)"
   ]
  },
  {
   "cell_type": "code",
   "execution_count": 3,
   "metadata": {},
   "outputs": [
    {
     "name": "stdout",
     "output_type": "stream",
     "text": [
      "Waiting for confirmation...\n",
      "Transaction INIYFJ6WTEZNQCK5T5IFZQIXFTQXQPB7UM27PL4BGC3HPUX6ZZRQ confirmed in round 633.\n",
      "App ID: 24\n",
      "App address: NSPP3V5XFPOB7NEVTYVHFZNE3AOUC4FZPDMEHA4XOBYN6OUJZIBVHTUQKI\n",
      "Waiting for confirmation...\n",
      "Transaction 2FWJGYJMVBIAS5MBCCQXVX2ZB547TNSSJLGMA3UNUNM4ZAB5MUWQ confirmed in round 635.\n"
     ]
    }
   ],
   "source": [
    "pool.create_app()"
   ]
  },
  {
   "cell_type": "code",
   "execution_count": 4,
   "metadata": {},
   "outputs": [
    {
     "name": "stdout",
     "output_type": "stream",
     "text": [
      "Waiting for confirmation...\n",
      "Transaction LFRCDSKAPZ5MSIXKJWXMOBK6PFX4HOZY7NROBGVSD6M3MQ7RQNGA confirmed in round 637.\n"
     ]
    }
   ],
   "source": [
    "pool.setup_app()"
   ]
  },
  {
   "cell_type": "code",
   "execution_count": 5,
   "metadata": {},
   "outputs": [
    {
     "name": "stdout",
     "output_type": "stream",
     "text": [
      "Staker's address: GYZIWMWOUMBIUUI3QV3VRWQYVJ5QGMO7CUW4RNMCIZKGJULFOFQFF3MCGA\n",
      "Waiting for confirmation...\n",
      "Transaction CKA4M7FRJDTYZ6GROXV4FHFCRJAVBJVSHKOKNRSP2JLDW3TKKQYQ confirmed in round 639.\n"
     ]
    }
   ],
   "source": [
    "staker = Account(os.environ.get('SELLER_PK'))\n",
    "print(f\"Staker's address: {staker.get_address()}\")\n",
    "\n",
    "if not pool.is_opted_in(staker.get_address()):\n",
    "    pool.optin_app(staker)"
   ]
  },
  {
   "cell_type": "code",
   "execution_count": 6,
   "metadata": {},
   "outputs": [
    {
     "name": "stdout",
     "output_type": "stream",
     "text": [
      "Waiting for confirmation...\n",
      "Transaction IDIHPLNEZG25GDW7L323EOFQUTTYP4FKILYTBTLGU3NPJINSW2IQ confirmed in round 641.\n",
      "Staker's state: {b'TA': 100}\n"
     ]
    }
   ],
   "source": [
    "from utils import get_app_local_state\n",
    "pool.stake_token(staker, 100)\n",
    "print(\"Staker's state:\", get_app_local_state(pool.algod, pool.app_id, staker.get_address()))"
   ]
  },
  {
   "cell_type": "code",
   "execution_count": 7,
   "metadata": {},
   "outputs": [
    {
     "name": "stdout",
     "output_type": "stream",
     "text": [
      "Waiting for confirmation...\n",
      "Transaction O5233JOBL5EBPAIK67QGMWP7274TORXGSMBTYDHQKZUQ34UNRQEQ confirmed in round 643.\n",
      "Staker's state: {b'TA': 1}\n"
     ]
    }
   ],
   "source": [
    "pool.withdraw_token(staker, 99)\n",
    "print(\"Staker's state:\", get_app_local_state(pool.algod, pool.app_id, staker.get_address()))"
   ]
  },
  {
   "cell_type": "code",
   "execution_count": 8,
   "metadata": {},
   "outputs": [
    {
     "name": "stdout",
     "output_type": "stream",
     "text": [
      "Waiting for confirmation...\n",
      "Transaction DRWEEN4AXDG3EUWONLXJDA3T7OHZBYUZJLN2SFMFVUQAC4X6UX5A confirmed in round 645.\n"
     ]
    }
   ],
   "source": [
    "if pool.is_opted_in(staker.get_address()):\n",
    "    pool.optout_app(staker)"
   ]
  },
  {
   "cell_type": "code",
   "execution_count": 9,
   "metadata": {},
   "outputs": [
    {
     "name": "stdout",
     "output_type": "stream",
     "text": [
      "Waiting for confirmation...\n",
      "Transaction XJZF7HPJTQINDS2PBRMY2YGMZ7CDC6DOYPRBD4NSEWGS32JUDC6Q confirmed in round 647.\n"
     ]
    }
   ],
   "source": [
    "pool.delete_app()"
   ]
  }
 ],
 "metadata": {
  "interpreter": {
   "hash": "d8d32039960e27bf02cc380478024df65258985d3f6246b5f3627ebac0bfeee0"
  },
  "kernelspec": {
   "display_name": "Python 3.8.10 64-bit ('venv': venv)",
   "language": "python",
   "name": "python3"
  },
  "language_info": {
   "codemirror_mode": {
    "name": "ipython",
    "version": 3
   },
   "file_extension": ".py",
   "mimetype": "text/x-python",
   "name": "python",
   "nbconvert_exporter": "python",
   "pygments_lexer": "ipython3",
   "version": "3.8.10"
  },
  "orig_nbformat": 4
 },
 "nbformat": 4,
 "nbformat_minor": 2
}

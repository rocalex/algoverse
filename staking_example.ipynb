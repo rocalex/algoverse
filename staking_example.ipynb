{
 "cells": [
  {
   "cell_type": "code",
   "execution_count": 1,
   "metadata": {},
   "outputs": [
    {
     "data": {
      "text/plain": [
       "True"
      ]
     },
     "execution_count": 1,
     "metadata": {},
     "output_type": "execute_result"
    }
   ],
   "source": [
    "import os\n",
    "\n",
    "import dotenv\n",
    "\n",
    "dotenv.load_dotenv('.env')"
   ]
  },
  {
   "cell_type": "code",
   "execution_count": 2,
   "metadata": {},
   "outputs": [],
   "source": [
    "from staking.operations import StakingPool\n",
    "from utils import get_algod_client\n",
    "from account import Account\n",
    "\n",
    "client = get_algod_client(os.environ.get('ALGOD_URL'), os.environ.get('ALGOD_TOKEN'))\n",
    "creator = Account(os.environ.get(\"CREATOR_PK\"))\n",
    "token_id = int(os.environ.get(\"TOKEN_ID\"))\n",
    "\n",
    "pool = StakingPool(client, creator, token_id)"
   ]
  },
  {
   "cell_type": "code",
   "execution_count": 3,
   "metadata": {},
   "outputs": [
    {
     "name": "stdout",
     "output_type": "stream",
     "text": [
      "Waiting for confirmation...\n",
      "Transaction LRX3F5CLEJFOX74KMJPDGZJCTXKU7XZPXYMJLRC3COKZ3ZYHS2ZQ confirmed in round 20769.\n",
      "App ID: 105\n",
      "App address: Z255KJ2QT5RTHB4NKWGAIJDEV6HKJ5SACVHCRLI4XAWBEBOGJ42MRYJSME\n",
      "Waiting for confirmation...\n",
      "Transaction AU345RUOMU7QSHMONQX6R7W7ARMU5VLQ6QY26HF24N4TVAADZOLA confirmed in round 20771.\n"
     ]
    }
   ],
   "source": [
    "pool.create_app()"
   ]
  },
  {
   "cell_type": "code",
   "execution_count": 4,
   "metadata": {},
   "outputs": [
    {
     "name": "stdout",
     "output_type": "stream",
     "text": [
      "Waiting for confirmation...\n",
      "Transaction V4YWJGGQRGYHDTROUFHNUVLN77OYNJCUG2LLG2I24DVPE3UBTVTA confirmed in round 20773.\n"
     ]
    }
   ],
   "source": [
    "pool.setup_app()"
   ]
  },
  {
   "cell_type": "code",
   "execution_count": 5,
   "metadata": {},
   "outputs": [
    {
     "name": "stdout",
     "output_type": "stream",
     "text": [
      "Waiting for confirmation...\n",
      "Transaction JMIMQ4WID5A4O6BSY7VS4QL5F3IGHXSKUIZ65IODOKYLZNTBMDGQ confirmed in round 20775.\n"
     ]
    }
   ],
   "source": [
    "pool.delete_app()"
   ]
  }
 ],
 "metadata": {
  "interpreter": {
   "hash": "d8d32039960e27bf02cc380478024df65258985d3f6246b5f3627ebac0bfeee0"
  },
  "kernelspec": {
   "display_name": "Python 3.8.10 64-bit ('venv': venv)",
   "language": "python",
   "name": "python3"
  },
  "language_info": {
   "codemirror_mode": {
    "name": "ipython",
    "version": 3
   },
   "file_extension": ".py",
   "mimetype": "text/x-python",
   "name": "python",
   "nbconvert_exporter": "python",
   "pygments_lexer": "ipython3",
   "version": "3.8.10"
  },
  "orig_nbformat": 4
 },
 "nbformat": 4,
 "nbformat_minor": 2
}

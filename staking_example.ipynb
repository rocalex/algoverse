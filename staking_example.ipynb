{
 "cells": [
  {
   "cell_type": "code",
   "execution_count": 1,
   "metadata": {},
   "outputs": [
    {
     "data": {
      "text/plain": [
       "True"
      ]
     },
     "execution_count": 1,
     "metadata": {},
     "output_type": "execute_result"
    }
   ],
   "source": [
    "import os\n",
    "\n",
    "import dotenv\n",
    "\n",
    "dotenv.load_dotenv('.env')"
   ]
  },
  {
   "cell_type": "code",
   "execution_count": 2,
   "metadata": {},
   "outputs": [
    {
     "name": "stdout",
     "output_type": "stream",
     "text": [
      "Creator's address: FE6UTVPOXD7HCTEYTG27P7KEDZCQFX7ECJANPTI76CMJSKKDQRYFVB4NWM\n",
      "Token ID: 1\n"
     ]
    }
   ],
   "source": [
    "from staking.operations import StakingPool\n",
    "from utils import get_algod_client\n",
    "from account import Account\n",
    "\n",
    "client = get_algod_client(os.environ.get('ALGOD_URL'), os.environ.get('ALGOD_TOKEN'))\n",
    "creator = Account.from_mnemonic(os.environ.get(\"CREATOR_MN\"))\n",
    "print(f\"Creator's address: {creator.get_address()}\")\n",
    "\n",
    "token_id = int(os.environ.get(\"TOKEN_ID\"))\n",
    "print(f\"Token ID: {token_id}\")\n",
    "token_app_id = int(os.environ.get(\"TOKEN_APP_ID\"))\n",
    "print(f\"Token ID: {token_app_id}\")\n",
    "\n",
    "pool = StakingPool(client, creator, token_id)"
   ]
  },
  {
   "cell_type": "code",
   "execution_count": 3,
   "metadata": {},
   "outputs": [
    {
     "name": "stdout",
     "output_type": "stream",
     "text": [
      "Waiting for confirmation...\n",
      "Transaction XNX32QREOSEAOAD4WSDZU5E3K2NQSIBLUXPW5APTF62HEIA6RRTQ confirmed in round 3773.\n",
      "App ID: 93\n",
      "App address: KZLESGCJA2PMIVQVITFGDIUYEIWKRKOTTZH5XQSCND3KN4WLV37WLQ5TEQ\n",
      "Waiting for confirmation...\n",
      "Transaction VZTUXDHALQUM2L57FRC7THTUTPKL526EZOVMNBV5MNP5WAZZRX3A confirmed in round 3775.\n"
     ]
    }
   ],
   "source": [
    "pool.create_app(token_app_id)"
   ]
  },
  {
   "cell_type": "code",
   "execution_count": 4,
   "metadata": {},
   "outputs": [
    {
     "name": "stdout",
     "output_type": "stream",
     "text": [
      "Waiting for confirmation...\n",
      "Transaction X42HTWDJBRFJPJIXXXRGYQ7XDMFCJZEEBIBSRTO4DDOFW4HJFHBQ confirmed in round 3777.\n"
     ]
    }
   ],
   "source": [
    "pool.setup_app()"
   ]
  },
  {
   "cell_type": "code",
   "execution_count": 5,
   "metadata": {},
   "outputs": [
    {
     "name": "stdout",
     "output_type": "stream",
     "text": [
      "Staker's address: GYZIWMWOUMBIUUI3QV3VRWQYVJ5QGMO7CUW4RNMCIZKGJULFOFQFF3MCGA\n",
      "Waiting for confirmation...\n",
      "Transaction GCZGNR65EZQJPRZD4TUNMFLS3BV7NRMKYIL3XR4YVKFNHHPO6PNA confirmed in round 3779.\n"
     ]
    }
   ],
   "source": [
    "staker = Account.from_mnemonic(os.environ.get('SELLER_MN'))\n",
    "print(f\"Staker's address: {staker.get_address()}\")\n",
    "\n",
    "if not pool.is_opted_in(staker.get_address()):\n",
    "    pool.optin_app(staker)"
   ]
  },
  {
   "cell_type": "code",
   "execution_count": 6,
   "metadata": {},
   "outputs": [
    {
     "name": "stdout",
     "output_type": "stream",
     "text": [
      "Waiting for confirmation...\n",
      "Transaction 7R6RIIZDVJPQA6MZNDQWLMSAK5UCAZIZBGO6DVAJAY73JG3IGXHQ confirmed in round 3781.\n",
      "Staker's state: {b'TA': 100}\n"
     ]
    }
   ],
   "source": [
    "from utils import get_app_local_state\n",
    "pool.stake_token(staker, 100)\n",
    "print(\"Staker's state:\", get_app_local_state(pool.algod, pool.app_id, staker.get_address()))"
   ]
  },
  {
   "cell_type": "code",
   "execution_count": 7,
   "metadata": {},
   "outputs": [
    {
     "name": "stdout",
     "output_type": "stream",
     "text": [
      "Waiting for confirmation...\n",
      "Transaction A4VQ4AGR3FOWTGTZK677L25VAK6AEEO3J7CURHKMRVW4GUGBEI5Q confirmed in round 3783.\n",
      "Staker's state: {b'CM': 623, b'TA': 100}\n"
     ]
    }
   ],
   "source": [
    "pool.claim_rewards(staker)\n",
    "\n",
    "print(\"Staker's state:\", get_app_local_state(pool.algod, pool.app_id, staker.get_address()))"
   ]
  },
  {
   "cell_type": "code",
   "execution_count": 8,
   "metadata": {},
   "outputs": [
    {
     "name": "stdout",
     "output_type": "stream",
     "text": [
      "Waiting for confirmation...\n",
      "Transaction WRDZPURTFXU55NEJCQQEEJCMRD6XVZ36P5OIKPJMWJV7RX5ULSBA confirmed in round 3785.\n",
      "Staker's state: {b'CM': 623, b'TA': 0}\n"
     ]
    }
   ],
   "source": [
    "pool.withdraw_token(staker, 100)\n",
    "\n",
    "print(\"Staker's state:\", get_app_local_state(pool.algod, pool.app_id, staker.get_address()))"
   ]
  },
  {
   "cell_type": "code",
   "execution_count": 9,
   "metadata": {},
   "outputs": [
    {
     "name": "stdout",
     "output_type": "stream",
     "text": [
      "Waiting for confirmation...\n",
      "Transaction PWGALDA7TSWML6FFS2XCAHEWSVHYJFABSZDQ7I25YOG5POQDHWFA confirmed in round 3787.\n"
     ]
    }
   ],
   "source": [
    "if pool.is_opted_in(staker.get_address()):\n",
    "    pool.optout_app(staker)"
   ]
  },
  {
   "cell_type": "code",
   "execution_count": 10,
   "metadata": {},
   "outputs": [
    {
     "name": "stdout",
     "output_type": "stream",
     "text": [
      "Waiting for confirmation...\n",
      "Transaction CXQNBMLSJSPRKWSHU4DLU5MGJ6CIGJZ5Y7SCWHUFFSS7XB6C3KZQ confirmed in round 3789.\n"
     ]
    }
   ],
   "source": [
    "pool.delete_app()"
   ]
  }
 ],
 "metadata": {
  "interpreter": {
   "hash": "d8d32039960e27bf02cc380478024df65258985d3f6246b5f3627ebac0bfeee0"
  },
  "kernelspec": {
   "display_name": "Python 3.8.10 64-bit ('venv': venv)",
   "language": "python",
   "name": "python3"
  },
  "language_info": {
   "codemirror_mode": {
    "name": "ipython",
    "version": 3
   },
   "file_extension": ".py",
   "mimetype": "text/x-python",
   "name": "python",
   "nbconvert_exporter": "python",
   "pygments_lexer": "ipython3",
   "version": "3.8.10"
  },
  "orig_nbformat": 4
 },
 "nbformat": 4,
 "nbformat_minor": 2
}
